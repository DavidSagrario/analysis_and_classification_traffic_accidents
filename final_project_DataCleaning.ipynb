{
 "cells": [
  {
   "cell_type": "code",
   "execution_count": 1,
   "metadata": {},
   "outputs": [],
   "source": [
    "import numpy as np\n",
    "import pandas as pd \n",
    "import folium\n",
    "import os\n",
    "import seaborn as sns\n",
    "import matplotlib.pyplot as plt"
   ]
  },
  {
   "cell_type": "code",
   "execution_count": 2,
   "metadata": {
    "scrolled": true
   },
   "outputs": [
    {
     "data": {
      "text/plain": [
       "['.ipynb_checkpoints',\n",
       " 'accidents_bcn.csv',\n",
       " 'accidents_bcn_dummies.csv',\n",
       " 'acc_bcn_group.csv',\n",
       " 'acc_causa',\n",
       " 'acc_general',\n",
       " 'acc_personas',\n",
       " 'ACC_SP',\n",
       " 'acc_tipo',\n",
       " 'acc_vehiculos',\n",
       " 'bibliografía.docx',\n",
       " 'clima_2014-2019.json',\n",
       " 'clima_bcn_2014-2019.csv',\n",
       " 'final_acc_bcn.csv',\n",
       " 'final_project_DataCleaning.ipynb',\n",
       " 'final_project_model.ipynb',\n",
       " 'final_project_plot.ipynb',\n",
       " 'Presentación',\n",
       " 'randomforest_finalproject.sav']"
      ]
     },
     "execution_count": 2,
     "metadata": {},
     "output_type": "execute_result"
    }
   ],
   "source": [
    "directory = 'C:/Users/David Sagrario/Bootcamp Data Science/FINAL_PROJECT'\n",
    "os.listdir(directory)"
   ]
  },
  {
   "cell_type": "code",
   "execution_count": 3,
   "metadata": {},
   "outputs": [
    {
     "data": {
      "text/html": [
       "<div>\n",
       "<style scoped>\n",
       "    .dataframe tbody tr th:only-of-type {\n",
       "        vertical-align: middle;\n",
       "    }\n",
       "\n",
       "    .dataframe tbody tr th {\n",
       "        vertical-align: top;\n",
       "    }\n",
       "\n",
       "    .dataframe thead th {\n",
       "        text-align: right;\n",
       "    }\n",
       "</style>\n",
       "<table border=\"1\" class=\"dataframe\">\n",
       "  <thead>\n",
       "    <tr style=\"text-align: right;\">\n",
       "      <th></th>\n",
       "      <th>provincias</th>\n",
       "      <th>acc_vic_interurb</th>\n",
       "      <th>acc_mort_interurb</th>\n",
       "      <th>total_acc_interurb</th>\n",
       "      <th>acc_vic_urb</th>\n",
       "      <th>acc_mort_urb</th>\n",
       "      <th>total_acc_urb</th>\n",
       "      <th>acc_vic</th>\n",
       "      <th>acc_mort</th>\n",
       "      <th>total_acc</th>\n",
       "    </tr>\n",
       "  </thead>\n",
       "  <tbody>\n",
       "    <tr>\n",
       "      <th>0</th>\n",
       "      <td>Alava</td>\n",
       "      <td>380</td>\n",
       "      <td>11</td>\n",
       "      <td>391</td>\n",
       "      <td>664</td>\n",
       "      <td>3</td>\n",
       "      <td>667</td>\n",
       "      <td>1044</td>\n",
       "      <td>14</td>\n",
       "      <td>1058</td>\n",
       "    </tr>\n",
       "    <tr>\n",
       "      <th>1</th>\n",
       "      <td>Albacete</td>\n",
       "      <td>159</td>\n",
       "      <td>10</td>\n",
       "      <td>169</td>\n",
       "      <td>549</td>\n",
       "      <td>1</td>\n",
       "      <td>550</td>\n",
       "      <td>708</td>\n",
       "      <td>11</td>\n",
       "      <td>719</td>\n",
       "    </tr>\n",
       "    <tr>\n",
       "      <th>2</th>\n",
       "      <td>Alicante</td>\n",
       "      <td>1395</td>\n",
       "      <td>41</td>\n",
       "      <td>1436</td>\n",
       "      <td>1626</td>\n",
       "      <td>16</td>\n",
       "      <td>1642</td>\n",
       "      <td>3021</td>\n",
       "      <td>57</td>\n",
       "      <td>3078</td>\n",
       "    </tr>\n",
       "    <tr>\n",
       "      <th>3</th>\n",
       "      <td>Almería</td>\n",
       "      <td>702</td>\n",
       "      <td>20</td>\n",
       "      <td>722</td>\n",
       "      <td>492</td>\n",
       "      <td>7</td>\n",
       "      <td>499</td>\n",
       "      <td>1194</td>\n",
       "      <td>27</td>\n",
       "      <td>1221</td>\n",
       "    </tr>\n",
       "    <tr>\n",
       "      <th>4</th>\n",
       "      <td>Ávila</td>\n",
       "      <td>270</td>\n",
       "      <td>14</td>\n",
       "      <td>284</td>\n",
       "      <td>112</td>\n",
       "      <td>1</td>\n",
       "      <td>113</td>\n",
       "      <td>382</td>\n",
       "      <td>15</td>\n",
       "      <td>397</td>\n",
       "    </tr>\n",
       "  </tbody>\n",
       "</table>\n",
       "</div>"
      ],
      "text/plain": [
       "  provincias  acc_vic_interurb  acc_mort_interurb  total_acc_interurb  \\\n",
       "0      Alava               380                 11                 391   \n",
       "1   Albacete               159                 10                 169   \n",
       "2   Alicante              1395                 41                1436   \n",
       "3    Almería               702                 20                 722   \n",
       "4      Ávila               270                 14                 284   \n",
       "\n",
       "   acc_vic_urb  acc_mort_urb  total_acc_urb  acc_vic  acc_mort  total_acc  \n",
       "0          664             3            667     1044        14       1058  \n",
       "1          549             1            550      708        11        719  \n",
       "2         1626            16           1642     3021        57       3078  \n",
       "3          492             7            499     1194        27       1221  \n",
       "4          112             1            113      382        15        397  "
      ]
     },
     "execution_count": 3,
     "metadata": {},
     "output_type": "execute_result"
    }
   ],
   "source": [
    "df_sp = pd.read_excel('C:/Users/David Sagrario/Bootcamp Data Science/FINAL_PROJECT/ACC_SP/GRUPO-1.-TABLAS-GENERALES_2018.xlsx')\n",
    "df_sp.head()"
   ]
  },
  {
   "cell_type": "code",
   "execution_count": 4,
   "metadata": {},
   "outputs": [
    {
     "data": {
      "image/png": "[encoded data removed]",
      "text/plain": [
       "<Figure size 1152x576 with 1 Axes>"
      ]
     },
     "metadata": {
      "needs_background": "light"
     },
     "output_type": "display_data"
    }
   ],
   "source": [
    "fig, ax = plt.subplots (figsize = (16,8))\n",
    "district = sns.barplot(x = df_sp['provincias'].unique(), y = df_sp['total_acc_urb'])\n",
    "for item in district.get_xticklabels():\n",
    "    item.set_rotation(80)\n",
    "plt.show()"
   ]
  },
  {
   "cell_type": "code",
   "execution_count": 5,
   "metadata": {
    "scrolled": false
   },
   "outputs": [
    {
     "data": {
      "image/png": "[encoded data removed]",
      "text/plain": [
       "<Figure size 1152x576 with 1 Axes>"
      ]
     },
     "metadata": {
      "needs_background": "light"
     },
     "output_type": "display_data"
    }
   ],
   "source": [
    "fig, ax = plt.subplots (figsize = (16,8))\n",
    "district = sns.barplot(x = df_sp['provincias'].unique(), y = df_sp['total_acc_interurb'])\n",
    "for item in district.get_xticklabels():\n",
    "    item.set_rotation(80)\n",
    "plt.show()"
   ]
  },
  {
   "cell_type": "code",
   "execution_count": 418,
   "metadata": {},
   "outputs": [
    {
     "data": {
      "image/png": "[encoded data removed]",
      "text/plain": [
       "<Figure size 1152x576 with 1 Axes>"
      ]
     },
     "metadata": {
      "needs_background": "light"
     },
     "output_type": "display_data"
    }
   ],
   "source": [
    "fig, ax = plt.subplots (figsize = (16,8))\n",
    "district = sns.barplot(x = df_sp['provincias'].unique(), y = df_sp['total_acc'])\n",
    "for item in district.get_xticklabels():\n",
    "    item.set_rotation(80)\n",
    "plt.savefig('spain_acc.png')\n",
    "plt.show()"
   ]
  },
  {
   "cell_type": "code",
   "execution_count": null,
   "metadata": {},
   "outputs": [],
   "source": []
  },
  {
   "cell_type": "code",
   "execution_count": null,
   "metadata": {},
   "outputs": [],
   "source": []
  },
  {
   "cell_type": "code",
   "execution_count": 7,
   "metadata": {},
   "outputs": [],
   "source": [
    "df_19_tipo = pd.read_csv('C:/Users/David Sagrario/Bootcamp Data Science/FINAL_PROJECT/acc_tipo/2019_accidents_tipus_gu_bcn_.csv')\n",
    "df_18_tipo = pd.read_csv('C:/Users/David Sagrario/Bootcamp Data Science/FINAL_PROJECT/acc_tipo/2018_accidents_tipus_gu_bcn_.csv')\n",
    "df_17_tipo = pd.read_csv('C:/Users/David Sagrario/Bootcamp Data Science/FINAL_PROJECT/acc_tipo/2017_accidents_tipus_gu_bcn_.csv')\n",
    "df_16_tipo = pd.read_csv('C:/Users/David Sagrario/Bootcamp Data Science/FINAL_PROJECT/acc_tipo/2016_accidents_tipus_gu_bcn_.csv')"
   ]
  },
  {
   "cell_type": "code",
   "execution_count": 8,
   "metadata": {},
   "outputs": [],
   "source": [
    "df_19_tipo = df_19_tipo.replace('Desconegut', np.nan)\n",
    "df_18_tipo = df_18_tipo.replace('Desconegut', np.nan)\n",
    "df_17_tipo = df_17_tipo.replace('Desconegut', np.nan)\n",
    "df_16_tipo = df_16_tipo.replace('Desconegut', np.nan)"
   ]
  },
  {
   "cell_type": "code",
   "execution_count": 9,
   "metadata": {},
   "outputs": [
    {
     "name": "stdout",
     "output_type": "stream",
     "text": [
      "(10536, 22)\n",
      "Index(['Numero_expedient', 'Codi_districte', 'Nom_districte', 'Codi_barri',\n",
      "       'Nom_barri', 'Codi_carrer', 'Nom_carrer', 'Num_postal_caption',\n",
      "       'Descripcio_dia_setmana', 'Dia_setmana', 'Descripcio_tipus_dia',\n",
      "       'NK_Any', 'Mes_any', 'Nom_mes', 'Dia_mes', 'Hora_dia',\n",
      "       'Descripcio_torn', 'Descripcio_tipus_accident', 'Coordenada_UTM_X',\n",
      "       'Coordenada_UTM_Y', 'Longitud', 'Latitud'],\n",
      "      dtype='object')\n",
      "(10551, 22)\n",
      "Index(['Codi_expedient', 'Codi_districte', 'Nom_districte', 'Codi_barri',\n",
      "       'Nom_barri', 'Codi_carrer', 'Nom_carrer', 'Num_postal ', 'Dia_setmana',\n",
      "       'ID_Dia_setmana', 'Tipus_dia', 'Any', 'Mes', 'Nom_mes', 'Dia_de_mes',\n",
      "       'Hora_de_dia', 'Torn', 'Tipus_accident', 'Coordenada_UTM_X',\n",
      "       'Coordenada_UTM_Y', 'Longitud', 'Latitud'],\n",
      "      dtype='object')\n",
      "(11009, 22)\n",
      "Index(['Numero_expedient', 'Codi_districte', 'Nom_districte', 'Codi_barri',\n",
      "       'Nom_barri', 'Codi_carrer', 'Nom_carrer', 'Num_postal_caption',\n",
      "       'Descripcio_dia_setmana', 'Dia_setmana', 'Descripcio_tipus_dia', 'Any',\n",
      "       'Mes_any', 'Nom_mes', 'Dia_mes', 'Hora_dia', 'Descripcio_torn',\n",
      "       'Descripcio_tipus_accident', 'Coordenada_UTM_X', 'Coordenada_UTM_Y',\n",
      "       'Longitud', 'Latitud'],\n",
      "      dtype='object')\n",
      "(10701, 22)\n",
      "Index(['Numero_expedient', 'Codi_districte', 'Nom_districte', 'Codi_barri',\n",
      "       'Nom_barri', 'Codi_carrer', 'Nom_carrer', 'Num_postal_caption',\n",
      "       'Descripcio_dia_setmana', 'Dia_setmana', 'Descripcio_tipus_dia', 'Any',\n",
      "       'Mes_any', 'Nom_mes', 'Dia_mes', 'Hora_dia', 'Descripcio_torn',\n",
      "       'Descripcio_tipus_accident', 'Coordenada_UTM_X', 'Coordenada_UTM_Y',\n",
      "       'Longitud', 'Latitud'],\n",
      "      dtype='object')\n"
     ]
    }
   ],
   "source": [
    "print(df_19_tipo.shape)\n",
    "print(df_19_tipo.columns)\n",
    "\n",
    "print(df_18_tipo.shape)\n",
    "print(df_18_tipo.columns)\n",
    "\n",
    "print(df_17_tipo.shape)\n",
    "print(df_17_tipo.columns)\n",
    "\n",
    "print(df_16_tipo.shape)\n",
    "print(df_16_tipo.columns)"
   ]
  },
  {
   "cell_type": "code",
   "execution_count": 10,
   "metadata": {},
   "outputs": [],
   "source": [
    "df_19_tipo.rename(columns = {'Numero_expedient': 'Codi_expedient', 'Num_postal_caption': 'Num_postal',\n",
    "       'Descripcio_dia_setmana': 'Dia_setmana', 'Dia_setmana': 'ID_Dia_setmana', 'Descripcio_tipus_dia': 'Tipus_dia',\n",
    "       'NK_Any': 'Any', 'Mes_any': 'Mes', 'Dia_mes': 'Dia_de_mes', 'Hora_dia': 'Hora_de_dia', 'Descripcio_torn': 'Torn',\n",
    "       'Descripcio_tipus_accident': 'Tipus_accident'}, inplace = True)\n",
    "df_18_tipo.rename(columns = {'Num_postal ': 'Num_postal'}, inplace = True)\n",
    "df_17_tipo.rename(columns = {'Numero_expedient': 'Codi_expedient', 'Num_postal_caption': 'Num_postal',\n",
    "       'Descripcio_dia_setmana': 'Dia_setmana', 'Dia_setmana': 'ID_Dia_setmana', 'Descripcio_tipus_dia': 'Tipus_dia',\n",
    "       'Mes_any': 'Mes', 'Dia_mes': 'Dia_de_mes', 'Hora_dia': 'Hora_de_dia', 'Descripcio_torn': 'Torn',\n",
    "       'Descripcio_tipus_accident': 'Tipus_accident'}, inplace = True)\n",
    "df_16_tipo.rename(columns = {'Numero_expedient': 'Codi_expedient', 'Num_postal_caption': 'Num_postal',\n",
    "       'Descripcio_dia_setmana': 'Dia_setmana', 'Dia_setmana': 'ID_Dia_setmana', 'Descripcio_tipus_dia': 'Tipus_dia',\n",
    "       'Mes_any': 'Mes', 'Dia_mes': 'Dia_de_mes', 'Hora_dia': 'Hora_de_dia', 'Descripcio_torn': 'Torn',\n",
    "       'Descripcio_tipus_accident': 'Tipus_accident'}, inplace = True)"
   ]
  },
  {
   "cell_type": "code",
   "execution_count": null,
   "metadata": {},
   "outputs": [],
   "source": []
  },
  {
   "cell_type": "code",
   "execution_count": 11,
   "metadata": {},
   "outputs": [],
   "source": [
    "df_15_tipo = pd.read_excel('C:/Users/David Sagrario/Bootcamp Data Science/FINAL_PROJECT/acc_tipo/2015_accidents_tipus_gu_bcn_.xlsx')\n",
    "df_14_tipo = pd.read_excel('C:/Users/David Sagrario/Bootcamp Data Science/FINAL_PROJECT/acc_tipo/2014_accidents_tipus_gu_bcn_.xlsx')"
   ]
  },
  {
   "cell_type": "code",
   "execution_count": 12,
   "metadata": {},
   "outputs": [],
   "source": [
    "df_15_tipo = df_15_tipo.replace('Desconegut', np.nan)\n",
    "df_14_tipo = df_14_tipo.replace('Desconegut', np.nan)"
   ]
  },
  {
   "cell_type": "code",
   "execution_count": 13,
   "metadata": {},
   "outputs": [
    {
     "name": "stdout",
     "output_type": "stream",
     "text": [
      "(10522, 20)\n",
      "Index(['Número d expedient', 'Codi districte', 'Nom districte', 'Codi barri',\n",
      "       'Nom barri', 'Codi carrer', 'Nom carrer', 'Num postal caption',\n",
      "       'Descripció dia setmana', 'Dia setmana', 'Descripció tipus dia',\n",
      "       'NK Any', 'Mes de any', 'Nom mes', 'Dia de mes', 'Hora de dia',\n",
      "       'Descripció torn', 'Descripció tipus accident', 'Coordenada UTM (Y)',\n",
      "       'Coordenada UTM (X)'],\n",
      "      dtype='object')\n",
      "(10157, 20)\n",
      "Index(['Número dexpedient', 'Codi districte', 'Nom districte', 'Codi barri',\n",
      "       'Nom barri', 'Codi carrer', 'Nom carrer', 'Num postal caption',\n",
      "       'Descripció dia setmana', 'Dia setmana', 'Descripció tipus dia',\n",
      "       'NK Any', 'Mes de any', 'Nom mes', 'Dia de mes', 'Hora de dia',\n",
      "       'Descripció torn', 'Descripció tipus accident', 'Coordenada UTM (Y)',\n",
      "       'Coordenada UTM (X)'],\n",
      "      dtype='object')\n"
     ]
    }
   ],
   "source": [
    "print(df_15_tipo.shape)\n",
    "print(df_15_tipo.columns)\n",
    "\n",
    "print(df_14_tipo.shape)\n",
    "print(df_14_tipo.columns)"
   ]
  },
  {
   "cell_type": "code",
   "execution_count": 14,
   "metadata": {},
   "outputs": [],
   "source": [
    "df_15_tipo.rename(columns = {'Número d expedient': 'Codi_expedient', 'Codi districte': 'Codi_districte', 'Nom districte': 'Nom_districte', 'Codi barri': 'Codi_barri',\n",
    "       'Nom barri': 'Nom_barri', 'Codi carrer': 'Codi_carrer', 'Nom carrer': 'Nom_carrer', 'Num postal caption': 'Num_postal',\n",
    "       'Descripció dia setmana': 'Dia_setmana', 'Dia setmana': 'ID_Dia_setmana', 'Descripció tipus dia': 'Tipus_dia',\n",
    "       'NK Any': 'Any', 'Mes de any': 'Mes', 'Nom mes': 'Nom_mes', 'Dia de mes': 'Dia_de_mes', 'Hora de dia': 'Hora_de_dia',\n",
    "       'Descripció torn': 'Torn', 'Descripció tipus accident': 'Tipus_accident', 'Coordenada UTM (Y)': 'Coordenada_UTM_Y',\n",
    "       'Coordenada UTM (X)': 'Coordenada_UTM_X'}, inplace = True)\n",
    "df_14_tipo.rename(columns = {'Número dexpedient': 'Codi_expedient', 'Codi districte': 'Codi_districte', 'Nom districte': 'Nom_districte', 'Codi barri': 'Codi_barri',\n",
    "       'Nom barri': 'Nom_barri', 'Codi carrer': 'Codi_carrer', 'Nom carrer': 'Nom_carrer', 'Num postal caption': 'Num_postal',\n",
    "       'Descripció dia setmana': 'Dia_setmana', 'Dia setmana': 'ID_Dia_setmana', 'Descripció tipus dia': 'Tipus_dia',\n",
    "       'NK Any': 'Any', 'Mes de any': 'Mes', 'Nom mes': 'Nom_mes', 'Dia de mes': 'Dia_de_mes', 'Hora de dia': 'Hora_de_dia',\n",
    "       'Descripció torn': 'Torn', 'Descripció tipus accident': 'Tipus_accident', 'Coordenada UTM (Y)': 'Coordenada_UTM_Y',\n",
    "       'Coordenada UTM (X)': 'Coordenada_UTM_X'}, inplace = True)"
   ]
  },
  {
   "cell_type": "code",
   "execution_count": 15,
   "metadata": {},
   "outputs": [],
   "source": [
    "df_15_tipo['Coordenada_UTM_Y_'] = df_15_tipo['Coordenada_UTM_Y']\n",
    "df_14_tipo['Coordenada_UTM_Y_'] = df_14_tipo['Coordenada_UTM_Y']"
   ]
  },
  {
   "cell_type": "code",
   "execution_count": 16,
   "metadata": {},
   "outputs": [],
   "source": [
    "df_15_tipo.drop(['Coordenada_UTM_Y'], axis = 1, inplace = True)\n",
    "df_14_tipo.drop(['Coordenada_UTM_Y'], axis = 1, inplace = True)"
   ]
  },
  {
   "cell_type": "code",
   "execution_count": 17,
   "metadata": {},
   "outputs": [],
   "source": [
    "df_15_tipo.rename(columns = {'Coordenada_UTM_Y_':'Coordenada_UTM_Y'}, inplace = True)\n",
    "df_14_tipo.rename(columns = {'Coordenada_UTM_Y_':'Coordenada_UTM_Y'}, inplace = True)"
   ]
  },
  {
   "cell_type": "code",
   "execution_count": 18,
   "metadata": {},
   "outputs": [],
   "source": [
    "df_15_tipo['Coordenada_UTM_X'] = df_15_tipo['Coordenada_UTM_X'].str.replace(',', '.')\n",
    "df_15_tipo['Coordenada_UTM_Y'] = df_15_tipo['Coordenada_UTM_Y'].str.replace(',', '.')\n",
    "\n",
    "df_14_tipo['Coordenada_UTM_X'] = df_14_tipo['Coordenada_UTM_X'].str.replace(',', '.')\n",
    "df_14_tipo['Coordenada_UTM_Y'] = df_14_tipo['Coordenada_UTM_Y'].str.replace(',', '.')"
   ]
  },
  {
   "cell_type": "code",
   "execution_count": 19,
   "metadata": {},
   "outputs": [
    {
     "name": "stdout",
     "output_type": "stream",
     "text": [
      "(10157, 20)\n"
     ]
    },
    {
     "data": {
      "text/plain": [
       "Codi_expedient       0\n",
       "Codi_districte      18\n",
       "Nom_districte       18\n",
       "Codi_barri          18\n",
       "Nom_barri           18\n",
       "Codi_carrer         18\n",
       "Nom_carrer          18\n",
       "Num_postal          18\n",
       "Dia_setmana          0\n",
       "ID_Dia_setmana       0\n",
       "Tipus_dia            0\n",
       "Any                  0\n",
       "Mes                  0\n",
       "Nom_mes              0\n",
       "Dia_de_mes           0\n",
       "Hora_de_dia          0\n",
       "Torn                 0\n",
       "Tipus_accident       0\n",
       "Coordenada_UTM_X    18\n",
       "Coordenada_UTM_Y    18\n",
       "dtype: int64"
      ]
     },
     "execution_count": 19,
     "metadata": {},
     "output_type": "execute_result"
    }
   ],
   "source": [
    "print(df_14_tipo.shape)\n",
    "df_14_tipo.isnull().sum()"
   ]
  },
  {
   "cell_type": "code",
   "execution_count": 20,
   "metadata": {},
   "outputs": [
    {
     "data": {
      "text/html": [
       "<div>\n",
       "<style scoped>\n",
       "    .dataframe tbody tr th:only-of-type {\n",
       "        vertical-align: middle;\n",
       "    }\n",
       "\n",
       "    .dataframe tbody tr th {\n",
       "        vertical-align: top;\n",
       "    }\n",
       "\n",
       "    .dataframe thead th {\n",
       "        text-align: right;\n",
       "    }\n",
       "</style>\n",
       "<table border=\"1\" class=\"dataframe\">\n",
       "  <thead>\n",
       "    <tr style=\"text-align: right;\">\n",
       "      <th></th>\n",
       "      <th>Codi_expedient</th>\n",
       "      <th>Codi_districte</th>\n",
       "      <th>Nom_districte</th>\n",
       "      <th>Codi_barri</th>\n",
       "      <th>Nom_barri</th>\n",
       "      <th>Codi_carrer</th>\n",
       "      <th>Nom_carrer</th>\n",
       "      <th>Num_postal</th>\n",
       "      <th>Dia_setmana</th>\n",
       "      <th>ID_Dia_setmana</th>\n",
       "      <th>Tipus_dia</th>\n",
       "      <th>Any</th>\n",
       "      <th>Mes</th>\n",
       "      <th>Nom_mes</th>\n",
       "      <th>Dia_de_mes</th>\n",
       "      <th>Hora_de_dia</th>\n",
       "      <th>Torn</th>\n",
       "      <th>Tipus_accident</th>\n",
       "      <th>Coordenada_UTM_X</th>\n",
       "      <th>Coordenada_UTM_Y</th>\n",
       "    </tr>\n",
       "  </thead>\n",
       "  <tbody>\n",
       "    <tr>\n",
       "      <th>1277</th>\n",
       "      <td>2014S009191</td>\n",
       "      <td>NaN</td>\n",
       "      <td>NaN</td>\n",
       "      <td>NaN</td>\n",
       "      <td>NaN</td>\n",
       "      <td>NaN</td>\n",
       "      <td>NaN</td>\n",
       "      <td>NaN</td>\n",
       "      <td>Diumenge</td>\n",
       "      <td>Dg</td>\n",
       "      <td>Laboral</td>\n",
       "      <td>2014</td>\n",
       "      <td>12</td>\n",
       "      <td>Desembre</td>\n",
       "      <td>14</td>\n",
       "      <td>12</td>\n",
       "      <td>Matí</td>\n",
       "      <td>Caiguda (dues rodes)</td>\n",
       "      <td>NaN</td>\n",
       "      <td>NaN</td>\n",
       "    </tr>\n",
       "    <tr>\n",
       "      <th>1278</th>\n",
       "      <td>2014S000420</td>\n",
       "      <td>NaN</td>\n",
       "      <td>NaN</td>\n",
       "      <td>NaN</td>\n",
       "      <td>NaN</td>\n",
       "      <td>NaN</td>\n",
       "      <td>NaN</td>\n",
       "      <td>NaN</td>\n",
       "      <td>Diumenge</td>\n",
       "      <td>Dg</td>\n",
       "      <td>Laboral</td>\n",
       "      <td>2014</td>\n",
       "      <td>1</td>\n",
       "      <td>Gener</td>\n",
       "      <td>19</td>\n",
       "      <td>5</td>\n",
       "      <td>Nit</td>\n",
       "      <td>Abast</td>\n",
       "      <td>NaN</td>\n",
       "      <td>NaN</td>\n",
       "    </tr>\n",
       "    <tr>\n",
       "      <th>2574</th>\n",
       "      <td>2014S007072</td>\n",
       "      <td>NaN</td>\n",
       "      <td>NaN</td>\n",
       "      <td>NaN</td>\n",
       "      <td>NaN</td>\n",
       "      <td>NaN</td>\n",
       "      <td>NaN</td>\n",
       "      <td>NaN</td>\n",
       "      <td>Dijous</td>\n",
       "      <td>Dj</td>\n",
       "      <td>Laboral</td>\n",
       "      <td>2014</td>\n",
       "      <td>10</td>\n",
       "      <td>Octubre</td>\n",
       "      <td>2</td>\n",
       "      <td>16</td>\n",
       "      <td>Tarda</td>\n",
       "      <td>Caiguda (dues rodes)</td>\n",
       "      <td>NaN</td>\n",
       "      <td>NaN</td>\n",
       "    </tr>\n",
       "    <tr>\n",
       "      <th>3786</th>\n",
       "      <td>2014S006053</td>\n",
       "      <td>NaN</td>\n",
       "      <td>NaN</td>\n",
       "      <td>NaN</td>\n",
       "      <td>NaN</td>\n",
       "      <td>NaN</td>\n",
       "      <td>NaN</td>\n",
       "      <td>NaN</td>\n",
       "      <td>Dimarts</td>\n",
       "      <td>Dm</td>\n",
       "      <td>Laboral</td>\n",
       "      <td>2014</td>\n",
       "      <td>8</td>\n",
       "      <td>Agost</td>\n",
       "      <td>19</td>\n",
       "      <td>16</td>\n",
       "      <td>Tarda</td>\n",
       "      <td>Atropellament</td>\n",
       "      <td>NaN</td>\n",
       "      <td>NaN</td>\n",
       "    </tr>\n",
       "    <tr>\n",
       "      <th>3787</th>\n",
       "      <td>2014S000572</td>\n",
       "      <td>NaN</td>\n",
       "      <td>NaN</td>\n",
       "      <td>NaN</td>\n",
       "      <td>NaN</td>\n",
       "      <td>NaN</td>\n",
       "      <td>NaN</td>\n",
       "      <td>NaN</td>\n",
       "      <td>Divendres</td>\n",
       "      <td>Dv</td>\n",
       "      <td>Laboral</td>\n",
       "      <td>2014</td>\n",
       "      <td>1</td>\n",
       "      <td>Gener</td>\n",
       "      <td>24</td>\n",
       "      <td>17</td>\n",
       "      <td>Tarda</td>\n",
       "      <td>Abast multiple</td>\n",
       "      <td>NaN</td>\n",
       "      <td>NaN</td>\n",
       "    </tr>\n",
       "    <tr>\n",
       "      <th>5062</th>\n",
       "      <td>2014S000706</td>\n",
       "      <td>NaN</td>\n",
       "      <td>NaN</td>\n",
       "      <td>NaN</td>\n",
       "      <td>NaN</td>\n",
       "      <td>NaN</td>\n",
       "      <td>NaN</td>\n",
       "      <td>NaN</td>\n",
       "      <td>Dijous</td>\n",
       "      <td>Dj</td>\n",
       "      <td>Laboral</td>\n",
       "      <td>2014</td>\n",
       "      <td>1</td>\n",
       "      <td>Gener</td>\n",
       "      <td>30</td>\n",
       "      <td>6</td>\n",
       "      <td>Matí</td>\n",
       "      <td>Abast</td>\n",
       "      <td>NaN</td>\n",
       "      <td>NaN</td>\n",
       "    </tr>\n",
       "    <tr>\n",
       "      <th>5063</th>\n",
       "      <td>2014S005897</td>\n",
       "      <td>NaN</td>\n",
       "      <td>NaN</td>\n",
       "      <td>NaN</td>\n",
       "      <td>NaN</td>\n",
       "      <td>NaN</td>\n",
       "      <td>NaN</td>\n",
       "      <td>NaN</td>\n",
       "      <td>Dilluns</td>\n",
       "      <td>Dl</td>\n",
       "      <td>Laboral</td>\n",
       "      <td>2014</td>\n",
       "      <td>8</td>\n",
       "      <td>Agost</td>\n",
       "      <td>11</td>\n",
       "      <td>20</td>\n",
       "      <td>Tarda</td>\n",
       "      <td>Xoc contra element estàtic</td>\n",
       "      <td>NaN</td>\n",
       "      <td>NaN</td>\n",
       "    </tr>\n",
       "    <tr>\n",
       "      <th>5064</th>\n",
       "      <td>2014S001703</td>\n",
       "      <td>NaN</td>\n",
       "      <td>NaN</td>\n",
       "      <td>NaN</td>\n",
       "      <td>NaN</td>\n",
       "      <td>NaN</td>\n",
       "      <td>NaN</td>\n",
       "      <td>NaN</td>\n",
       "      <td>Divendres</td>\n",
       "      <td>Dv</td>\n",
       "      <td>Laboral</td>\n",
       "      <td>2014</td>\n",
       "      <td>3</td>\n",
       "      <td>Març</td>\n",
       "      <td>7</td>\n",
       "      <td>18</td>\n",
       "      <td>Tarda</td>\n",
       "      <td>Col.lisió lateral</td>\n",
       "      <td>NaN</td>\n",
       "      <td>NaN</td>\n",
       "    </tr>\n",
       "    <tr>\n",
       "      <th>6298</th>\n",
       "      <td>2014S003625</td>\n",
       "      <td>NaN</td>\n",
       "      <td>NaN</td>\n",
       "      <td>NaN</td>\n",
       "      <td>NaN</td>\n",
       "      <td>NaN</td>\n",
       "      <td>NaN</td>\n",
       "      <td>NaN</td>\n",
       "      <td>Dissabte</td>\n",
       "      <td>Ds</td>\n",
       "      <td>Laboral</td>\n",
       "      <td>2014</td>\n",
       "      <td>5</td>\n",
       "      <td>Maig</td>\n",
       "      <td>17</td>\n",
       "      <td>6</td>\n",
       "      <td>Matí</td>\n",
       "      <td>Caiguda (dues rodes)</td>\n",
       "      <td>NaN</td>\n",
       "      <td>NaN</td>\n",
       "    </tr>\n",
       "    <tr>\n",
       "      <th>6299</th>\n",
       "      <td>2014S008601</td>\n",
       "      <td>NaN</td>\n",
       "      <td>NaN</td>\n",
       "      <td>NaN</td>\n",
       "      <td>NaN</td>\n",
       "      <td>NaN</td>\n",
       "      <td>NaN</td>\n",
       "      <td>NaN</td>\n",
       "      <td>Diumenge</td>\n",
       "      <td>Dg</td>\n",
       "      <td>Laboral</td>\n",
       "      <td>2014</td>\n",
       "      <td>11</td>\n",
       "      <td>Novembre</td>\n",
       "      <td>23</td>\n",
       "      <td>10</td>\n",
       "      <td>Matí</td>\n",
       "      <td>Xoc contra element estàtic</td>\n",
       "      <td>NaN</td>\n",
       "      <td>NaN</td>\n",
       "    </tr>\n",
       "    <tr>\n",
       "      <th>7591</th>\n",
       "      <td>2014S009590</td>\n",
       "      <td>NaN</td>\n",
       "      <td>NaN</td>\n",
       "      <td>NaN</td>\n",
       "      <td>NaN</td>\n",
       "      <td>NaN</td>\n",
       "      <td>NaN</td>\n",
       "      <td>NaN</td>\n",
       "      <td>Dissabte</td>\n",
       "      <td>Ds</td>\n",
       "      <td>Laboral</td>\n",
       "      <td>2014</td>\n",
       "      <td>12</td>\n",
       "      <td>Desembre</td>\n",
       "      <td>27</td>\n",
       "      <td>21</td>\n",
       "      <td>Tarda</td>\n",
       "      <td>Xoc contra element estàtic</td>\n",
       "      <td>NaN</td>\n",
       "      <td>NaN</td>\n",
       "    </tr>\n",
       "    <tr>\n",
       "      <th>7592</th>\n",
       "      <td>2014S003625</td>\n",
       "      <td>NaN</td>\n",
       "      <td>NaN</td>\n",
       "      <td>NaN</td>\n",
       "      <td>NaN</td>\n",
       "      <td>NaN</td>\n",
       "      <td>NaN</td>\n",
       "      <td>NaN</td>\n",
       "      <td>Dissabte</td>\n",
       "      <td>Ds</td>\n",
       "      <td>Laboral</td>\n",
       "      <td>2014</td>\n",
       "      <td>5</td>\n",
       "      <td>Maig</td>\n",
       "      <td>17</td>\n",
       "      <td>6</td>\n",
       "      <td>Matí</td>\n",
       "      <td>Xoc contra element estàtic</td>\n",
       "      <td>NaN</td>\n",
       "      <td>NaN</td>\n",
       "    </tr>\n",
       "    <tr>\n",
       "      <th>7593</th>\n",
       "      <td>2014S008811</td>\n",
       "      <td>NaN</td>\n",
       "      <td>NaN</td>\n",
       "      <td>NaN</td>\n",
       "      <td>NaN</td>\n",
       "      <td>NaN</td>\n",
       "      <td>NaN</td>\n",
       "      <td>NaN</td>\n",
       "      <td>Diumenge</td>\n",
       "      <td>Dg</td>\n",
       "      <td>Laboral</td>\n",
       "      <td>2014</td>\n",
       "      <td>11</td>\n",
       "      <td>Novembre</td>\n",
       "      <td>30</td>\n",
       "      <td>6</td>\n",
       "      <td>Matí</td>\n",
       "      <td>Col.lisió lateral</td>\n",
       "      <td>NaN</td>\n",
       "      <td>NaN</td>\n",
       "    </tr>\n",
       "    <tr>\n",
       "      <th>7594</th>\n",
       "      <td>2014S009205</td>\n",
       "      <td>NaN</td>\n",
       "      <td>NaN</td>\n",
       "      <td>NaN</td>\n",
       "      <td>NaN</td>\n",
       "      <td>NaN</td>\n",
       "      <td>NaN</td>\n",
       "      <td>NaN</td>\n",
       "      <td>Dilluns</td>\n",
       "      <td>Dl</td>\n",
       "      <td>Laboral</td>\n",
       "      <td>2014</td>\n",
       "      <td>12</td>\n",
       "      <td>Desembre</td>\n",
       "      <td>15</td>\n",
       "      <td>7</td>\n",
       "      <td>Matí</td>\n",
       "      <td>Abast multiple</td>\n",
       "      <td>NaN</td>\n",
       "      <td>NaN</td>\n",
       "    </tr>\n",
       "    <tr>\n",
       "      <th>7595</th>\n",
       "      <td>2014S005624</td>\n",
       "      <td>NaN</td>\n",
       "      <td>NaN</td>\n",
       "      <td>NaN</td>\n",
       "      <td>NaN</td>\n",
       "      <td>NaN</td>\n",
       "      <td>NaN</td>\n",
       "      <td>NaN</td>\n",
       "      <td>Dimecres</td>\n",
       "      <td>Dc</td>\n",
       "      <td>Laboral</td>\n",
       "      <td>2014</td>\n",
       "      <td>7</td>\n",
       "      <td>Juliol</td>\n",
       "      <td>30</td>\n",
       "      <td>13</td>\n",
       "      <td>Matí</td>\n",
       "      <td>Caiguda (dues rodes)</td>\n",
       "      <td>NaN</td>\n",
       "      <td>NaN</td>\n",
       "    </tr>\n",
       "    <tr>\n",
       "      <th>8883</th>\n",
       "      <td>2014S004882</td>\n",
       "      <td>NaN</td>\n",
       "      <td>NaN</td>\n",
       "      <td>NaN</td>\n",
       "      <td>NaN</td>\n",
       "      <td>NaN</td>\n",
       "      <td>NaN</td>\n",
       "      <td>NaN</td>\n",
       "      <td>Dijous</td>\n",
       "      <td>Dj</td>\n",
       "      <td>Laboral</td>\n",
       "      <td>2014</td>\n",
       "      <td>7</td>\n",
       "      <td>Juliol</td>\n",
       "      <td>3</td>\n",
       "      <td>14</td>\n",
       "      <td>Tarda</td>\n",
       "      <td>Col.lisió lateral</td>\n",
       "      <td>NaN</td>\n",
       "      <td>NaN</td>\n",
       "    </tr>\n",
       "    <tr>\n",
       "      <th>8884</th>\n",
       "      <td>2014S008768</td>\n",
       "      <td>NaN</td>\n",
       "      <td>NaN</td>\n",
       "      <td>NaN</td>\n",
       "      <td>NaN</td>\n",
       "      <td>NaN</td>\n",
       "      <td>NaN</td>\n",
       "      <td>NaN</td>\n",
       "      <td>Divendres</td>\n",
       "      <td>Dv</td>\n",
       "      <td>Laboral</td>\n",
       "      <td>2014</td>\n",
       "      <td>11</td>\n",
       "      <td>Novembre</td>\n",
       "      <td>28</td>\n",
       "      <td>13</td>\n",
       "      <td>Matí</td>\n",
       "      <td>Atropellament</td>\n",
       "      <td>NaN</td>\n",
       "      <td>NaN</td>\n",
       "    </tr>\n",
       "    <tr>\n",
       "      <th>8885</th>\n",
       "      <td>2014S004006</td>\n",
       "      <td>NaN</td>\n",
       "      <td>NaN</td>\n",
       "      <td>NaN</td>\n",
       "      <td>NaN</td>\n",
       "      <td>NaN</td>\n",
       "      <td>NaN</td>\n",
       "      <td>NaN</td>\n",
       "      <td>Dissabte</td>\n",
       "      <td>Ds</td>\n",
       "      <td>Laboral</td>\n",
       "      <td>2014</td>\n",
       "      <td>5</td>\n",
       "      <td>Maig</td>\n",
       "      <td>31</td>\n",
       "      <td>12</td>\n",
       "      <td>Matí</td>\n",
       "      <td>Abast</td>\n",
       "      <td>NaN</td>\n",
       "      <td>NaN</td>\n",
       "    </tr>\n",
       "  </tbody>\n",
       "</table>\n",
       "</div>"
      ],
      "text/plain": [
       "     Codi_expedient  Codi_districte Nom_districte  Codi_barri Nom_barri  \\\n",
       "1277    2014S009191             NaN           NaN         NaN       NaN   \n",
       "1278    2014S000420             NaN           NaN         NaN       NaN   \n",
       "2574    2014S007072             NaN           NaN         NaN       NaN   \n",
       "3786    2014S006053             NaN           NaN         NaN       NaN   \n",
       "3787    2014S000572             NaN           NaN         NaN       NaN   \n",
       "5062    2014S000706             NaN           NaN         NaN       NaN   \n",
       "5063    2014S005897             NaN           NaN         NaN       NaN   \n",
       "5064    2014S001703             NaN           NaN         NaN       NaN   \n",
       "6298    2014S003625             NaN           NaN         NaN       NaN   \n",
       "6299    2014S008601             NaN           NaN         NaN       NaN   \n",
       "7591    2014S009590             NaN           NaN         NaN       NaN   \n",
       "7592    2014S003625             NaN           NaN         NaN       NaN   \n",
       "7593    2014S008811             NaN           NaN         NaN       NaN   \n",
       "7594    2014S009205             NaN           NaN         NaN       NaN   \n",
       "7595    2014S005624             NaN           NaN         NaN       NaN   \n",
       "8883    2014S004882             NaN           NaN         NaN       NaN   \n",
       "8884    2014S008768             NaN           NaN         NaN       NaN   \n",
       "8885    2014S004006             NaN           NaN         NaN       NaN   \n",
       "\n",
       "      Codi_carrer Nom_carrer Num_postal Dia_setmana ID_Dia_setmana Tipus_dia  \\\n",
       "1277          NaN        NaN        NaN    Diumenge             Dg   Laboral   \n",
       "1278          NaN        NaN        NaN    Diumenge             Dg   Laboral   \n",
       "2574          NaN        NaN        NaN      Dijous             Dj   Laboral   \n",
       "3786          NaN        NaN        NaN     Dimarts             Dm   Laboral   \n",
       "3787          NaN        NaN        NaN   Divendres             Dv   Laboral   \n",
       "5062          NaN        NaN        NaN      Dijous             Dj   Laboral   \n",
       "5063          NaN        NaN        NaN     Dilluns             Dl   Laboral   \n",
       "5064          NaN        NaN        NaN   Divendres             Dv   Laboral   \n",
       "6298          NaN        NaN        NaN    Dissabte             Ds   Laboral   \n",
       "6299          NaN        NaN        NaN    Diumenge             Dg   Laboral   \n",
       "7591          NaN        NaN        NaN    Dissabte             Ds   Laboral   \n",
       "7592          NaN        NaN        NaN    Dissabte             Ds   Laboral   \n",
       "7593          NaN        NaN        NaN    Diumenge             Dg   Laboral   \n",
       "7594          NaN        NaN        NaN     Dilluns             Dl   Laboral   \n",
       "7595          NaN        NaN        NaN    Dimecres             Dc   Laboral   \n",
       "8883          NaN        NaN        NaN      Dijous             Dj   Laboral   \n",
       "8884          NaN        NaN        NaN   Divendres             Dv   Laboral   \n",
       "8885          NaN        NaN        NaN    Dissabte             Ds   Laboral   \n",
       "\n",
       "       Any  Mes   Nom_mes  Dia_de_mes  Hora_de_dia   Torn  \\\n",
       "1277  2014   12  Desembre          14           12   Matí   \n",
       "1278  2014    1     Gener          19            5    Nit   \n",
       "2574  2014   10   Octubre           2           16  Tarda   \n",
       "3786  2014    8     Agost          19           16  Tarda   \n",
       "3787  2014    1     Gener          24           17  Tarda   \n",
       "5062  2014    1     Gener          30            6   Matí   \n",
       "5063  2014    8     Agost          11           20  Tarda   \n",
       "5064  2014    3      Març           7           18  Tarda   \n",
       "6298  2014    5      Maig          17            6   Matí   \n",
       "6299  2014   11  Novembre          23           10   Matí   \n",
       "7591  2014   12  Desembre          27           21  Tarda   \n",
       "7592  2014    5      Maig          17            6   Matí   \n",
       "7593  2014   11  Novembre          30            6   Matí   \n",
       "7594  2014   12  Desembre          15            7   Matí   \n",
       "7595  2014    7    Juliol          30           13   Matí   \n",
       "8883  2014    7    Juliol           3           14  Tarda   \n",
       "8884  2014   11  Novembre          28           13   Matí   \n",
       "8885  2014    5      Maig          31           12   Matí   \n",
       "\n",
       "                  Tipus_accident Coordenada_UTM_X Coordenada_UTM_Y  \n",
       "1277        Caiguda (dues rodes)              NaN              NaN  \n",
       "1278                       Abast              NaN              NaN  \n",
       "2574        Caiguda (dues rodes)              NaN              NaN  \n",
       "3786               Atropellament              NaN              NaN  \n",
       "3787              Abast multiple              NaN              NaN  \n",
       "5062                       Abast              NaN              NaN  \n",
       "5063  Xoc contra element estàtic              NaN              NaN  \n",
       "5064           Col.lisió lateral              NaN              NaN  \n",
       "6298        Caiguda (dues rodes)              NaN              NaN  \n",
       "6299  Xoc contra element estàtic              NaN              NaN  \n",
       "7591  Xoc contra element estàtic              NaN              NaN  \n",
       "7592  Xoc contra element estàtic              NaN              NaN  \n",
       "7593           Col.lisió lateral              NaN              NaN  \n",
       "7594              Abast multiple              NaN              NaN  \n",
       "7595        Caiguda (dues rodes)              NaN              NaN  \n",
       "8883           Col.lisió lateral              NaN              NaN  \n",
       "8884               Atropellament              NaN              NaN  \n",
       "8885                       Abast              NaN              NaN  "
      ]
     },
     "execution_count": 20,
     "metadata": {},
     "output_type": "execute_result"
    }
   ],
   "source": [
    "df_14_tipo[df_14_tipo['Coordenada_UTM_X'].isna()]"
   ]
  },
  {
   "cell_type": "code",
   "execution_count": 21,
   "metadata": {},
   "outputs": [],
   "source": [
    "df_14_tipo = df_14_tipo.replace('Desconegut', np.nan)"
   ]
  },
  {
   "cell_type": "code",
   "execution_count": 22,
   "metadata": {},
   "outputs": [
    {
     "data": {
      "text/html": [
       "<div>\n",
       "<style scoped>\n",
       "    .dataframe tbody tr th:only-of-type {\n",
       "        vertical-align: middle;\n",
       "    }\n",
       "\n",
       "    .dataframe tbody tr th {\n",
       "        vertical-align: top;\n",
       "    }\n",
       "\n",
       "    .dataframe thead th {\n",
       "        text-align: right;\n",
       "    }\n",
       "</style>\n",
       "<table border=\"1\" class=\"dataframe\">\n",
       "  <thead>\n",
       "    <tr style=\"text-align: right;\">\n",
       "      <th></th>\n",
       "      <th>Codi_expedient</th>\n",
       "      <th>Codi_districte</th>\n",
       "      <th>Nom_districte</th>\n",
       "      <th>Codi_barri</th>\n",
       "      <th>Nom_barri</th>\n",
       "      <th>Codi_carrer</th>\n",
       "      <th>Nom_carrer</th>\n",
       "      <th>Num_postal</th>\n",
       "      <th>Dia_setmana</th>\n",
       "      <th>ID_Dia_setmana</th>\n",
       "      <th>Tipus_dia</th>\n",
       "      <th>Any</th>\n",
       "      <th>Mes</th>\n",
       "      <th>Nom_mes</th>\n",
       "      <th>Dia_de_mes</th>\n",
       "      <th>Hora_de_dia</th>\n",
       "      <th>Torn</th>\n",
       "      <th>Tipus_accident</th>\n",
       "      <th>Coordenada_UTM_X</th>\n",
       "      <th>Coordenada_UTM_Y</th>\n",
       "    </tr>\n",
       "  </thead>\n",
       "  <tbody>\n",
       "    <tr>\n",
       "      <th>1277</th>\n",
       "      <td>2014S009191</td>\n",
       "      <td>NaN</td>\n",
       "      <td>NaN</td>\n",
       "      <td>NaN</td>\n",
       "      <td>NaN</td>\n",
       "      <td>NaN</td>\n",
       "      <td>NaN</td>\n",
       "      <td>NaN</td>\n",
       "      <td>Diumenge</td>\n",
       "      <td>Dg</td>\n",
       "      <td>Laboral</td>\n",
       "      <td>2014</td>\n",
       "      <td>12</td>\n",
       "      <td>Desembre</td>\n",
       "      <td>14</td>\n",
       "      <td>12</td>\n",
       "      <td>Matí</td>\n",
       "      <td>Caiguda (dues rodes)</td>\n",
       "      <td>NaN</td>\n",
       "      <td>NaN</td>\n",
       "    </tr>\n",
       "    <tr>\n",
       "      <th>1278</th>\n",
       "      <td>2014S000420</td>\n",
       "      <td>NaN</td>\n",
       "      <td>NaN</td>\n",
       "      <td>NaN</td>\n",
       "      <td>NaN</td>\n",
       "      <td>NaN</td>\n",
       "      <td>NaN</td>\n",
       "      <td>NaN</td>\n",
       "      <td>Diumenge</td>\n",
       "      <td>Dg</td>\n",
       "      <td>Laboral</td>\n",
       "      <td>2014</td>\n",
       "      <td>1</td>\n",
       "      <td>Gener</td>\n",
       "      <td>19</td>\n",
       "      <td>5</td>\n",
       "      <td>Nit</td>\n",
       "      <td>Abast</td>\n",
       "      <td>NaN</td>\n",
       "      <td>NaN</td>\n",
       "    </tr>\n",
       "    <tr>\n",
       "      <th>2574</th>\n",
       "      <td>2014S007072</td>\n",
       "      <td>NaN</td>\n",
       "      <td>NaN</td>\n",
       "      <td>NaN</td>\n",
       "      <td>NaN</td>\n",
       "      <td>NaN</td>\n",
       "      <td>NaN</td>\n",
       "      <td>NaN</td>\n",
       "      <td>Dijous</td>\n",
       "      <td>Dj</td>\n",
       "      <td>Laboral</td>\n",
       "      <td>2014</td>\n",
       "      <td>10</td>\n",
       "      <td>Octubre</td>\n",
       "      <td>2</td>\n",
       "      <td>16</td>\n",
       "      <td>Tarda</td>\n",
       "      <td>Caiguda (dues rodes)</td>\n",
       "      <td>NaN</td>\n",
       "      <td>NaN</td>\n",
       "    </tr>\n",
       "    <tr>\n",
       "      <th>3786</th>\n",
       "      <td>2014S006053</td>\n",
       "      <td>NaN</td>\n",
       "      <td>NaN</td>\n",
       "      <td>NaN</td>\n",
       "      <td>NaN</td>\n",
       "      <td>NaN</td>\n",
       "      <td>NaN</td>\n",
       "      <td>NaN</td>\n",
       "      <td>Dimarts</td>\n",
       "      <td>Dm</td>\n",
       "      <td>Laboral</td>\n",
       "      <td>2014</td>\n",
       "      <td>8</td>\n",
       "      <td>Agost</td>\n",
       "      <td>19</td>\n",
       "      <td>16</td>\n",
       "      <td>Tarda</td>\n",
       "      <td>Atropellament</td>\n",
       "      <td>NaN</td>\n",
       "      <td>NaN</td>\n",
       "    </tr>\n",
       "    <tr>\n",
       "      <th>3787</th>\n",
       "      <td>2014S000572</td>\n",
       "      <td>NaN</td>\n",
       "      <td>NaN</td>\n",
       "      <td>NaN</td>\n",
       "      <td>NaN</td>\n",
       "      <td>NaN</td>\n",
       "      <td>NaN</td>\n",
       "      <td>NaN</td>\n",
       "      <td>Divendres</td>\n",
       "      <td>Dv</td>\n",
       "      <td>Laboral</td>\n",
       "      <td>2014</td>\n",
       "      <td>1</td>\n",
       "      <td>Gener</td>\n",
       "      <td>24</td>\n",
       "      <td>17</td>\n",
       "      <td>Tarda</td>\n",
       "      <td>Abast multiple</td>\n",
       "      <td>NaN</td>\n",
       "      <td>NaN</td>\n",
       "    </tr>\n",
       "    <tr>\n",
       "      <th>5062</th>\n",
       "      <td>2014S000706</td>\n",
       "      <td>NaN</td>\n",
       "      <td>NaN</td>\n",
       "      <td>NaN</td>\n",
       "      <td>NaN</td>\n",
       "      <td>NaN</td>\n",
       "      <td>NaN</td>\n",
       "      <td>NaN</td>\n",
       "      <td>Dijous</td>\n",
       "      <td>Dj</td>\n",
       "      <td>Laboral</td>\n",
       "      <td>2014</td>\n",
       "      <td>1</td>\n",
       "      <td>Gener</td>\n",
       "      <td>30</td>\n",
       "      <td>6</td>\n",
       "      <td>Matí</td>\n",
       "      <td>Abast</td>\n",
       "      <td>NaN</td>\n",
       "      <td>NaN</td>\n",
       "    </tr>\n",
       "    <tr>\n",
       "      <th>5063</th>\n",
       "      <td>2014S005897</td>\n",
       "      <td>NaN</td>\n",
       "      <td>NaN</td>\n",
       "      <td>NaN</td>\n",
       "      <td>NaN</td>\n",
       "      <td>NaN</td>\n",
       "      <td>NaN</td>\n",
       "      <td>NaN</td>\n",
       "      <td>Dilluns</td>\n",
       "      <td>Dl</td>\n",
       "      <td>Laboral</td>\n",
       "      <td>2014</td>\n",
       "      <td>8</td>\n",
       "      <td>Agost</td>\n",
       "      <td>11</td>\n",
       "      <td>20</td>\n",
       "      <td>Tarda</td>\n",
       "      <td>Xoc contra element estàtic</td>\n",
       "      <td>NaN</td>\n",
       "      <td>NaN</td>\n",
       "    </tr>\n",
       "    <tr>\n",
       "      <th>5064</th>\n",
       "      <td>2014S001703</td>\n",
       "      <td>NaN</td>\n",
       "      <td>NaN</td>\n",
       "      <td>NaN</td>\n",
       "      <td>NaN</td>\n",
       "      <td>NaN</td>\n",
       "      <td>NaN</td>\n",
       "      <td>NaN</td>\n",
       "      <td>Divendres</td>\n",
       "      <td>Dv</td>\n",
       "      <td>Laboral</td>\n",
       "      <td>2014</td>\n",
       "      <td>3</td>\n",
       "      <td>Març</td>\n",
       "      <td>7</td>\n",
       "      <td>18</td>\n",
       "      <td>Tarda</td>\n",
       "      <td>Col.lisió lateral</td>\n",
       "      <td>NaN</td>\n",
       "      <td>NaN</td>\n",
       "    </tr>\n",
       "    <tr>\n",
       "      <th>6298</th>\n",
       "      <td>2014S003625</td>\n",
       "      <td>NaN</td>\n",
       "      <td>NaN</td>\n",
       "      <td>NaN</td>\n",
       "      <td>NaN</td>\n",
       "      <td>NaN</td>\n",
       "      <td>NaN</td>\n",
       "      <td>NaN</td>\n",
       "      <td>Dissabte</td>\n",
       "      <td>Ds</td>\n",
       "      <td>Laboral</td>\n",
       "      <td>2014</td>\n",
       "      <td>5</td>\n",
       "      <td>Maig</td>\n",
       "      <td>17</td>\n",
       "      <td>6</td>\n",
       "      <td>Matí</td>\n",
       "      <td>Caiguda (dues rodes)</td>\n",
       "      <td>NaN</td>\n",
       "      <td>NaN</td>\n",
       "    </tr>\n",
       "    <tr>\n",
       "      <th>6299</th>\n",
       "      <td>2014S008601</td>\n",
       "      <td>NaN</td>\n",
       "      <td>NaN</td>\n",
       "      <td>NaN</td>\n",
       "      <td>NaN</td>\n",
       "      <td>NaN</td>\n",
       "      <td>NaN</td>\n",
       "      <td>NaN</td>\n",
       "      <td>Diumenge</td>\n",
       "      <td>Dg</td>\n",
       "      <td>Laboral</td>\n",
       "      <td>2014</td>\n",
       "      <td>11</td>\n",
       "      <td>Novembre</td>\n",
       "      <td>23</td>\n",
       "      <td>10</td>\n",
       "      <td>Matí</td>\n",
       "      <td>Xoc contra element estàtic</td>\n",
       "      <td>NaN</td>\n",
       "      <td>NaN</td>\n",
       "    </tr>\n",
       "    <tr>\n",
       "      <th>7591</th>\n",
       "      <td>2014S009590</td>\n",
       "      <td>NaN</td>\n",
       "      <td>NaN</td>\n",
       "      <td>NaN</td>\n",
       "      <td>NaN</td>\n",
       "      <td>NaN</td>\n",
       "      <td>NaN</td>\n",
       "      <td>NaN</td>\n",
       "      <td>Dissabte</td>\n",
       "      <td>Ds</td>\n",
       "      <td>Laboral</td>\n",
       "      <td>2014</td>\n",
       "      <td>12</td>\n",
       "      <td>Desembre</td>\n",
       "      <td>27</td>\n",
       "      <td>21</td>\n",
       "      <td>Tarda</td>\n",
       "      <td>Xoc contra element estàtic</td>\n",
       "      <td>NaN</td>\n",
       "      <td>NaN</td>\n",
       "    </tr>\n",
       "    <tr>\n",
       "      <th>7592</th>\n",
       "      <td>2014S003625</td>\n",
       "      <td>NaN</td>\n",
       "      <td>NaN</td>\n",
       "      <td>NaN</td>\n",
       "      <td>NaN</td>\n",
       "      <td>NaN</td>\n",
       "      <td>NaN</td>\n",
       "      <td>NaN</td>\n",
       "      <td>Dissabte</td>\n",
       "      <td>Ds</td>\n",
       "      <td>Laboral</td>\n",
       "      <td>2014</td>\n",
       "      <td>5</td>\n",
       "      <td>Maig</td>\n",
       "      <td>17</td>\n",
       "      <td>6</td>\n",
       "      <td>Matí</td>\n",
       "      <td>Xoc contra element estàtic</td>\n",
       "      <td>NaN</td>\n",
       "      <td>NaN</td>\n",
       "    </tr>\n",
       "    <tr>\n",
       "      <th>7593</th>\n",
       "      <td>2014S008811</td>\n",
       "      <td>NaN</td>\n",
       "      <td>NaN</td>\n",
       "      <td>NaN</td>\n",
       "      <td>NaN</td>\n",
       "      <td>NaN</td>\n",
       "      <td>NaN</td>\n",
       "      <td>NaN</td>\n",
       "      <td>Diumenge</td>\n",
       "      <td>Dg</td>\n",
       "      <td>Laboral</td>\n",
       "      <td>2014</td>\n",
       "      <td>11</td>\n",
       "      <td>Novembre</td>\n",
       "      <td>30</td>\n",
       "      <td>6</td>\n",
       "      <td>Matí</td>\n",
       "      <td>Col.lisió lateral</td>\n",
       "      <td>NaN</td>\n",
       "      <td>NaN</td>\n",
       "    </tr>\n",
       "    <tr>\n",
       "      <th>7594</th>\n",
       "      <td>2014S009205</td>\n",
       "      <td>NaN</td>\n",
       "      <td>NaN</td>\n",
       "      <td>NaN</td>\n",
       "      <td>NaN</td>\n",
       "      <td>NaN</td>\n",
       "      <td>NaN</td>\n",
       "      <td>NaN</td>\n",
       "      <td>Dilluns</td>\n",
       "      <td>Dl</td>\n",
       "      <td>Laboral</td>\n",
       "      <td>2014</td>\n",
       "      <td>12</td>\n",
       "      <td>Desembre</td>\n",
       "      <td>15</td>\n",
       "      <td>7</td>\n",
       "      <td>Matí</td>\n",
       "      <td>Abast multiple</td>\n",
       "      <td>NaN</td>\n",
       "      <td>NaN</td>\n",
       "    </tr>\n",
       "    <tr>\n",
       "      <th>7595</th>\n",
       "      <td>2014S005624</td>\n",
       "      <td>NaN</td>\n",
       "      <td>NaN</td>\n",
       "      <td>NaN</td>\n",
       "      <td>NaN</td>\n",
       "      <td>NaN</td>\n",
       "      <td>NaN</td>\n",
       "      <td>NaN</td>\n",
       "      <td>Dimecres</td>\n",
       "      <td>Dc</td>\n",
       "      <td>Laboral</td>\n",
       "      <td>2014</td>\n",
       "      <td>7</td>\n",
       "      <td>Juliol</td>\n",
       "      <td>30</td>\n",
       "      <td>13</td>\n",
       "      <td>Matí</td>\n",
       "      <td>Caiguda (dues rodes)</td>\n",
       "      <td>NaN</td>\n",
       "      <td>NaN</td>\n",
       "    </tr>\n",
       "    <tr>\n",
       "      <th>8883</th>\n",
       "      <td>2014S004882</td>\n",
       "      <td>NaN</td>\n",
       "      <td>NaN</td>\n",
       "      <td>NaN</td>\n",
       "      <td>NaN</td>\n",
       "      <td>NaN</td>\n",
       "      <td>NaN</td>\n",
       "      <td>NaN</td>\n",
       "      <td>Dijous</td>\n",
       "      <td>Dj</td>\n",
       "      <td>Laboral</td>\n",
       "      <td>2014</td>\n",
       "      <td>7</td>\n",
       "      <td>Juliol</td>\n",
       "      <td>3</td>\n",
       "      <td>14</td>\n",
       "      <td>Tarda</td>\n",
       "      <td>Col.lisió lateral</td>\n",
       "      <td>NaN</td>\n",
       "      <td>NaN</td>\n",
       "    </tr>\n",
       "    <tr>\n",
       "      <th>8884</th>\n",
       "      <td>2014S008768</td>\n",
       "      <td>NaN</td>\n",
       "      <td>NaN</td>\n",
       "      <td>NaN</td>\n",
       "      <td>NaN</td>\n",
       "      <td>NaN</td>\n",
       "      <td>NaN</td>\n",
       "      <td>NaN</td>\n",
       "      <td>Divendres</td>\n",
       "      <td>Dv</td>\n",
       "      <td>Laboral</td>\n",
       "      <td>2014</td>\n",
       "      <td>11</td>\n",
       "      <td>Novembre</td>\n",
       "      <td>28</td>\n",
       "      <td>13</td>\n",
       "      <td>Matí</td>\n",
       "      <td>Atropellament</td>\n",
       "      <td>NaN</td>\n",
       "      <td>NaN</td>\n",
       "    </tr>\n",
       "    <tr>\n",
       "      <th>8885</th>\n",
       "      <td>2014S004006</td>\n",
       "      <td>NaN</td>\n",
       "      <td>NaN</td>\n",
       "      <td>NaN</td>\n",
       "      <td>NaN</td>\n",
       "      <td>NaN</td>\n",
       "      <td>NaN</td>\n",
       "      <td>NaN</td>\n",
       "      <td>Dissabte</td>\n",
       "      <td>Ds</td>\n",
       "      <td>Laboral</td>\n",
       "      <td>2014</td>\n",
       "      <td>5</td>\n",
       "      <td>Maig</td>\n",
       "      <td>31</td>\n",
       "      <td>12</td>\n",
       "      <td>Matí</td>\n",
       "      <td>Abast</td>\n",
       "      <td>NaN</td>\n",
       "      <td>NaN</td>\n",
       "    </tr>\n",
       "  </tbody>\n",
       "</table>\n",
       "</div>"
      ],
      "text/plain": [
       "     Codi_expedient  Codi_districte Nom_districte  Codi_barri Nom_barri  \\\n",
       "1277    2014S009191             NaN           NaN         NaN       NaN   \n",
       "1278    2014S000420             NaN           NaN         NaN       NaN   \n",
       "2574    2014S007072             NaN           NaN         NaN       NaN   \n",
       "3786    2014S006053             NaN           NaN         NaN       NaN   \n",
       "3787    2014S000572             NaN           NaN         NaN       NaN   \n",
       "5062    2014S000706             NaN           NaN         NaN       NaN   \n",
       "5063    2014S005897             NaN           NaN         NaN       NaN   \n",
       "5064    2014S001703             NaN           NaN         NaN       NaN   \n",
       "6298    2014S003625             NaN           NaN         NaN       NaN   \n",
       "6299    2014S008601             NaN           NaN         NaN       NaN   \n",
       "7591    2014S009590             NaN           NaN         NaN       NaN   \n",
       "7592    2014S003625             NaN           NaN         NaN       NaN   \n",
       "7593    2014S008811             NaN           NaN         NaN       NaN   \n",
       "7594    2014S009205             NaN           NaN         NaN       NaN   \n",
       "7595    2014S005624             NaN           NaN         NaN       NaN   \n",
       "8883    2014S004882             NaN           NaN         NaN       NaN   \n",
       "8884    2014S008768             NaN           NaN         NaN       NaN   \n",
       "8885    2014S004006             NaN           NaN         NaN       NaN   \n",
       "\n",
       "      Codi_carrer Nom_carrer Num_postal Dia_setmana ID_Dia_setmana Tipus_dia  \\\n",
       "1277          NaN        NaN        NaN    Diumenge             Dg   Laboral   \n",
       "1278          NaN        NaN        NaN    Diumenge             Dg   Laboral   \n",
       "2574          NaN        NaN        NaN      Dijous             Dj   Laboral   \n",
       "3786          NaN        NaN        NaN     Dimarts             Dm   Laboral   \n",
       "3787          NaN        NaN        NaN   Divendres             Dv   Laboral   \n",
       "5062          NaN        NaN        NaN      Dijous             Dj   Laboral   \n",
       "5063          NaN        NaN        NaN     Dilluns             Dl   Laboral   \n",
       "5064          NaN        NaN        NaN   Divendres             Dv   Laboral   \n",
       "6298          NaN        NaN        NaN    Dissabte             Ds   Laboral   \n",
       "6299          NaN        NaN        NaN    Diumenge             Dg   Laboral   \n",
       "7591          NaN        NaN        NaN    Dissabte             Ds   Laboral   \n",
       "7592          NaN        NaN        NaN    Dissabte             Ds   Laboral   \n",
       "7593          NaN        NaN        NaN    Diumenge             Dg   Laboral   \n",
       "7594          NaN        NaN        NaN     Dilluns             Dl   Laboral   \n",
       "7595          NaN        NaN        NaN    Dimecres             Dc   Laboral   \n",
       "8883          NaN        NaN        NaN      Dijous             Dj   Laboral   \n",
       "8884          NaN        NaN        NaN   Divendres             Dv   Laboral   \n",
       "8885          NaN        NaN        NaN    Dissabte             Ds   Laboral   \n",
       "\n",
       "       Any  Mes   Nom_mes  Dia_de_mes  Hora_de_dia   Torn  \\\n",
       "1277  2014   12  Desembre          14           12   Matí   \n",
       "1278  2014    1     Gener          19            5    Nit   \n",
       "2574  2014   10   Octubre           2           16  Tarda   \n",
       "3786  2014    8     Agost          19           16  Tarda   \n",
       "3787  2014    1     Gener          24           17  Tarda   \n",
       "5062  2014    1     Gener          30            6   Matí   \n",
       "5063  2014    8     Agost          11           20  Tarda   \n",
       "5064  2014    3      Març           7           18  Tarda   \n",
       "6298  2014    5      Maig          17            6   Matí   \n",
       "6299  2014   11  Novembre          23           10   Matí   \n",
       "7591  2014   12  Desembre          27           21  Tarda   \n",
       "7592  2014    5      Maig          17            6   Matí   \n",
       "7593  2014   11  Novembre          30            6   Matí   \n",
       "7594  2014   12  Desembre          15            7   Matí   \n",
       "7595  2014    7    Juliol          30           13   Matí   \n",
       "8883  2014    7    Juliol           3           14  Tarda   \n",
       "8884  2014   11  Novembre          28           13   Matí   \n",
       "8885  2014    5      Maig          31           12   Matí   \n",
       "\n",
       "                  Tipus_accident Coordenada_UTM_X Coordenada_UTM_Y  \n",
       "1277        Caiguda (dues rodes)              NaN              NaN  \n",
       "1278                       Abast              NaN              NaN  \n",
       "2574        Caiguda (dues rodes)              NaN              NaN  \n",
       "3786               Atropellament              NaN              NaN  \n",
       "3787              Abast multiple              NaN              NaN  \n",
       "5062                       Abast              NaN              NaN  \n",
       "5063  Xoc contra element estàtic              NaN              NaN  \n",
       "5064           Col.lisió lateral              NaN              NaN  \n",
       "6298        Caiguda (dues rodes)              NaN              NaN  \n",
       "6299  Xoc contra element estàtic              NaN              NaN  \n",
       "7591  Xoc contra element estàtic              NaN              NaN  \n",
       "7592  Xoc contra element estàtic              NaN              NaN  \n",
       "7593           Col.lisió lateral              NaN              NaN  \n",
       "7594              Abast multiple              NaN              NaN  \n",
       "7595        Caiguda (dues rodes)              NaN              NaN  \n",
       "8883           Col.lisió lateral              NaN              NaN  \n",
       "8884               Atropellament              NaN              NaN  \n",
       "8885                       Abast              NaN              NaN  "
      ]
     },
     "execution_count": 22,
     "metadata": {},
     "output_type": "execute_result"
    }
   ],
   "source": [
    "df_14_tipo[df_14_tipo['Coordenada_UTM_X'].isna()]"
   ]
  },
  {
   "cell_type": "code",
   "execution_count": 23,
   "metadata": {},
   "outputs": [],
   "source": [
    "df_14_tipo.dropna(axis = 0, inplace = True)"
   ]
  },
  {
   "cell_type": "code",
   "execution_count": 24,
   "metadata": {},
   "outputs": [
    {
     "data": {
      "text/plain": [
       "(10139, 20)"
      ]
     },
     "execution_count": 24,
     "metadata": {},
     "output_type": "execute_result"
    }
   ],
   "source": [
    "df_14_tipo.shape"
   ]
  },
  {
   "cell_type": "code",
   "execution_count": 25,
   "metadata": {},
   "outputs": [
    {
     "name": "stdout",
     "output_type": "stream",
     "text": [
      "(10522, 20)\n"
     ]
    },
    {
     "data": {
      "text/plain": [
       "Codi_expedient        0\n",
       "Codi_districte        1\n",
       "Nom_districte        15\n",
       "Codi_barri            1\n",
       "Nom_barri            15\n",
       "Codi_carrer           1\n",
       "Nom_carrer          141\n",
       "Num_postal          140\n",
       "Dia_setmana           1\n",
       "ID_Dia_setmana        1\n",
       "Tipus_dia             1\n",
       "Any                   1\n",
       "Mes                   1\n",
       "Nom_mes               1\n",
       "Dia_de_mes            1\n",
       "Hora_de_dia           1\n",
       "Torn                  1\n",
       "Tipus_accident        1\n",
       "Coordenada_UTM_X      1\n",
       "Coordenada_UTM_Y      1\n",
       "dtype: int64"
      ]
     },
     "execution_count": 25,
     "metadata": {},
     "output_type": "execute_result"
    }
   ],
   "source": [
    "print(df_15_tipo.shape)\n",
    "df_15_tipo.isnull().sum()"
   ]
  },
  {
   "cell_type": "code",
   "execution_count": 26,
   "metadata": {},
   "outputs": [
    {
     "data": {
      "text/html": [
       "<div>\n",
       "<style scoped>\n",
       "    .dataframe tbody tr th:only-of-type {\n",
       "        vertical-align: middle;\n",
       "    }\n",
       "\n",
       "    .dataframe tbody tr th {\n",
       "        vertical-align: top;\n",
       "    }\n",
       "\n",
       "    .dataframe thead th {\n",
       "        text-align: right;\n",
       "    }\n",
       "</style>\n",
       "<table border=\"1\" class=\"dataframe\">\n",
       "  <thead>\n",
       "    <tr style=\"text-align: right;\">\n",
       "      <th></th>\n",
       "      <th>Codi_expedient</th>\n",
       "      <th>Codi_districte</th>\n",
       "      <th>Nom_districte</th>\n",
       "      <th>Codi_barri</th>\n",
       "      <th>Nom_barri</th>\n",
       "      <th>Codi_carrer</th>\n",
       "      <th>Nom_carrer</th>\n",
       "      <th>Num_postal</th>\n",
       "      <th>Dia_setmana</th>\n",
       "      <th>ID_Dia_setmana</th>\n",
       "      <th>Tipus_dia</th>\n",
       "      <th>Any</th>\n",
       "      <th>Mes</th>\n",
       "      <th>Nom_mes</th>\n",
       "      <th>Dia_de_mes</th>\n",
       "      <th>Hora_de_dia</th>\n",
       "      <th>Torn</th>\n",
       "      <th>Tipus_accident</th>\n",
       "      <th>Coordenada_UTM_X</th>\n",
       "      <th>Coordenada_UTM_Y</th>\n",
       "    </tr>\n",
       "  </thead>\n",
       "  <tbody>\n",
       "    <tr>\n",
       "      <th>10521</th>\n",
       "      <td>2016-02-11 00:00:00</td>\n",
       "      <td>NaN</td>\n",
       "      <td>NaN</td>\n",
       "      <td>NaN</td>\n",
       "      <td>NaN</td>\n",
       "      <td>NaN</td>\n",
       "      <td>NaN</td>\n",
       "      <td>1</td>\n",
       "      <td>NaN</td>\n",
       "      <td>NaN</td>\n",
       "      <td>NaN</td>\n",
       "      <td>NaN</td>\n",
       "      <td>NaN</td>\n",
       "      <td>NaN</td>\n",
       "      <td>NaN</td>\n",
       "      <td>NaN</td>\n",
       "      <td>NaN</td>\n",
       "      <td>NaN</td>\n",
       "      <td>NaN</td>\n",
       "      <td>NaN</td>\n",
       "    </tr>\n",
       "  </tbody>\n",
       "</table>\n",
       "</div>"
      ],
      "text/plain": [
       "            Codi_expedient  Codi_districte Nom_districte  Codi_barri  \\\n",
       "10521  2016-02-11 00:00:00             NaN           NaN         NaN   \n",
       "\n",
       "      Nom_barri  Codi_carrer Nom_carrer Num_postal Dia_setmana ID_Dia_setmana  \\\n",
       "10521       NaN          NaN        NaN          1         NaN            NaN   \n",
       "\n",
       "      Tipus_dia  Any  Mes Nom_mes  Dia_de_mes  Hora_de_dia Torn  \\\n",
       "10521       NaN  NaN  NaN     NaN         NaN          NaN  NaN   \n",
       "\n",
       "      Tipus_accident Coordenada_UTM_X Coordenada_UTM_Y  \n",
       "10521            NaN              NaN              NaN  "
      ]
     },
     "execution_count": 26,
     "metadata": {},
     "output_type": "execute_result"
    }
   ],
   "source": [
    "df_15_tipo[df_15_tipo['Coordenada_UTM_X'].isna()]"
   ]
  },
  {
   "cell_type": "code",
   "execution_count": 27,
   "metadata": {},
   "outputs": [],
   "source": [
    "df_15_tipo.dropna(axis = 0, inplace = True)"
   ]
  },
  {
   "cell_type": "code",
   "execution_count": 28,
   "metadata": {},
   "outputs": [
    {
     "data": {
      "text/plain": [
       "(10381, 20)"
      ]
     },
     "execution_count": 28,
     "metadata": {},
     "output_type": "execute_result"
    }
   ],
   "source": [
    "df_15_tipo.shape"
   ]
  },
  {
   "cell_type": "code",
   "execution_count": 29,
   "metadata": {},
   "outputs": [],
   "source": [
    "from pyproj import Proj\n",
    "\n",
    "lon15 = []\n",
    "lat15 = []\n",
    "\n",
    "p = Proj(proj='utm',zone=31,ellps='GRS80')\n",
    "\n",
    "for x,y in zip(df_15_tipo['Coordenada_UTM_X'],df_15_tipo['Coordenada_UTM_Y']):\n",
    "    lon,lat = p(x,y, inverse = True)\n",
    "    lon15.append(lon)\n",
    "    lat15.append(lat)"
   ]
  },
  {
   "cell_type": "code",
   "execution_count": 30,
   "metadata": {},
   "outputs": [
    {
     "name": "stdout",
     "output_type": "stream",
     "text": [
      "10381\n",
      "10381\n"
     ]
    }
   ],
   "source": [
    "print(len(lon15))\n",
    "print(len(lat15))"
   ]
  },
  {
   "cell_type": "code",
   "execution_count": 31,
   "metadata": {},
   "outputs": [],
   "source": [
    "lon14 = []\n",
    "lat14 = []\n",
    "\n",
    "for x,y in zip(df_14_tipo['Coordenada_UTM_X'],df_14_tipo['Coordenada_UTM_Y']):\n",
    "    lon,lat = p(x,y, inverse = True)\n",
    "    lon14.append(lon)\n",
    "    lat14.append(lat)"
   ]
  },
  {
   "cell_type": "code",
   "execution_count": 32,
   "metadata": {},
   "outputs": [
    {
     "name": "stdout",
     "output_type": "stream",
     "text": [
      "10139\n",
      "10139\n"
     ]
    }
   ],
   "source": [
    "print(len(lon14))\n",
    "print(len(lat14))"
   ]
  },
  {
   "cell_type": "code",
   "execution_count": 33,
   "metadata": {},
   "outputs": [],
   "source": [
    "df_15_tipo['Longitud'] = lon15\n",
    "df_15_tipo['Latitud'] = lat15\n",
    "\n",
    "df_14_tipo['Longitud'] = lon14\n",
    "df_14_tipo['Latitud'] = lat14"
   ]
  },
  {
   "cell_type": "code",
   "execution_count": 34,
   "metadata": {},
   "outputs": [
    {
     "name": "stdout",
     "output_type": "stream",
     "text": [
      "(10536, 22)\n",
      "(10551, 22)\n",
      "(11009, 22)\n",
      "(10701, 22)\n",
      "(10381, 22)\n",
      "(10139, 22)\n"
     ]
    }
   ],
   "source": [
    "print(df_19_tipo.shape)\n",
    "print(df_18_tipo.shape)\n",
    "print(df_17_tipo.shape)\n",
    "print(df_16_tipo.shape)\n",
    "print(df_15_tipo.shape)\n",
    "print(df_14_tipo.shape)"
   ]
  },
  {
   "cell_type": "code",
   "execution_count": 35,
   "metadata": {},
   "outputs": [],
   "source": [
    "#df_tipo = pd.concat([df_19_tipo, df_18_tipo, df_17_tipo, df_16_tipo, df_15_tipo, df_14_tipo], axis = 0, ignore_index = True)\n",
    "#df_tipo.shape"
   ]
  },
  {
   "cell_type": "code",
   "execution_count": null,
   "metadata": {},
   "outputs": [],
   "source": []
  },
  {
   "cell_type": "code",
   "execution_count": null,
   "metadata": {},
   "outputs": [],
   "source": []
  },
  {
   "cell_type": "code",
   "execution_count": null,
   "metadata": {},
   "outputs": [],
   "source": []
  },
  {
   "cell_type": "code",
   "execution_count": 36,
   "metadata": {},
   "outputs": [],
   "source": [
    "df_vehicle_19 = pd.read_csv('C:/Users/David Sagrario/Bootcamp Data Science/FINAL_PROJECT/acc_vehiculos/2019_accidents_vehicles_gu_bcn_.csv')\n",
    "df_user_19 = pd.read_csv('C:/Users/David Sagrario/Bootcamp Data Science/FINAL_PROJECT/acc_personas/2019_accidents_persones_gu_bcn_.csv')\n",
    "df_causa_19 = pd.read_csv('C:/Users/David Sagrario/Bootcamp Data Science/FINAL_PROJECT/acc_causa/2019_accidents_causes_gu_bcn_.csv')\n",
    "df_acc_19 = pd.read_csv('C:/Users/David Sagrario/Bootcamp Data Science/FINAL_PROJECT/acc_general/2019_accidents_gu_bcn.csv')"
   ]
  },
  {
   "cell_type": "code",
   "execution_count": 37,
   "metadata": {},
   "outputs": [],
   "source": [
    "df_vehicle_19 = df_vehicle_19.replace('Desconegut', np.nan)\n",
    "df_user_19 = df_user_19.replace('Desconegut', np.nan)\n",
    "df_causa_19 = df_causa_19.replace('Desconegut', np.nan)\n",
    "df_acc_19 = df_acc_19.replace('Desconegut', np.nan)"
   ]
  },
  {
   "cell_type": "code",
   "execution_count": 38,
   "metadata": {},
   "outputs": [
    {
     "name": "stdout",
     "output_type": "stream",
     "text": [
      "Index(['Codi_expedient', 'Codi_districte', 'Nom_districte', 'Codi_barri',\n",
      "       'Nom_barri', 'Codi_carrer', 'Nom_carrer', 'Num_postal', 'Dia_setmana',\n",
      "       'ID_Dia_setmana', 'Tipus_dia', 'Any', 'Mes', 'Nom_mes', 'Dia_de_mes',\n",
      "       'Hora_de_dia', 'Torn', 'Tipus_accident', 'Coordenada_UTM_X',\n",
      "       'Coordenada_UTM_Y', 'Longitud', 'Latitud'],\n",
      "      dtype='object')\n"
     ]
    }
   ],
   "source": [
    "print(df_19_tipo.columns)"
   ]
  },
  {
   "cell_type": "code",
   "execution_count": 39,
   "metadata": {},
   "outputs": [
    {
     "name": "stdout",
     "output_type": "stream",
     "text": [
      "Index(['Numero_expedient', 'Codi_districte', 'Nom_districte', 'Codi_barri',\n",
      "       'Nom_barri', 'Codi_carrer', 'Nom_carrer', 'Num_postal',\n",
      "       'Descripcio_dia_setmana', 'Dia_setmana', 'Descripcio_tipus_dia',\n",
      "       'NK_Any', 'Mes_any', 'Nom_mes', 'Dia_mes', 'Hora_dia',\n",
      "       'Descripcio_torn', 'Descripcio_causa_vianant',\n",
      "       'Descripcio_tipus_vehicle', 'Descripcio_model', 'Descripcio_marca',\n",
      "       'Descripcio_color', 'Descripcio_carnet', 'Antiguitat_carnet',\n",
      "       'Coordenada_UTM_X', 'Coordenada_UTM_Y', 'Longitud', 'Latitud'],\n",
      "      dtype='object')\n",
      "Index(['Numero_Expedient', 'Codi_districte', 'Nom_districte', 'Codi_barri',\n",
      "       'Nom_barri', 'Codi_carrer', 'Num_postal', 'Num_postal.1',\n",
      "       'Descripcio_dia_setmana', 'Dia_setmana', 'Descripcio_tipus_dia',\n",
      "       'NK_ Any', 'Mes_ any', 'Nom_mes', 'Dia_mes', 'Descripcio_torn',\n",
      "       'Hora_dia', 'Descripcio_causa_vianant', 'Desc_Tipus_vehicle_implicat',\n",
      "       'Descripcio_sexe', 'Edat', 'Descripcio_tipus_persona',\n",
      "       'Descripcio_Lloc_atropellament_vianat',\n",
      "       'Descripcio_Motiu_desplaçament_vianant',\n",
      "       'Descripcio_Motiu_desplaçament_conductor', 'Descripcio_victimitzacio',\n",
      "       'Coordenada_UTM_X', 'Coordenada_UTM_Y', 'Longitud', 'Latitud'],\n",
      "      dtype='object')\n",
      "Index(['Numero_expedient', 'Codi_districte', 'Nom_districte', 'Codi_barri',\n",
      "       'Nom_barri', 'Codi_carrer', 'Nom_carrer', 'Num_postal ',\n",
      "       'Descripcio_dia_setmana', 'Dia_setmana', 'Descripcio_tipus_dia',\n",
      "       'NK_Any', 'Mes_any', 'Nom_mes', 'Dia_mes', 'Hora_dia',\n",
      "       'Descripcio_torn', 'Descripcio_causa_mediata', 'Coordenada_UTM_X',\n",
      "       'Coordenada_UTM_Y', 'Longitud', 'Latitud'],\n",
      "      dtype='object')\n",
      "Index(['Numero_expedient', 'Codi_districte', 'Nom_districte', 'Codi_barri',\n",
      "       'Nom_barri', 'Codi_carrer', 'Nom_carrer', 'Num_postal_caption',\n",
      "       'Descripcio_dia_setmana', 'Dia_setmana', 'Descripcio_tipus_dia',\n",
      "       'NK_Any', 'Mes_any', 'Nom_mes', 'Dia_mes', 'Hora_dia',\n",
      "       'Descripcio_torn', 'Descripcio_causa_vianant', 'Numero_morts',\n",
      "       'Numero_lesionats_lleus', 'Numero_lesionats_greus', 'Numero_victimes',\n",
      "       'Numero_vehicles_implicats', 'Coordenada_UTM_X', 'Coordenada_UTM_Y',\n",
      "       'Longitud', 'Latitud'],\n",
      "      dtype='object')\n"
     ]
    }
   ],
   "source": [
    "print(df_vehicle_19.columns)\n",
    "print(df_user_19.columns)\n",
    "print(df_causa_19.columns)\n",
    "print(df_acc_19.columns)"
   ]
  },
  {
   "cell_type": "code",
   "execution_count": 40,
   "metadata": {},
   "outputs": [],
   "source": [
    "#['Codi_expedient', 'Codi_districte', 'Nom_districte', 'Codi_barri',\n",
    "#       'Nom_barri', 'Codi_carrer', 'Nom_carrer', 'Num_postal', 'Dia_setmana',\n",
    "#       'ID_Dia_setmana', 'Tipus_dia', 'Any', 'Mes', 'Nom_mes', 'Dia_de_mes',\n",
    "#       'Hora_de_dia', 'Torn', 'Tipus_accident', 'Coordenada_UTM_X',\n",
    "#       'Coordenada_UTM_Y', 'Longitud', 'Latitud']"
   ]
  },
  {
   "cell_type": "code",
   "execution_count": 41,
   "metadata": {},
   "outputs": [],
   "source": [
    "df_acc_19.rename(columns = {'Numero_expedient': 'Codi_expedient', 'Num_postal_caption': 'Num_postal',\n",
    "       'Descripcio_dia_setmana': 'Dia_setmana', 'Dia_setmana': 'ID_Dia_setmana', 'Descripcio_tipus_dia': 'Tipus_dia',\n",
    "       'NK_Any': 'Any', 'Mes_any': 'Mes', 'Dia_mes': 'Dia_de_mes', 'Hora_dia': 'Hora_de_dia', 'Descripcio_torn': 'Torn'}, inplace = True)\n",
    "df_causa_19.rename(columns = {'Num_postal ': 'Num_postal', 'Numero_expedient': 'Codi_expedient', 'Descripcio_dia_setmana': 'Dia_setmana', 'Dia_setmana': 'ID_Dia_setmana', 'Descripcio_tipus_dia': 'Tipus_dia',\n",
    "       'NK_Any': 'Any', 'Mes_any': 'Mes', 'Dia_mes': 'Dia_de_mes', 'Hora_dia': 'Hora_de_dia', 'Descripcio_torn': 'Torn',\n",
    "       'Descripcio_causa_mediata': 'Causa_mediata'}, inplace = True)\n",
    "df_user_19.rename(columns = {'Num_postal ': 'Num_postal', 'Numero_Expedient': 'Codi_expedient', 'Descripcio_dia_setmana': 'Dia_setmana', 'Dia_setmana': 'ID_Dia_setmana', 'Descripcio_tipus_dia': 'Tipus_dia',\n",
    "       'NK_ Any': 'Any', 'Mes_ any': 'Mes', 'Dia_mes': 'Dia_de_mes', 'Hora_dia': 'Hora_de_dia', 'Descripcio_torn': 'Torn'}, inplace = True)\n",
    "df_vehicle_19.rename(columns = {'Numero_expedient': 'Codi_expedient', 'Num_postal_caption': 'Num_postal',\n",
    "       'Descripcio_dia_setmana': 'Dia_setmana', 'Dia_setmana': 'ID_Dia_setmana', 'Descripcio_tipus_dia': 'Tipus_dia',\n",
    "       'NK_Any': 'Any', 'Mes_any': 'Mes', 'Dia_mes': 'Dia_de_mes', 'Hora_dia': 'Hora_de_dia', 'Descripcio_torn': 'Torn',\n",
    "       'Descripcio_tipus_accident': 'Tipus_accident'}, inplace = True)"
   ]
  },
  {
   "cell_type": "code",
   "execution_count": null,
   "metadata": {},
   "outputs": [],
   "source": []
  },
  {
   "cell_type": "code",
   "execution_count": null,
   "metadata": {},
   "outputs": [],
   "source": []
  },
  {
   "cell_type": "code",
   "execution_count": null,
   "metadata": {},
   "outputs": [],
   "source": []
  },
  {
   "cell_type": "code",
   "execution_count": 42,
   "metadata": {},
   "outputs": [],
   "source": [
    "df_vehicle_18 = pd.read_csv('C:/Users/David Sagrario/Bootcamp Data Science/FINAL_PROJECT/acc_vehiculos/2018_accidents_vehicles_gu_bcn_.csv')\n",
    "df_vehicle_17 = pd.read_excel('C:/Users/David Sagrario/Bootcamp Data Science/FINAL_PROJECT/acc_vehiculos/2017_accidents_vehicles_gu_bcn_.xlsx')\n",
    "df_vehicle_16 = pd.read_excel('C:/Users/David Sagrario/Bootcamp Data Science/FINAL_PROJECT/acc_vehiculos/2016_accidents_vehicles_gu_bcn_.xlsx')\n",
    "df_vehicle_15 = pd.read_excel('C:/Users/David Sagrario/Bootcamp Data Science/FINAL_PROJECT/acc_vehiculos/2015_accidents_vehicles_gu_bcn_.xlsx')\n",
    "df_vehicle_14 = pd.read_excel('C:/Users/David Sagrario/Bootcamp Data Science/FINAL_PROJECT/acc_vehiculos/2014_accidents_vehicles_gu_bcn_.xlsx')"
   ]
  },
  {
   "cell_type": "code",
   "execution_count": 43,
   "metadata": {},
   "outputs": [],
   "source": [
    "df_vehicle_18 = df_vehicle_18.replace('Desconegut', np.nan)\n",
    "df_vehicle_17 = df_vehicle_17.replace('Desconegut', np.nan)\n",
    "df_vehicle_16 = df_vehicle_16.replace('Desconegut', np.nan)\n",
    "df_vehicle_15 = df_vehicle_15.replace('Desconegut', np.nan)\n",
    "df_vehicle_14 = df_vehicle_14.replace('Desconegut', np.nan)"
   ]
  },
  {
   "cell_type": "code",
   "execution_count": 44,
   "metadata": {},
   "outputs": [
    {
     "name": "stdout",
     "output_type": "stream",
     "text": [
      "Index(['Codi_expedient', 'Codi_districte', 'Nom_districte', 'Codi_barri',\n",
      "       'Nom_barri', 'Codi_carrer', 'Nom_carrer', 'Num_postal', 'Dia_setmana',\n",
      "       'ID_Dia_setmana', 'Tipus_dia', 'Any', 'Mes', 'Nom_mes', 'Dia_de_mes',\n",
      "       'Hora_de_dia', 'Torn', 'Descripcio_causa_vianant',\n",
      "       'Descripcio_tipus_vehicle', 'Descripcio_model', 'Descripcio_marca',\n",
      "       'Descripcio_color', 'Descripcio_carnet', 'Antiguitat_carnet',\n",
      "       'Coordenada_UTM_X', 'Coordenada_UTM_Y', 'Longitud', 'Latitud'],\n",
      "      dtype='object')\n"
     ]
    }
   ],
   "source": [
    "print(df_vehicle_19.columns)"
   ]
  },
  {
   "cell_type": "code",
   "execution_count": 45,
   "metadata": {},
   "outputs": [
    {
     "name": "stdout",
     "output_type": "stream",
     "text": [
      "Index(['Codi_expedient', 'Codi_districte', 'Nom_districte', 'Codi_barri',\n",
      "       'Nom_barri', 'Codi_carrer', 'Nom_carrer', 'Num_postal ',\n",
      "       'Descripcio_dia_setmana', 'Dia_setmana', 'Descripcio_tipus_dia', 'Any',\n",
      "       'Mes_any', 'Nom_mes', 'Dia_mes', 'Hora_dia', 'Descripcio_torn',\n",
      "       'Descripcio_causa_vianant', 'Descripcio_tipus_vehicle',\n",
      "       'Descripcio_model', 'Descripcio_marca', 'Descripcio_color',\n",
      "       'Descripcio_carnet', 'Antiguitat_carnet', 'Coordenada_UTM_X',\n",
      "       'Coordenada_UTM_Y', 'Longitud', 'Latitud'],\n",
      "      dtype='object')\n",
      "Index(['Codi d_expedient', 'Codi districte', 'Nom districte', 'Codi barri',\n",
      "       'Nom barri', 'Codi carrer', 'Nom carrer', 'Num postal caption',\n",
      "       'Descripció dia setmana', 'Dia setmana', 'Descripció tipus dia',\n",
      "       'NK Any', 'Mes de any', 'Nom mes', 'Dia de mes', 'Hora de dia',\n",
      "       'Descripció causa vianant', 'Descripció tipus de vehicle',\n",
      "       'Descripció model', 'Descripció marca', 'Descripció color',\n",
      "       'Descripció carnet', 'Antiguitat carnet', 'Coordenada UTM (X)',\n",
      "       'Coordenada UTM (Y)', 'Longitud', 'Latitud'],\n",
      "      dtype='object')\n",
      "Index(['Codi d_expedient', 'Codi districte', 'Nom districte', 'Codi barri',\n",
      "       'Nom barri', 'Codi carrer', 'Nom carrer', 'Num postal caption',\n",
      "       'Descripció dia setmana', 'Dia setmana', 'Descripció tipus dia',\n",
      "       'NK Any', 'Mes de any', 'Nom mes', 'Dia de mes', 'Hora de dia',\n",
      "       'Descripció causa vianant', 'Descripció tipus de vehicle',\n",
      "       'Descripció model', 'Descripció marca', 'Descripció color',\n",
      "       'Descripció carnet', 'Antiguitat carnet', 'Coordenada UTM (X)',\n",
      "       'Coordenada UTM (Y)', 'Unnamed: 25', 'Unnamed: 26'],\n",
      "      dtype='object')\n",
      "Index(['Codi d expedient', 'Codi districte', 'Nom districte', 'Codi barri',\n",
      "       'Nom barri', 'Codi carrer', 'Nom carrer', 'Num postal caption',\n",
      "       'Descripció dia setmana', 'Dia setmana', 'Descripció tipus dia',\n",
      "       'NK Any', 'Mes de any', 'Nom mes', 'Dia de mes', 'Hora de dia',\n",
      "       'Descripció causa vianant', 'Descripció tipus de vehicle',\n",
      "       'Descripció model', 'Descripció marca', 'Descripció color',\n",
      "       'Descripció carnet', 'Antiguitat carnet', 'Coordenada UTM (Y)',\n",
      "       'Coordenada UTM (X)'],\n",
      "      dtype='object')\n",
      "Index(['Codi d expedient', 'Codi districte', 'Nom districte', 'Codi barri',\n",
      "       'Nom barri', 'Codi carrer', 'Nom carrer', 'Num postal caption',\n",
      "       'Descripció dia setmana', 'Dia setmana', 'Descripció tipus dia',\n",
      "       'NK Any', 'Mes de any', 'Nom mes', 'Dia de mes', 'Hora de dia',\n",
      "       'Descripció causa vianant', 'Descripció tipus de vehicle',\n",
      "       'Descripció model', 'Descripció marca', 'Descripció color',\n",
      "       'Descripció carnet', 'Antiguitat carnet', 'Coordenada UTM (Y)',\n",
      "       'Coordenada UTM (X)'],\n",
      "      dtype='object')\n"
     ]
    }
   ],
   "source": [
    "print(df_vehicle_18.columns)\n",
    "print(df_vehicle_17.columns)\n",
    "print(df_vehicle_16.columns)\n",
    "print(df_vehicle_15.columns)\n",
    "print(df_vehicle_14.columns)"
   ]
  },
  {
   "cell_type": "code",
   "execution_count": 46,
   "metadata": {},
   "outputs": [],
   "source": [
    "df_vehicle_18.rename(columns = {'Num_postal ': 'Num_postal', 'Descripcio_dia_setmana': 'Dia_setmana', 'Dia_setmana':'ID_Dia_setmana', 'Descripcio_tipus_dia':'Tipus_dia',\n",
    "       'Mes_any':'Mes', 'Dia_mes':'Dia_de_mes', 'Hora_dia':'Hora_de_dia', 'Descripcio_torn':'Torn'}, inplace = True)\n",
    "                       \n",
    "df_vehicle_17.rename(columns = {'Codi d_expedient': 'Codi_expedient', 'Codi districte': 'Codi_districte', 'Nom districte': 'Nom_districte', 'Codi barri': 'Codi_barri',\n",
    "       'Nom barri': 'Nom_barri', 'Codi carrer': 'Codi_carrer', 'Nom carrer':'Nom_carrer', 'Num postal caption': 'Num_postal',\n",
    "       'Descripció dia setmana': 'Dia_setmana', 'Dia setmana':'ID_Dia_setmana', 'Descripció tipus dia':'Tipus_dia',\n",
    "       'NK Any':'Any', 'Mes de any':'Mes', 'Nom mes':'Nom_mes', 'Dia de mes':'Dia_de_mes', 'Hora de dia':'Hora_de_dia',\n",
    "       'Descripció causa vianant':'Descripcio_causa_vianant', 'Descripció tipus de vehicle':'Descripcio_tipus_vehicle',\n",
    "       'Descripció model':'Descripcio_model', 'Descripció marca':'Descripcio_marca', 'Descripció color':'Descripcio_color',\n",
    "       'Descripció carnet':'Descripcio_carnet', 'Antiguitat carnet':'Antiguitat_carnet', 'Coordenada UTM (X)':'Coordenada_UTM_X',\n",
    "       'Coordenada UTM (Y)':'Coordenada_UTM_Y'}, inplace = True)\n",
    "                       \n",
    "df_vehicle_16.rename(columns = {'Codi d_expedient': 'Codi_expedient', 'Codi districte': 'Codi_districte', 'Nom districte': 'Nom_districte', 'Codi barri': 'Codi_barri',\n",
    "       'Nom barri': 'Nom_barri', 'Codi carrer': 'Codi_carrer', 'Nom carrer':'Nom_carrer', 'Num postal caption': 'Num_postal',\n",
    "       'Descripció dia setmana': 'Dia_setmana', 'Dia setmana':'ID_Dia_setmana', 'Descripció tipus dia':'Tipus_dia',\n",
    "       'NK Any':'Any', 'Mes de any':'Mes', 'Nom mes':'Nom_mes', 'Dia de mes':'Dia_de_mes', 'Hora de dia':'Hora_de_dia',\n",
    "       'Descripció causa vianant':'Descripcio_causa_vianant', 'Descripció tipus de vehicle':'Descripcio_tipus_vehicle',\n",
    "       'Descripció model':'Descripcio_model', 'Descripció marca':'Descripcio_marca', 'Descripció color':'Descripcio_color',\n",
    "       'Descripció carnet':'Descripcio_carnet', 'Antiguitat carnet':'Antiguitat_carnet', 'Coordenada UTM (X)':'Coordenada_UTM_X',\n",
    "       'Coordenada UTM (Y)':'Coordenada_UTM_Y', 'Unnamed: 25': 'Longitud', 'Unnamed: 26': 'Latitud'}, inplace = True)\n",
    "                       \n",
    "df_vehicle_15.rename(columns = {'Codi d expedient': 'Codi_expedient', 'Codi districte': 'Codi_districte', 'Nom districte': 'Nom_districte', 'Codi barri': 'Codi_barri',\n",
    "       'Nom barri': 'Nom_barri', 'Codi carrer': 'Codi_carrer', 'Nom carrer':'Nom_carrer', 'Num postal caption': 'Num_postal',\n",
    "       'Descripció dia setmana': 'Dia_setmana', 'Dia setmana':'ID_Dia_setmana', 'Descripció tipus dia':'Tipus_dia',\n",
    "       'NK Any':'Any', 'Mes de any':'Mes', 'Nom mes':'Nom_mes', 'Dia de mes':'Dia_de_mes', 'Hora de dia':'Hora_de_dia',\n",
    "       'Descripció causa vianant':'Descripcio_causa_vianant', 'Descripció tipus de vehicle':'Descripcio_tipus_vehicle',\n",
    "       'Descripció model':'Descripcio_model', 'Descripció marca':'Descripcio_marca', 'Descripció color':'Descripcio_color',\n",
    "       'Descripció carnet':'Descripcio_carnet', 'Antiguitat carnet':'Antiguitat_carnet', 'Coordenada UTM (Y)':'Coordenada_UTM_Y',\n",
    "       'Coordenada UTM (X)':'Coordenada_UTM_X'}, inplace = True)\n",
    "                       \n",
    "df_vehicle_14.rename(columns = {'Codi d expedient': 'Codi_expedient', 'Codi districte': 'Codi_districte', 'Nom districte': 'Nom_districte', 'Codi barri': 'Codi_barri',\n",
    "       'Nom barri': 'Nom_barri', 'Codi carrer': 'Codi_carrer', 'Nom carrer':'Nom_carrer', 'Num postal caption': 'Num_postal',\n",
    "       'Descripció dia setmana': 'Dia_setmana', 'Dia setmana':'ID_Dia_setmana', 'Descripció tipus dia':'Tipus_dia',\n",
    "       'NK Any':'Any', 'Mes de any':'Mes', 'Nom mes':'Nom_mes', 'Dia de mes':'Dia_de_mes', 'Hora de dia':'Hora_de_dia',\n",
    "       'Descripció causa vianant':'Descripcio_causa_vianant', 'Descripció tipus de vehicle':'Descripcio_tipus_vehicle',\n",
    "       'Descripció model':'Descripcio_model', 'Descripció marca':'Descripcio_marca', 'Descripció color':'Descripcio_color',\n",
    "       'Descripció carnet':'Descripcio_carnet', 'Antiguitat carnet':'Antiguitat_carnet', 'Coordenada UTM (Y)':'Coordenada_UTM_Y',\n",
    "       'Coordenada UTM (X)':'Coordenada_UTM_X'}, inplace = True)"
   ]
  },
  {
   "cell_type": "code",
   "execution_count": 47,
   "metadata": {},
   "outputs": [
    {
     "name": "stdout",
     "output_type": "stream",
     "text": [
      "(19037, 28)\n",
      "(19079, 28)\n",
      "(19795, 27)\n",
      "(19410, 27)\n",
      "(19237, 25)\n",
      "(18604, 25)\n"
     ]
    }
   ],
   "source": [
    "print(df_vehicle_19.shape)\n",
    "print(df_vehicle_18.shape)\n",
    "print(df_vehicle_17.shape)\n",
    "print(df_vehicle_16.shape)\n",
    "print(df_vehicle_15.shape)\n",
    "print(df_vehicle_14.shape)"
   ]
  },
  {
   "cell_type": "code",
   "execution_count": 48,
   "metadata": {},
   "outputs": [],
   "source": [
    "#Matí = [ 6,  7,  8,  9, 10, 11, 12, 13]\n",
    "#Tarda = [14, 15, 16, 17, 18, 19, 20, 21]\n",
    "#Nit = [ 0,  1,  2,  3,  4,  5, 22, 23]"
   ]
  },
  {
   "cell_type": "code",
   "execution_count": 49,
   "metadata": {},
   "outputs": [],
   "source": [
    "Torn = []\n",
    "\n",
    "for i in df_vehicle_17['Hora_de_dia']:\n",
    "    if i >5 and i<14:\n",
    "        Torn.append('Matí')\n",
    "    elif i >13 and i<22:\n",
    "        Torn.append('Tarda')\n",
    "    elif i >= 0 and i <6 or i == 22 or i == 23:\n",
    "        Torn.append('Nit')\n",
    "    else:\n",
    "        Torn.append(np.nan)\n",
    "\n",
    "df_vehicle_17.insert(16, 'Torn', Torn)"
   ]
  },
  {
   "cell_type": "code",
   "execution_count": 50,
   "metadata": {},
   "outputs": [],
   "source": [
    "Torn = []\n",
    "\n",
    "for i in df_vehicle_16['Hora_de_dia']:\n",
    "    if i >5 and i<14:\n",
    "        Torn.append('Matí')\n",
    "    elif i >13 and i<22:\n",
    "        Torn.append('Tarda')\n",
    "    elif i >= 0 and i <6 or i == 22 or i == 23:\n",
    "        Torn.append('Nit')\n",
    "    else:\n",
    "        Torn.append(np.nan)\n",
    "\n",
    "df_vehicle_16.insert(16, 'Torn', Torn)"
   ]
  },
  {
   "cell_type": "code",
   "execution_count": 51,
   "metadata": {},
   "outputs": [],
   "source": [
    "df_vehicle_14['Coordenada_UTM_X'] = df_vehicle_14['Coordenada_UTM_X'].str.replace(',', '.')\n",
    "df_vehicle_14['Coordenada_UTM_Y'] = df_vehicle_14['Coordenada_UTM_Y'].str.replace(',', '.')\n",
    "\n",
    "df_vehicle_15['Coordenada_UTM_X'] = df_vehicle_15['Coordenada_UTM_X'].str.replace(',', '.')\n",
    "df_vehicle_15['Coordenada_UTM_Y'] = df_vehicle_15['Coordenada_UTM_Y'].str.replace(',', '.')"
   ]
  },
  {
   "cell_type": "code",
   "execution_count": 52,
   "metadata": {},
   "outputs": [],
   "source": [
    "lon15 = []\n",
    "lat15 = []\n",
    "\n",
    "p = Proj(proj='utm',zone=31,ellps='GRS80')\n",
    "\n",
    "for x,y in zip(df_vehicle_15['Coordenada_UTM_X'],df_vehicle_15['Coordenada_UTM_Y']):\n",
    "    lon,lat = p(x,y, inverse = True)\n",
    "    lon15.append(lon)\n",
    "    lat15.append(lat)"
   ]
  },
  {
   "cell_type": "code",
   "execution_count": 53,
   "metadata": {},
   "outputs": [
    {
     "name": "stdout",
     "output_type": "stream",
     "text": [
      "19237\n",
      "19237\n"
     ]
    }
   ],
   "source": [
    "print(len(lon15))\n",
    "print(len(lat15))"
   ]
  },
  {
   "cell_type": "code",
   "execution_count": 54,
   "metadata": {},
   "outputs": [],
   "source": [
    "lon14 = []\n",
    "lat14 = []\n",
    "\n",
    "for x,y in zip(df_vehicle_14['Coordenada_UTM_X'],df_vehicle_14['Coordenada_UTM_Y']):\n",
    "    lon,lat = p(x,y, inverse = True)\n",
    "    lon14.append(lon)\n",
    "    lat14.append(lat)"
   ]
  },
  {
   "cell_type": "code",
   "execution_count": 55,
   "metadata": {},
   "outputs": [
    {
     "name": "stdout",
     "output_type": "stream",
     "text": [
      "18604\n",
      "18604\n"
     ]
    }
   ],
   "source": [
    "print(len(lon14))\n",
    "print(len(lat14))"
   ]
  },
  {
   "cell_type": "code",
   "execution_count": 56,
   "metadata": {},
   "outputs": [],
   "source": [
    "df_vehicle_15['Longitud'] = lon15\n",
    "df_vehicle_15['Latitud'] = lat15\n",
    "\n",
    "df_vehicle_14['Longitud'] = lon14\n",
    "df_vehicle_14['Latitud'] = lat14"
   ]
  },
  {
   "cell_type": "code",
   "execution_count": 57,
   "metadata": {},
   "outputs": [],
   "source": [
    "Torn = []\n",
    "\n",
    "for i in df_vehicle_15['Hora_de_dia']:\n",
    "    if i >5 and i<14:\n",
    "        Torn.append('Matí')\n",
    "    elif i >13 and i<22:\n",
    "        Torn.append('Tarda')\n",
    "    elif i >= 0 and i <6 or i == 22 or i == 23:\n",
    "        Torn.append('Nit')\n",
    "    else:\n",
    "        Torn.append(np.nan)\n",
    "\n",
    "df_vehicle_15.insert(16, 'Torn', Torn)"
   ]
  },
  {
   "cell_type": "code",
   "execution_count": 58,
   "metadata": {},
   "outputs": [],
   "source": [
    "Torn = []\n",
    "\n",
    "for i in df_vehicle_14['Hora_de_dia']:\n",
    "    if i >5 and i<14:\n",
    "        Torn.append('Matí')\n",
    "    elif i >13 and i<22:\n",
    "        Torn.append('Tarda')\n",
    "    elif i >= 0 and i <6 or i == 22 or i == 23:\n",
    "        Torn.append('Nit')\n",
    "    else:\n",
    "        Torn.append(np.nan)\n",
    "\n",
    "df_vehicle_14.insert(16, 'Torn', Torn)"
   ]
  },
  {
   "cell_type": "code",
   "execution_count": 59,
   "metadata": {},
   "outputs": [
    {
     "name": "stdout",
     "output_type": "stream",
     "text": [
      "(19037, 28)\n",
      "(19079, 28)\n",
      "(19795, 28)\n",
      "(19410, 28)\n",
      "(19237, 28)\n",
      "(18604, 28)\n"
     ]
    }
   ],
   "source": [
    "print(df_vehicle_19.shape)\n",
    "print(df_vehicle_18.shape)\n",
    "print(df_vehicle_17.shape)\n",
    "print(df_vehicle_16.shape)\n",
    "print(df_vehicle_15.shape)\n",
    "print(df_vehicle_14.shape)"
   ]
  },
  {
   "cell_type": "code",
   "execution_count": 60,
   "metadata": {},
   "outputs": [],
   "source": [
    "#df_vehicle = pd.concat([df_vehicle_19, df_vehicle_18, df_vehicle_17, df_vehicle_16, df_vehicle_15, df_vehicle_14], axis = 0, ignore_index = True)\n",
    "#df_vehicle.shape"
   ]
  },
  {
   "cell_type": "code",
   "execution_count": null,
   "metadata": {},
   "outputs": [],
   "source": []
  },
  {
   "cell_type": "code",
   "execution_count": null,
   "metadata": {},
   "outputs": [],
   "source": []
  },
  {
   "cell_type": "code",
   "execution_count": null,
   "metadata": {},
   "outputs": [],
   "source": []
  },
  {
   "cell_type": "code",
   "execution_count": 61,
   "metadata": {},
   "outputs": [],
   "source": [
    "df_user_18 = pd.read_csv('C:/Users/David Sagrario/Bootcamp Data Science/FINAL_PROJECT/acc_personas/2018_accidents_persones_gu_bcn_.csv')\n",
    "df_user_17 = pd.read_excel('C:/Users/David Sagrario/Bootcamp Data Science/FINAL_PROJECT/acc_personas/2017_accidents_persones_gu_bcn_.xlsx')\n",
    "df_user_16 = pd.read_excel('C:/Users/David Sagrario/Bootcamp Data Science/FINAL_PROJECT/acc_personas/2016_accidents_persones_gu_bcn_.xlsx')\n",
    "df_user_15 = pd.read_excel('C:/Users/David Sagrario/Bootcamp Data Science/FINAL_PROJECT/acc_personas/2015_accidents_persones_gu_bcn_.xlsx')\n",
    "df_user_14 = pd.read_excel('C:/Users/David Sagrario/Bootcamp Data Science/FINAL_PROJECT/acc_personas/2014_accidents_persones_gu_bcn_.xlsx')"
   ]
  },
  {
   "cell_type": "code",
   "execution_count": 62,
   "metadata": {},
   "outputs": [],
   "source": [
    "df_user_18 = df_user_18.replace('Desconegut', np.nan)\n",
    "df_user_17 = df_user_17.replace('Desconegut', np.nan)\n",
    "df_user_16 = df_user_16.replace('Desconegut', np.nan)\n",
    "df_user_15 = df_user_15.replace('Desconegut', np.nan)\n",
    "df_user_14 = df_user_14.replace('Desconegut', np.nan)"
   ]
  },
  {
   "cell_type": "code",
   "execution_count": 63,
   "metadata": {},
   "outputs": [
    {
     "name": "stdout",
     "output_type": "stream",
     "text": [
      "Index(['Codi_expedient', 'Codi_districte', 'Nom_districte', 'Codi_barri',\n",
      "       'Nom_barri', 'Codi_carrer', 'Num_postal', 'Num_postal.1', 'Dia_setmana',\n",
      "       'ID_Dia_setmana', 'Tipus_dia', 'Any', 'Mes', 'Nom_mes', 'Dia_de_mes',\n",
      "       'Torn', 'Hora_de_dia', 'Descripcio_causa_vianant',\n",
      "       'Desc_Tipus_vehicle_implicat', 'Descripcio_sexe', 'Edat',\n",
      "       'Descripcio_tipus_persona', 'Descripcio_Lloc_atropellament_vianat',\n",
      "       'Descripcio_Motiu_desplaçament_vianant',\n",
      "       'Descripcio_Motiu_desplaçament_conductor', 'Descripcio_victimitzacio',\n",
      "       'Coordenada_UTM_X', 'Coordenada_UTM_Y', 'Longitud', 'Latitud'],\n",
      "      dtype='object')\n"
     ]
    }
   ],
   "source": [
    "print(df_user_19.columns)"
   ]
  },
  {
   "cell_type": "code",
   "execution_count": 64,
   "metadata": {},
   "outputs": [
    {
     "name": "stdout",
     "output_type": "stream",
     "text": [
      "Index(['Numero_expedient', 'Codi_districte', 'Nom_districte', 'Codi_barri',\n",
      "       'Nom_barri', 'Codi_carrer', 'Nom_carrer', 'Num_postal ',\n",
      "       'Descripcio_dia_setmana', 'Dia_setmana', 'Descripcio_tipus_dia', 'Any',\n",
      "       'Mes_ any', 'Nom_mes', 'Dia_mes', 'Descripcio_torn', 'Hora_dia',\n",
      "       'Descripcio_causa_vianant', 'Desc_Tipus_vehicle_implicat',\n",
      "       'Descripcio_sexe', 'Edat', 'Descripcio_tipus_persona',\n",
      "       'Descripcio_situacio', 'Descripcio_victimitzacio', 'Coordenada_UTM_X',\n",
      "       'Coordenada_UTM_Y', 'Longitud', 'Latitud'],\n",
      "      dtype='object')\n",
      "Index(['Número_d_expedient', 'Codi_districte', 'Nom districte', 'Codi_barri',\n",
      "       'Nom_barri', 'Codi_carrer', 'Nom carrer', 'Num_postal ',\n",
      "       'Descripció_dia_setmana', 'Dia setmana', 'Descripció tipus dia',\n",
      "       'NK Any', 'Mes de any', 'Nom mes', 'Dia de mes', 'Descripció torn',\n",
      "       'Hora de dia', 'Descripció causa vianant',\n",
      "       'Desc._Tipus_vehicle_implicat', 'Descripció_sexe', 'Edat',\n",
      "       'Descripció_tipus_persona', 'Descripció_situació',\n",
      "       'Descripció_victimització', 'Coordenada_UTM_(X)', 'Coordenada_UTM_(Y)',\n",
      "       'Long', 'Lat'],\n",
      "      dtype='object')\n",
      "Index(['Número d_expedient', 'Codi districte', 'Nom districte', 'Codi barri',\n",
      "       'Nom barri', 'Codi carrer', 'Nom carrer', 'Num postal caption',\n",
      "       'Descripció dia setmana', 'Dia setmana', 'Descripció tipus dia',\n",
      "       'NK Any', 'Mes de any', 'Nom mes', 'Dia de mes', 'Descripció torn',\n",
      "       'Hora de dia', 'Descripció causa vianant',\n",
      "       'Desc. Tipus vehicle implicat', 'Descripció sexe', 'Edat',\n",
      "       'Descripció tipus persona', 'Descripció situació',\n",
      "       'Descripció victimització', 'Coordenada UTM (X)', 'Coordenada UTM (Y)',\n",
      "       'Long', 'Lat'],\n",
      "      dtype='object')\n",
      "Index(['Número d expedient', 'Codi districte', 'Nom districte', 'Codi barri',\n",
      "       'Nom barri', 'Codi carrer', 'Nom carrer', 'Num postal caption',\n",
      "       'Descripció dia setmana', 'Dia setmana', 'Descripció tipus dia',\n",
      "       'NK Any', 'Mes de any', 'Nom mes', 'Dia de mes', 'Hora de dia',\n",
      "       'Descripció causa vianant', 'Desc Tipus vehicle implicat',\n",
      "       'Descripció sexe', 'Descripció tipus persona', 'Edat',\n",
      "       'Descripció victimització', 'Coordenada UTM (Y)', 'Coordenada UTM (X)'],\n",
      "      dtype='object')\n",
      "Index(['Número d_expedient', 'Codi districte', 'Nom districte', 'Codi barri',\n",
      "       'Nom barri', 'Codi carrer', 'Nom carrer', 'Num postal caption',\n",
      "       'Descripció dia setmana', 'Dia setmana', 'Descripció tipus dia',\n",
      "       'NK Any', 'Mes de any', 'Nom mes', 'Dia de mes', 'Hora de dia',\n",
      "       'Descripció causa vianant', 'Desc. Tipus vehicle implicat',\n",
      "       'Descripció sexe', 'Descripció tipus persona', 'Edat',\n",
      "       'Descripció victimització', 'Coordenada UTM (Y)', 'Coordenada UTM (X)'],\n",
      "      dtype='object')\n"
     ]
    }
   ],
   "source": [
    "print(df_user_18.columns)\n",
    "print(df_user_17.columns)\n",
    "print(df_user_16.columns)\n",
    "print(df_user_15.columns)\n",
    "print(df_user_14.columns)"
   ]
  },
  {
   "cell_type": "code",
   "execution_count": 65,
   "metadata": {},
   "outputs": [],
   "source": [
    "df_user_18.rename(columns = {'Num_postal ': 'Num_postal', 'Numero_expedient': 'Codi_expedient', 'Descripcio_dia_setmana':'Dia_setmana', 'Dia_setmana':'ID_Dia_setmana', 'Descripcio_tipus_dia':'Tipus_dia',\n",
    "       'Mes_ any':'Mes', 'Dia_mes':'Dia_de_mes', 'Descripcio_torn':'Torn', 'Hora_dia':'Hora_de_dia'}, inplace = True)\n",
    "df_user_17.rename(columns = {'Nom carrer':'Nom_carrer','Num_postal ':'Num_postal', 'Número_d_expedient': 'Codi_expedient','Nom districte': 'Nom_districte',\n",
    "       'Descripció_dia_setmana':'Dia_setmana', 'Dia setmana':'ID_Dia_setmana', 'Descripció tipus dia':'Tipus_dia',\n",
    "       'NK Any':'Any', 'Mes de any':'Mes', 'Nom mes':'Nom_mes', 'Dia de mes':'Dia_de_mes', 'Descripció torn':'Torn',\n",
    "       'Hora de dia':'Hora_de_dia', 'Descripció causa vianant':'Descripcio_causa_vianant',\n",
    "       'Desc._Tipus_vehicle_implicat':'Desc_Tipus_vehicle_implicat', 'Descripció_sexe':'Descripcio_sexe',\n",
    "       'Descripció_tipus_persona':'Descripcio_tipus_persona', 'Descripció_situació':'Descripcio_situacio',\n",
    "       'Descripció_victimització':'Descripcio_victimitzacio', 'Coordenada_UTM_(X)':'Coordenada_UTM_X', 'Coordenada_UTM_(Y)':'Coordenada_UTM_Y',\n",
    "       'Long':'Longitud', 'Lat':'Latitud'}, inplace = True)\n",
    "df_user_16.rename(columns = {'Número d_expedient': 'Codi_expedient', 'Codi districte': 'Codi_districte', 'Nom districte': 'Nom_districte', 'Codi barri':'Codi_barri',\n",
    "       'Nom barri':'Nom_barri', 'Codi carrer':'Codi_carrer', 'Nom carrer':'Nom_carrer', 'Num postal caption':'Num_postal',\n",
    "       'Descripció dia setmana':'Dia_setmana', 'Dia setmana':'ID_Dia_setmana', 'Descripció tipus dia':'Tipus_dia',\n",
    "       'NK Any':'Any', 'Mes de any':'Mes', 'Nom mes':'Nom_mes', 'Dia de mes':'Dia_de_mes', 'Descripció torn':'Torn',\n",
    "       'Hora de dia':'Hora_de_dia', 'Descripció causa vianant':'Descripcio_causa_vianant',\n",
    "       'Desc. Tipus vehicle implicat':'Desc_Tipus_vehicle_implicat', 'Descripció sexe':'Descripcio_sexe',\n",
    "       'Descripció tipus persona':'Descripcio_tipus_persona', 'Descripció situació':'Descripcio_situacio',\n",
    "       'Descripció victimització':'Descripcio_victimitzacio', 'Coordenada UTM (X)':'Coordenada_UTM_X', 'Coordenada UTM (Y)':'Coordenada_UTM_Y',\n",
    "       'Long':'Longitud', 'Lat':'Latitud'}, inplace = True)\n",
    "df_user_15.rename(columns = {'Número d expedient': 'Codi_expedient', 'Codi districte': 'Codi_districte', 'Nom districte': 'Nom_districte', 'Codi barri':'Codi_barri',\n",
    "       'Nom barri':'Nom_barri', 'Codi carrer':'Codi_carrer', 'Nom carrer':'Nom_carrer', 'Num postal caption':'Num_postal',\n",
    "       'Descripció dia setmana':'Dia_setmana', 'Dia setmana':'ID_Dia_setmana', 'Descripció tipus dia':'Tipus_dia',\n",
    "       'NK Any':'Any', 'Mes de any':'Mes', 'Nom mes':'Nom_mes', 'Dia de mes':'Dia_de_mes', 'Hora de dia':'Hora_de_dia',\n",
    "       'Descripció causa vianant':'Descripcio_causa_vianant', 'Desc Tipus vehicle implicat':'Desc_Tipus_vehicle_implicat',\n",
    "       'Descripció sexe':'Descripcio_sexe', 'Descripció tipus persona':'Descripcio_tipus_persona',\n",
    "       'Descripció victimització':'Descripcio_victimitzacio', 'Coordenada UTM (Y)':'Coordenada_UTM_Y', 'Coordenada UTM (X)':'Coordenada_UTM_X'}, inplace = True)\n",
    "df_user_14.rename(columns = {'Número d_expedient': 'Codi_expedient', 'Codi districte': 'Codi_districte', 'Nom districte': 'Nom_districte', 'Codi barri':'Codi_barri',\n",
    "       'Nom barri':'Nom_barri', 'Codi carrer':'Codi_carrer', 'Nom carrer':'Nom_carrer', 'Num postal caption':'Num_postal',\n",
    "       'Descripció dia setmana':'Dia_setmana', 'Dia setmana':'ID_Dia_setmana', 'Descripció tipus dia':'Tipus_dia',\n",
    "       'NK Any':'Any', 'Mes de any':'Mes', 'Nom mes':'Nom_mes', 'Dia de mes':'Dia_de_mes', 'Hora de dia':'Hora_de_dia',\n",
    "       'Descripció causa vianant':'Descripcio_causa_vianant', 'Desc. Tipus vehicle implicat':'Desc_Tipus_vehicle_implicat',\n",
    "       'Descripció sexe':'Descripcio_sexe', 'Descripció tipus persona':'Descripcio_tipus_persona',\n",
    "       'Descripció victimització':'Descripcio_victimitzacio', 'Coordenada UTM (Y)':'Coordenada_UTM_Y', 'Coordenada UTM (X)':'Coordenada_UTM_X'}, inplace = True)"
   ]
  },
  {
   "cell_type": "code",
   "execution_count": 66,
   "metadata": {},
   "outputs": [
    {
     "name": "stdout",
     "output_type": "stream",
     "text": [
      "(11844, 30)\n",
      "(11854, 28)\n",
      "(12148, 28)\n",
      "(12072, 28)\n",
      "(11781, 24)\n",
      "(11386, 24)\n"
     ]
    }
   ],
   "source": [
    "print(df_user_19.shape)\n",
    "print(df_user_18.shape)\n",
    "print(df_user_17.shape)\n",
    "print(df_user_16.shape)\n",
    "print(df_user_15.shape)\n",
    "print(df_user_14.shape)"
   ]
  },
  {
   "cell_type": "code",
   "execution_count": 67,
   "metadata": {},
   "outputs": [],
   "source": [
    "Torn = []\n",
    "\n",
    "for i in df_user_15['Hora_de_dia']:\n",
    "    if i >5 and i<14:\n",
    "        Torn.append('Matí')\n",
    "    elif i >13 and i<22:\n",
    "        Torn.append('Tarda')\n",
    "    elif i >= 0 and i <6 or i == 22 or i == 23:\n",
    "        Torn.append('Nit')\n",
    "    else:\n",
    "        Torn.append(np.nan)\n",
    "\n",
    "df_user_15.insert(16, 'Torn', Torn)"
   ]
  },
  {
   "cell_type": "code",
   "execution_count": 68,
   "metadata": {},
   "outputs": [],
   "source": [
    "Torn = []\n",
    "\n",
    "for i in df_user_14['Hora_de_dia']:\n",
    "    if i >5 and i<14:\n",
    "        Torn.append('Matí')\n",
    "    elif i >13 and i<22:\n",
    "        Torn.append('Tarda')\n",
    "    elif i >= 0 and i <6 or i == 22 or i == 23:\n",
    "        Torn.append('Nit')\n",
    "    else:\n",
    "        Torn.append(np.nan)\n",
    "\n",
    "df_user_14.insert(16, 'Torn', Torn)"
   ]
  },
  {
   "cell_type": "code",
   "execution_count": 69,
   "metadata": {},
   "outputs": [],
   "source": [
    "df_user_14['Coordenada_UTM_X'] = df_user_14['Coordenada_UTM_X'].str.replace(',', '.')\n",
    "df_user_14['Coordenada_UTM_Y'] = df_user_14['Coordenada_UTM_Y'].str.replace(',', '.')\n",
    "\n",
    "df_user_15['Coordenada_UTM_X'] = df_user_15['Coordenada_UTM_X'].str.replace(',', '.')\n",
    "df_user_15['Coordenada_UTM_Y'] = df_user_15['Coordenada_UTM_Y'].str.replace(',', '.')"
   ]
  },
  {
   "cell_type": "code",
   "execution_count": 70,
   "metadata": {},
   "outputs": [],
   "source": [
    "lon15 = []\n",
    "lat15 = []\n",
    "\n",
    "p = Proj(proj='utm',zone=31,ellps='GRS80')\n",
    "\n",
    "for x,y in zip(df_user_15['Coordenada_UTM_X'],df_user_15['Coordenada_UTM_Y']):\n",
    "    lon,lat = p(x,y, inverse = True)\n",
    "    lon15.append(lon)\n",
    "    lat15.append(lat)\n",
    "    \n",
    "df_user_15['Latitud'] = lat15\n",
    "df_user_15['Longitud'] = lon15"
   ]
  },
  {
   "cell_type": "code",
   "execution_count": 71,
   "metadata": {},
   "outputs": [
    {
     "name": "stdout",
     "output_type": "stream",
     "text": [
      "11781\n",
      "11781\n"
     ]
    }
   ],
   "source": [
    "print(len(lon15))\n",
    "print(len(lat15))"
   ]
  },
  {
   "cell_type": "code",
   "execution_count": 72,
   "metadata": {},
   "outputs": [],
   "source": [
    "lon14 = []\n",
    "lat14 = []\n",
    "\n",
    "for x,y in zip(df_user_14['Coordenada_UTM_X'],df_user_14['Coordenada_UTM_Y']):\n",
    "    lon,lat = p(x,y, inverse = True)\n",
    "    lon14.append(lon)\n",
    "    lat14.append(lat)\n",
    "\n",
    "df_user_14['Latitud'] = lat14\n",
    "df_user_14['Longitud'] = lon14"
   ]
  },
  {
   "cell_type": "code",
   "execution_count": 73,
   "metadata": {},
   "outputs": [
    {
     "name": "stdout",
     "output_type": "stream",
     "text": [
      "11386\n",
      "11386\n"
     ]
    }
   ],
   "source": [
    "print(len(lon14))\n",
    "print(len(lat14))"
   ]
  },
  {
   "cell_type": "code",
   "execution_count": 74,
   "metadata": {},
   "outputs": [],
   "source": [
    "df_user_19['Descripcio_situacio'] = np.nan\n",
    "df_user_19['Nom_carrer'] = np.nan\n",
    "\n",
    "df_user_18['Descripcio_Lloc_atropellament_vianat'] = np.nan\n",
    "df_user_18['Descripcio_Motiu_desplaçament_vianant'] = np.nan\n",
    "df_user_18['Descripcio_Motiu_desplaçament_conductor'] = np.nan\n",
    "\n",
    "df_user_17['Descripcio_Lloc_atropellament_vianat'] = np.nan\n",
    "df_user_17['Descripcio_Motiu_desplaçament_vianant'] = np.nan\n",
    "df_user_17['Descripcio_Motiu_desplaçament_conductor'] = np.nan\n",
    "\n",
    "df_user_16['Descripcio_Lloc_atropellament_vianat'] = np.nan\n",
    "df_user_16['Descripcio_Motiu_desplaçament_vianant'] = np.nan\n",
    "df_user_16['Descripcio_Motiu_desplaçament_conductor'] = np.nan"
   ]
  },
  {
   "cell_type": "code",
   "execution_count": 75,
   "metadata": {},
   "outputs": [],
   "source": [
    "df_user_15['Descripcio_Lloc_atropellament_vianat'] = np.nan\n",
    "df_user_15['Descripcio_Motiu_desplaçament_vianant'] =np.nan\n",
    "df_user_15['Descripcio_Motiu_desplaçament_conductor'] = np.nan\n",
    "df_user_15['Descripcio_situacio'] = np.nan\n",
    "\n",
    "df_user_14['Descripcio_Lloc_atropellament_vianat'] = np.nan\n",
    "df_user_14['Descripcio_Motiu_desplaçament_vianant'] =np.nan\n",
    "df_user_14['Descripcio_Motiu_desplaçament_conductor'] = np.nan\n",
    "df_user_14['Descripcio_situacio'] = np.nan"
   ]
  },
  {
   "cell_type": "code",
   "execution_count": 76,
   "metadata": {},
   "outputs": [
    {
     "name": "stdout",
     "output_type": "stream",
     "text": [
      "(11844, 32)\n",
      "(11854, 31)\n",
      "(12148, 31)\n",
      "(12072, 31)\n",
      "(11781, 31)\n",
      "(11386, 31)\n"
     ]
    }
   ],
   "source": [
    "print(df_user_19.shape)\n",
    "print(df_user_18.shape)\n",
    "print(df_user_17.shape)\n",
    "print(df_user_16.shape)\n",
    "print(df_user_15.shape)\n",
    "print(df_user_14.shape)"
   ]
  },
  {
   "cell_type": "code",
   "execution_count": 77,
   "metadata": {},
   "outputs": [],
   "source": [
    "#df_user = pd.concat([df_user_19, df_user_18, df_user_17, df_user_16, df_user_15, df_user_14], axis = 0, ignore_index = True)\n",
    "#df_user.shape"
   ]
  },
  {
   "cell_type": "code",
   "execution_count": null,
   "metadata": {},
   "outputs": [],
   "source": []
  },
  {
   "cell_type": "code",
   "execution_count": null,
   "metadata": {},
   "outputs": [],
   "source": []
  },
  {
   "cell_type": "code",
   "execution_count": null,
   "metadata": {},
   "outputs": [],
   "source": []
  },
  {
   "cell_type": "code",
   "execution_count": 78,
   "metadata": {},
   "outputs": [],
   "source": [
    "df_causa_18 = pd.read_csv('C:/Users/David Sagrario/Bootcamp Data Science/FINAL_PROJECT/acc_causa/2018_accidents_causes_gu_bcn_.csv')\n",
    "df_causa_17 = pd.read_excel('C:/Users/David Sagrario/Bootcamp Data Science/FINAL_PROJECT/acc_causa/2017_accidents_causes_gu_bcn_.xlsx')\n",
    "df_causa_16 = pd.read_excel('C:/Users/David Sagrario/Bootcamp Data Science/FINAL_PROJECT/acc_causa/2016_accidents_causes_gu_bcn_.xlsx')\n",
    "df_causa_15 = pd.read_excel('C:/Users/David Sagrario/Bootcamp Data Science/FINAL_PROJECT/acc_causa/2015_accidents_causes_gu_bcn_.xlsx')\n",
    "df_causa_14 = pd.read_excel('C:/Users/David Sagrario/Bootcamp Data Science/FINAL_PROJECT/acc_causa/2014_accidents_causes_gu_bcn_.xlsx')"
   ]
  },
  {
   "cell_type": "code",
   "execution_count": 79,
   "metadata": {},
   "outputs": [],
   "source": [
    "df_causa_18 = df_causa_18.replace('Desconegut', np.nan)\n",
    "df_causa_17 = df_causa_17.replace('Desconegut', np.nan)\n",
    "df_causa_16 = df_causa_16.replace('Desconegut', np.nan)\n",
    "df_causa_15 = df_causa_15.replace('Desconegut', np.nan)\n",
    "df_causa_14 = df_causa_14.replace('Desconegut', np.nan)"
   ]
  },
  {
   "cell_type": "code",
   "execution_count": 80,
   "metadata": {},
   "outputs": [
    {
     "name": "stdout",
     "output_type": "stream",
     "text": [
      "Index(['Codi_expedient', 'Codi_districte', 'Nom_districte', 'Codi_barri',\n",
      "       'Nom_barri', 'Codi_carrer', 'Nom_carrer', 'Num_postal', 'Dia_setmana',\n",
      "       'ID_Dia_setmana', 'Tipus_dia', 'Any', 'Mes', 'Nom_mes', 'Dia_de_mes',\n",
      "       'Hora_de_dia', 'Torn', 'Causa_mediata', 'Coordenada_UTM_X',\n",
      "       'Coordenada_UTM_Y', 'Longitud', 'Latitud'],\n",
      "      dtype='object')\n"
     ]
    }
   ],
   "source": [
    "print(df_causa_19.columns)"
   ]
  },
  {
   "cell_type": "code",
   "execution_count": 81,
   "metadata": {},
   "outputs": [
    {
     "name": "stdout",
     "output_type": "stream",
     "text": [
      "Index(['Numero_expedient', 'Codi_districte', 'Nom_districte', 'Codi_barri',\n",
      "       'Nom_barri', 'Codi_carrer', 'Nom_carrer', 'Num_postal ',\n",
      "       'Descripcio_dia_setmana', 'Dia_setmana', 'Descripcio_tipus_dia', 'Any',\n",
      "       'Mes_any', 'Nom_mes', 'Dia_mes', 'Hora_dia', 'Descripcio_torn',\n",
      "       'Descripcio_causa_mediata', 'Coordenada_UTM_X', 'Coordenada_UTM_Y',\n",
      "       'Longitud', 'Latitud'],\n",
      "      dtype='object')\n",
      "Index(['Número_d_expedient', 'Codi_districte', 'Nom_districte', 'Codi_barri',\n",
      "       'Nom_barri', 'Codi_carrer', 'Nom_carrer', 'Carrer_Original',\n",
      "       'Num_postal ', 'Descripció_dia_setmana', 'Dia_setmana',\n",
      "       'Descripció_tipus_dia', 'NK Any', 'Mes_de_any', 'Nom_mes', 'Dia_de_mes',\n",
      "       'Hora_de_dia', 'Descripció_torn', 'Descripció_causa_mediata',\n",
      "       'Coordenada_UTM_(X)', 'Coordenada_UTM_(Y)', 'Longitud', 'Latitud'],\n",
      "      dtype='object')\n",
      "Index(['Número d_expedient', 'Codi districte', 'Nom districte', 'Codi barri',\n",
      "       'Nom barri', 'Codi carrer', 'Nom carrer', 'Num postal caption',\n",
      "       'Descripció dia setmana', 'Dia setmana', 'Descripció tipus dia',\n",
      "       'NK Any', 'Mes de any', 'Nom mes', 'Dia de mes', 'Hora de dia',\n",
      "       'Descripció torn', 'Descripció causa mediata', 'Coordenada UTM (X)',\n",
      "       'Coordenada UTM (Y)', 'Long', 'Lat'],\n",
      "      dtype='object')\n",
      "Index(['Número d expedient', 'Codi districte', 'Nom districte', 'Codi barri',\n",
      "       'Nom barri', 'Codi carrer', 'Nom carrer', 'Num postal caption',\n",
      "       'Descripció dia setmana', 'Dia setmana', 'Descripció tipus dia',\n",
      "       'NK Any', 'Mes de any', 'Nom mes', 'Dia de mes', 'Hora de dia',\n",
      "       'Descripció torn', 'Descripció causa mediata', 'Coordenada UTM (Y)',\n",
      "       'Coordenada UTM (X)'],\n",
      "      dtype='object')\n",
      "Index(['Número d expedient', 'Codi districte', 'Nom districte', 'Codi barri',\n",
      "       'Nom barri', 'Codi carrer', 'Nom carrer', 'Num postal caption',\n",
      "       'Descripció dia setmana', 'Dia setmana', 'Descripció tipus dia',\n",
      "       'NK Any', 'Mes de any', 'Nom mes', 'Dia de mes', 'Hora de dia',\n",
      "       'Descripció torn', 'Descripció causa mediata', 'Coordenada UTM (Y)',\n",
      "       'Coordenada UTM (X)'],\n",
      "      dtype='object')\n"
     ]
    }
   ],
   "source": [
    "print(df_causa_18.columns)\n",
    "print(df_causa_17.columns)\n",
    "print(df_causa_16.columns)\n",
    "print(df_causa_15.columns)\n",
    "print(df_causa_14.columns)"
   ]
  },
  {
   "cell_type": "code",
   "execution_count": 82,
   "metadata": {},
   "outputs": [],
   "source": [
    "#['Codi_expedient', 'Codi_districte', 'Nom_districte', 'Codi_barri',\n",
    "#       'Nom_barri', 'Codi_carrer', 'Nom_carrer', 'Num_postal ', 'Dia_setmana',\n",
    "#       'ID_Dia_setmana', 'Tipus_dia', 'Any', 'Mes', 'Nom_mes', 'Dia_de_mes',\n",
    "#       'Hora_de_dia', 'Torn', 'Causa_mediata', 'Coordenada_UTM_X',\n",
    "#       'Coordenada_UTM_Y', 'Longitud', 'Latitud']"
   ]
  },
  {
   "cell_type": "code",
   "execution_count": 83,
   "metadata": {},
   "outputs": [],
   "source": [
    "df_causa_18.rename(columns = {'Num_postal ':'Num_postal', 'Numero_expedient':'Codi_expedient', 'Descripcio_dia_setmana':'Dia_setmana', 'Dia_setmana':'ID_Dia_setmana', 'Descripcio_tipus_dia':'Tipus_dia',\n",
    "       'Mes_any':'Mes', 'Dia_mes':'Dia_de_mes', 'Hora_dia':'Hora_de_dia', 'Descripcio_torn':'Torn',\n",
    "       'Descripcio_causa_mediata':'Causa_mediata'}, inplace = True)\n",
    "df_causa_17.rename(columns = {'Num_postal ':'Num_postal', 'Número_d_expedient':'Codi_expedient', 'Descripció_dia_setmana':'Dia_setmana', 'Dia_setmana':'ID_Dia_setmana',\n",
    "       'Descripció_tipus_dia':'Tipus_dia', 'NK Any':'Any', 'Mes_de_any':'Mes', 'Descripció_torn':'Torn', 'Descripció_causa_mediata':'Causa_mediata',\n",
    "       'Coordenada_UTM_(X)':'Coordenada_UTM_X', 'Coordenada_UTM_(Y)':'Coordenada_UTM_Y'}, inplace = True)\n",
    "df_causa_16.rename(columns = {'Número d_expedient':'Codi_expedient', 'Codi districte':'Codi_districte', 'Nom districte':'Nom_districte', 'Codi barri':'Codi_barri',\n",
    "       'Nom barri':'Nom_barri', 'Codi carrer':'Codi_carrer', 'Nom carrer':'Nom_carrer', 'Num postal caption':'Num_postal',\n",
    "       'Descripció dia setmana':'Dia_setmana', 'Dia setmana':'ID_Dia_setmana', 'Descripció tipus dia':'Tipus_dia',\n",
    "       'NK Any':'Any', 'Mes de any':'Mes', 'Nom mes':'Nom_mes', 'Dia de mes':'Dia_de_mes', 'Hora de dia':'Hora_de_dia',\n",
    "       'Descripció torn':'Torn', 'Descripció causa mediata':'Causa_mediata', 'Coordenada UTM (X)':'Coordenada_UTM_X',\n",
    "       'Coordenada UTM (Y)':'Coordenada_UTM_Y', 'Long':'Longitud', 'Lat':'Latitud'}, inplace = True)\n",
    "df_causa_15.rename(columns = {'Número d expedient':'Codi_expedient', 'Codi districte':'Codi_districte', 'Nom districte':'Nom_districte', 'Codi barri':'Codi_barri',\n",
    "       'Nom barri':'Nom_barri', 'Codi carrer':'Codi_carrer', 'Nom carrer':'Nom_carrer', 'Num postal caption':'Num_postal',\n",
    "       'Descripció dia setmana':'Dia_setmana', 'Dia setmana':'ID_Dia_setmana', 'Descripció tipus dia':'Tipus_dia',\n",
    "       'NK Any':'Any', 'Mes de any':'Mes', 'Nom mes':'Nom_mes', 'Dia de mes':'Dia_de_mes', 'Hora de dia':'Hora_de_dia',\n",
    "       'Descripció torn':'Torn', 'Descripció causa mediata':'Causa_mediata', 'Coordenada UTM (Y)':'Coordenada_UTM_Y',\n",
    "       'Coordenada UTM (X)':'Coordenada_UTM_X'}, inplace = True)\n",
    "df_causa_14.rename(columns = {'Número d expedient':'Codi_expedient', 'Codi districte':'Codi_districte', 'Nom districte':'Nom_districte', 'Codi barri':'Codi_barri',\n",
    "       'Nom barri':'Nom_barri', 'Codi carrer':'Codi_carrer', 'Nom carrer':'Nom_carrer', 'Num postal caption':'Num_postal',\n",
    "       'Descripció dia setmana':'Dia_setmana', 'Dia setmana':'ID_Dia_setmana', 'Descripció tipus dia':'Tipus_dia',\n",
    "       'NK Any':'Any', 'Mes de any':'Mes', 'Nom mes':'Nom_mes', 'Dia de mes':'Dia_de_mes', 'Hora de dia':'Hora_de_dia',\n",
    "       'Descripció torn':'Torn', 'Descripció causa mediata':'Causa_mediata', 'Coordenada UTM (Y)':'Coordenada_UTM_Y',\n",
    "       'Coordenada UTM (X)':'Coordenada_UTM_X'}, inplace = True)"
   ]
  },
  {
   "cell_type": "code",
   "execution_count": 84,
   "metadata": {},
   "outputs": [
    {
     "name": "stdout",
     "output_type": "stream",
     "text": [
      "(10028, 22)\n",
      "(9926, 22)\n",
      "(10343, 23)\n",
      "(10157, 22)\n",
      "(10020, 20)\n",
      "(9677, 20)\n"
     ]
    }
   ],
   "source": [
    "print(df_causa_19.shape)\n",
    "print(df_causa_18.shape)\n",
    "print(df_causa_17.shape)\n",
    "print(df_causa_16.shape)\n",
    "print(df_causa_15.shape)\n",
    "print(df_causa_14.shape)"
   ]
  },
  {
   "cell_type": "code",
   "execution_count": 85,
   "metadata": {},
   "outputs": [],
   "source": [
    "df_causa_14['Coordenada_UTM_X'] = df_causa_14['Coordenada_UTM_X'].str.replace(',', '.')\n",
    "df_causa_14['Coordenada_UTM_Y'] = df_causa_14['Coordenada_UTM_Y'].str.replace(',', '.')\n",
    "\n",
    "df_causa_15['Coordenada_UTM_X'] = df_causa_15['Coordenada_UTM_X'].str.replace(',', '.')\n",
    "df_causa_15['Coordenada_UTM_Y'] = df_causa_15['Coordenada_UTM_Y'].str.replace(',', '.')"
   ]
  },
  {
   "cell_type": "code",
   "execution_count": 86,
   "metadata": {},
   "outputs": [],
   "source": [
    "lon15 = []\n",
    "lat15 = []\n",
    "\n",
    "p = Proj(proj='utm',zone=31,ellps='GRS80')\n",
    "\n",
    "for x,y in zip(df_causa_15['Coordenada_UTM_X'],df_causa_15['Coordenada_UTM_Y']):\n",
    "    lon,lat = p(x,y, inverse = True)\n",
    "    lon15.append(lon)\n",
    "    lat15.append(lat)\n",
    "    \n",
    "df_causa_15['Latitud'] = lat15\n",
    "df_causa_15['Longitud'] = lon15"
   ]
  },
  {
   "cell_type": "code",
   "execution_count": 87,
   "metadata": {},
   "outputs": [
    {
     "name": "stdout",
     "output_type": "stream",
     "text": [
      "10020\n",
      "10020\n"
     ]
    }
   ],
   "source": [
    "print(len(lon15))\n",
    "print(len(lat15))"
   ]
  },
  {
   "cell_type": "code",
   "execution_count": 88,
   "metadata": {},
   "outputs": [],
   "source": [
    "lon14 = []\n",
    "lat14 = []\n",
    "\n",
    "for x,y in zip(df_causa_14['Coordenada_UTM_X'],df_causa_14['Coordenada_UTM_Y']):\n",
    "    lon,lat = p(x,y, inverse = True)\n",
    "    lon14.append(lon)\n",
    "    lat14.append(lat)\n",
    "\n",
    "df_causa_14['Latitud'] = lat14\n",
    "df_causa_14['Longitud'] = lon14"
   ]
  },
  {
   "cell_type": "code",
   "execution_count": 89,
   "metadata": {},
   "outputs": [
    {
     "name": "stdout",
     "output_type": "stream",
     "text": [
      "9677\n",
      "9677\n"
     ]
    }
   ],
   "source": [
    "print(len(lon14))\n",
    "print(len(lat14))"
   ]
  },
  {
   "cell_type": "code",
   "execution_count": 90,
   "metadata": {},
   "outputs": [
    {
     "name": "stdout",
     "output_type": "stream",
     "text": [
      "(10028, 22)\n",
      "(9926, 22)\n",
      "(10343, 23)\n",
      "(10157, 22)\n",
      "(10020, 22)\n",
      "(9677, 22)\n"
     ]
    }
   ],
   "source": [
    "print(df_causa_19.shape)\n",
    "print(df_causa_18.shape)\n",
    "print(df_causa_17.shape)\n",
    "print(df_causa_16.shape)\n",
    "print(df_causa_15.shape)\n",
    "print(df_causa_14.shape)"
   ]
  },
  {
   "cell_type": "code",
   "execution_count": 91,
   "metadata": {},
   "outputs": [],
   "source": [
    "#df_causa = pd.concat([df_causa_19, df_causa_18, df_causa_17, df_causa_16, df_causa_15, df_causa_14], axis = 0, ignore_index = True)\n",
    "#df_causa.shape"
   ]
  },
  {
   "cell_type": "code",
   "execution_count": 92,
   "metadata": {
    "scrolled": true
   },
   "outputs": [],
   "source": [
    "#df_causa.head()"
   ]
  },
  {
   "cell_type": "code",
   "execution_count": null,
   "metadata": {},
   "outputs": [],
   "source": []
  },
  {
   "cell_type": "code",
   "execution_count": null,
   "metadata": {},
   "outputs": [],
   "source": []
  },
  {
   "cell_type": "code",
   "execution_count": null,
   "metadata": {},
   "outputs": [],
   "source": []
  },
  {
   "cell_type": "code",
   "execution_count": 93,
   "metadata": {},
   "outputs": [],
   "source": [
    "df_acc_18 = pd.read_csv('C:/Users/David Sagrario/Bootcamp Data Science/FINAL_PROJECT/acc_general/2018_accidents_gu_bcn.csv')\n",
    "df_acc_17 = pd.read_excel('C:/Users/David Sagrario/Bootcamp Data Science/FINAL_PROJECT/acc_general/2017_accidents_gu_bcn.xlsx')\n",
    "df_acc_16 = pd.read_excel('C:/Users/David Sagrario/Bootcamp Data Science/FINAL_PROJECT/acc_general/2016_accidents_gu_bcn.xlsx')\n",
    "df_acc_15 = pd.read_excel('C:/Users/David Sagrario/Bootcamp Data Science/FINAL_PROJECT/acc_general/2015_accidents_gu_bcn.xlsx')\n",
    "df_acc_14 = pd.read_excel('C:/Users/David Sagrario/Bootcamp Data Science/FINAL_PROJECT/acc_general/2014_accidents_gu_bcn.xlsx')"
   ]
  },
  {
   "cell_type": "code",
   "execution_count": 94,
   "metadata": {},
   "outputs": [],
   "source": [
    "df_acc_18 = df_acc_18.replace('Desconegut', np.nan)\n",
    "df_acc_17 = df_acc_17.replace('Desconegut', np.nan)\n",
    "df_acc_16 = df_acc_16.replace('Desconegut', np.nan)\n",
    "df_acc_15 = df_acc_15.replace('Desconegut', np.nan)\n",
    "df_acc_14 = df_acc_14.replace('Desconegut', np.nan)"
   ]
  },
  {
   "cell_type": "code",
   "execution_count": 95,
   "metadata": {},
   "outputs": [
    {
     "name": "stdout",
     "output_type": "stream",
     "text": [
      "Index(['Codi_expedient', 'Codi_districte', 'Nom_districte', 'Codi_barri',\n",
      "       'Nom_barri', 'Codi_carrer', 'Nom_carrer', 'Num_postal', 'Dia_setmana',\n",
      "       'ID_Dia_setmana', 'Tipus_dia', 'Any', 'Mes', 'Nom_mes', 'Dia_de_mes',\n",
      "       'Hora_de_dia', 'Torn', 'Descripcio_causa_vianant', 'Numero_morts',\n",
      "       'Numero_lesionats_lleus', 'Numero_lesionats_greus', 'Numero_victimes',\n",
      "       'Numero_vehicles_implicats', 'Coordenada_UTM_X', 'Coordenada_UTM_Y',\n",
      "       'Longitud', 'Latitud'],\n",
      "      dtype='object')\n"
     ]
    }
   ],
   "source": [
    "print(df_acc_19.columns)"
   ]
  },
  {
   "cell_type": "code",
   "execution_count": 96,
   "metadata": {},
   "outputs": [
    {
     "name": "stdout",
     "output_type": "stream",
     "text": [
      "Index(['Numero_expedient', 'Codi_districte', 'Nom_districte', 'Codi_barri',\n",
      "       'Nom_barri', 'Codi_carrer', 'Nom_carrer', 'Num_postal ',\n",
      "       'Descripcio_dia_setmana', 'Dia_setmana', 'Descripcio_tipus_dia', 'Any',\n",
      "       'Mes_any', 'Nom_mes', 'Dia_mes', 'Hora_dia', 'Descripcio_torn',\n",
      "       'Descripcio_causa_vianant', 'Numero_morts', 'Numero_lesionats_lleus',\n",
      "       'Numero_lesionats_greus', 'Numero_victimes',\n",
      "       'Numero_vehicles_implicats', 'Coordenada_UTM_X', 'Coordenada_UTM_Y',\n",
      "       'Longitud', 'Latitud'],\n",
      "      dtype='object')\n",
      "Index(['Número d_expedient', 'Codi districte', 'Nom districte', 'Codi barri',\n",
      "       'Nom barri', 'Codi carrer', 'Nom carrer', 'Num postal caption',\n",
      "       'Descripció dia setmana', 'Dia setmana', 'Descripció tipus dia',\n",
      "       'NK Any', 'Mes de any', 'Nom mes', 'Dia de mes', 'Hora de dia',\n",
      "       'Descripció torn', 'Descripció causa vianant', 'Número de morts',\n",
      "       'Número de lesionats lleus', 'Número de lesionats greus',\n",
      "       'Número de víctimes', 'Número de vehicles implicats',\n",
      "       'Coordenada UTM (X)', 'Coordenada UTM (Y)', 'Longitud', 'Latitud'],\n",
      "      dtype='object')\n",
      "Index(['Número d_expedient', 'Codi districte', 'Nom districte', 'Codi barri',\n",
      "       'Nom barri', 'Codi carrer', 'Nom carrer', 'Num postal caption',\n",
      "       'Descripció dia setmana', 'Dia setmana', 'Descripció tipus dia',\n",
      "       'NK Any', 'Mes de any', 'Nom mes', 'Dia de mes', 'Hora de dia',\n",
      "       'Descripció torn', 'Descripció causa vianant', 'Número de morts',\n",
      "       'Número de lesionats lleus', 'Número de lesionats greus',\n",
      "       'Número de víctimes', 'Número de vehicles implicats',\n",
      "       'Coordenada UTM (X)', 'Coordenada UTM (Y)', 'Long', 'Lat'],\n",
      "      dtype='object')\n",
      "Index(['Número d expedient', 'Codi districte', 'Nom districte', 'Codi barri',\n",
      "       'Nom barri', 'Codi carrer', 'Nom carrer', 'Num postal caption',\n",
      "       'Descripció dia setmana', 'Dia setmana', 'Descripció tipus dia',\n",
      "       'NK Any', 'Mes de any', 'Nom mes', 'Dia de mes', 'Hora de dia',\n",
      "       'Descripció torn', 'Descripció causa vianant', 'Número de morts',\n",
      "       'Número de lesionats lleus', 'Número de lesionats greus',\n",
      "       'Número de víctimes', 'Número de vehicles implicats',\n",
      "       'Coordenada UTM (Y)', 'Coordenada UTM (X)'],\n",
      "      dtype='object')\n",
      "Index(['Número d_expedient', 'Codi districte', 'Nom districte', 'NK barri',\n",
      "       'Nom barri', 'Codi carrer', 'Nom carrer', 'Num postal caption',\n",
      "       'Descripció dia setmana', 'Dia de setmana', 'Descripció tipus dia',\n",
      "       'NK Any', 'Mes de any', 'Nom mes', 'Dia de mes', 'Hora de dia',\n",
      "       'Descripció torn', 'Descripció causa vianant', 'Número de morts',\n",
      "       'Número de lesionats lleus', 'Número de lesionats greus',\n",
      "       'Número de víctimes', 'Número de vehicles implicats',\n",
      "       'Coordenada UTM (Y)', 'Coordenada UTM (X)'],\n",
      "      dtype='object')\n"
     ]
    }
   ],
   "source": [
    "print(df_acc_18.columns)\n",
    "print(df_acc_17.columns)\n",
    "print(df_acc_16.columns)\n",
    "print(df_acc_15.columns)\n",
    "print(df_acc_14.columns)"
   ]
  },
  {
   "cell_type": "code",
   "execution_count": 97,
   "metadata": {},
   "outputs": [],
   "source": [
    "#['Codi_expedient', 'Codi_districte', 'Nom_districte', 'Codi_barri',\n",
    "#       'Nom_barri', 'Codi_carrer', 'Nom_carrer', 'Num_postal', 'Dia_setmana',\n",
    "#       'ID_Dia_setmana', 'Tipus_dia', 'Any', 'Mes', 'Nom_mes', 'Dia_de_mes',\n",
    "#       'Hora_de_dia', 'Torn', 'Descripcio_causa_vianant', 'Numero_morts',\n",
    "#       'Numero_lesionats_lleus', 'Numero_lesionats_greus', 'Numero_victimes',\n",
    "#       'Numero_vehicles_implicats', 'Coordenada_UTM_X', 'Coordenada_UTM_Y',\n",
    "#       'Longitud', 'Latitud']"
   ]
  },
  {
   "cell_type": "code",
   "execution_count": 98,
   "metadata": {},
   "outputs": [],
   "source": [
    "df_acc_18.rename(columns = {'Numero_expedient':'Codi_expedient', 'Num_postal ':'Num_postal',\n",
    "       'Descripcio_dia_setmana':'Dia_setmana', 'Dia_setmana':'ID_Dia_setmana', 'Descripcio_tipus_dia':'Tipus_dia',\n",
    "       'Mes_any':'Mes', 'Dia_mes':'Dia_de_mes', 'Hora_dia':'Hora_de_dia', 'Descripcio_torn':'Torn'}, inplace = True)\n",
    "                       \n",
    "df_acc_17.rename(columns = {'Número d_expedient':'Codi_expedient', 'Codi districte':'Codi_districte', 'Nom districte':'Nom_districte', 'Codi barri':'Codi_barri',\n",
    "       'Nom barri':'Nom_barri', 'Codi carrer':'Codi_carrer', 'Nom carrer':'Nom_carrer', 'Num postal caption':'Num_postal',\n",
    "       'Descripció dia setmana':'Dia_setmana', 'Dia setmana':'ID_Dia_setmana', 'Descripció tipus dia':'Tipus_dia',\n",
    "       'NK Any':'Any', 'Mes de any':'Mes', 'Nom mes':'Nom_mes', 'Dia de mes':'Dia_de_mes', 'Hora de dia':'Hora_de_dia',\n",
    "       'Descripció torn':'Torn', 'Descripció causa vianant':'Descripcio_causa_vianant', 'Número de morts':'Numero_morts',\n",
    "       'Número de lesionats lleus':'Numero_lesionats_lleus', 'Número de lesionats greus':'Numero_lesionats_greus',\n",
    "       'Número de víctimes':'Numero_victimes', 'Número de vehicles implicats':'Numero_vehicles_implicats',\n",
    "       'Coordenada UTM (X)':'Coordenada_UTM_X', 'Coordenada UTM (Y)':'Coordenada_UTM_Y'}, inplace = True)\n",
    "                       \n",
    "df_acc_16.rename(columns = {'Número d_expedient':'Codi_expedient', 'Codi districte':'Codi_districte', 'Nom districte':'Nom_districte', 'Codi barri':'Codi_barri',\n",
    "       'Nom barri':'Nom_barri', 'Codi carrer':'Codi_carrer', 'Nom carrer':'Nom_carrer', 'Num postal caption':'Num_postal',\n",
    "       'Descripció dia setmana':'Dia_setmana', 'Dia setmana':'ID_Dia_setmana', 'Descripció tipus dia':'Tipus_dia',\n",
    "       'NK Any':'Any', 'Mes de any':'Mes', 'Nom mes':'Nom_mes', 'Dia de mes':'Dia_de_mes', 'Hora de dia':'Hora_de_dia',\n",
    "       'Descripció torn':'Torn', 'Descripció causa vianant':'Descripcio_causa_vianant', 'Número de morts':'Numero_morts',\n",
    "       'Número de lesionats lleus':'Numero_lesionats_lleus', 'Número de lesionats greus':'Numero_lesionats_greus',\n",
    "       'Número de víctimes':'Numero_victimes', 'Número de vehicles implicats':'Numero_vehicles_implicats',\n",
    "       'Coordenada UTM (X)':'Coordenada_UTM_X', 'Coordenada UTM (Y)':'Coordenada_UTM_Y', 'Long':'Longitud', 'Lat':'Latitud'}, inplace = True)\n",
    "                       \n",
    "df_acc_15.rename(columns = {'Número d expedient':'Codi_expedient', 'Codi districte':'Codi_districte', 'Nom districte':'Nom_districte', 'Codi barri':'Codi_barri',\n",
    "       'Nom barri':'Nom_barri', 'Codi carrer':'Codi_carrer', 'Nom carrer':'Nom_carrer', 'Num postal caption':'Num_postal',\n",
    "       'Descripció dia setmana':'Dia_setmana', 'Dia setmana':'ID_Dia_setmana', 'Descripció tipus dia':'Tipus_dia',\n",
    "       'NK Any':'Any', 'Mes de any':'Mes', 'Nom mes':'Nom_mes', 'Dia de mes':'Dia_de_mes', 'Hora de dia':'Hora_de_dia',\n",
    "       'Descripció torn':'Torn', 'Descripció causa vianant':'Descripcio_causa_vianant', 'Número de morts':'Numero_morts',\n",
    "       'Número de lesionats lleus':'Numero_lesionats_lleus', 'Número de lesionats greus':'Numero_lesionats_greus',\n",
    "       'Número de víctimes':'Numero_victimes', 'Número de vehicles implicats':'Numero_vehicles_implicats',\n",
    "       'Coordenada UTM (Y)':'Coordenada_UTM_Y', 'Coordenada UTM (X)':'Coordenada_UTM_X'}, inplace = True)\n",
    "                       \n",
    "df_acc_14.rename(columns = {'Número d_expedient':'Codi_expedient', 'Codi districte':'Codi_districte', 'Nom districte':'Nom_districte', 'NK barri':'Codi_barri',\n",
    "       'Nom barri':'Nom_barri', 'Codi carrer':'Codi_carrer', 'Nom carrer':'Nom_carrer', 'Num postal caption':'Num_postal',\n",
    "       'Descripció dia setmana':'Dia_setmana', 'Dia de setmana':'ID_Dia_setmana', 'Descripció tipus dia':'Tipus_dia',\n",
    "       'NK Any':'Any', 'Mes de any':'Mes', 'Nom mes':'Nom_mes', 'Dia de mes':'Dia_de_mes', 'Hora de dia':'Hora_de_dia',\n",
    "       'Descripció torn':'Torn', 'Descripció causa vianant':'Descripcio_causa_vianant', 'Número de morts':'Numero_morts',\n",
    "       'Número de lesionats lleus':'Numero_lesionats_lleus', 'Número de lesionats greus':'Numero_lesionats_greus',\n",
    "       'Número de víctimes':'Numero_victimes', 'Número de vehicles implicats':'Numero_vehicles_implicats',\n",
    "       'Coordenada UTM (Y)':'Coordenada_UTM_Y', 'Coordenada UTM (X)':'Coordenada_UTM_X'}, inplace = True)"
   ]
  },
  {
   "cell_type": "code",
   "execution_count": 99,
   "metadata": {},
   "outputs": [
    {
     "name": "stdout",
     "output_type": "stream",
     "text": [
      "(10027, 27)\n",
      "(9936, 27)\n",
      "(10339, 27)\n",
      "(10140, 27)\n",
      "(10009, 25)\n",
      "(9680, 25)\n"
     ]
    }
   ],
   "source": [
    "print(df_acc_19.shape)\n",
    "print(df_acc_18.shape)\n",
    "print(df_acc_17.shape)\n",
    "print(df_acc_16.shape)\n",
    "print(df_acc_15.shape)\n",
    "print(df_acc_14.shape)"
   ]
  },
  {
   "cell_type": "code",
   "execution_count": 100,
   "metadata": {},
   "outputs": [],
   "source": [
    "df_acc_14['Coordenada_UTM_X'] = df_acc_14['Coordenada_UTM_X'].str.replace(',', '.')\n",
    "df_acc_14['Coordenada_UTM_Y'] = df_acc_14['Coordenada_UTM_Y'].str.replace(',', '.')\n",
    "\n",
    "df_acc_15['Coordenada_UTM_X'] = df_acc_15['Coordenada_UTM_X'].str.replace(',', '.')\n",
    "df_acc_15['Coordenada_UTM_Y'] = df_acc_15['Coordenada_UTM_Y'].str.replace(',', '.')"
   ]
  },
  {
   "cell_type": "code",
   "execution_count": 101,
   "metadata": {},
   "outputs": [],
   "source": [
    "lon15 = []\n",
    "lat15 = []\n",
    "\n",
    "p = Proj(proj='utm',zone=31,ellps='GRS80')\n",
    "\n",
    "for x,y in zip(df_acc_15['Coordenada_UTM_X'],df_acc_15['Coordenada_UTM_Y']):\n",
    "    lon,lat = p(x,y, inverse = True)\n",
    "    lon15.append(lon)\n",
    "    lat15.append(lat)\n",
    "    \n",
    "df_acc_15['Latitud'] = lat15\n",
    "df_acc_15['Longitud'] = lon15"
   ]
  },
  {
   "cell_type": "code",
   "execution_count": 102,
   "metadata": {},
   "outputs": [
    {
     "name": "stdout",
     "output_type": "stream",
     "text": [
      "10009\n",
      "10009\n"
     ]
    }
   ],
   "source": [
    "print(len(lon15))\n",
    "print(len(lat15))"
   ]
  },
  {
   "cell_type": "code",
   "execution_count": 103,
   "metadata": {},
   "outputs": [],
   "source": [
    "lon14 = []\n",
    "lat14 = []\n",
    "\n",
    "for x,y in zip(df_acc_14['Coordenada_UTM_X'],df_acc_14['Coordenada_UTM_Y']):\n",
    "    lon,lat = p(x,y, inverse = True)\n",
    "    lon14.append(lon)\n",
    "    lat14.append(lat)\n",
    "\n",
    "df_acc_14['Latitud'] = lat14\n",
    "df_acc_14['Longitud'] = lon14"
   ]
  },
  {
   "cell_type": "code",
   "execution_count": 104,
   "metadata": {},
   "outputs": [
    {
     "name": "stdout",
     "output_type": "stream",
     "text": [
      "9680\n",
      "9680\n"
     ]
    }
   ],
   "source": [
    "print(len(lon14))\n",
    "print(len(lat14))"
   ]
  },
  {
   "cell_type": "code",
   "execution_count": 105,
   "metadata": {},
   "outputs": [
    {
     "name": "stdout",
     "output_type": "stream",
     "text": [
      "(10027, 27)\n",
      "(9936, 27)\n",
      "(10339, 27)\n",
      "(10140, 27)\n",
      "(10009, 27)\n",
      "(9680, 27)\n"
     ]
    }
   ],
   "source": [
    "print(df_acc_19.shape)\n",
    "print(df_acc_18.shape)\n",
    "print(df_acc_17.shape)\n",
    "print(df_acc_16.shape)\n",
    "print(df_acc_15.shape)\n",
    "print(df_acc_14.shape)"
   ]
  },
  {
   "cell_type": "code",
   "execution_count": 106,
   "metadata": {},
   "outputs": [],
   "source": [
    "#df_acc = pd.concat([df_acc_19, df_acc_18, df_acc_17, df_acc_16, df_acc_15, df_acc_14], axis = 0, ignore_index = True)\n",
    "#df_acc.shape"
   ]
  },
  {
   "cell_type": "code",
   "execution_count": 107,
   "metadata": {},
   "outputs": [],
   "source": [
    "#df_acc.drop(['Coordenada_UTM_X', 'Coordenada_UTM_Y'], axis = 1, inplace = True)\n",
    "#df_tipo.drop(['Coordenada_UTM_X', 'Coordenada_UTM_Y'], axis = 1, inplace = True)\n",
    "#df_causa.drop(['Coordenada_UTM_X', 'Coordenada_UTM_Y'], axis = 1, inplace = True)\n",
    "#df_user.drop(['Coordenada_UTM_X', 'Coordenada_UTM_Y'], axis = 1, inplace = True)\n",
    "#df_vehicle.drop(['Coordenada_UTM_X', 'Coordenada_UTM_Y'], axis = 1, inplace = True)"
   ]
  },
  {
   "cell_type": "code",
   "execution_count": 108,
   "metadata": {},
   "outputs": [],
   "source": [
    "#print(df_acc.shape)\n",
    "#print(df_tipo.shape)\n",
    "#print(df_causa.shape)\n",
    "#print(df_user.shape)\n",
    "#print(df_vehicle.shape)"
   ]
  },
  {
   "cell_type": "code",
   "execution_count": 109,
   "metadata": {},
   "outputs": [],
   "source": [
    "#print(df_acc.columns)\n",
    "#print(df_tipo.columns)\n",
    "#print(df_causa.columns)\n",
    "#print(df_user.columns)\n",
    "#print(df_vehicle.columns)"
   ]
  },
  {
   "cell_type": "code",
   "execution_count": 110,
   "metadata": {},
   "outputs": [],
   "source": [
    "#df_tipo_merge = df_tipo.copy()\n",
    "#df_causa_merge = df_causa.copy()\n",
    "#df_user_merge = df_user.copy()\n",
    "#df_vehicle_merge = df_vehicle.copy()"
   ]
  },
  {
   "cell_type": "code",
   "execution_count": 111,
   "metadata": {},
   "outputs": [],
   "source": [
    "#df_tipo_merge.drop(['Codi_districte', 'Nom_districte', 'Codi_barri', 'Nom_barri', 'Codi_carrer', 'Nom_carrer', 'Num_postal', 'Dia_setmana','ID_Dia_setmana', 'Tipus_dia', 'Any', 'Mes', 'Nom_mes', 'Dia_de_mes','Hora_de_dia', 'Torn', 'Longitud', 'Latitud'], axis = 1, inplace = True)\n",
    "#df_causa_merge.drop(['Codi_districte', 'Nom_districte', 'Codi_barri', 'Nom_barri', 'Codi_carrer', 'Nom_carrer', 'Num_postal', 'Dia_setmana','ID_Dia_setmana', 'Tipus_dia', 'Any', 'Mes', 'Nom_mes', 'Dia_de_mes','Hora_de_dia', 'Torn', 'Longitud', 'Latitud'], axis = 1, inplace = True)\n",
    "#df_user_merge.drop(['Codi_districte', 'Nom_districte', 'Codi_barri', 'Nom_barri', 'Codi_carrer', 'Nom_carrer', 'Num_postal', 'Dia_setmana','ID_Dia_setmana', 'Tipus_dia', 'Any', 'Mes', 'Nom_mes', 'Dia_de_mes','Hora_de_dia', 'Torn', 'Longitud', 'Latitud'], axis = 1, inplace = True)\n",
    "#df_vehicle_merge.drop(['Codi_districte', 'Nom_districte', 'Codi_barri', 'Nom_barri', 'Codi_carrer', 'Nom_carrer', 'Num_postal', 'Dia_setmana','ID_Dia_setmana', 'Tipus_dia', 'Any', 'Mes', 'Nom_mes', 'Dia_de_mes','Hora_de_dia', 'Torn', 'Longitud', 'Latitud'], axis = 1, inplace = True)"
   ]
  },
  {
   "cell_type": "code",
   "execution_count": 112,
   "metadata": {},
   "outputs": [],
   "source": [
    "#print(df_tipo_merge.shape)\n",
    "#print(df_causa_merge.shape)\n",
    "#print(df_user_merge.shape)\n",
    "#print(df_vehicle_merge.shape)"
   ]
  },
  {
   "cell_type": "code",
   "execution_count": 113,
   "metadata": {},
   "outputs": [],
   "source": [
    "#tabla1.merge(tabla2, how = 'inner', left_on = (tabla1 id_cross), right_on = (tabla2 id_cross)) #mismo nombre 'on = '"
   ]
  },
  {
   "cell_type": "code",
   "execution_count": 114,
   "metadata": {},
   "outputs": [],
   "source": [
    "#valorar observaciones perdidas al hacer inner"
   ]
  },
  {
   "cell_type": "code",
   "execution_count": 115,
   "metadata": {},
   "outputs": [],
   "source": [
    "#df_ac_tp = df_acc.merge(df_tipo_merge, how = 'inner', on = 'Codi_expedient')\n",
    "#df_ac_tp.shape"
   ]
  },
  {
   "cell_type": "code",
   "execution_count": 116,
   "metadata": {},
   "outputs": [],
   "source": [
    "#df_ac_tp_cs = df_ac_tp.merge(df_causa_merge, how = 'inner', on = 'Codi_expedient')\n",
    "#df_ac_tp_cs.shape"
   ]
  },
  {
   "cell_type": "code",
   "execution_count": 117,
   "metadata": {},
   "outputs": [],
   "source": [
    "#df_ac_tp_cs_us = df_ac_tp_cs.merge(df_user_merge, how = 'inner', on = 'Codi_expedient')\n",
    "#df_ac_tp_cs_us.shape"
   ]
  },
  {
   "cell_type": "code",
   "execution_count": 118,
   "metadata": {},
   "outputs": [],
   "source": [
    "#df = df_ac_tp_cs_us.merge(df_vehicle_merge, how = 'inner', on = 'Codi_expedient')\n",
    "#df.shape"
   ]
  },
  {
   "cell_type": "code",
   "execution_count": null,
   "metadata": {},
   "outputs": [],
   "source": []
  },
  {
   "cell_type": "code",
   "execution_count": 119,
   "metadata": {},
   "outputs": [],
   "source": [
    "#print(df.Dia_de_mes.unique())\n"
   ]
  },
  {
   "cell_type": "code",
   "execution_count": 120,
   "metadata": {},
   "outputs": [],
   "source": [
    "#print(df.Mes.unique())"
   ]
  },
  {
   "cell_type": "code",
   "execution_count": 121,
   "metadata": {},
   "outputs": [],
   "source": [
    "#df['Tipus_dia'][(df['Mes'] == 1)&(df['Dia_de_mes']== 1)] = 'festivo_nacional'\n",
    "#df['Tipus_dia'][(df['Mes'] == 1)&(df['Dia_de_mes']==6)] = 'festivo_nacional'\n",
    "#df['Tipus_dia'][(df['Mes'] == 4)&(df['Dia_de_mes']==19)] = 'festivo_nacional'\n",
    "#df['Tipus_dia'][(df['Mes'] == 5)&(df['Dia_de_mes']==1)] = 'festivo_nacional'\n",
    "#df['Tipus_dia'][(df['Mes'] == 8)&(df['Dia_de_mes']==15)] = 'festivo_nacional'\n",
    "#df['Tipus_dia'][(df['Mes'] == 10)&(df['Dia_de_mes']==12)] = 'festivo_nacional'\n",
    "#df['Tipus_dia'][(df['Mes'] == 11)&(df['Dia_de_mes']==1)] = 'festivo_nacional'\n",
    "#df['Tipus_dia'][(df['Mes'] == 12)&(df['Dia_de_mes']==6)] = 'festivo_nacional'\n",
    "#df['Tipus_dia'][(df['Mes'] == 12)&(df['Dia_de_mes']==8)] = 'festivo_nacional'\n",
    "#df['Tipus_dia'][(df['Mes'] == 12)&(df['Dia_de_mes']==25)] = 'festivo_nacional'"
   ]
  },
  {
   "cell_type": "code",
   "execution_count": 122,
   "metadata": {},
   "outputs": [],
   "source": [
    "#df['Tipus_dia'][(df['Mes'] == 4)&(df['Dia_de_mes']==22)&(df['Any']==2019)] = 'festivo_regional'\n",
    "#df['Tipus_dia'][(df['Mes'] == 6)&(df['Dia_de_mes']==24)&(df['Any']==2019)] = 'festivo_regional'\n",
    "#df['Tipus_dia'][(df['Mes'] == 9)&(df['Dia_de_mes']==11)&(df['Any']==2019)] = 'festivo_regional'\n",
    "#df['Tipus_dia'][(df['Mes'] == 12)&(df['Dia_de_mes']==26)&(df['Any']==2019)] = 'festivo_regional'"
   ]
  },
  {
   "cell_type": "code",
   "execution_count": 123,
   "metadata": {},
   "outputs": [],
   "source": [
    "#df['Tipus_dia'][(df['Mes'] == 6)&(df['Dia_de_mes']==10)&(df['Any']==2019)] = 'festivo_local'\n",
    "#df['Tipus_dia'][(df['Mes'] == 9)&(df['Dia_de_mes']==24)&(df['Any']==2019)] = 'festivo_local'"
   ]
  },
  {
   "cell_type": "code",
   "execution_count": null,
   "metadata": {},
   "outputs": [],
   "source": []
  },
  {
   "cell_type": "code",
   "execution_count": 124,
   "metadata": {},
   "outputs": [],
   "source": [
    "#df['Tipus_dia'][(df['Mes'] == 4)&(df['Dia_de_mes']==2)&(df['Any']==2018)] = 'festivo_regional'\n",
    "#df['Tipus_dia'][(df['Mes'] == 9)&(df['Dia_de_mes']==11)&(df['Any']==2018)] = 'festivo_regional'\n",
    "#df['Tipus_dia'][(df['Mes'] == 12)&(df['Dia_de_mes']==26)&(df['Any']==2018)] = 'festivo_regional'"
   ]
  },
  {
   "cell_type": "code",
   "execution_count": 125,
   "metadata": {},
   "outputs": [],
   "source": [
    "#df['Tipus_dia'][(df['Mes'] == 5)&(df['Dia_de_mes']==21)&(df['Any']==2018)] = 'festivo_local'\n",
    "#df['Tipus_dia'][(df['Mes'] == 9)&(df['Dia_de_mes']==24)&(df['Any']==2018)] = 'festivo_local'"
   ]
  },
  {
   "cell_type": "code",
   "execution_count": null,
   "metadata": {},
   "outputs": [],
   "source": []
  },
  {
   "cell_type": "code",
   "execution_count": 126,
   "metadata": {},
   "outputs": [],
   "source": [
    "#df['Tipus_dia'][(df['Mes'] == 4)&(df['Dia_de_mes']==17)&(df['Any']==2017)] = 'festivo_regional'\n",
    "#df['Tipus_dia'][(df['Mes'] == 9)&(df['Dia_de_mes']==11)&(df['Any']==2017)] = 'festivo_regional'\n",
    "#df['Tipus_dia'][(df['Mes'] == 12)&(df['Dia_de_mes']==26)&(df['Any']==2017)] = 'festivo_regional'"
   ]
  },
  {
   "cell_type": "code",
   "execution_count": 127,
   "metadata": {},
   "outputs": [],
   "source": [
    "#df['Tipus_dia'][(df['Mes'] == 6)&(df['Dia_de_mes']==5)&(df['Any']==2017)] = 'festivo_local'\n",
    "#df['Tipus_dia'][(df['Mes'] == 9)&(df['Dia_de_mes']==25)&(df['Any']==2017)] = 'festivo_local'"
   ]
  },
  {
   "cell_type": "code",
   "execution_count": null,
   "metadata": {},
   "outputs": [],
   "source": []
  },
  {
   "cell_type": "code",
   "execution_count": 128,
   "metadata": {},
   "outputs": [],
   "source": [
    "#df['Tipus_dia'][(df['Mes'] == 3)&(df['Dia_de_mes']==28)&(df['Any']==2016)] = 'festivo_regional'\n",
    "#df['Tipus_dia'][(df['Mes'] == 5)&(df['Dia_de_mes']==16)&(df['Any']==2016)] = 'festivo_regional'\n",
    "#df['Tipus_dia'][(df['Mes'] == 6)&(df['Dia_de_mes']==24)&(df['Any']==2016)] = 'festivo_regional'\n",
    "#df['Tipus_dia'][(df['Mes'] == 9)&(df['Dia_de_mes']==11)&(df['Any']==2016)] = 'festivo_regional'\n",
    "#df['Tipus_dia'][(df['Mes'] == 12)&(df['Dia_de_mes']==26)&(df['Any']==2016)] = 'festivo_regional'"
   ]
  },
  {
   "cell_type": "code",
   "execution_count": 129,
   "metadata": {},
   "outputs": [],
   "source": [
    "#df['Tipus_dia'][(df['Mes'] == 2)&(df['Dia_de_mes']==12)&(df['Any']==2016)] = 'festivo_local'\n",
    "#df['Tipus_dia'][(df['Mes'] == 9)&(df['Dia_de_mes']==24)&(df['Any']==2016)] = 'festivo_local'"
   ]
  },
  {
   "cell_type": "code",
   "execution_count": null,
   "metadata": {},
   "outputs": [],
   "source": []
  },
  {
   "cell_type": "code",
   "execution_count": 130,
   "metadata": {},
   "outputs": [],
   "source": [
    "#df['Tipus_dia'][(df['Mes'] == 4)&(df['Dia_de_mes']==6)&(df['Any']==2015)] = 'festivo_regional'\n",
    "#df['Tipus_dia'][(df['Mes'] == 6)&(df['Dia_de_mes']==24)&(df['Any']==2015)] = 'festivo_regional'\n",
    "#df['Tipus_dia'][(df['Mes'] == 9)&(df['Dia_de_mes']==11)&(df['Any']==2015)] = 'festivo_regional'\n",
    "#df['Tipus_dia'][(df['Mes'] == 12)&(df['Dia_de_mes']==26)&(df['Any']==2015)] = 'festivo_regional'"
   ]
  },
  {
   "cell_type": "code",
   "execution_count": 131,
   "metadata": {},
   "outputs": [],
   "source": [
    "#df['Tipus_dia'][(df['Mes'] == 6)&(df['Dia_de_mes']==9)&(df['Any']==2015)] = 'festivo_local'\n",
    "#df['Tipus_dia'][(df['Mes'] == 9)&(df['Dia_de_mes']==24)&(df['Any']==2015)] = 'festivo_local'"
   ]
  },
  {
   "cell_type": "code",
   "execution_count": null,
   "metadata": {},
   "outputs": [],
   "source": []
  },
  {
   "cell_type": "code",
   "execution_count": 132,
   "metadata": {},
   "outputs": [],
   "source": [
    "#df['Tipus_dia'][(df['Mes'] == 4)&(df['Dia_de_mes']==21)&(df['Any']==2014)] = 'festivo_regional'\n",
    "#df['Tipus_dia'][(df['Mes'] == 6)&(df['Dia_de_mes']==24)&(df['Any']==2014)] = 'festivo_regional'\n",
    "#df['Tipus_dia'][(df['Mes'] == 9)&(df['Dia_de_mes']==11)&(df['Any']==2014)] = 'festivo_regional'\n",
    "#df['Tipus_dia'][(df['Mes'] == 12)&(df['Dia_de_mes']==26)&(df['Any']==2014)] = 'festivo_regional'"
   ]
  },
  {
   "cell_type": "code",
   "execution_count": 133,
   "metadata": {},
   "outputs": [],
   "source": [
    "#df['Tipus_dia'][(df['Mes'] == 6)&(df['Dia_de_mes']==1)&(df['Any']==2014)] = 'festivo_local'\n",
    "#df['Tipus_dia'][(df['Mes'] == 9)&(df['Dia_de_mes']==24)&(df['Any']==2014)] = 'festivo_local'"
   ]
  },
  {
   "cell_type": "code",
   "execution_count": null,
   "metadata": {},
   "outputs": [],
   "source": []
  },
  {
   "cell_type": "code",
   "execution_count": null,
   "metadata": {},
   "outputs": [],
   "source": []
  },
  {
   "cell_type": "code",
   "execution_count": 134,
   "metadata": {},
   "outputs": [],
   "source": [
    "#df.columns"
   ]
  },
  {
   "cell_type": "code",
   "execution_count": 135,
   "metadata": {},
   "outputs": [],
   "source": [
    "#df.Dia_setmana.unique()"
   ]
  },
  {
   "cell_type": "code",
   "execution_count": 136,
   "metadata": {},
   "outputs": [],
   "source": [
    "#df['Dia_setmana'] = df['Dia_setmana'].map({'Divendres': 'fri', 'Diumenge': 'sun', 'Dissabte': 'sat', 'Dimecres': 'wed', 'Dimarts': 'tue', 'Dilluns': 'mon', 'Dijous': 'thu'})"
   ]
  },
  {
   "cell_type": "code",
   "execution_count": 137,
   "metadata": {},
   "outputs": [],
   "source": [
    "#df.ID_Dia_setmana.unique()"
   ]
  },
  {
   "cell_type": "code",
   "execution_count": 138,
   "metadata": {},
   "outputs": [],
   "source": [
    "#df['ID_Dia_setmana'] = df['ID_Dia_setmana'].map({'Dm':2, 'Dc':3, 'Dj':4, 'Dv':5, 'Ds':6, 'Dg':7, 'Dl':1, 4:4, 3:3, 1:1, 2:2, 6:6, 5:5, 7:7})"
   ]
  },
  {
   "cell_type": "code",
   "execution_count": 139,
   "metadata": {},
   "outputs": [],
   "source": [
    "#df.Nom_mes.unique()"
   ]
  },
  {
   "cell_type": "code",
   "execution_count": 140,
   "metadata": {},
   "outputs": [],
   "source": [
    "#df['Nom_mes'] = df['Nom_mes'].map({'Gener': 'jan', 'Febrer': 'feb', 'Març': 'mar', 'Abril': 'apr', 'Maig': 'may', 'Juny': 'jun', 'Juliol': 'jul', 'Agost': 'aug', 'Setembre': 'sep', 'Octubre': 'oct', 'Desembre': 'dec', 'Novembre': 'nov'})"
   ]
  },
  {
   "cell_type": "code",
   "execution_count": 141,
   "metadata": {},
   "outputs": [],
   "source": [
    "#df.Torn.unique()"
   ]
  },
  {
   "cell_type": "code",
   "execution_count": 142,
   "metadata": {},
   "outputs": [],
   "source": [
    "#df['ID_Torn'] = df['Torn'].map({'Nit':3, 'Matí':1, 'Tarda':2})"
   ]
  },
  {
   "cell_type": "code",
   "execution_count": 143,
   "metadata": {},
   "outputs": [],
   "source": [
    "#df.Hora_de_dia.unique()"
   ]
  },
  {
   "cell_type": "code",
   "execution_count": 144,
   "metadata": {},
   "outputs": [],
   "source": [
    "# <2 l/m2 => lluvias débiles\n",
    "# 2-15 l/m2 => lluvia\n",
    "# 15-30 l/m2 => lluvias fuertes\n",
    "# 30-60 l/m2 => lluvias muy fuertes\n",
    "# >60 l/m2 => lluvias torrenciales"
   ]
  },
  {
   "cell_type": "code",
   "execution_count": 145,
   "metadata": {},
   "outputs": [],
   "source": [
    "#df.head()"
   ]
  },
  {
   "cell_type": "code",
   "execution_count": 146,
   "metadata": {},
   "outputs": [],
   "source": [
    "#df.Num_postal.unique()"
   ]
  },
  {
   "cell_type": "code",
   "execution_count": 147,
   "metadata": {},
   "outputs": [],
   "source": [
    "#df.info()"
   ]
  },
  {
   "cell_type": "code",
   "execution_count": 148,
   "metadata": {},
   "outputs": [],
   "source": [
    "#df['Any'] = df['Any'].astype('int32')\n",
    "#df['Mes'] = df['Mes'].astype('int32')\n",
    "#df['Dia_de_mes'] = df['Dia_de_mes'].astype('int32')"
   ]
  },
  {
   "cell_type": "code",
   "execution_count": 149,
   "metadata": {},
   "outputs": [],
   "source": [
    "#df.head()"
   ]
  },
  {
   "cell_type": "code",
   "execution_count": 150,
   "metadata": {},
   "outputs": [],
   "source": [
    "#df['fecha'] = pd.to_datetime(df.Any*10000+df.Mes*100+df.Dia_de_mes,format='%Y%m%d')\n",
    "#df.fecha"
   ]
  },
  {
   "cell_type": "code",
   "execution_count": 151,
   "metadata": {},
   "outputs": [],
   "source": [
    "#df_clima = pd.read_json(r'clima_2014-2019.json')\n",
    "#df_clima.head()"
   ]
  },
  {
   "cell_type": "code",
   "execution_count": 152,
   "metadata": {},
   "outputs": [],
   "source": [
    "#df_clima.drop(['indicativo', 'nombre', 'provincia', 'altitud', 'tmed','tmin', 'horatmin', 'tmax', 'horatmax'], axis = 1, inplace = True)"
   ]
  },
  {
   "cell_type": "code",
   "execution_count": 153,
   "metadata": {},
   "outputs": [],
   "source": [
    "#df_clima['fecha'] = pd.to_datetime(df.fecha, format='%Y%m%d')"
   ]
  },
  {
   "cell_type": "code",
   "execution_count": 154,
   "metadata": {},
   "outputs": [],
   "source": [
    "#df = df.merge(df_clima, how = 'inner', on = 'fecha')"
   ]
  },
  {
   "cell_type": "code",
   "execution_count": 155,
   "metadata": {},
   "outputs": [],
   "source": [
    "#df.columns"
   ]
  },
  {
   "cell_type": "code",
   "execution_count": 156,
   "metadata": {},
   "outputs": [],
   "source": [
    "#df.shape"
   ]
  },
  {
   "cell_type": "code",
   "execution_count": null,
   "metadata": {},
   "outputs": [],
   "source": []
  },
  {
   "cell_type": "code",
   "execution_count": null,
   "metadata": {},
   "outputs": [],
   "source": []
  },
  {
   "cell_type": "code",
   "execution_count": null,
   "metadata": {},
   "outputs": [],
   "source": []
  },
  {
   "cell_type": "code",
   "execution_count": 157,
   "metadata": {},
   "outputs": [],
   "source": [
    "#df_acc, df_tipo, df_causa, df_vehicle, df_user"
   ]
  },
  {
   "cell_type": "code",
   "execution_count": 158,
   "metadata": {},
   "outputs": [
    {
     "data": {
      "text/plain": [
       "Index(['Codi_expedient', 'Codi_districte', 'Nom_districte', 'Codi_barri',\n",
       "       'Nom_barri', 'Codi_carrer', 'Nom_carrer', 'Num_postal', 'Dia_setmana',\n",
       "       'ID_Dia_setmana', 'Tipus_dia', 'Any', 'Mes', 'Nom_mes', 'Dia_de_mes',\n",
       "       'Hora_de_dia', 'Torn', 'Descripcio_causa_vianant',\n",
       "       'Descripcio_tipus_vehicle', 'Descripcio_model', 'Descripcio_marca',\n",
       "       'Descripcio_color', 'Descripcio_carnet', 'Antiguitat_carnet',\n",
       "       'Coordenada_UTM_X', 'Coordenada_UTM_Y', 'Longitud', 'Latitud'],\n",
       "      dtype='object')"
      ]
     },
     "execution_count": 158,
     "metadata": {},
     "output_type": "execute_result"
    }
   ],
   "source": [
    "df_vehicle_19.columns"
   ]
  },
  {
   "cell_type": "code",
   "execution_count": 159,
   "metadata": {},
   "outputs": [],
   "source": [
    "df_acc_19m = df_acc_19[['Codi_expedient', 'Codi_districte', 'Nom_districte', 'Codi_barri',\n",
    "       'Nom_barri', 'Codi_carrer', 'Nom_carrer', 'Num_postal', 'Dia_setmana',\n",
    "       'ID_Dia_setmana', 'Tipus_dia', 'Any', 'Mes', 'Nom_mes', 'Dia_de_mes',\n",
    "       'Hora_de_dia', 'Torn','Numero_morts','Numero_lesionats_lleus', 'Numero_lesionats_greus', 'Numero_victimes',\n",
    "       'Numero_vehicles_implicats', 'Longitud', 'Latitud']]\n",
    "df_tipo_19m = df_19_tipo[['Codi_expedient','Tipus_accident']]\n",
    "df_causa_19m = df_causa_19[['Codi_expedient','Causa_mediata']]\n",
    "df_vehicle_19m = df_vehicle_19[['Codi_expedient','Descripcio_causa_vianant','Descripcio_tipus_vehicle', 'Descripcio_model', 'Descripcio_marca',\n",
    "       'Descripcio_color']]"
   ]
  },
  {
   "cell_type": "code",
   "execution_count": 160,
   "metadata": {},
   "outputs": [
    {
     "name": "stderr",
     "output_type": "stream",
     "text": [
      "<ipython-input-160-1935ca98be44>:1: SettingWithCopyWarning: \n",
      "A value is trying to be set on a copy of a slice from a DataFrame.\n",
      "Try using .loc[row_indexer,col_indexer] = value instead\n",
      "\n",
      "See the caveats in the documentation: https://pandas.pydata.org/pandas-docs/stable/user_guide/indexing.html#returning-a-view-versus-a-copy\n",
      "  df_acc_19m['Codi_expedient'] = df_acc_19['Codi_expedient'].str.strip()\n",
      "<ipython-input-160-1935ca98be44>:2: SettingWithCopyWarning: \n",
      "A value is trying to be set on a copy of a slice from a DataFrame.\n",
      "Try using .loc[row_indexer,col_indexer] = value instead\n",
      "\n",
      "See the caveats in the documentation: https://pandas.pydata.org/pandas-docs/stable/user_guide/indexing.html#returning-a-view-versus-a-copy\n",
      "  df_tipo_19m['Codi_expedient'] = df_tipo_19m['Codi_expedient'].str.strip()\n",
      "<ipython-input-160-1935ca98be44>:3: SettingWithCopyWarning: \n",
      "A value is trying to be set on a copy of a slice from a DataFrame.\n",
      "Try using .loc[row_indexer,col_indexer] = value instead\n",
      "\n",
      "See the caveats in the documentation: https://pandas.pydata.org/pandas-docs/stable/user_guide/indexing.html#returning-a-view-versus-a-copy\n",
      "  df_causa_19m['Codi_expedient'] = df_causa_19m['Codi_expedient'].str.strip()\n",
      "<ipython-input-160-1935ca98be44>:4: SettingWithCopyWarning: \n",
      "A value is trying to be set on a copy of a slice from a DataFrame.\n",
      "Try using .loc[row_indexer,col_indexer] = value instead\n",
      "\n",
      "See the caveats in the documentation: https://pandas.pydata.org/pandas-docs/stable/user_guide/indexing.html#returning-a-view-versus-a-copy\n",
      "  df_vehicle_19m['Codi_expedient'] = df_vehicle_19m['Codi_expedient'].str.strip()\n"
     ]
    }
   ],
   "source": [
    "df_acc_19m['Codi_expedient'] = df_acc_19['Codi_expedient'].str.strip()\n",
    "df_tipo_19m['Codi_expedient'] = df_tipo_19m['Codi_expedient'].str.strip()\n",
    "df_causa_19m['Codi_expedient'] = df_causa_19m['Codi_expedient'].str.strip()\n",
    "df_vehicle_19m['Codi_expedient'] = df_vehicle_19m['Codi_expedient'].str.strip()"
   ]
  },
  {
   "cell_type": "code",
   "execution_count": 161,
   "metadata": {},
   "outputs": [
    {
     "name": "stdout",
     "output_type": "stream",
     "text": [
      "(10027, 24)\n",
      "(10536, 2)\n",
      "(10028, 2)\n",
      "(19037, 6)\n"
     ]
    }
   ],
   "source": [
    "print(df_acc_19m.shape)\n",
    "print(df_tipo_19m.shape)\n",
    "print(df_causa_19m.shape)\n",
    "print(df_vehicle_19m.shape)"
   ]
  },
  {
   "cell_type": "code",
   "execution_count": 162,
   "metadata": {},
   "outputs": [
    {
     "data": {
      "text/plain": [
       "2019S008334        18\n",
       "2019S001628        17\n",
       "2019S003298        16\n",
       "2019S002801        13\n",
       "2019S001042        11\n",
       "                   ..\n",
       "2019S009760         1\n",
       "2019S007013         1\n",
       "2019S005950         1\n",
       "2019S008607         1\n",
       "2019S005990         1\n",
       "Name: Codi_expedient, Length: 10012, dtype: int64"
      ]
     },
     "execution_count": 162,
     "metadata": {},
     "output_type": "execute_result"
    }
   ],
   "source": [
    "df_vehicle_19.Codi_expedient.value_counts()"
   ]
  },
  {
   "cell_type": "code",
   "execution_count": 163,
   "metadata": {},
   "outputs": [
    {
     "data": {
      "text/html": [
       "<div>\n",
       "<style scoped>\n",
       "    .dataframe tbody tr th:only-of-type {\n",
       "        vertical-align: middle;\n",
       "    }\n",
       "\n",
       "    .dataframe tbody tr th {\n",
       "        vertical-align: top;\n",
       "    }\n",
       "\n",
       "    .dataframe thead th {\n",
       "        text-align: right;\n",
       "    }\n",
       "</style>\n",
       "<table border=\"1\" class=\"dataframe\">\n",
       "  <thead>\n",
       "    <tr style=\"text-align: right;\">\n",
       "      <th></th>\n",
       "      <th>8313</th>\n",
       "    </tr>\n",
       "  </thead>\n",
       "  <tbody>\n",
       "    <tr>\n",
       "      <th>Codi_expedient</th>\n",
       "      <td>2019S008334</td>\n",
       "    </tr>\n",
       "    <tr>\n",
       "      <th>Codi_districte</th>\n",
       "      <td>10</td>\n",
       "    </tr>\n",
       "    <tr>\n",
       "      <th>Nom_districte</th>\n",
       "      <td>Sant Martí</td>\n",
       "    </tr>\n",
       "    <tr>\n",
       "      <th>Codi_barri</th>\n",
       "      <td>69</td>\n",
       "    </tr>\n",
       "    <tr>\n",
       "      <th>Nom_barri</th>\n",
       "      <td>Diagonal Mar i el Front Marítim del Poblenou</td>\n",
       "    </tr>\n",
       "    <tr>\n",
       "      <th>Codi_carrer</th>\n",
       "      <td>700768</td>\n",
       "    </tr>\n",
       "    <tr>\n",
       "      <th>Nom_carrer</th>\n",
       "      <td>Marítim del Bogatell                          ...</td>\n",
       "    </tr>\n",
       "    <tr>\n",
       "      <th>Num_postal</th>\n",
       "      <td>0131 0131</td>\n",
       "    </tr>\n",
       "    <tr>\n",
       "      <th>Dia_setmana</th>\n",
       "      <td>Dissabte</td>\n",
       "    </tr>\n",
       "    <tr>\n",
       "      <th>ID_Dia_setmana</th>\n",
       "      <td>Ds</td>\n",
       "    </tr>\n",
       "    <tr>\n",
       "      <th>Tipus_dia</th>\n",
       "      <td>Laboral</td>\n",
       "    </tr>\n",
       "    <tr>\n",
       "      <th>Any</th>\n",
       "      <td>2019</td>\n",
       "    </tr>\n",
       "    <tr>\n",
       "      <th>Mes</th>\n",
       "      <td>7</td>\n",
       "    </tr>\n",
       "    <tr>\n",
       "      <th>Nom_mes</th>\n",
       "      <td>Juliol</td>\n",
       "    </tr>\n",
       "    <tr>\n",
       "      <th>Dia_de_mes</th>\n",
       "      <td>27</td>\n",
       "    </tr>\n",
       "    <tr>\n",
       "      <th>Hora_de_dia</th>\n",
       "      <td>12</td>\n",
       "    </tr>\n",
       "    <tr>\n",
       "      <th>Torn</th>\n",
       "      <td>Matí</td>\n",
       "    </tr>\n",
       "    <tr>\n",
       "      <th>Numero_morts</th>\n",
       "      <td>0</td>\n",
       "    </tr>\n",
       "    <tr>\n",
       "      <th>Numero_lesionats_lleus</th>\n",
       "      <td>1</td>\n",
       "    </tr>\n",
       "    <tr>\n",
       "      <th>Numero_lesionats_greus</th>\n",
       "      <td>0</td>\n",
       "    </tr>\n",
       "    <tr>\n",
       "      <th>Numero_victimes</th>\n",
       "      <td>1</td>\n",
       "    </tr>\n",
       "    <tr>\n",
       "      <th>Numero_vehicles_implicats</th>\n",
       "      <td>18</td>\n",
       "    </tr>\n",
       "    <tr>\n",
       "      <th>Longitud</th>\n",
       "      <td>2.21465</td>\n",
       "    </tr>\n",
       "    <tr>\n",
       "      <th>Latitud</th>\n",
       "      <td>41.402</td>\n",
       "    </tr>\n",
       "  </tbody>\n",
       "</table>\n",
       "</div>"
      ],
      "text/plain": [
       "                                                                        8313\n",
       "Codi_expedient                                                   2019S008334\n",
       "Codi_districte                                                            10\n",
       "Nom_districte                                                     Sant Martí\n",
       "Codi_barri                                                                69\n",
       "Nom_barri                       Diagonal Mar i el Front Marítim del Poblenou\n",
       "Codi_carrer                                                           700768\n",
       "Nom_carrer                 Marítim del Bogatell                          ...\n",
       "Num_postal                                                         0131 0131\n",
       "Dia_setmana                                                         Dissabte\n",
       "ID_Dia_setmana                                                            Ds\n",
       "Tipus_dia                                                            Laboral\n",
       "Any                                                                     2019\n",
       "Mes                                                                        7\n",
       "Nom_mes                                                               Juliol\n",
       "Dia_de_mes                                                                27\n",
       "Hora_de_dia                                                               12\n",
       "Torn                                                                    Matí\n",
       "Numero_morts                                                               0\n",
       "Numero_lesionats_lleus                                                     1\n",
       "Numero_lesionats_greus                                                     0\n",
       "Numero_victimes                                                            1\n",
       "Numero_vehicles_implicats                                                 18\n",
       "Longitud                                                             2.21465\n",
       "Latitud                                                               41.402"
      ]
     },
     "execution_count": 163,
     "metadata": {},
     "output_type": "execute_result"
    }
   ],
   "source": [
    "df_acc_19m[df_acc_19m['Codi_expedient']=='2019S008334'].T"
   ]
  },
  {
   "cell_type": "code",
   "execution_count": 164,
   "metadata": {},
   "outputs": [
    {
     "data": {
      "text/html": [
       "<div>\n",
       "<style scoped>\n",
       "    .dataframe tbody tr th:only-of-type {\n",
       "        vertical-align: middle;\n",
       "    }\n",
       "\n",
       "    .dataframe tbody tr th {\n",
       "        vertical-align: top;\n",
       "    }\n",
       "\n",
       "    .dataframe thead th {\n",
       "        text-align: right;\n",
       "    }\n",
       "</style>\n",
       "<table border=\"1\" class=\"dataframe\">\n",
       "  <thead>\n",
       "    <tr style=\"text-align: right;\">\n",
       "      <th></th>\n",
       "      <th>18112</th>\n",
       "      <th>18113</th>\n",
       "      <th>18114</th>\n",
       "      <th>18115</th>\n",
       "      <th>18116</th>\n",
       "      <th>18117</th>\n",
       "      <th>18118</th>\n",
       "      <th>18119</th>\n",
       "      <th>18120</th>\n",
       "      <th>18121</th>\n",
       "      <th>18122</th>\n",
       "      <th>18123</th>\n",
       "      <th>18124</th>\n",
       "      <th>18125</th>\n",
       "      <th>18126</th>\n",
       "      <th>18127</th>\n",
       "      <th>18128</th>\n",
       "      <th>18129</th>\n",
       "    </tr>\n",
       "  </thead>\n",
       "  <tbody>\n",
       "    <tr>\n",
       "      <th>Codi_expedient</th>\n",
       "      <td>2019S008334</td>\n",
       "      <td>2019S008334</td>\n",
       "      <td>2019S008334</td>\n",
       "      <td>2019S008334</td>\n",
       "      <td>2019S008334</td>\n",
       "      <td>2019S008334</td>\n",
       "      <td>2019S008334</td>\n",
       "      <td>2019S008334</td>\n",
       "      <td>2019S008334</td>\n",
       "      <td>2019S008334</td>\n",
       "      <td>2019S008334</td>\n",
       "      <td>2019S008334</td>\n",
       "      <td>2019S008334</td>\n",
       "      <td>2019S008334</td>\n",
       "      <td>2019S008334</td>\n",
       "      <td>2019S008334</td>\n",
       "      <td>2019S008334</td>\n",
       "      <td>2019S008334</td>\n",
       "    </tr>\n",
       "    <tr>\n",
       "      <th>Descripcio_causa_vianant</th>\n",
       "      <td>No és causa del  vianant</td>\n",
       "      <td>No és causa del  vianant</td>\n",
       "      <td>No és causa del  vianant</td>\n",
       "      <td>No és causa del  vianant</td>\n",
       "      <td>No és causa del  vianant</td>\n",
       "      <td>No és causa del  vianant</td>\n",
       "      <td>No és causa del  vianant</td>\n",
       "      <td>No és causa del  vianant</td>\n",
       "      <td>No és causa del  vianant</td>\n",
       "      <td>No és causa del  vianant</td>\n",
       "      <td>No és causa del  vianant</td>\n",
       "      <td>No és causa del  vianant</td>\n",
       "      <td>No és causa del  vianant</td>\n",
       "      <td>No és causa del  vianant</td>\n",
       "      <td>No és causa del  vianant</td>\n",
       "      <td>No és causa del  vianant</td>\n",
       "      <td>No és causa del  vianant</td>\n",
       "      <td>No és causa del  vianant</td>\n",
       "    </tr>\n",
       "    <tr>\n",
       "      <th>Descripcio_tipus_vehicle</th>\n",
       "      <td>Furgoneta</td>\n",
       "      <td>Furgoneta</td>\n",
       "      <td>Tot terreny</td>\n",
       "      <td>Turisme</td>\n",
       "      <td>Turisme</td>\n",
       "      <td>Turisme</td>\n",
       "      <td>Turisme</td>\n",
       "      <td>Turisme</td>\n",
       "      <td>Turisme</td>\n",
       "      <td>Turisme</td>\n",
       "      <td>Turisme</td>\n",
       "      <td>Turisme</td>\n",
       "      <td>Turisme</td>\n",
       "      <td>Turisme</td>\n",
       "      <td>Turisme</td>\n",
       "      <td>Turisme</td>\n",
       "      <td>Turisme</td>\n",
       "      <td>Turisme</td>\n",
       "    </tr>\n",
       "    <tr>\n",
       "      <th>Descripcio_model</th>\n",
       "      <td>MULTIVAN</td>\n",
       "      <td>TRANSIT CONNECT</td>\n",
       "      <td>FREELANDER 2 Td4 160CV</td>\n",
       "      <td>108 TOP! ALLURE VTI 72</td>\n",
       "      <td>207</td>\n",
       "      <td>323</td>\n",
       "      <td>A3 1.6</td>\n",
       "      <td>AUDI A3 1.8 5V</td>\n",
       "      <td>B 200 CDI</td>\n",
       "      <td>C3 1.4</td>\n",
       "      <td>CORSA-E</td>\n",
       "      <td>GRAND SCENIC 1.9</td>\n",
       "      <td>IBIZA</td>\n",
       "      <td>IBIZA 1.9 D. 3P</td>\n",
       "      <td>NISSAN QASHQAI</td>\n",
       "      <td>SCIROCCO</td>\n",
       "      <td>SPORTAGE</td>\n",
       "      <td>TUCSON</td>\n",
       "    </tr>\n",
       "    <tr>\n",
       "      <th>Descripcio_marca</th>\n",
       "      <td>VOLKSWAGEN</td>\n",
       "      <td>FORD</td>\n",
       "      <td>LAND ROVER</td>\n",
       "      <td>PEUGEOT</td>\n",
       "      <td>PEUGEOT</td>\n",
       "      <td>MAZDA</td>\n",
       "      <td>AUDI</td>\n",
       "      <td>AUDI</td>\n",
       "      <td>MERCEDES-BENZ</td>\n",
       "      <td>CITROEN</td>\n",
       "      <td>OPEL</td>\n",
       "      <td>RENAULT</td>\n",
       "      <td>SEAT</td>\n",
       "      <td>SEAT</td>\n",
       "      <td>NISSAN</td>\n",
       "      <td>VOLKSWAGEN</td>\n",
       "      <td>KIA</td>\n",
       "      <td>HYUNDAI</td>\n",
       "    </tr>\n",
       "    <tr>\n",
       "      <th>Descripcio_color</th>\n",
       "      <td>Gris</td>\n",
       "      <td>NaN</td>\n",
       "      <td>NaN</td>\n",
       "      <td>NaN</td>\n",
       "      <td>NaN</td>\n",
       "      <td>NaN</td>\n",
       "      <td>NaN</td>\n",
       "      <td>NaN</td>\n",
       "      <td>NaN</td>\n",
       "      <td>NaN</td>\n",
       "      <td>NaN</td>\n",
       "      <td>NaN</td>\n",
       "      <td>NaN</td>\n",
       "      <td>NaN</td>\n",
       "      <td>NaN</td>\n",
       "      <td>NaN</td>\n",
       "      <td>NaN</td>\n",
       "      <td>NaN</td>\n",
       "    </tr>\n",
       "  </tbody>\n",
       "</table>\n",
       "</div>"
      ],
      "text/plain": [
       "                                             18112                     18113  \\\n",
       "Codi_expedient                         2019S008334               2019S008334   \n",
       "Descripcio_causa_vianant  No és causa del  vianant  No és causa del  vianant   \n",
       "Descripcio_tipus_vehicle                 Furgoneta                 Furgoneta   \n",
       "Descripcio_model                          MULTIVAN           TRANSIT CONNECT   \n",
       "Descripcio_marca                        VOLKSWAGEN                      FORD   \n",
       "Descripcio_color                              Gris                       NaN   \n",
       "\n",
       "                                             18114                     18115  \\\n",
       "Codi_expedient                         2019S008334               2019S008334   \n",
       "Descripcio_causa_vianant  No és causa del  vianant  No és causa del  vianant   \n",
       "Descripcio_tipus_vehicle               Tot terreny                   Turisme   \n",
       "Descripcio_model            FREELANDER 2 Td4 160CV    108 TOP! ALLURE VTI 72   \n",
       "Descripcio_marca                        LAND ROVER                   PEUGEOT   \n",
       "Descripcio_color                               NaN                       NaN   \n",
       "\n",
       "                                             18116                     18117  \\\n",
       "Codi_expedient                         2019S008334               2019S008334   \n",
       "Descripcio_causa_vianant  No és causa del  vianant  No és causa del  vianant   \n",
       "Descripcio_tipus_vehicle                   Turisme                   Turisme   \n",
       "Descripcio_model                               207                       323   \n",
       "Descripcio_marca                           PEUGEOT                     MAZDA   \n",
       "Descripcio_color                               NaN                       NaN   \n",
       "\n",
       "                                             18118                     18119  \\\n",
       "Codi_expedient                         2019S008334               2019S008334   \n",
       "Descripcio_causa_vianant  No és causa del  vianant  No és causa del  vianant   \n",
       "Descripcio_tipus_vehicle                   Turisme                   Turisme   \n",
       "Descripcio_model                            A3 1.6            AUDI A3 1.8 5V   \n",
       "Descripcio_marca                              AUDI                      AUDI   \n",
       "Descripcio_color                               NaN                       NaN   \n",
       "\n",
       "                                             18120                     18121  \\\n",
       "Codi_expedient                         2019S008334               2019S008334   \n",
       "Descripcio_causa_vianant  No és causa del  vianant  No és causa del  vianant   \n",
       "Descripcio_tipus_vehicle                   Turisme                   Turisme   \n",
       "Descripcio_model                         B 200 CDI                    C3 1.4   \n",
       "Descripcio_marca                     MERCEDES-BENZ                   CITROEN   \n",
       "Descripcio_color                               NaN                       NaN   \n",
       "\n",
       "                                             18122                     18123  \\\n",
       "Codi_expedient                         2019S008334               2019S008334   \n",
       "Descripcio_causa_vianant  No és causa del  vianant  No és causa del  vianant   \n",
       "Descripcio_tipus_vehicle                   Turisme                   Turisme   \n",
       "Descripcio_model                           CORSA-E          GRAND SCENIC 1.9   \n",
       "Descripcio_marca                              OPEL                   RENAULT   \n",
       "Descripcio_color                               NaN                       NaN   \n",
       "\n",
       "                                             18124                     18125  \\\n",
       "Codi_expedient                         2019S008334               2019S008334   \n",
       "Descripcio_causa_vianant  No és causa del  vianant  No és causa del  vianant   \n",
       "Descripcio_tipus_vehicle                   Turisme                   Turisme   \n",
       "Descripcio_model                             IBIZA           IBIZA 1.9 D. 3P   \n",
       "Descripcio_marca                              SEAT                      SEAT   \n",
       "Descripcio_color                               NaN                       NaN   \n",
       "\n",
       "                                             18126                     18127  \\\n",
       "Codi_expedient                         2019S008334               2019S008334   \n",
       "Descripcio_causa_vianant  No és causa del  vianant  No és causa del  vianant   \n",
       "Descripcio_tipus_vehicle                   Turisme                   Turisme   \n",
       "Descripcio_model                    NISSAN QASHQAI                  SCIROCCO   \n",
       "Descripcio_marca                            NISSAN                VOLKSWAGEN   \n",
       "Descripcio_color                               NaN                       NaN   \n",
       "\n",
       "                                             18128                     18129  \n",
       "Codi_expedient                         2019S008334               2019S008334  \n",
       "Descripcio_causa_vianant  No és causa del  vianant  No és causa del  vianant  \n",
       "Descripcio_tipus_vehicle                   Turisme                   Turisme  \n",
       "Descripcio_model                          SPORTAGE                    TUCSON  \n",
       "Descripcio_marca                               KIA                   HYUNDAI  \n",
       "Descripcio_color                               NaN                       NaN  "
      ]
     },
     "execution_count": 164,
     "metadata": {},
     "output_type": "execute_result"
    }
   ],
   "source": [
    "df_vehicle_19m[df_vehicle_19m['Codi_expedient']=='2019S008334'].T"
   ]
  },
  {
   "cell_type": "code",
   "execution_count": 165,
   "metadata": {},
   "outputs": [
    {
     "data": {
      "text/plain": [
       "(10535, 25)"
      ]
     },
     "execution_count": 165,
     "metadata": {},
     "output_type": "execute_result"
    }
   ],
   "source": [
    "df_19 = df_acc_19m.merge(df_tipo_19m, how = 'inner', on = ['Codi_expedient'])\n",
    "df_19.sort_values(by = 'Codi_expedient', axis = 0, inplace = True, ignore_index = True)\n",
    "df_19.shape"
   ]
  },
  {
   "cell_type": "code",
   "execution_count": 166,
   "metadata": {},
   "outputs": [
    {
     "data": {
      "text/plain": [
       "(10535, 26)"
      ]
     },
     "execution_count": 166,
     "metadata": {},
     "output_type": "execute_result"
    }
   ],
   "source": [
    "df_19 = df_19.merge(df_causa_19m, how = 'inner', on = 'Codi_expedient')\n",
    "df_19.sort_values(by = 'Codi_expedient', axis = 0, inplace = True, ignore_index = True)\n",
    "df_19.shape"
   ]
  },
  {
   "cell_type": "code",
   "execution_count": 167,
   "metadata": {},
   "outputs": [
    {
     "data": {
      "text/plain": [
       "(20210, 31)"
      ]
     },
     "execution_count": 167,
     "metadata": {},
     "output_type": "execute_result"
    }
   ],
   "source": [
    "df_19 = df_19.merge(df_vehicle_19m, how = 'inner', on = 'Codi_expedient')\n",
    "df_19.sort_values(by = 'Codi_expedient', axis = 0, inplace = True, ignore_index = True)\n",
    "df_19.shape"
   ]
  },
  {
   "cell_type": "code",
   "execution_count": 168,
   "metadata": {},
   "outputs": [
    {
     "data": {
      "text/plain": [
       "2019S001042    22\n",
       "2019S001378    20\n",
       "2019S008334    18\n",
       "2019S001628    17\n",
       "2019S003298    16\n",
       "               ..\n",
       "2019S005994     1\n",
       "2019S005729     1\n",
       "2019S005548     1\n",
       "2019S009100     1\n",
       "2019S000834     1\n",
       "Name: Codi_expedient, Length: 10011, dtype: int64"
      ]
     },
     "execution_count": 168,
     "metadata": {},
     "output_type": "execute_result"
    }
   ],
   "source": [
    "df_19.Codi_expedient.value_counts()"
   ]
  },
  {
   "cell_type": "code",
   "execution_count": 169,
   "metadata": {},
   "outputs": [
    {
     "data": {
      "text/plain": [
       "(array([1.6602e+04, 2.9890e+03, 3.9600e+02, 4.9000e+01, 5.9000e+01,\n",
       "        5.1000e+01, 0.0000e+00, 1.3000e+01, 0.0000e+00, 5.1000e+01]),\n",
       " array([ 1. ,  2.7,  4.4,  6.1,  7.8,  9.5, 11.2, 12.9, 14.6, 16.3, 18. ]),\n",
       " <BarContainer object of 10 artists>)"
      ]
     },
     "execution_count": 169,
     "metadata": {},
     "output_type": "execute_result"
    },
    {
     "data": {
      "image/png": "[encoded data removed]",
      "text/plain": [
       "<Figure size 432x288 with 1 Axes>"
      ]
     },
     "metadata": {
      "needs_background": "light"
     },
     "output_type": "display_data"
    }
   ],
   "source": [
    "import matplotlib.pyplot as plt\n",
    "\n",
    "plt.hist(df_19['Numero_vehicles_implicats'])"
   ]
  },
  {
   "cell_type": "code",
   "execution_count": 170,
   "metadata": {},
   "outputs": [
    {
     "data": {
      "text/plain": [
       "(19591, 31)"
      ]
     },
     "execution_count": 170,
     "metadata": {},
     "output_type": "execute_result"
    }
   ],
   "source": [
    "df_19 = df_19[df_19['Numero_vehicles_implicats'] <= 4]\n",
    "df_19.shape"
   ]
  },
  {
   "cell_type": "code",
   "execution_count": 171,
   "metadata": {},
   "outputs": [],
   "source": [
    "df_19['Nom_carrer'] = df_19['Nom_carrer'].str.strip()"
   ]
  },
  {
   "cell_type": "code",
   "execution_count": 172,
   "metadata": {},
   "outputs": [
    {
     "data": {
      "text/plain": [
       "2019S004374    16\n",
       "2019S001578    12\n",
       "2019S007366    12\n",
       "2019S005527    12\n",
       "2019S004185    12\n",
       "               ..\n",
       "2019S000117     1\n",
       "2019S003699     1\n",
       "2019S007013     1\n",
       "2019S003537     1\n",
       "2019S000834     1\n",
       "Name: Codi_expedient, Length: 9932, dtype: int64"
      ]
     },
     "execution_count": 172,
     "metadata": {},
     "output_type": "execute_result"
    }
   ],
   "source": [
    "df_19.Codi_expedient.value_counts()"
   ]
  },
  {
   "cell_type": "code",
   "execution_count": 173,
   "metadata": {
    "scrolled": true
   },
   "outputs": [
    {
     "data": {
      "text/html": [
       "<div>\n",
       "<style scoped>\n",
       "    .dataframe tbody tr th:only-of-type {\n",
       "        vertical-align: middle;\n",
       "    }\n",
       "\n",
       "    .dataframe tbody tr th {\n",
       "        vertical-align: top;\n",
       "    }\n",
       "\n",
       "    .dataframe thead th {\n",
       "        text-align: right;\n",
       "    }\n",
       "</style>\n",
       "<table border=\"1\" class=\"dataframe\">\n",
       "  <thead>\n",
       "    <tr style=\"text-align: right;\">\n",
       "      <th></th>\n",
       "      <th>8936</th>\n",
       "      <th>8937</th>\n",
       "      <th>8938</th>\n",
       "      <th>8939</th>\n",
       "      <th>8940</th>\n",
       "      <th>8941</th>\n",
       "      <th>8942</th>\n",
       "      <th>8943</th>\n",
       "      <th>8944</th>\n",
       "      <th>8945</th>\n",
       "      <th>8946</th>\n",
       "      <th>8947</th>\n",
       "      <th>8948</th>\n",
       "      <th>8949</th>\n",
       "      <th>8950</th>\n",
       "      <th>8951</th>\n",
       "    </tr>\n",
       "  </thead>\n",
       "  <tbody>\n",
       "    <tr>\n",
       "      <th>Codi_expedient</th>\n",
       "      <td>2019S004374</td>\n",
       "      <td>2019S004374</td>\n",
       "      <td>2019S004374</td>\n",
       "      <td>2019S004374</td>\n",
       "      <td>2019S004374</td>\n",
       "      <td>2019S004374</td>\n",
       "      <td>2019S004374</td>\n",
       "      <td>2019S004374</td>\n",
       "      <td>2019S004374</td>\n",
       "      <td>2019S004374</td>\n",
       "      <td>2019S004374</td>\n",
       "      <td>2019S004374</td>\n",
       "      <td>2019S004374</td>\n",
       "      <td>2019S004374</td>\n",
       "      <td>2019S004374</td>\n",
       "      <td>2019S004374</td>\n",
       "    </tr>\n",
       "    <tr>\n",
       "      <th>Codi_districte</th>\n",
       "      <td>7</td>\n",
       "      <td>7</td>\n",
       "      <td>7</td>\n",
       "      <td>7</td>\n",
       "      <td>7</td>\n",
       "      <td>7</td>\n",
       "      <td>7</td>\n",
       "      <td>7</td>\n",
       "      <td>7</td>\n",
       "      <td>7</td>\n",
       "      <td>7</td>\n",
       "      <td>7</td>\n",
       "      <td>7</td>\n",
       "      <td>7</td>\n",
       "      <td>7</td>\n",
       "      <td>7</td>\n",
       "    </tr>\n",
       "    <tr>\n",
       "      <th>Nom_districte</th>\n",
       "      <td>Horta-Guinardó</td>\n",
       "      <td>Horta-Guinardó</td>\n",
       "      <td>Horta-Guinardó</td>\n",
       "      <td>Horta-Guinardó</td>\n",
       "      <td>Horta-Guinardó</td>\n",
       "      <td>Horta-Guinardó</td>\n",
       "      <td>Horta-Guinardó</td>\n",
       "      <td>Horta-Guinardó</td>\n",
       "      <td>Horta-Guinardó</td>\n",
       "      <td>Horta-Guinardó</td>\n",
       "      <td>Horta-Guinardó</td>\n",
       "      <td>Horta-Guinardó</td>\n",
       "      <td>Horta-Guinardó</td>\n",
       "      <td>Horta-Guinardó</td>\n",
       "      <td>Horta-Guinardó</td>\n",
       "      <td>Horta-Guinardó</td>\n",
       "    </tr>\n",
       "    <tr>\n",
       "      <th>Codi_barri</th>\n",
       "      <td>41</td>\n",
       "      <td>41</td>\n",
       "      <td>41</td>\n",
       "      <td>41</td>\n",
       "      <td>41</td>\n",
       "      <td>41</td>\n",
       "      <td>41</td>\n",
       "      <td>41</td>\n",
       "      <td>41</td>\n",
       "      <td>41</td>\n",
       "      <td>41</td>\n",
       "      <td>41</td>\n",
       "      <td>41</td>\n",
       "      <td>41</td>\n",
       "      <td>41</td>\n",
       "      <td>41</td>\n",
       "    </tr>\n",
       "    <tr>\n",
       "      <th>Nom_barri</th>\n",
       "      <td>la Vall d'Hebron</td>\n",
       "      <td>la Vall d'Hebron</td>\n",
       "      <td>la Vall d'Hebron</td>\n",
       "      <td>la Vall d'Hebron</td>\n",
       "      <td>la Vall d'Hebron</td>\n",
       "      <td>la Vall d'Hebron</td>\n",
       "      <td>la Vall d'Hebron</td>\n",
       "      <td>la Vall d'Hebron</td>\n",
       "      <td>la Vall d'Hebron</td>\n",
       "      <td>la Vall d'Hebron</td>\n",
       "      <td>la Vall d'Hebron</td>\n",
       "      <td>la Vall d'Hebron</td>\n",
       "      <td>la Vall d'Hebron</td>\n",
       "      <td>la Vall d'Hebron</td>\n",
       "      <td>la Vall d'Hebron</td>\n",
       "      <td>la Vall d'Hebron</td>\n",
       "    </tr>\n",
       "    <tr>\n",
       "      <th>Codi_carrer</th>\n",
       "      <td>701268</td>\n",
       "      <td>701268</td>\n",
       "      <td>701268</td>\n",
       "      <td>701268</td>\n",
       "      <td>701268</td>\n",
       "      <td>701268</td>\n",
       "      <td>701268</td>\n",
       "      <td>701268</td>\n",
       "      <td>701268</td>\n",
       "      <td>701268</td>\n",
       "      <td>701268</td>\n",
       "      <td>701268</td>\n",
       "      <td>701268</td>\n",
       "      <td>701268</td>\n",
       "      <td>701268</td>\n",
       "      <td>701268</td>\n",
       "    </tr>\n",
       "    <tr>\n",
       "      <th>Nom_carrer</th>\n",
       "      <td>B-20 (Besòs)</td>\n",
       "      <td>B-20 (Besòs)</td>\n",
       "      <td>B-20 (Besòs)</td>\n",
       "      <td>B-20 (Besòs)</td>\n",
       "      <td>B-20 (Besòs)</td>\n",
       "      <td>B-20 (Besòs)</td>\n",
       "      <td>B-20 (Besòs)</td>\n",
       "      <td>B-20 (Besòs)</td>\n",
       "      <td>B-20 (Besòs)</td>\n",
       "      <td>B-20 (Besòs)</td>\n",
       "      <td>B-20 (Besòs)</td>\n",
       "      <td>B-20 (Besòs)</td>\n",
       "      <td>B-20 (Besòs)</td>\n",
       "      <td>B-20 (Besòs)</td>\n",
       "      <td>B-20 (Besòs)</td>\n",
       "      <td>B-20 (Besòs)</td>\n",
       "    </tr>\n",
       "    <tr>\n",
       "      <th>Num_postal</th>\n",
       "      <td>1110000</td>\n",
       "      <td>1110000</td>\n",
       "      <td>1110000</td>\n",
       "      <td>1110000</td>\n",
       "      <td>1110000</td>\n",
       "      <td>1110000</td>\n",
       "      <td>1110000</td>\n",
       "      <td>1110000</td>\n",
       "      <td>1110000</td>\n",
       "      <td>1110000</td>\n",
       "      <td>1110000</td>\n",
       "      <td>1110000</td>\n",
       "      <td>1110000</td>\n",
       "      <td>1110000</td>\n",
       "      <td>1110000</td>\n",
       "      <td>1110000</td>\n",
       "    </tr>\n",
       "    <tr>\n",
       "      <th>Dia_setmana</th>\n",
       "      <td>Dimarts</td>\n",
       "      <td>Dimarts</td>\n",
       "      <td>Dimarts</td>\n",
       "      <td>Dimarts</td>\n",
       "      <td>Dimarts</td>\n",
       "      <td>Dimarts</td>\n",
       "      <td>Dimarts</td>\n",
       "      <td>Dimarts</td>\n",
       "      <td>Dimarts</td>\n",
       "      <td>Dimarts</td>\n",
       "      <td>Dimarts</td>\n",
       "      <td>Dimarts</td>\n",
       "      <td>Dimarts</td>\n",
       "      <td>Dimarts</td>\n",
       "      <td>Dimarts</td>\n",
       "      <td>Dimarts</td>\n",
       "    </tr>\n",
       "    <tr>\n",
       "      <th>ID_Dia_setmana</th>\n",
       "      <td>Dm</td>\n",
       "      <td>Dm</td>\n",
       "      <td>Dm</td>\n",
       "      <td>Dm</td>\n",
       "      <td>Dm</td>\n",
       "      <td>Dm</td>\n",
       "      <td>Dm</td>\n",
       "      <td>Dm</td>\n",
       "      <td>Dm</td>\n",
       "      <td>Dm</td>\n",
       "      <td>Dm</td>\n",
       "      <td>Dm</td>\n",
       "      <td>Dm</td>\n",
       "      <td>Dm</td>\n",
       "      <td>Dm</td>\n",
       "      <td>Dm</td>\n",
       "    </tr>\n",
       "    <tr>\n",
       "      <th>Tipus_dia</th>\n",
       "      <td>Laboral</td>\n",
       "      <td>Laboral</td>\n",
       "      <td>Laboral</td>\n",
       "      <td>Laboral</td>\n",
       "      <td>Laboral</td>\n",
       "      <td>Laboral</td>\n",
       "      <td>Laboral</td>\n",
       "      <td>Laboral</td>\n",
       "      <td>Laboral</td>\n",
       "      <td>Laboral</td>\n",
       "      <td>Laboral</td>\n",
       "      <td>Laboral</td>\n",
       "      <td>Laboral</td>\n",
       "      <td>Laboral</td>\n",
       "      <td>Laboral</td>\n",
       "      <td>Laboral</td>\n",
       "    </tr>\n",
       "    <tr>\n",
       "      <th>Any</th>\n",
       "      <td>2019</td>\n",
       "      <td>2019</td>\n",
       "      <td>2019</td>\n",
       "      <td>2019</td>\n",
       "      <td>2019</td>\n",
       "      <td>2019</td>\n",
       "      <td>2019</td>\n",
       "      <td>2019</td>\n",
       "      <td>2019</td>\n",
       "      <td>2019</td>\n",
       "      <td>2019</td>\n",
       "      <td>2019</td>\n",
       "      <td>2019</td>\n",
       "      <td>2019</td>\n",
       "      <td>2019</td>\n",
       "      <td>2019</td>\n",
       "    </tr>\n",
       "    <tr>\n",
       "      <th>Mes</th>\n",
       "      <td>6</td>\n",
       "      <td>6</td>\n",
       "      <td>6</td>\n",
       "      <td>6</td>\n",
       "      <td>6</td>\n",
       "      <td>6</td>\n",
       "      <td>6</td>\n",
       "      <td>6</td>\n",
       "      <td>6</td>\n",
       "      <td>6</td>\n",
       "      <td>6</td>\n",
       "      <td>6</td>\n",
       "      <td>6</td>\n",
       "      <td>6</td>\n",
       "      <td>6</td>\n",
       "      <td>6</td>\n",
       "    </tr>\n",
       "    <tr>\n",
       "      <th>Nom_mes</th>\n",
       "      <td>Juny</td>\n",
       "      <td>Juny</td>\n",
       "      <td>Juny</td>\n",
       "      <td>Juny</td>\n",
       "      <td>Juny</td>\n",
       "      <td>Juny</td>\n",
       "      <td>Juny</td>\n",
       "      <td>Juny</td>\n",
       "      <td>Juny</td>\n",
       "      <td>Juny</td>\n",
       "      <td>Juny</td>\n",
       "      <td>Juny</td>\n",
       "      <td>Juny</td>\n",
       "      <td>Juny</td>\n",
       "      <td>Juny</td>\n",
       "      <td>Juny</td>\n",
       "    </tr>\n",
       "    <tr>\n",
       "      <th>Dia_de_mes</th>\n",
       "      <td>4</td>\n",
       "      <td>4</td>\n",
       "      <td>4</td>\n",
       "      <td>4</td>\n",
       "      <td>4</td>\n",
       "      <td>4</td>\n",
       "      <td>4</td>\n",
       "      <td>4</td>\n",
       "      <td>4</td>\n",
       "      <td>4</td>\n",
       "      <td>4</td>\n",
       "      <td>4</td>\n",
       "      <td>4</td>\n",
       "      <td>4</td>\n",
       "      <td>4</td>\n",
       "      <td>4</td>\n",
       "    </tr>\n",
       "    <tr>\n",
       "      <th>Hora_de_dia</th>\n",
       "      <td>18</td>\n",
       "      <td>18</td>\n",
       "      <td>18</td>\n",
       "      <td>18</td>\n",
       "      <td>18</td>\n",
       "      <td>18</td>\n",
       "      <td>18</td>\n",
       "      <td>18</td>\n",
       "      <td>18</td>\n",
       "      <td>18</td>\n",
       "      <td>18</td>\n",
       "      <td>18</td>\n",
       "      <td>18</td>\n",
       "      <td>18</td>\n",
       "      <td>18</td>\n",
       "      <td>18</td>\n",
       "    </tr>\n",
       "    <tr>\n",
       "      <th>Torn</th>\n",
       "      <td>Tarda</td>\n",
       "      <td>Tarda</td>\n",
       "      <td>Tarda</td>\n",
       "      <td>Tarda</td>\n",
       "      <td>Tarda</td>\n",
       "      <td>Tarda</td>\n",
       "      <td>Tarda</td>\n",
       "      <td>Tarda</td>\n",
       "      <td>Tarda</td>\n",
       "      <td>Tarda</td>\n",
       "      <td>Tarda</td>\n",
       "      <td>Tarda</td>\n",
       "      <td>Tarda</td>\n",
       "      <td>Tarda</td>\n",
       "      <td>Tarda</td>\n",
       "      <td>Tarda</td>\n",
       "    </tr>\n",
       "    <tr>\n",
       "      <th>Numero_morts</th>\n",
       "      <td>0</td>\n",
       "      <td>0</td>\n",
       "      <td>0</td>\n",
       "      <td>0</td>\n",
       "      <td>0</td>\n",
       "      <td>0</td>\n",
       "      <td>0</td>\n",
       "      <td>0</td>\n",
       "      <td>0</td>\n",
       "      <td>0</td>\n",
       "      <td>0</td>\n",
       "      <td>0</td>\n",
       "      <td>0</td>\n",
       "      <td>0</td>\n",
       "      <td>0</td>\n",
       "      <td>0</td>\n",
       "    </tr>\n",
       "    <tr>\n",
       "      <th>Numero_lesionats_lleus</th>\n",
       "      <td>2</td>\n",
       "      <td>2</td>\n",
       "      <td>2</td>\n",
       "      <td>2</td>\n",
       "      <td>2</td>\n",
       "      <td>2</td>\n",
       "      <td>2</td>\n",
       "      <td>2</td>\n",
       "      <td>2</td>\n",
       "      <td>2</td>\n",
       "      <td>2</td>\n",
       "      <td>2</td>\n",
       "      <td>2</td>\n",
       "      <td>2</td>\n",
       "      <td>2</td>\n",
       "      <td>2</td>\n",
       "    </tr>\n",
       "    <tr>\n",
       "      <th>Numero_lesionats_greus</th>\n",
       "      <td>1</td>\n",
       "      <td>1</td>\n",
       "      <td>1</td>\n",
       "      <td>1</td>\n",
       "      <td>1</td>\n",
       "      <td>1</td>\n",
       "      <td>1</td>\n",
       "      <td>1</td>\n",
       "      <td>1</td>\n",
       "      <td>1</td>\n",
       "      <td>1</td>\n",
       "      <td>1</td>\n",
       "      <td>1</td>\n",
       "      <td>1</td>\n",
       "      <td>1</td>\n",
       "      <td>1</td>\n",
       "    </tr>\n",
       "    <tr>\n",
       "      <th>Numero_victimes</th>\n",
       "      <td>3</td>\n",
       "      <td>3</td>\n",
       "      <td>3</td>\n",
       "      <td>3</td>\n",
       "      <td>3</td>\n",
       "      <td>3</td>\n",
       "      <td>3</td>\n",
       "      <td>3</td>\n",
       "      <td>3</td>\n",
       "      <td>3</td>\n",
       "      <td>3</td>\n",
       "      <td>3</td>\n",
       "      <td>3</td>\n",
       "      <td>3</td>\n",
       "      <td>3</td>\n",
       "      <td>3</td>\n",
       "    </tr>\n",
       "    <tr>\n",
       "      <th>Numero_vehicles_implicats</th>\n",
       "      <td>4</td>\n",
       "      <td>4</td>\n",
       "      <td>4</td>\n",
       "      <td>4</td>\n",
       "      <td>4</td>\n",
       "      <td>4</td>\n",
       "      <td>4</td>\n",
       "      <td>4</td>\n",
       "      <td>4</td>\n",
       "      <td>4</td>\n",
       "      <td>4</td>\n",
       "      <td>4</td>\n",
       "      <td>4</td>\n",
       "      <td>4</td>\n",
       "      <td>4</td>\n",
       "      <td>4</td>\n",
       "    </tr>\n",
       "    <tr>\n",
       "      <th>Longitud</th>\n",
       "      <td>2.14423</td>\n",
       "      <td>2.14423</td>\n",
       "      <td>2.14423</td>\n",
       "      <td>2.14423</td>\n",
       "      <td>2.14423</td>\n",
       "      <td>2.14423</td>\n",
       "      <td>2.14423</td>\n",
       "      <td>2.14423</td>\n",
       "      <td>2.14423</td>\n",
       "      <td>2.14423</td>\n",
       "      <td>2.14423</td>\n",
       "      <td>2.14423</td>\n",
       "      <td>2.14423</td>\n",
       "      <td>2.14423</td>\n",
       "      <td>2.14423</td>\n",
       "      <td>2.14423</td>\n",
       "    </tr>\n",
       "    <tr>\n",
       "      <th>Latitud</th>\n",
       "      <td>41.4289</td>\n",
       "      <td>41.4289</td>\n",
       "      <td>41.4289</td>\n",
       "      <td>41.4289</td>\n",
       "      <td>41.4289</td>\n",
       "      <td>41.4289</td>\n",
       "      <td>41.4289</td>\n",
       "      <td>41.4289</td>\n",
       "      <td>41.4289</td>\n",
       "      <td>41.4289</td>\n",
       "      <td>41.4289</td>\n",
       "      <td>41.4289</td>\n",
       "      <td>41.4289</td>\n",
       "      <td>41.4289</td>\n",
       "      <td>41.4289</td>\n",
       "      <td>41.4289</td>\n",
       "    </tr>\n",
       "    <tr>\n",
       "      <th>Tipus_accident</th>\n",
       "      <td>Abast multiple</td>\n",
       "      <td>Col.lisió lateral</td>\n",
       "      <td>Col.lisió lateral</td>\n",
       "      <td>Col.lisió lateral</td>\n",
       "      <td>Col.lisió lateral</td>\n",
       "      <td>Abast multiple</td>\n",
       "      <td>Abast multiple</td>\n",
       "      <td>Abast multiple</td>\n",
       "      <td>Abast</td>\n",
       "      <td>Col.lisió fronto-lateral</td>\n",
       "      <td>Col.lisió fronto-lateral</td>\n",
       "      <td>Col.lisió fronto-lateral</td>\n",
       "      <td>Abast</td>\n",
       "      <td>Abast</td>\n",
       "      <td>Abast</td>\n",
       "      <td>Col.lisió fronto-lateral</td>\n",
       "    </tr>\n",
       "    <tr>\n",
       "      <th>Causa_mediata</th>\n",
       "      <td>No hi ha causa mediata</td>\n",
       "      <td>No hi ha causa mediata</td>\n",
       "      <td>No hi ha causa mediata</td>\n",
       "      <td>No hi ha causa mediata</td>\n",
       "      <td>No hi ha causa mediata</td>\n",
       "      <td>No hi ha causa mediata</td>\n",
       "      <td>No hi ha causa mediata</td>\n",
       "      <td>No hi ha causa mediata</td>\n",
       "      <td>No hi ha causa mediata</td>\n",
       "      <td>No hi ha causa mediata</td>\n",
       "      <td>No hi ha causa mediata</td>\n",
       "      <td>No hi ha causa mediata</td>\n",
       "      <td>No hi ha causa mediata</td>\n",
       "      <td>No hi ha causa mediata</td>\n",
       "      <td>No hi ha causa mediata</td>\n",
       "      <td>No hi ha causa mediata</td>\n",
       "    </tr>\n",
       "    <tr>\n",
       "      <th>Descripcio_causa_vianant</th>\n",
       "      <td>No és causa del  vianant</td>\n",
       "      <td>No és causa del  vianant</td>\n",
       "      <td>No és causa del  vianant</td>\n",
       "      <td>No és causa del  vianant</td>\n",
       "      <td>No és causa del  vianant</td>\n",
       "      <td>No és causa del  vianant</td>\n",
       "      <td>No és causa del  vianant</td>\n",
       "      <td>No és causa del  vianant</td>\n",
       "      <td>No és causa del  vianant</td>\n",
       "      <td>No és causa del  vianant</td>\n",
       "      <td>No és causa del  vianant</td>\n",
       "      <td>No és causa del  vianant</td>\n",
       "      <td>No és causa del  vianant</td>\n",
       "      <td>No és causa del  vianant</td>\n",
       "      <td>No és causa del  vianant</td>\n",
       "      <td>No és causa del  vianant</td>\n",
       "    </tr>\n",
       "    <tr>\n",
       "      <th>Descripcio_tipus_vehicle</th>\n",
       "      <td>Motocicleta</td>\n",
       "      <td>Turisme</td>\n",
       "      <td>Motocicleta</td>\n",
       "      <td>Motocicleta</td>\n",
       "      <td>Motocicleta</td>\n",
       "      <td>Turisme</td>\n",
       "      <td>Motocicleta</td>\n",
       "      <td>Motocicleta</td>\n",
       "      <td>Turisme</td>\n",
       "      <td>Motocicleta</td>\n",
       "      <td>Motocicleta</td>\n",
       "      <td>Motocicleta</td>\n",
       "      <td>Motocicleta</td>\n",
       "      <td>Motocicleta</td>\n",
       "      <td>Motocicleta</td>\n",
       "      <td>Turisme</td>\n",
       "    </tr>\n",
       "    <tr>\n",
       "      <th>Descripcio_model</th>\n",
       "      <td>Z 750</td>\n",
       "      <td>DOKKER</td>\n",
       "      <td>Z800</td>\n",
       "      <td>Z 750</td>\n",
       "      <td>CBF600N</td>\n",
       "      <td>DOKKER</td>\n",
       "      <td>Z800</td>\n",
       "      <td>CBF600N</td>\n",
       "      <td>DOKKER</td>\n",
       "      <td>Z800</td>\n",
       "      <td>Z 750</td>\n",
       "      <td>CBF600N</td>\n",
       "      <td>Z800</td>\n",
       "      <td>Z 750</td>\n",
       "      <td>CBF600N</td>\n",
       "      <td>DOKKER</td>\n",
       "    </tr>\n",
       "    <tr>\n",
       "      <th>Descripcio_marca</th>\n",
       "      <td>KAWASAKI</td>\n",
       "      <td>DACIA</td>\n",
       "      <td>KAWASAKI</td>\n",
       "      <td>KAWASAKI</td>\n",
       "      <td>HONDA</td>\n",
       "      <td>DACIA</td>\n",
       "      <td>KAWASAKI</td>\n",
       "      <td>HONDA</td>\n",
       "      <td>DACIA</td>\n",
       "      <td>KAWASAKI</td>\n",
       "      <td>KAWASAKI</td>\n",
       "      <td>HONDA</td>\n",
       "      <td>KAWASAKI</td>\n",
       "      <td>KAWASAKI</td>\n",
       "      <td>HONDA</td>\n",
       "      <td>DACIA</td>\n",
       "    </tr>\n",
       "    <tr>\n",
       "      <th>Descripcio_color</th>\n",
       "      <td>Verd</td>\n",
       "      <td>Blanc</td>\n",
       "      <td>Negre</td>\n",
       "      <td>Verd</td>\n",
       "      <td>Negre</td>\n",
       "      <td>Blanc</td>\n",
       "      <td>Negre</td>\n",
       "      <td>Negre</td>\n",
       "      <td>Blanc</td>\n",
       "      <td>Negre</td>\n",
       "      <td>Verd</td>\n",
       "      <td>Negre</td>\n",
       "      <td>Negre</td>\n",
       "      <td>Verd</td>\n",
       "      <td>Negre</td>\n",
       "      <td>Blanc</td>\n",
       "    </tr>\n",
       "  </tbody>\n",
       "</table>\n",
       "</div>"
      ],
      "text/plain": [
       "                                               8936                      8937  \\\n",
       "Codi_expedient                          2019S004374               2019S004374   \n",
       "Codi_districte                                    7                         7   \n",
       "Nom_districte                        Horta-Guinardó            Horta-Guinardó   \n",
       "Codi_barri                                       41                        41   \n",
       "Nom_barri                          la Vall d'Hebron          la Vall d'Hebron   \n",
       "Codi_carrer                                  701268                    701268   \n",
       "Nom_carrer                             B-20 (Besòs)              B-20 (Besòs)   \n",
       "Num_postal                                  1110000                   1110000   \n",
       "Dia_setmana                                 Dimarts                   Dimarts   \n",
       "ID_Dia_setmana                                   Dm                        Dm   \n",
       "Tipus_dia                                   Laboral                   Laboral   \n",
       "Any                                            2019                      2019   \n",
       "Mes                                               6                         6   \n",
       "Nom_mes                                        Juny                      Juny   \n",
       "Dia_de_mes                                        4                         4   \n",
       "Hora_de_dia                                      18                        18   \n",
       "Torn                                          Tarda                     Tarda   \n",
       "Numero_morts                                      0                         0   \n",
       "Numero_lesionats_lleus                            2                         2   \n",
       "Numero_lesionats_greus                            1                         1   \n",
       "Numero_victimes                                   3                         3   \n",
       "Numero_vehicles_implicats                         4                         4   \n",
       "Longitud                                    2.14423                   2.14423   \n",
       "Latitud                                     41.4289                   41.4289   \n",
       "Tipus_accident                       Abast multiple         Col.lisió lateral   \n",
       "Causa_mediata                No hi ha causa mediata    No hi ha causa mediata   \n",
       "Descripcio_causa_vianant   No és causa del  vianant  No és causa del  vianant   \n",
       "Descripcio_tipus_vehicle                Motocicleta                   Turisme   \n",
       "Descripcio_model                              Z 750                    DOKKER   \n",
       "Descripcio_marca                           KAWASAKI                     DACIA   \n",
       "Descripcio_color                               Verd                     Blanc   \n",
       "\n",
       "                                               8938                      8939  \\\n",
       "Codi_expedient                          2019S004374               2019S004374   \n",
       "Codi_districte                                    7                         7   \n",
       "Nom_districte                        Horta-Guinardó            Horta-Guinardó   \n",
       "Codi_barri                                       41                        41   \n",
       "Nom_barri                          la Vall d'Hebron          la Vall d'Hebron   \n",
       "Codi_carrer                                  701268                    701268   \n",
       "Nom_carrer                             B-20 (Besòs)              B-20 (Besòs)   \n",
       "Num_postal                                  1110000                   1110000   \n",
       "Dia_setmana                                 Dimarts                   Dimarts   \n",
       "ID_Dia_setmana                                   Dm                        Dm   \n",
       "Tipus_dia                                   Laboral                   Laboral   \n",
       "Any                                            2019                      2019   \n",
       "Mes                                               6                         6   \n",
       "Nom_mes                                        Juny                      Juny   \n",
       "Dia_de_mes                                        4                         4   \n",
       "Hora_de_dia                                      18                        18   \n",
       "Torn                                          Tarda                     Tarda   \n",
       "Numero_morts                                      0                         0   \n",
       "Numero_lesionats_lleus                            2                         2   \n",
       "Numero_lesionats_greus                            1                         1   \n",
       "Numero_victimes                                   3                         3   \n",
       "Numero_vehicles_implicats                         4                         4   \n",
       "Longitud                                    2.14423                   2.14423   \n",
       "Latitud                                     41.4289                   41.4289   \n",
       "Tipus_accident                    Col.lisió lateral         Col.lisió lateral   \n",
       "Causa_mediata                No hi ha causa mediata    No hi ha causa mediata   \n",
       "Descripcio_causa_vianant   No és causa del  vianant  No és causa del  vianant   \n",
       "Descripcio_tipus_vehicle                Motocicleta               Motocicleta   \n",
       "Descripcio_model                               Z800                     Z 750   \n",
       "Descripcio_marca                           KAWASAKI                  KAWASAKI   \n",
       "Descripcio_color                              Negre                      Verd   \n",
       "\n",
       "                                               8940                      8941  \\\n",
       "Codi_expedient                          2019S004374               2019S004374   \n",
       "Codi_districte                                    7                         7   \n",
       "Nom_districte                        Horta-Guinardó            Horta-Guinardó   \n",
       "Codi_barri                                       41                        41   \n",
       "Nom_barri                          la Vall d'Hebron          la Vall d'Hebron   \n",
       "Codi_carrer                                  701268                    701268   \n",
       "Nom_carrer                             B-20 (Besòs)              B-20 (Besòs)   \n",
       "Num_postal                                  1110000                   1110000   \n",
       "Dia_setmana                                 Dimarts                   Dimarts   \n",
       "ID_Dia_setmana                                   Dm                        Dm   \n",
       "Tipus_dia                                   Laboral                   Laboral   \n",
       "Any                                            2019                      2019   \n",
       "Mes                                               6                         6   \n",
       "Nom_mes                                        Juny                      Juny   \n",
       "Dia_de_mes                                        4                         4   \n",
       "Hora_de_dia                                      18                        18   \n",
       "Torn                                          Tarda                     Tarda   \n",
       "Numero_morts                                      0                         0   \n",
       "Numero_lesionats_lleus                            2                         2   \n",
       "Numero_lesionats_greus                            1                         1   \n",
       "Numero_victimes                                   3                         3   \n",
       "Numero_vehicles_implicats                         4                         4   \n",
       "Longitud                                    2.14423                   2.14423   \n",
       "Latitud                                     41.4289                   41.4289   \n",
       "Tipus_accident                    Col.lisió lateral            Abast multiple   \n",
       "Causa_mediata                No hi ha causa mediata    No hi ha causa mediata   \n",
       "Descripcio_causa_vianant   No és causa del  vianant  No és causa del  vianant   \n",
       "Descripcio_tipus_vehicle                Motocicleta                   Turisme   \n",
       "Descripcio_model                            CBF600N                    DOKKER   \n",
       "Descripcio_marca                              HONDA                     DACIA   \n",
       "Descripcio_color                              Negre                     Blanc   \n",
       "\n",
       "                                               8942                      8943  \\\n",
       "Codi_expedient                          2019S004374               2019S004374   \n",
       "Codi_districte                                    7                         7   \n",
       "Nom_districte                        Horta-Guinardó            Horta-Guinardó   \n",
       "Codi_barri                                       41                        41   \n",
       "Nom_barri                          la Vall d'Hebron          la Vall d'Hebron   \n",
       "Codi_carrer                                  701268                    701268   \n",
       "Nom_carrer                             B-20 (Besòs)              B-20 (Besòs)   \n",
       "Num_postal                                  1110000                   1110000   \n",
       "Dia_setmana                                 Dimarts                   Dimarts   \n",
       "ID_Dia_setmana                                   Dm                        Dm   \n",
       "Tipus_dia                                   Laboral                   Laboral   \n",
       "Any                                            2019                      2019   \n",
       "Mes                                               6                         6   \n",
       "Nom_mes                                        Juny                      Juny   \n",
       "Dia_de_mes                                        4                         4   \n",
       "Hora_de_dia                                      18                        18   \n",
       "Torn                                          Tarda                     Tarda   \n",
       "Numero_morts                                      0                         0   \n",
       "Numero_lesionats_lleus                            2                         2   \n",
       "Numero_lesionats_greus                            1                         1   \n",
       "Numero_victimes                                   3                         3   \n",
       "Numero_vehicles_implicats                         4                         4   \n",
       "Longitud                                    2.14423                   2.14423   \n",
       "Latitud                                     41.4289                   41.4289   \n",
       "Tipus_accident                       Abast multiple            Abast multiple   \n",
       "Causa_mediata                No hi ha causa mediata    No hi ha causa mediata   \n",
       "Descripcio_causa_vianant   No és causa del  vianant  No és causa del  vianant   \n",
       "Descripcio_tipus_vehicle                Motocicleta               Motocicleta   \n",
       "Descripcio_model                               Z800                   CBF600N   \n",
       "Descripcio_marca                           KAWASAKI                     HONDA   \n",
       "Descripcio_color                              Negre                     Negre   \n",
       "\n",
       "                                               8944                      8945  \\\n",
       "Codi_expedient                          2019S004374               2019S004374   \n",
       "Codi_districte                                    7                         7   \n",
       "Nom_districte                        Horta-Guinardó            Horta-Guinardó   \n",
       "Codi_barri                                       41                        41   \n",
       "Nom_barri                          la Vall d'Hebron          la Vall d'Hebron   \n",
       "Codi_carrer                                  701268                    701268   \n",
       "Nom_carrer                             B-20 (Besòs)              B-20 (Besòs)   \n",
       "Num_postal                                  1110000                   1110000   \n",
       "Dia_setmana                                 Dimarts                   Dimarts   \n",
       "ID_Dia_setmana                                   Dm                        Dm   \n",
       "Tipus_dia                                   Laboral                   Laboral   \n",
       "Any                                            2019                      2019   \n",
       "Mes                                               6                         6   \n",
       "Nom_mes                                        Juny                      Juny   \n",
       "Dia_de_mes                                        4                         4   \n",
       "Hora_de_dia                                      18                        18   \n",
       "Torn                                          Tarda                     Tarda   \n",
       "Numero_morts                                      0                         0   \n",
       "Numero_lesionats_lleus                            2                         2   \n",
       "Numero_lesionats_greus                            1                         1   \n",
       "Numero_victimes                                   3                         3   \n",
       "Numero_vehicles_implicats                         4                         4   \n",
       "Longitud                                    2.14423                   2.14423   \n",
       "Latitud                                     41.4289                   41.4289   \n",
       "Tipus_accident                                Abast  Col.lisió fronto-lateral   \n",
       "Causa_mediata                No hi ha causa mediata    No hi ha causa mediata   \n",
       "Descripcio_causa_vianant   No és causa del  vianant  No és causa del  vianant   \n",
       "Descripcio_tipus_vehicle                    Turisme               Motocicleta   \n",
       "Descripcio_model                             DOKKER                      Z800   \n",
       "Descripcio_marca                              DACIA                  KAWASAKI   \n",
       "Descripcio_color                              Blanc                     Negre   \n",
       "\n",
       "                                               8946                      8947  \\\n",
       "Codi_expedient                          2019S004374               2019S004374   \n",
       "Codi_districte                                    7                         7   \n",
       "Nom_districte                        Horta-Guinardó            Horta-Guinardó   \n",
       "Codi_barri                                       41                        41   \n",
       "Nom_barri                          la Vall d'Hebron          la Vall d'Hebron   \n",
       "Codi_carrer                                  701268                    701268   \n",
       "Nom_carrer                             B-20 (Besòs)              B-20 (Besòs)   \n",
       "Num_postal                                  1110000                   1110000   \n",
       "Dia_setmana                                 Dimarts                   Dimarts   \n",
       "ID_Dia_setmana                                   Dm                        Dm   \n",
       "Tipus_dia                                   Laboral                   Laboral   \n",
       "Any                                            2019                      2019   \n",
       "Mes                                               6                         6   \n",
       "Nom_mes                                        Juny                      Juny   \n",
       "Dia_de_mes                                        4                         4   \n",
       "Hora_de_dia                                      18                        18   \n",
       "Torn                                          Tarda                     Tarda   \n",
       "Numero_morts                                      0                         0   \n",
       "Numero_lesionats_lleus                            2                         2   \n",
       "Numero_lesionats_greus                            1                         1   \n",
       "Numero_victimes                                   3                         3   \n",
       "Numero_vehicles_implicats                         4                         4   \n",
       "Longitud                                    2.14423                   2.14423   \n",
       "Latitud                                     41.4289                   41.4289   \n",
       "Tipus_accident             Col.lisió fronto-lateral  Col.lisió fronto-lateral   \n",
       "Causa_mediata                No hi ha causa mediata    No hi ha causa mediata   \n",
       "Descripcio_causa_vianant   No és causa del  vianant  No és causa del  vianant   \n",
       "Descripcio_tipus_vehicle                Motocicleta               Motocicleta   \n",
       "Descripcio_model                              Z 750                   CBF600N   \n",
       "Descripcio_marca                           KAWASAKI                     HONDA   \n",
       "Descripcio_color                               Verd                     Negre   \n",
       "\n",
       "                                               8948                      8949  \\\n",
       "Codi_expedient                          2019S004374               2019S004374   \n",
       "Codi_districte                                    7                         7   \n",
       "Nom_districte                        Horta-Guinardó            Horta-Guinardó   \n",
       "Codi_barri                                       41                        41   \n",
       "Nom_barri                          la Vall d'Hebron          la Vall d'Hebron   \n",
       "Codi_carrer                                  701268                    701268   \n",
       "Nom_carrer                             B-20 (Besòs)              B-20 (Besòs)   \n",
       "Num_postal                                  1110000                   1110000   \n",
       "Dia_setmana                                 Dimarts                   Dimarts   \n",
       "ID_Dia_setmana                                   Dm                        Dm   \n",
       "Tipus_dia                                   Laboral                   Laboral   \n",
       "Any                                            2019                      2019   \n",
       "Mes                                               6                         6   \n",
       "Nom_mes                                        Juny                      Juny   \n",
       "Dia_de_mes                                        4                         4   \n",
       "Hora_de_dia                                      18                        18   \n",
       "Torn                                          Tarda                     Tarda   \n",
       "Numero_morts                                      0                         0   \n",
       "Numero_lesionats_lleus                            2                         2   \n",
       "Numero_lesionats_greus                            1                         1   \n",
       "Numero_victimes                                   3                         3   \n",
       "Numero_vehicles_implicats                         4                         4   \n",
       "Longitud                                    2.14423                   2.14423   \n",
       "Latitud                                     41.4289                   41.4289   \n",
       "Tipus_accident                                Abast                     Abast   \n",
       "Causa_mediata                No hi ha causa mediata    No hi ha causa mediata   \n",
       "Descripcio_causa_vianant   No és causa del  vianant  No és causa del  vianant   \n",
       "Descripcio_tipus_vehicle                Motocicleta               Motocicleta   \n",
       "Descripcio_model                               Z800                     Z 750   \n",
       "Descripcio_marca                           KAWASAKI                  KAWASAKI   \n",
       "Descripcio_color                              Negre                      Verd   \n",
       "\n",
       "                                               8950                      8951  \n",
       "Codi_expedient                          2019S004374               2019S004374  \n",
       "Codi_districte                                    7                         7  \n",
       "Nom_districte                        Horta-Guinardó            Horta-Guinardó  \n",
       "Codi_barri                                       41                        41  \n",
       "Nom_barri                          la Vall d'Hebron          la Vall d'Hebron  \n",
       "Codi_carrer                                  701268                    701268  \n",
       "Nom_carrer                             B-20 (Besòs)              B-20 (Besòs)  \n",
       "Num_postal                                  1110000                   1110000  \n",
       "Dia_setmana                                 Dimarts                   Dimarts  \n",
       "ID_Dia_setmana                                   Dm                        Dm  \n",
       "Tipus_dia                                   Laboral                   Laboral  \n",
       "Any                                            2019                      2019  \n",
       "Mes                                               6                         6  \n",
       "Nom_mes                                        Juny                      Juny  \n",
       "Dia_de_mes                                        4                         4  \n",
       "Hora_de_dia                                      18                        18  \n",
       "Torn                                          Tarda                     Tarda  \n",
       "Numero_morts                                      0                         0  \n",
       "Numero_lesionats_lleus                            2                         2  \n",
       "Numero_lesionats_greus                            1                         1  \n",
       "Numero_victimes                                   3                         3  \n",
       "Numero_vehicles_implicats                         4                         4  \n",
       "Longitud                                    2.14423                   2.14423  \n",
       "Latitud                                     41.4289                   41.4289  \n",
       "Tipus_accident                                Abast  Col.lisió fronto-lateral  \n",
       "Causa_mediata                No hi ha causa mediata    No hi ha causa mediata  \n",
       "Descripcio_causa_vianant   No és causa del  vianant  No és causa del  vianant  \n",
       "Descripcio_tipus_vehicle                Motocicleta                   Turisme  \n",
       "Descripcio_model                            CBF600N                    DOKKER  \n",
       "Descripcio_marca                              HONDA                     DACIA  \n",
       "Descripcio_color                              Negre                     Blanc  "
      ]
     },
     "execution_count": 173,
     "metadata": {},
     "output_type": "execute_result"
    }
   ],
   "source": [
    "df_19[df_19['Codi_expedient']=='2019S004374'].T"
   ]
  },
  {
   "cell_type": "code",
   "execution_count": 174,
   "metadata": {},
   "outputs": [],
   "source": [
    "df_19.drop_duplicates(subset= ['Codi_expedient','Descripcio_tipus_vehicle', 'Descripcio_model', 'Descripcio_marca', 'Descripcio_color'], keep = 'first', inplace = True, ignore_index = True)"
   ]
  },
  {
   "cell_type": "code",
   "execution_count": 175,
   "metadata": {},
   "outputs": [
    {
     "data": {
      "text/plain": [
       "(18501, 31)"
      ]
     },
     "execution_count": 175,
     "metadata": {},
     "output_type": "execute_result"
    }
   ],
   "source": [
    "df_19.shape"
   ]
  },
  {
   "cell_type": "code",
   "execution_count": 176,
   "metadata": {},
   "outputs": [
    {
     "data": {
      "text/html": [
       "<div>\n",
       "<style scoped>\n",
       "    .dataframe tbody tr th:only-of-type {\n",
       "        vertical-align: middle;\n",
       "    }\n",
       "\n",
       "    .dataframe tbody tr th {\n",
       "        vertical-align: top;\n",
       "    }\n",
       "\n",
       "    .dataframe thead th {\n",
       "        text-align: right;\n",
       "    }\n",
       "</style>\n",
       "<table border=\"1\" class=\"dataframe\">\n",
       "  <thead>\n",
       "    <tr style=\"text-align: right;\">\n",
       "      <th></th>\n",
       "      <th>8102</th>\n",
       "      <th>8103</th>\n",
       "      <th>8104</th>\n",
       "      <th>8105</th>\n",
       "    </tr>\n",
       "  </thead>\n",
       "  <tbody>\n",
       "    <tr>\n",
       "      <th>Codi_expedient</th>\n",
       "      <td>2019S004374</td>\n",
       "      <td>2019S004374</td>\n",
       "      <td>2019S004374</td>\n",
       "      <td>2019S004374</td>\n",
       "    </tr>\n",
       "    <tr>\n",
       "      <th>Codi_districte</th>\n",
       "      <td>7</td>\n",
       "      <td>7</td>\n",
       "      <td>7</td>\n",
       "      <td>7</td>\n",
       "    </tr>\n",
       "    <tr>\n",
       "      <th>Nom_districte</th>\n",
       "      <td>Horta-Guinardó</td>\n",
       "      <td>Horta-Guinardó</td>\n",
       "      <td>Horta-Guinardó</td>\n",
       "      <td>Horta-Guinardó</td>\n",
       "    </tr>\n",
       "    <tr>\n",
       "      <th>Codi_barri</th>\n",
       "      <td>41</td>\n",
       "      <td>41</td>\n",
       "      <td>41</td>\n",
       "      <td>41</td>\n",
       "    </tr>\n",
       "    <tr>\n",
       "      <th>Nom_barri</th>\n",
       "      <td>la Vall d'Hebron</td>\n",
       "      <td>la Vall d'Hebron</td>\n",
       "      <td>la Vall d'Hebron</td>\n",
       "      <td>la Vall d'Hebron</td>\n",
       "    </tr>\n",
       "    <tr>\n",
       "      <th>Codi_carrer</th>\n",
       "      <td>701268</td>\n",
       "      <td>701268</td>\n",
       "      <td>701268</td>\n",
       "      <td>701268</td>\n",
       "    </tr>\n",
       "    <tr>\n",
       "      <th>Nom_carrer</th>\n",
       "      <td>B-20 (Besòs)</td>\n",
       "      <td>B-20 (Besòs)</td>\n",
       "      <td>B-20 (Besòs)</td>\n",
       "      <td>B-20 (Besòs)</td>\n",
       "    </tr>\n",
       "    <tr>\n",
       "      <th>Num_postal</th>\n",
       "      <td>1110000</td>\n",
       "      <td>1110000</td>\n",
       "      <td>1110000</td>\n",
       "      <td>1110000</td>\n",
       "    </tr>\n",
       "    <tr>\n",
       "      <th>Dia_setmana</th>\n",
       "      <td>Dimarts</td>\n",
       "      <td>Dimarts</td>\n",
       "      <td>Dimarts</td>\n",
       "      <td>Dimarts</td>\n",
       "    </tr>\n",
       "    <tr>\n",
       "      <th>ID_Dia_setmana</th>\n",
       "      <td>Dm</td>\n",
       "      <td>Dm</td>\n",
       "      <td>Dm</td>\n",
       "      <td>Dm</td>\n",
       "    </tr>\n",
       "    <tr>\n",
       "      <th>Tipus_dia</th>\n",
       "      <td>Laboral</td>\n",
       "      <td>Laboral</td>\n",
       "      <td>Laboral</td>\n",
       "      <td>Laboral</td>\n",
       "    </tr>\n",
       "    <tr>\n",
       "      <th>Any</th>\n",
       "      <td>2019</td>\n",
       "      <td>2019</td>\n",
       "      <td>2019</td>\n",
       "      <td>2019</td>\n",
       "    </tr>\n",
       "    <tr>\n",
       "      <th>Mes</th>\n",
       "      <td>6</td>\n",
       "      <td>6</td>\n",
       "      <td>6</td>\n",
       "      <td>6</td>\n",
       "    </tr>\n",
       "    <tr>\n",
       "      <th>Nom_mes</th>\n",
       "      <td>Juny</td>\n",
       "      <td>Juny</td>\n",
       "      <td>Juny</td>\n",
       "      <td>Juny</td>\n",
       "    </tr>\n",
       "    <tr>\n",
       "      <th>Dia_de_mes</th>\n",
       "      <td>4</td>\n",
       "      <td>4</td>\n",
       "      <td>4</td>\n",
       "      <td>4</td>\n",
       "    </tr>\n",
       "    <tr>\n",
       "      <th>Hora_de_dia</th>\n",
       "      <td>18</td>\n",
       "      <td>18</td>\n",
       "      <td>18</td>\n",
       "      <td>18</td>\n",
       "    </tr>\n",
       "    <tr>\n",
       "      <th>Torn</th>\n",
       "      <td>Tarda</td>\n",
       "      <td>Tarda</td>\n",
       "      <td>Tarda</td>\n",
       "      <td>Tarda</td>\n",
       "    </tr>\n",
       "    <tr>\n",
       "      <th>Numero_morts</th>\n",
       "      <td>0</td>\n",
       "      <td>0</td>\n",
       "      <td>0</td>\n",
       "      <td>0</td>\n",
       "    </tr>\n",
       "    <tr>\n",
       "      <th>Numero_lesionats_lleus</th>\n",
       "      <td>2</td>\n",
       "      <td>2</td>\n",
       "      <td>2</td>\n",
       "      <td>2</td>\n",
       "    </tr>\n",
       "    <tr>\n",
       "      <th>Numero_lesionats_greus</th>\n",
       "      <td>1</td>\n",
       "      <td>1</td>\n",
       "      <td>1</td>\n",
       "      <td>1</td>\n",
       "    </tr>\n",
       "    <tr>\n",
       "      <th>Numero_victimes</th>\n",
       "      <td>3</td>\n",
       "      <td>3</td>\n",
       "      <td>3</td>\n",
       "      <td>3</td>\n",
       "    </tr>\n",
       "    <tr>\n",
       "      <th>Numero_vehicles_implicats</th>\n",
       "      <td>4</td>\n",
       "      <td>4</td>\n",
       "      <td>4</td>\n",
       "      <td>4</td>\n",
       "    </tr>\n",
       "    <tr>\n",
       "      <th>Longitud</th>\n",
       "      <td>2.14423</td>\n",
       "      <td>2.14423</td>\n",
       "      <td>2.14423</td>\n",
       "      <td>2.14423</td>\n",
       "    </tr>\n",
       "    <tr>\n",
       "      <th>Latitud</th>\n",
       "      <td>41.4289</td>\n",
       "      <td>41.4289</td>\n",
       "      <td>41.4289</td>\n",
       "      <td>41.4289</td>\n",
       "    </tr>\n",
       "    <tr>\n",
       "      <th>Tipus_accident</th>\n",
       "      <td>Abast multiple</td>\n",
       "      <td>Col.lisió lateral</td>\n",
       "      <td>Col.lisió lateral</td>\n",
       "      <td>Col.lisió lateral</td>\n",
       "    </tr>\n",
       "    <tr>\n",
       "      <th>Causa_mediata</th>\n",
       "      <td>No hi ha causa mediata</td>\n",
       "      <td>No hi ha causa mediata</td>\n",
       "      <td>No hi ha causa mediata</td>\n",
       "      <td>No hi ha causa mediata</td>\n",
       "    </tr>\n",
       "    <tr>\n",
       "      <th>Descripcio_causa_vianant</th>\n",
       "      <td>No és causa del  vianant</td>\n",
       "      <td>No és causa del  vianant</td>\n",
       "      <td>No és causa del  vianant</td>\n",
       "      <td>No és causa del  vianant</td>\n",
       "    </tr>\n",
       "    <tr>\n",
       "      <th>Descripcio_tipus_vehicle</th>\n",
       "      <td>Motocicleta</td>\n",
       "      <td>Turisme</td>\n",
       "      <td>Motocicleta</td>\n",
       "      <td>Motocicleta</td>\n",
       "    </tr>\n",
       "    <tr>\n",
       "      <th>Descripcio_model</th>\n",
       "      <td>Z 750</td>\n",
       "      <td>DOKKER</td>\n",
       "      <td>Z800</td>\n",
       "      <td>CBF600N</td>\n",
       "    </tr>\n",
       "    <tr>\n",
       "      <th>Descripcio_marca</th>\n",
       "      <td>KAWASAKI</td>\n",
       "      <td>DACIA</td>\n",
       "      <td>KAWASAKI</td>\n",
       "      <td>HONDA</td>\n",
       "    </tr>\n",
       "    <tr>\n",
       "      <th>Descripcio_color</th>\n",
       "      <td>Verd</td>\n",
       "      <td>Blanc</td>\n",
       "      <td>Negre</td>\n",
       "      <td>Negre</td>\n",
       "    </tr>\n",
       "  </tbody>\n",
       "</table>\n",
       "</div>"
      ],
      "text/plain": [
       "                                               8102                      8103  \\\n",
       "Codi_expedient                          2019S004374               2019S004374   \n",
       "Codi_districte                                    7                         7   \n",
       "Nom_districte                        Horta-Guinardó            Horta-Guinardó   \n",
       "Codi_barri                                       41                        41   \n",
       "Nom_barri                          la Vall d'Hebron          la Vall d'Hebron   \n",
       "Codi_carrer                                  701268                    701268   \n",
       "Nom_carrer                             B-20 (Besòs)              B-20 (Besòs)   \n",
       "Num_postal                                  1110000                   1110000   \n",
       "Dia_setmana                                 Dimarts                   Dimarts   \n",
       "ID_Dia_setmana                                   Dm                        Dm   \n",
       "Tipus_dia                                   Laboral                   Laboral   \n",
       "Any                                            2019                      2019   \n",
       "Mes                                               6                         6   \n",
       "Nom_mes                                        Juny                      Juny   \n",
       "Dia_de_mes                                        4                         4   \n",
       "Hora_de_dia                                      18                        18   \n",
       "Torn                                          Tarda                     Tarda   \n",
       "Numero_morts                                      0                         0   \n",
       "Numero_lesionats_lleus                            2                         2   \n",
       "Numero_lesionats_greus                            1                         1   \n",
       "Numero_victimes                                   3                         3   \n",
       "Numero_vehicles_implicats                         4                         4   \n",
       "Longitud                                    2.14423                   2.14423   \n",
       "Latitud                                     41.4289                   41.4289   \n",
       "Tipus_accident                       Abast multiple         Col.lisió lateral   \n",
       "Causa_mediata                No hi ha causa mediata    No hi ha causa mediata   \n",
       "Descripcio_causa_vianant   No és causa del  vianant  No és causa del  vianant   \n",
       "Descripcio_tipus_vehicle                Motocicleta                   Turisme   \n",
       "Descripcio_model                              Z 750                    DOKKER   \n",
       "Descripcio_marca                           KAWASAKI                     DACIA   \n",
       "Descripcio_color                               Verd                     Blanc   \n",
       "\n",
       "                                               8104                      8105  \n",
       "Codi_expedient                          2019S004374               2019S004374  \n",
       "Codi_districte                                    7                         7  \n",
       "Nom_districte                        Horta-Guinardó            Horta-Guinardó  \n",
       "Codi_barri                                       41                        41  \n",
       "Nom_barri                          la Vall d'Hebron          la Vall d'Hebron  \n",
       "Codi_carrer                                  701268                    701268  \n",
       "Nom_carrer                             B-20 (Besòs)              B-20 (Besòs)  \n",
       "Num_postal                                  1110000                   1110000  \n",
       "Dia_setmana                                 Dimarts                   Dimarts  \n",
       "ID_Dia_setmana                                   Dm                        Dm  \n",
       "Tipus_dia                                   Laboral                   Laboral  \n",
       "Any                                            2019                      2019  \n",
       "Mes                                               6                         6  \n",
       "Nom_mes                                        Juny                      Juny  \n",
       "Dia_de_mes                                        4                         4  \n",
       "Hora_de_dia                                      18                        18  \n",
       "Torn                                          Tarda                     Tarda  \n",
       "Numero_morts                                      0                         0  \n",
       "Numero_lesionats_lleus                            2                         2  \n",
       "Numero_lesionats_greus                            1                         1  \n",
       "Numero_victimes                                   3                         3  \n",
       "Numero_vehicles_implicats                         4                         4  \n",
       "Longitud                                    2.14423                   2.14423  \n",
       "Latitud                                     41.4289                   41.4289  \n",
       "Tipus_accident                    Col.lisió lateral         Col.lisió lateral  \n",
       "Causa_mediata                No hi ha causa mediata    No hi ha causa mediata  \n",
       "Descripcio_causa_vianant   No és causa del  vianant  No és causa del  vianant  \n",
       "Descripcio_tipus_vehicle                Motocicleta               Motocicleta  \n",
       "Descripcio_model                               Z800                   CBF600N  \n",
       "Descripcio_marca                           KAWASAKI                     HONDA  \n",
       "Descripcio_color                              Negre                     Negre  "
      ]
     },
     "execution_count": 176,
     "metadata": {},
     "output_type": "execute_result"
    }
   ],
   "source": [
    "df_19[df_19['Codi_expedient']=='2019S004374'].T"
   ]
  },
  {
   "cell_type": "code",
   "execution_count": null,
   "metadata": {},
   "outputs": [],
   "source": []
  },
  {
   "cell_type": "code",
   "execution_count": 177,
   "metadata": {},
   "outputs": [],
   "source": [
    "#df_acc, df_tipo, df_causa, df_vehicle, df_user"
   ]
  },
  {
   "cell_type": "code",
   "execution_count": 178,
   "metadata": {},
   "outputs": [
    {
     "data": {
      "text/plain": [
       "Index(['Codi_expedient', 'Codi_districte', 'Nom_districte', 'Codi_barri',\n",
       "       'Nom_barri', 'Codi_carrer', 'Nom_carrer', 'Num_postal', 'Dia_setmana',\n",
       "       'ID_Dia_setmana', 'Tipus_dia', 'Any', 'Mes', 'Nom_mes', 'Dia_de_mes',\n",
       "       'Hora_de_dia', 'Torn', 'Descripcio_causa_vianant', 'Numero_morts',\n",
       "       'Numero_lesionats_lleus', 'Numero_lesionats_greus', 'Numero_victimes',\n",
       "       'Numero_vehicles_implicats', 'Coordenada_UTM_X', 'Coordenada_UTM_Y',\n",
       "       'Longitud', 'Latitud'],\n",
       "      dtype='object')"
      ]
     },
     "execution_count": 178,
     "metadata": {},
     "output_type": "execute_result"
    }
   ],
   "source": [
    "df_acc_18.columns"
   ]
  },
  {
   "cell_type": "code",
   "execution_count": 179,
   "metadata": {},
   "outputs": [],
   "source": [
    "df_acc_18m = df_acc_18[['Codi_expedient', 'Codi_districte', 'Nom_districte', 'Codi_barri',\n",
    "       'Nom_barri', 'Codi_carrer', 'Nom_carrer', 'Num_postal', 'Dia_setmana',\n",
    "       'ID_Dia_setmana', 'Tipus_dia', 'Any', 'Mes', 'Nom_mes', 'Dia_de_mes',\n",
    "       'Hora_de_dia', 'Torn', 'Descripcio_causa_vianant', 'Numero_morts',\n",
    "       'Numero_lesionats_lleus', 'Numero_lesionats_greus', 'Numero_victimes',\n",
    "       'Numero_vehicles_implicats', 'Longitud', 'Latitud']]\n",
    "df_tipo_18m = df_18_tipo[['Codi_expedient','Tipus_accident']]\n",
    "df_causa_18m = df_causa_18[['Codi_expedient','Causa_mediata']]\n",
    "df_vehicle_18m = df_vehicle_18[['Codi_expedient','Descripcio_tipus_vehicle', 'Descripcio_model', 'Descripcio_marca',\n",
    "       'Descripcio_color']]"
   ]
  },
  {
   "cell_type": "code",
   "execution_count": 180,
   "metadata": {},
   "outputs": [
    {
     "name": "stderr",
     "output_type": "stream",
     "text": [
      "<ipython-input-180-1374d6e097a1>:1: SettingWithCopyWarning: \n",
      "A value is trying to be set on a copy of a slice from a DataFrame.\n",
      "Try using .loc[row_indexer,col_indexer] = value instead\n",
      "\n",
      "See the caveats in the documentation: https://pandas.pydata.org/pandas-docs/stable/user_guide/indexing.html#returning-a-view-versus-a-copy\n",
      "  df_acc_18m['Codi_expedient'] = df_acc_18['Codi_expedient'].str.strip()\n",
      "<ipython-input-180-1374d6e097a1>:2: SettingWithCopyWarning: \n",
      "A value is trying to be set on a copy of a slice from a DataFrame.\n",
      "Try using .loc[row_indexer,col_indexer] = value instead\n",
      "\n",
      "See the caveats in the documentation: https://pandas.pydata.org/pandas-docs/stable/user_guide/indexing.html#returning-a-view-versus-a-copy\n",
      "  df_tipo_18m['Codi_expedient'] = df_tipo_18m['Codi_expedient'].str.strip()\n",
      "<ipython-input-180-1374d6e097a1>:3: SettingWithCopyWarning: \n",
      "A value is trying to be set on a copy of a slice from a DataFrame.\n",
      "Try using .loc[row_indexer,col_indexer] = value instead\n",
      "\n",
      "See the caveats in the documentation: https://pandas.pydata.org/pandas-docs/stable/user_guide/indexing.html#returning-a-view-versus-a-copy\n",
      "  df_causa_18m['Codi_expedient'] = df_causa_18m['Codi_expedient'].str.strip()\n",
      "<ipython-input-180-1374d6e097a1>:4: SettingWithCopyWarning: \n",
      "A value is trying to be set on a copy of a slice from a DataFrame.\n",
      "Try using .loc[row_indexer,col_indexer] = value instead\n",
      "\n",
      "See the caveats in the documentation: https://pandas.pydata.org/pandas-docs/stable/user_guide/indexing.html#returning-a-view-versus-a-copy\n",
      "  df_vehicle_18m['Codi_expedient'] = df_vehicle_18m['Codi_expedient'].str.strip()\n"
     ]
    }
   ],
   "source": [
    "df_acc_18m['Codi_expedient'] = df_acc_18['Codi_expedient'].str.strip()\n",
    "df_tipo_18m['Codi_expedient'] = df_tipo_18m['Codi_expedient'].str.strip()\n",
    "df_causa_18m['Codi_expedient'] = df_causa_18m['Codi_expedient'].str.strip()\n",
    "df_vehicle_18m['Codi_expedient'] = df_vehicle_18m['Codi_expedient'].str.strip()"
   ]
  },
  {
   "cell_type": "code",
   "execution_count": 181,
   "metadata": {},
   "outputs": [
    {
     "name": "stdout",
     "output_type": "stream",
     "text": [
      "(9936, 25)\n",
      "(10551, 2)\n",
      "(9926, 2)\n",
      "(19079, 5)\n"
     ]
    }
   ],
   "source": [
    "print(df_acc_18m.shape)\n",
    "print(df_tipo_18m.shape)\n",
    "print(df_causa_18m.shape)\n",
    "print(df_vehicle_18m.shape)"
   ]
  },
  {
   "cell_type": "code",
   "execution_count": 182,
   "metadata": {},
   "outputs": [
    {
     "data": {
      "text/plain": [
       "2018S007361        12\n",
       "2018S000545        11\n",
       "2018S008580        10\n",
       "2018S001247        10\n",
       "2018S007155         9\n",
       "                   ..\n",
       "2018S007257         1\n",
       "2018S005350         1\n",
       "2018S000180         1\n",
       "2018S007016         1\n",
       "2018S001551         1\n",
       "Name: Codi_expedient, Length: 9920, dtype: int64"
      ]
     },
     "execution_count": 182,
     "metadata": {},
     "output_type": "execute_result"
    }
   ],
   "source": [
    "df_vehicle_18.Codi_expedient.value_counts()"
   ]
  },
  {
   "cell_type": "code",
   "execution_count": 183,
   "metadata": {},
   "outputs": [
    {
     "data": {
      "text/html": [
       "<div>\n",
       "<style scoped>\n",
       "    .dataframe tbody tr th:only-of-type {\n",
       "        vertical-align: middle;\n",
       "    }\n",
       "\n",
       "    .dataframe tbody tr th {\n",
       "        vertical-align: top;\n",
       "    }\n",
       "\n",
       "    .dataframe thead th {\n",
       "        text-align: right;\n",
       "    }\n",
       "</style>\n",
       "<table border=\"1\" class=\"dataframe\">\n",
       "  <thead>\n",
       "    <tr style=\"text-align: right;\">\n",
       "      <th></th>\n",
       "      <th>2714</th>\n",
       "    </tr>\n",
       "  </thead>\n",
       "  <tbody>\n",
       "    <tr>\n",
       "      <th>Codi_expedient</th>\n",
       "      <td>2018S002505</td>\n",
       "    </tr>\n",
       "    <tr>\n",
       "      <th>Codi_districte</th>\n",
       "      <td>4</td>\n",
       "    </tr>\n",
       "    <tr>\n",
       "      <th>Nom_districte</th>\n",
       "      <td>Les Corts</td>\n",
       "    </tr>\n",
       "    <tr>\n",
       "      <th>Codi_barri</th>\n",
       "      <td>20</td>\n",
       "    </tr>\n",
       "    <tr>\n",
       "      <th>Nom_barri</th>\n",
       "      <td>la Maternitat i Sant Ramon</td>\n",
       "    </tr>\n",
       "    <tr>\n",
       "      <th>Codi_carrer</th>\n",
       "      <td>244300</td>\n",
       "    </tr>\n",
       "    <tr>\n",
       "      <th>Nom_carrer</th>\n",
       "      <td>Pius XII / Diagonal                           ...</td>\n",
       "    </tr>\n",
       "    <tr>\n",
       "      <th>Num_postal</th>\n",
       "      <td>NaN</td>\n",
       "    </tr>\n",
       "    <tr>\n",
       "      <th>Dia_setmana</th>\n",
       "      <td>Dilluns</td>\n",
       "    </tr>\n",
       "    <tr>\n",
       "      <th>ID_Dia_setmana</th>\n",
       "      <td>Dl</td>\n",
       "    </tr>\n",
       "    <tr>\n",
       "      <th>Tipus_dia</th>\n",
       "      <td>Laboral</td>\n",
       "    </tr>\n",
       "    <tr>\n",
       "      <th>Any</th>\n",
       "      <td>2018</td>\n",
       "    </tr>\n",
       "    <tr>\n",
       "      <th>Mes</th>\n",
       "      <td>4</td>\n",
       "    </tr>\n",
       "    <tr>\n",
       "      <th>Nom_mes</th>\n",
       "      <td>Abril</td>\n",
       "    </tr>\n",
       "    <tr>\n",
       "      <th>Dia_de_mes</th>\n",
       "      <td>2</td>\n",
       "    </tr>\n",
       "    <tr>\n",
       "      <th>Hora_de_dia</th>\n",
       "      <td>7</td>\n",
       "    </tr>\n",
       "    <tr>\n",
       "      <th>Torn</th>\n",
       "      <td>Matí</td>\n",
       "    </tr>\n",
       "    <tr>\n",
       "      <th>Descripcio_causa_vianant</th>\n",
       "      <td>No és causa del  vianant</td>\n",
       "    </tr>\n",
       "    <tr>\n",
       "      <th>Numero_morts</th>\n",
       "      <td>0</td>\n",
       "    </tr>\n",
       "    <tr>\n",
       "      <th>Numero_lesionats_lleus</th>\n",
       "      <td>6</td>\n",
       "    </tr>\n",
       "    <tr>\n",
       "      <th>Numero_lesionats_greus</th>\n",
       "      <td>0</td>\n",
       "    </tr>\n",
       "    <tr>\n",
       "      <th>Numero_victimes</th>\n",
       "      <td>6</td>\n",
       "    </tr>\n",
       "    <tr>\n",
       "      <th>Numero_vehicles_implicats</th>\n",
       "      <td>3</td>\n",
       "    </tr>\n",
       "    <tr>\n",
       "      <th>Longitud</th>\n",
       "      <td>2.12328</td>\n",
       "    </tr>\n",
       "    <tr>\n",
       "      <th>Latitud</th>\n",
       "      <td>41.3873</td>\n",
       "    </tr>\n",
       "  </tbody>\n",
       "</table>\n",
       "</div>"
      ],
      "text/plain": [
       "                                                                        2714\n",
       "Codi_expedient                                                   2018S002505\n",
       "Codi_districte                                                             4\n",
       "Nom_districte                                                      Les Corts\n",
       "Codi_barri                                                                20\n",
       "Nom_barri                                         la Maternitat i Sant Ramon\n",
       "Codi_carrer                                                           244300\n",
       "Nom_carrer                 Pius XII / Diagonal                           ...\n",
       "Num_postal                                                               NaN\n",
       "Dia_setmana                                                          Dilluns\n",
       "ID_Dia_setmana                                                            Dl\n",
       "Tipus_dia                                                            Laboral\n",
       "Any                                                                     2018\n",
       "Mes                                                                        4\n",
       "Nom_mes                                                                Abril\n",
       "Dia_de_mes                                                                 2\n",
       "Hora_de_dia                                                                7\n",
       "Torn                                                                    Matí\n",
       "Descripcio_causa_vianant                            No és causa del  vianant\n",
       "Numero_morts                                                               0\n",
       "Numero_lesionats_lleus                                                     6\n",
       "Numero_lesionats_greus                                                     0\n",
       "Numero_victimes                                                            6\n",
       "Numero_vehicles_implicats                                                  3\n",
       "Longitud                                                             2.12328\n",
       "Latitud                                                              41.3873"
      ]
     },
     "execution_count": 183,
     "metadata": {},
     "output_type": "execute_result"
    }
   ],
   "source": [
    "df_acc_18m[df_acc_18m['Codi_expedient']=='2018S002505'].T"
   ]
  },
  {
   "cell_type": "code",
   "execution_count": 184,
   "metadata": {},
   "outputs": [
    {
     "data": {
      "text/html": [
       "<div>\n",
       "<style scoped>\n",
       "    .dataframe tbody tr th:only-of-type {\n",
       "        vertical-align: middle;\n",
       "    }\n",
       "\n",
       "    .dataframe tbody tr th {\n",
       "        vertical-align: top;\n",
       "    }\n",
       "\n",
       "    .dataframe thead th {\n",
       "        text-align: right;\n",
       "    }\n",
       "</style>\n",
       "<table border=\"1\" class=\"dataframe\">\n",
       "  <thead>\n",
       "    <tr style=\"text-align: right;\">\n",
       "      <th></th>\n",
       "      <th>1772</th>\n",
       "      <th>1773</th>\n",
       "      <th>1774</th>\n",
       "    </tr>\n",
       "  </thead>\n",
       "  <tbody>\n",
       "    <tr>\n",
       "      <th>Codi_expedient</th>\n",
       "      <td>2018S002505</td>\n",
       "      <td>2018S002505</td>\n",
       "      <td>2018S002505</td>\n",
       "    </tr>\n",
       "    <tr>\n",
       "      <th>Descripcio_tipus_vehicle</th>\n",
       "      <td>Furgoneta</td>\n",
       "      <td>Turisme</td>\n",
       "      <td>Turisme</td>\n",
       "    </tr>\n",
       "    <tr>\n",
       "      <th>Descripcio_model</th>\n",
       "      <td>VITO FURG</td>\n",
       "      <td>Altea</td>\n",
       "      <td>POLO</td>\n",
       "    </tr>\n",
       "    <tr>\n",
       "      <th>Descripcio_marca</th>\n",
       "      <td>MERCEDES-BENZ</td>\n",
       "      <td>SEAT</td>\n",
       "      <td>VOLKSWAGEN</td>\n",
       "    </tr>\n",
       "    <tr>\n",
       "      <th>Descripcio_color</th>\n",
       "      <td>Groc</td>\n",
       "      <td>Vermell</td>\n",
       "      <td>Gris</td>\n",
       "    </tr>\n",
       "  </tbody>\n",
       "</table>\n",
       "</div>"
      ],
      "text/plain": [
       "                                   1772         1773         1774\n",
       "Codi_expedient              2018S002505  2018S002505  2018S002505\n",
       "Descripcio_tipus_vehicle      Furgoneta      Turisme      Turisme\n",
       "Descripcio_model              VITO FURG        Altea         POLO\n",
       "Descripcio_marca          MERCEDES-BENZ         SEAT   VOLKSWAGEN\n",
       "Descripcio_color                   Groc      Vermell         Gris"
      ]
     },
     "execution_count": 184,
     "metadata": {},
     "output_type": "execute_result"
    }
   ],
   "source": [
    "df_vehicle_18m[df_vehicle_18m['Codi_expedient']=='2018S002505'].T"
   ]
  },
  {
   "cell_type": "code",
   "execution_count": 185,
   "metadata": {},
   "outputs": [
    {
     "data": {
      "text/plain": [
       "(10562, 26)"
      ]
     },
     "execution_count": 185,
     "metadata": {},
     "output_type": "execute_result"
    }
   ],
   "source": [
    "df_18 = df_acc_18m.merge(df_tipo_18m, how = 'inner', on = ['Codi_expedient'])\n",
    "df_18.sort_values(by = 'Codi_expedient', axis = 0, inplace = True, ignore_index = True)\n",
    "df_18.shape"
   ]
  },
  {
   "cell_type": "code",
   "execution_count": 186,
   "metadata": {},
   "outputs": [
    {
     "data": {
      "text/plain": [
       "(10562, 27)"
      ]
     },
     "execution_count": 186,
     "metadata": {},
     "output_type": "execute_result"
    }
   ],
   "source": [
    "df_18 = df_18.merge(df_causa_18m, how = 'inner', on = 'Codi_expedient')\n",
    "df_18.sort_values(by = 'Codi_expedient', axis = 0, inplace = True, ignore_index = True)\n",
    "df_18.shape"
   ]
  },
  {
   "cell_type": "code",
   "execution_count": 187,
   "metadata": {},
   "outputs": [
    {
     "data": {
      "text/plain": [
       "(20531, 31)"
      ]
     },
     "execution_count": 187,
     "metadata": {},
     "output_type": "execute_result"
    }
   ],
   "source": [
    "df_18 = df_18.merge(df_vehicle_18m, how = 'inner', on = 'Codi_expedient')\n",
    "df_18.sort_values(by = 'Codi_expedient', axis = 0, inplace = True, ignore_index = True)\n",
    "df_18.shape"
   ]
  },
  {
   "cell_type": "code",
   "execution_count": 188,
   "metadata": {},
   "outputs": [
    {
     "data": {
      "text/plain": [
       "2018S008580    20\n",
       "2018S001247    20\n",
       "2018S008376    18\n",
       "2018S006985    18\n",
       "2018S003697    18\n",
       "               ..\n",
       "2018S000932     1\n",
       "2018S001908     1\n",
       "2018S008784     1\n",
       "2018S008360     1\n",
       "2018S003186     1\n",
       "Name: Codi_expedient, Length: 9920, dtype: int64"
      ]
     },
     "execution_count": 188,
     "metadata": {},
     "output_type": "execute_result"
    }
   ],
   "source": [
    "df_18.Codi_expedient.value_counts()"
   ]
  },
  {
   "cell_type": "code",
   "execution_count": 189,
   "metadata": {},
   "outputs": [
    {
     "data": {
      "text/plain": [
       "(array([16557.,  2613.,   739.,   260.,   106.,    74.,    48.,    71.,\n",
       "           40.,    23.]),\n",
       " array([ 1. ,  2.1,  3.2,  4.3,  5.4,  6.5,  7.6,  8.7,  9.8, 10.9, 12. ]),\n",
       " <BarContainer object of 10 artists>)"
      ]
     },
     "execution_count": 189,
     "metadata": {},
     "output_type": "execute_result"
    },
    {
     "data": {
      "image/png": "[encoded data removed]",
      "text/plain": [
       "<Figure size 432x288 with 1 Axes>"
      ]
     },
     "metadata": {
      "needs_background": "light"
     },
     "output_type": "display_data"
    }
   ],
   "source": [
    "import matplotlib.pyplot as plt\n",
    "\n",
    "plt.hist(df_18['Numero_vehicles_implicats'])"
   ]
  },
  {
   "cell_type": "code",
   "execution_count": 190,
   "metadata": {},
   "outputs": [
    {
     "data": {
      "text/plain": [
       "(19909, 31)"
      ]
     },
     "execution_count": 190,
     "metadata": {},
     "output_type": "execute_result"
    }
   ],
   "source": [
    "df_18 = df_18[df_18['Numero_vehicles_implicats'] <= 4]\n",
    "df_18.shape"
   ]
  },
  {
   "cell_type": "code",
   "execution_count": 191,
   "metadata": {},
   "outputs": [],
   "source": [
    "df_18['Nom_carrer'] = df_18['Nom_carrer'].str.strip()"
   ]
  },
  {
   "cell_type": "code",
   "execution_count": 192,
   "metadata": {},
   "outputs": [
    {
     "data": {
      "text/plain": [
       "2018S008370    12\n",
       "2018S000437    12\n",
       "2018S003559     9\n",
       "2018S002505     9\n",
       "2018S002720     9\n",
       "               ..\n",
       "2018S006530     1\n",
       "2018S004801     1\n",
       "2018S003875     1\n",
       "2018S006083     1\n",
       "2018S003186     1\n",
       "Name: Codi_expedient, Length: 9840, dtype: int64"
      ]
     },
     "execution_count": 192,
     "metadata": {},
     "output_type": "execute_result"
    }
   ],
   "source": [
    "df_18.Codi_expedient.value_counts()"
   ]
  },
  {
   "cell_type": "code",
   "execution_count": 193,
   "metadata": {},
   "outputs": [],
   "source": [
    "df_18.drop_duplicates(subset= ['Codi_expedient','Descripcio_tipus_vehicle', 'Descripcio_model', 'Descripcio_marca', 'Descripcio_color'], keep = 'first', inplace = True, ignore_index = True)"
   ]
  },
  {
   "cell_type": "code",
   "execution_count": 194,
   "metadata": {},
   "outputs": [
    {
     "data": {
      "text/plain": [
       "(18562, 31)"
      ]
     },
     "execution_count": 194,
     "metadata": {},
     "output_type": "execute_result"
    }
   ],
   "source": [
    "df_18.shape"
   ]
  },
  {
   "cell_type": "code",
   "execution_count": 195,
   "metadata": {},
   "outputs": [
    {
     "data": {
      "text/plain": [
       "2018S000437    4\n",
       "2018S008496    4\n",
       "2018S009198    4\n",
       "2018S004187    4\n",
       "2018S005171    4\n",
       "              ..\n",
       "2018S003403    1\n",
       "2018S008885    1\n",
       "2018S007591    1\n",
       "2018S003530    1\n",
       "2018S003186    1\n",
       "Name: Codi_expedient, Length: 9840, dtype: int64"
      ]
     },
     "execution_count": 195,
     "metadata": {},
     "output_type": "execute_result"
    }
   ],
   "source": [
    "df_18.Codi_expedient.value_counts()"
   ]
  },
  {
   "cell_type": "code",
   "execution_count": 196,
   "metadata": {
    "scrolled": true
   },
   "outputs": [
    {
     "data": {
      "text/html": [
       "<div>\n",
       "<style scoped>\n",
       "    .dataframe tbody tr th:only-of-type {\n",
       "        vertical-align: middle;\n",
       "    }\n",
       "\n",
       "    .dataframe tbody tr th {\n",
       "        vertical-align: top;\n",
       "    }\n",
       "\n",
       "    .dataframe thead th {\n",
       "        text-align: right;\n",
       "    }\n",
       "</style>\n",
       "<table border=\"1\" class=\"dataframe\">\n",
       "  <thead>\n",
       "    <tr style=\"text-align: right;\">\n",
       "      <th></th>\n",
       "      <th>4633</th>\n",
       "      <th>4634</th>\n",
       "      <th>4635</th>\n",
       "    </tr>\n",
       "  </thead>\n",
       "  <tbody>\n",
       "    <tr>\n",
       "      <th>Codi_expedient</th>\n",
       "      <td>2018S002505</td>\n",
       "      <td>2018S002505</td>\n",
       "      <td>2018S002505</td>\n",
       "    </tr>\n",
       "    <tr>\n",
       "      <th>Codi_districte</th>\n",
       "      <td>4</td>\n",
       "      <td>4</td>\n",
       "      <td>4</td>\n",
       "    </tr>\n",
       "    <tr>\n",
       "      <th>Nom_districte</th>\n",
       "      <td>Les Corts</td>\n",
       "      <td>Les Corts</td>\n",
       "      <td>Les Corts</td>\n",
       "    </tr>\n",
       "    <tr>\n",
       "      <th>Codi_barri</th>\n",
       "      <td>20</td>\n",
       "      <td>20</td>\n",
       "      <td>20</td>\n",
       "    </tr>\n",
       "    <tr>\n",
       "      <th>Nom_barri</th>\n",
       "      <td>la Maternitat i Sant Ramon</td>\n",
       "      <td>la Maternitat i Sant Ramon</td>\n",
       "      <td>la Maternitat i Sant Ramon</td>\n",
       "    </tr>\n",
       "    <tr>\n",
       "      <th>Codi_carrer</th>\n",
       "      <td>244300</td>\n",
       "      <td>244300</td>\n",
       "      <td>244300</td>\n",
       "    </tr>\n",
       "    <tr>\n",
       "      <th>Nom_carrer</th>\n",
       "      <td>Pius XII / Diagonal</td>\n",
       "      <td>Pius XII / Diagonal</td>\n",
       "      <td>Pius XII / Diagonal</td>\n",
       "    </tr>\n",
       "    <tr>\n",
       "      <th>Num_postal</th>\n",
       "      <td>NaN</td>\n",
       "      <td>NaN</td>\n",
       "      <td>NaN</td>\n",
       "    </tr>\n",
       "    <tr>\n",
       "      <th>Dia_setmana</th>\n",
       "      <td>Dilluns</td>\n",
       "      <td>Dilluns</td>\n",
       "      <td>Dilluns</td>\n",
       "    </tr>\n",
       "    <tr>\n",
       "      <th>ID_Dia_setmana</th>\n",
       "      <td>Dl</td>\n",
       "      <td>Dl</td>\n",
       "      <td>Dl</td>\n",
       "    </tr>\n",
       "    <tr>\n",
       "      <th>Tipus_dia</th>\n",
       "      <td>Laboral</td>\n",
       "      <td>Laboral</td>\n",
       "      <td>Laboral</td>\n",
       "    </tr>\n",
       "    <tr>\n",
       "      <th>Any</th>\n",
       "      <td>2018</td>\n",
       "      <td>2018</td>\n",
       "      <td>2018</td>\n",
       "    </tr>\n",
       "    <tr>\n",
       "      <th>Mes</th>\n",
       "      <td>4</td>\n",
       "      <td>4</td>\n",
       "      <td>4</td>\n",
       "    </tr>\n",
       "    <tr>\n",
       "      <th>Nom_mes</th>\n",
       "      <td>Abril</td>\n",
       "      <td>Abril</td>\n",
       "      <td>Abril</td>\n",
       "    </tr>\n",
       "    <tr>\n",
       "      <th>Dia_de_mes</th>\n",
       "      <td>2</td>\n",
       "      <td>2</td>\n",
       "      <td>2</td>\n",
       "    </tr>\n",
       "    <tr>\n",
       "      <th>Hora_de_dia</th>\n",
       "      <td>7</td>\n",
       "      <td>7</td>\n",
       "      <td>7</td>\n",
       "    </tr>\n",
       "    <tr>\n",
       "      <th>Torn</th>\n",
       "      <td>Matí</td>\n",
       "      <td>Matí</td>\n",
       "      <td>Matí</td>\n",
       "    </tr>\n",
       "    <tr>\n",
       "      <th>Descripcio_causa_vianant</th>\n",
       "      <td>No és causa del  vianant</td>\n",
       "      <td>No és causa del  vianant</td>\n",
       "      <td>No és causa del  vianant</td>\n",
       "    </tr>\n",
       "    <tr>\n",
       "      <th>Numero_morts</th>\n",
       "      <td>0</td>\n",
       "      <td>0</td>\n",
       "      <td>0</td>\n",
       "    </tr>\n",
       "    <tr>\n",
       "      <th>Numero_lesionats_lleus</th>\n",
       "      <td>6</td>\n",
       "      <td>6</td>\n",
       "      <td>6</td>\n",
       "    </tr>\n",
       "    <tr>\n",
       "      <th>Numero_lesionats_greus</th>\n",
       "      <td>0</td>\n",
       "      <td>0</td>\n",
       "      <td>0</td>\n",
       "    </tr>\n",
       "    <tr>\n",
       "      <th>Numero_victimes</th>\n",
       "      <td>6</td>\n",
       "      <td>6</td>\n",
       "      <td>6</td>\n",
       "    </tr>\n",
       "    <tr>\n",
       "      <th>Numero_vehicles_implicats</th>\n",
       "      <td>3</td>\n",
       "      <td>3</td>\n",
       "      <td>3</td>\n",
       "    </tr>\n",
       "    <tr>\n",
       "      <th>Longitud</th>\n",
       "      <td>2.12328</td>\n",
       "      <td>2.12328</td>\n",
       "      <td>2.12328</td>\n",
       "    </tr>\n",
       "    <tr>\n",
       "      <th>Latitud</th>\n",
       "      <td>41.3873</td>\n",
       "      <td>41.3873</td>\n",
       "      <td>41.3873</td>\n",
       "    </tr>\n",
       "    <tr>\n",
       "      <th>Tipus_accident</th>\n",
       "      <td>Bolcada (més de dues rodes)</td>\n",
       "      <td>Bolcada (més de dues rodes)</td>\n",
       "      <td>Bolcada (més de dues rodes)</td>\n",
       "    </tr>\n",
       "    <tr>\n",
       "      <th>Causa_mediata</th>\n",
       "      <td>Excés de velocitat o inadequada</td>\n",
       "      <td>Excés de velocitat o inadequada</td>\n",
       "      <td>Excés de velocitat o inadequada</td>\n",
       "    </tr>\n",
       "    <tr>\n",
       "      <th>Descripcio_tipus_vehicle</th>\n",
       "      <td>Turisme</td>\n",
       "      <td>Turisme</td>\n",
       "      <td>Furgoneta</td>\n",
       "    </tr>\n",
       "    <tr>\n",
       "      <th>Descripcio_model</th>\n",
       "      <td>POLO</td>\n",
       "      <td>Altea</td>\n",
       "      <td>VITO FURG</td>\n",
       "    </tr>\n",
       "    <tr>\n",
       "      <th>Descripcio_marca</th>\n",
       "      <td>VOLKSWAGEN</td>\n",
       "      <td>SEAT</td>\n",
       "      <td>MERCEDES-BENZ</td>\n",
       "    </tr>\n",
       "    <tr>\n",
       "      <th>Descripcio_color</th>\n",
       "      <td>Gris</td>\n",
       "      <td>Vermell</td>\n",
       "      <td>Groc</td>\n",
       "    </tr>\n",
       "  </tbody>\n",
       "</table>\n",
       "</div>"
      ],
      "text/plain": [
       "                                                      4633  \\\n",
       "Codi_expedient                                 2018S002505   \n",
       "Codi_districte                                           4   \n",
       "Nom_districte                                    Les Corts   \n",
       "Codi_barri                                              20   \n",
       "Nom_barri                       la Maternitat i Sant Ramon   \n",
       "Codi_carrer                                         244300   \n",
       "Nom_carrer                             Pius XII / Diagonal   \n",
       "Num_postal                                             NaN   \n",
       "Dia_setmana                                        Dilluns   \n",
       "ID_Dia_setmana                                          Dl   \n",
       "Tipus_dia                                          Laboral   \n",
       "Any                                                   2018   \n",
       "Mes                                                      4   \n",
       "Nom_mes                                              Abril   \n",
       "Dia_de_mes                                               2   \n",
       "Hora_de_dia                                              7   \n",
       "Torn                                                  Matí   \n",
       "Descripcio_causa_vianant          No és causa del  vianant   \n",
       "Numero_morts                                             0   \n",
       "Numero_lesionats_lleus                                   6   \n",
       "Numero_lesionats_greus                                   0   \n",
       "Numero_victimes                                          6   \n",
       "Numero_vehicles_implicats                                3   \n",
       "Longitud                                           2.12328   \n",
       "Latitud                                            41.3873   \n",
       "Tipus_accident                 Bolcada (més de dues rodes)   \n",
       "Causa_mediata              Excés de velocitat o inadequada   \n",
       "Descripcio_tipus_vehicle                           Turisme   \n",
       "Descripcio_model                                      POLO   \n",
       "Descripcio_marca                                VOLKSWAGEN   \n",
       "Descripcio_color                                      Gris   \n",
       "\n",
       "                                                      4634  \\\n",
       "Codi_expedient                                 2018S002505   \n",
       "Codi_districte                                           4   \n",
       "Nom_districte                                    Les Corts   \n",
       "Codi_barri                                              20   \n",
       "Nom_barri                       la Maternitat i Sant Ramon   \n",
       "Codi_carrer                                         244300   \n",
       "Nom_carrer                             Pius XII / Diagonal   \n",
       "Num_postal                                             NaN   \n",
       "Dia_setmana                                        Dilluns   \n",
       "ID_Dia_setmana                                          Dl   \n",
       "Tipus_dia                                          Laboral   \n",
       "Any                                                   2018   \n",
       "Mes                                                      4   \n",
       "Nom_mes                                              Abril   \n",
       "Dia_de_mes                                               2   \n",
       "Hora_de_dia                                              7   \n",
       "Torn                                                  Matí   \n",
       "Descripcio_causa_vianant          No és causa del  vianant   \n",
       "Numero_morts                                             0   \n",
       "Numero_lesionats_lleus                                   6   \n",
       "Numero_lesionats_greus                                   0   \n",
       "Numero_victimes                                          6   \n",
       "Numero_vehicles_implicats                                3   \n",
       "Longitud                                           2.12328   \n",
       "Latitud                                            41.3873   \n",
       "Tipus_accident                 Bolcada (més de dues rodes)   \n",
       "Causa_mediata              Excés de velocitat o inadequada   \n",
       "Descripcio_tipus_vehicle                           Turisme   \n",
       "Descripcio_model                                     Altea   \n",
       "Descripcio_marca                                      SEAT   \n",
       "Descripcio_color                                   Vermell   \n",
       "\n",
       "                                                      4635  \n",
       "Codi_expedient                                 2018S002505  \n",
       "Codi_districte                                           4  \n",
       "Nom_districte                                    Les Corts  \n",
       "Codi_barri                                              20  \n",
       "Nom_barri                       la Maternitat i Sant Ramon  \n",
       "Codi_carrer                                         244300  \n",
       "Nom_carrer                             Pius XII / Diagonal  \n",
       "Num_postal                                             NaN  \n",
       "Dia_setmana                                        Dilluns  \n",
       "ID_Dia_setmana                                          Dl  \n",
       "Tipus_dia                                          Laboral  \n",
       "Any                                                   2018  \n",
       "Mes                                                      4  \n",
       "Nom_mes                                              Abril  \n",
       "Dia_de_mes                                               2  \n",
       "Hora_de_dia                                              7  \n",
       "Torn                                                  Matí  \n",
       "Descripcio_causa_vianant          No és causa del  vianant  \n",
       "Numero_morts                                             0  \n",
       "Numero_lesionats_lleus                                   6  \n",
       "Numero_lesionats_greus                                   0  \n",
       "Numero_victimes                                          6  \n",
       "Numero_vehicles_implicats                                3  \n",
       "Longitud                                           2.12328  \n",
       "Latitud                                            41.3873  \n",
       "Tipus_accident                 Bolcada (més de dues rodes)  \n",
       "Causa_mediata              Excés de velocitat o inadequada  \n",
       "Descripcio_tipus_vehicle                         Furgoneta  \n",
       "Descripcio_model                                 VITO FURG  \n",
       "Descripcio_marca                             MERCEDES-BENZ  \n",
       "Descripcio_color                                      Groc  "
      ]
     },
     "execution_count": 196,
     "metadata": {},
     "output_type": "execute_result"
    }
   ],
   "source": [
    "df_18[df_18['Codi_expedient']=='2018S002505'].T"
   ]
  },
  {
   "cell_type": "code",
   "execution_count": null,
   "metadata": {},
   "outputs": [],
   "source": []
  },
  {
   "cell_type": "code",
   "execution_count": null,
   "metadata": {},
   "outputs": [],
   "source": []
  },
  {
   "cell_type": "code",
   "execution_count": null,
   "metadata": {},
   "outputs": [],
   "source": []
  },
  {
   "cell_type": "code",
   "execution_count": 197,
   "metadata": {},
   "outputs": [],
   "source": [
    "#df_acc, df_tipo, df_causa, df_vehicle, df_user"
   ]
  },
  {
   "cell_type": "code",
   "execution_count": 198,
   "metadata": {},
   "outputs": [
    {
     "data": {
      "text/plain": [
       "Index(['Codi_expedient', 'Codi_districte', 'Nom_districte', 'Codi_barri',\n",
       "       'Nom_barri', 'Codi_carrer', 'Nom_carrer', 'Num_postal', 'Dia_setmana',\n",
       "       'ID_Dia_setmana', 'Tipus_dia', 'Any', 'Mes', 'Nom_mes', 'Dia_de_mes',\n",
       "       'Hora_de_dia', 'Torn', 'Descripcio_causa_vianant', 'Numero_morts',\n",
       "       'Numero_lesionats_lleus', 'Numero_lesionats_greus', 'Numero_victimes',\n",
       "       'Numero_vehicles_implicats', 'Coordenada_UTM_X', 'Coordenada_UTM_Y',\n",
       "       'Longitud', 'Latitud'],\n",
       "      dtype='object')"
      ]
     },
     "execution_count": 198,
     "metadata": {},
     "output_type": "execute_result"
    }
   ],
   "source": [
    "df_acc_17.columns"
   ]
  },
  {
   "cell_type": "code",
   "execution_count": 199,
   "metadata": {},
   "outputs": [],
   "source": [
    "df_acc_17m = df_acc_17[['Codi_expedient', 'Codi_districte', 'Nom_districte', 'Codi_barri',\n",
    "       'Nom_barri', 'Codi_carrer', 'Nom_carrer', 'Num_postal', 'Dia_setmana',\n",
    "       'ID_Dia_setmana', 'Tipus_dia', 'Any', 'Mes', 'Nom_mes', 'Dia_de_mes',\n",
    "       'Hora_de_dia', 'Torn', 'Descripcio_causa_vianant', 'Numero_morts',\n",
    "       'Numero_lesionats_lleus', 'Numero_lesionats_greus', 'Numero_victimes',\n",
    "       'Numero_vehicles_implicats', 'Longitud', 'Latitud']]\n",
    "df_tipo_17m = df_17_tipo[['Codi_expedient','Tipus_accident']]\n",
    "df_causa_17m = df_causa_17[['Codi_expedient','Causa_mediata']]\n",
    "df_vehicle_17m = df_vehicle_17[['Codi_expedient','Descripcio_tipus_vehicle', 'Descripcio_model', 'Descripcio_marca',\n",
    "       'Descripcio_color']]"
   ]
  },
  {
   "cell_type": "code",
   "execution_count": 200,
   "metadata": {},
   "outputs": [
    {
     "name": "stderr",
     "output_type": "stream",
     "text": [
      "<ipython-input-200-853c78db39ab>:1: SettingWithCopyWarning: \n",
      "A value is trying to be set on a copy of a slice from a DataFrame.\n",
      "Try using .loc[row_indexer,col_indexer] = value instead\n",
      "\n",
      "See the caveats in the documentation: https://pandas.pydata.org/pandas-docs/stable/user_guide/indexing.html#returning-a-view-versus-a-copy\n",
      "  df_acc_17m['Codi_expedient'] = df_acc_17['Codi_expedient'].str.strip()\n",
      "<ipython-input-200-853c78db39ab>:2: SettingWithCopyWarning: \n",
      "A value is trying to be set on a copy of a slice from a DataFrame.\n",
      "Try using .loc[row_indexer,col_indexer] = value instead\n",
      "\n",
      "See the caveats in the documentation: https://pandas.pydata.org/pandas-docs/stable/user_guide/indexing.html#returning-a-view-versus-a-copy\n",
      "  df_tipo_17m['Codi_expedient'] = df_tipo_17m['Codi_expedient'].str.strip()\n",
      "<ipython-input-200-853c78db39ab>:3: SettingWithCopyWarning: \n",
      "A value is trying to be set on a copy of a slice from a DataFrame.\n",
      "Try using .loc[row_indexer,col_indexer] = value instead\n",
      "\n",
      "See the caveats in the documentation: https://pandas.pydata.org/pandas-docs/stable/user_guide/indexing.html#returning-a-view-versus-a-copy\n",
      "  df_causa_17m['Codi_expedient'] = df_causa_17m['Codi_expedient'].str.strip()\n",
      "<ipython-input-200-853c78db39ab>:4: SettingWithCopyWarning: \n",
      "A value is trying to be set on a copy of a slice from a DataFrame.\n",
      "Try using .loc[row_indexer,col_indexer] = value instead\n",
      "\n",
      "See the caveats in the documentation: https://pandas.pydata.org/pandas-docs/stable/user_guide/indexing.html#returning-a-view-versus-a-copy\n",
      "  df_vehicle_17m['Codi_expedient'] = df_vehicle_17m['Codi_expedient'].str.strip()\n"
     ]
    }
   ],
   "source": [
    "df_acc_17m['Codi_expedient'] = df_acc_17['Codi_expedient'].str.strip()\n",
    "df_tipo_17m['Codi_expedient'] = df_tipo_17m['Codi_expedient'].str.strip()\n",
    "df_causa_17m['Codi_expedient'] = df_causa_17m['Codi_expedient'].str.strip()\n",
    "df_vehicle_17m['Codi_expedient'] = df_vehicle_17m['Codi_expedient'].str.strip()"
   ]
  },
  {
   "cell_type": "code",
   "execution_count": 201,
   "metadata": {},
   "outputs": [
    {
     "name": "stdout",
     "output_type": "stream",
     "text": [
      "(10339, 25)\n",
      "(11009, 2)\n",
      "(10343, 2)\n",
      "(19795, 5)\n"
     ]
    }
   ],
   "source": [
    "print(df_acc_17m.shape)\n",
    "print(df_tipo_17m.shape)\n",
    "print(df_causa_17m.shape)\n",
    "print(df_vehicle_17m.shape)"
   ]
  },
  {
   "cell_type": "code",
   "execution_count": 202,
   "metadata": {},
   "outputs": [
    {
     "data": {
      "text/plain": [
       "2017S001886        13\n",
       "2017S000147        13\n",
       "2017S003808        11\n",
       "2017S005737        10\n",
       "2017S009108         9\n",
       "                   ..\n",
       "2017S003243         1\n",
       "2017S005971         1\n",
       "2017S008615         1\n",
       "2017S008838         1\n",
       "2017S010561         1\n",
       "Name: Codi_expedient, Length: 10305, dtype: int64"
      ]
     },
     "execution_count": 202,
     "metadata": {},
     "output_type": "execute_result"
    }
   ],
   "source": [
    "df_vehicle_17.Codi_expedient.value_counts()"
   ]
  },
  {
   "cell_type": "code",
   "execution_count": 203,
   "metadata": {},
   "outputs": [
    {
     "data": {
      "text/html": [
       "<div>\n",
       "<style scoped>\n",
       "    .dataframe tbody tr th:only-of-type {\n",
       "        vertical-align: middle;\n",
       "    }\n",
       "\n",
       "    .dataframe tbody tr th {\n",
       "        vertical-align: top;\n",
       "    }\n",
       "\n",
       "    .dataframe thead th {\n",
       "        text-align: right;\n",
       "    }\n",
       "</style>\n",
       "<table border=\"1\" class=\"dataframe\">\n",
       "  <thead>\n",
       "    <tr style=\"text-align: right;\">\n",
       "      <th></th>\n",
       "      <th>1087</th>\n",
       "    </tr>\n",
       "  </thead>\n",
       "  <tbody>\n",
       "    <tr>\n",
       "      <th>Codi_expedient</th>\n",
       "      <td>2017S009108</td>\n",
       "    </tr>\n",
       "    <tr>\n",
       "      <th>Codi_districte</th>\n",
       "      <td>7</td>\n",
       "    </tr>\n",
       "    <tr>\n",
       "      <th>Nom_districte</th>\n",
       "      <td>Horta-Guinardó</td>\n",
       "    </tr>\n",
       "    <tr>\n",
       "      <th>Codi_barri</th>\n",
       "      <td>34</td>\n",
       "    </tr>\n",
       "    <tr>\n",
       "      <th>Nom_barri</th>\n",
       "      <td>Can Baró</td>\n",
       "    </tr>\n",
       "    <tr>\n",
       "      <th>Codi_carrer</th>\n",
       "      <td>247309</td>\n",
       "    </tr>\n",
       "    <tr>\n",
       "      <th>Nom_carrer</th>\n",
       "      <td>Pasteur                                       ...</td>\n",
       "    </tr>\n",
       "    <tr>\n",
       "      <th>Num_postal</th>\n",
       "      <td>0048 0048</td>\n",
       "    </tr>\n",
       "    <tr>\n",
       "      <th>Dia_setmana</th>\n",
       "      <td>Dissabte</td>\n",
       "    </tr>\n",
       "    <tr>\n",
       "      <th>ID_Dia_setmana</th>\n",
       "      <td>Ds</td>\n",
       "    </tr>\n",
       "    <tr>\n",
       "      <th>Tipus_dia</th>\n",
       "      <td>Laboral</td>\n",
       "    </tr>\n",
       "    <tr>\n",
       "      <th>Any</th>\n",
       "      <td>2017</td>\n",
       "    </tr>\n",
       "    <tr>\n",
       "      <th>Mes</th>\n",
       "      <td>11</td>\n",
       "    </tr>\n",
       "    <tr>\n",
       "      <th>Nom_mes</th>\n",
       "      <td>Novembre</td>\n",
       "    </tr>\n",
       "    <tr>\n",
       "      <th>Dia_de_mes</th>\n",
       "      <td>4</td>\n",
       "    </tr>\n",
       "    <tr>\n",
       "      <th>Hora_de_dia</th>\n",
       "      <td>7</td>\n",
       "    </tr>\n",
       "    <tr>\n",
       "      <th>Torn</th>\n",
       "      <td>Matí</td>\n",
       "    </tr>\n",
       "    <tr>\n",
       "      <th>Descripcio_causa_vianant</th>\n",
       "      <td>No és causa del  vianant</td>\n",
       "    </tr>\n",
       "    <tr>\n",
       "      <th>Numero_morts</th>\n",
       "      <td>0</td>\n",
       "    </tr>\n",
       "    <tr>\n",
       "      <th>Numero_lesionats_lleus</th>\n",
       "      <td>1</td>\n",
       "    </tr>\n",
       "    <tr>\n",
       "      <th>Numero_lesionats_greus</th>\n",
       "      <td>0</td>\n",
       "    </tr>\n",
       "    <tr>\n",
       "      <th>Numero_victimes</th>\n",
       "      <td>1</td>\n",
       "    </tr>\n",
       "    <tr>\n",
       "      <th>Numero_vehicles_implicats</th>\n",
       "      <td>9</td>\n",
       "    </tr>\n",
       "    <tr>\n",
       "      <th>Longitud</th>\n",
       "      <td>2.16061</td>\n",
       "    </tr>\n",
       "    <tr>\n",
       "      <th>Latitud</th>\n",
       "      <td>41.4177</td>\n",
       "    </tr>\n",
       "  </tbody>\n",
       "</table>\n",
       "</div>"
      ],
      "text/plain": [
       "                                                                        1087\n",
       "Codi_expedient                                                   2017S009108\n",
       "Codi_districte                                                             7\n",
       "Nom_districte                                                 Horta-Guinardó\n",
       "Codi_barri                                                                34\n",
       "Nom_barri                                                           Can Baró\n",
       "Codi_carrer                                                           247309\n",
       "Nom_carrer                 Pasteur                                       ...\n",
       "Num_postal                                                         0048 0048\n",
       "Dia_setmana                                                         Dissabte\n",
       "ID_Dia_setmana                                                            Ds\n",
       "Tipus_dia                                                            Laboral\n",
       "Any                                                                     2017\n",
       "Mes                                                                       11\n",
       "Nom_mes                                                             Novembre\n",
       "Dia_de_mes                                                                 4\n",
       "Hora_de_dia                                                                7\n",
       "Torn                                                                    Matí\n",
       "Descripcio_causa_vianant                            No és causa del  vianant\n",
       "Numero_morts                                                               0\n",
       "Numero_lesionats_lleus                                                     1\n",
       "Numero_lesionats_greus                                                     0\n",
       "Numero_victimes                                                            1\n",
       "Numero_vehicles_implicats                                                  9\n",
       "Longitud                                                             2.16061\n",
       "Latitud                                                              41.4177"
      ]
     },
     "execution_count": 203,
     "metadata": {},
     "output_type": "execute_result"
    }
   ],
   "source": [
    "df_acc_17m[df_acc_17m['Codi_expedient']=='2017S009108'].T"
   ]
  },
  {
   "cell_type": "code",
   "execution_count": 204,
   "metadata": {},
   "outputs": [
    {
     "data": {
      "text/html": [
       "<div>\n",
       "<style scoped>\n",
       "    .dataframe tbody tr th:only-of-type {\n",
       "        vertical-align: middle;\n",
       "    }\n",
       "\n",
       "    .dataframe tbody tr th {\n",
       "        vertical-align: top;\n",
       "    }\n",
       "\n",
       "    .dataframe thead th {\n",
       "        text-align: right;\n",
       "    }\n",
       "</style>\n",
       "<table border=\"1\" class=\"dataframe\">\n",
       "  <thead>\n",
       "    <tr style=\"text-align: right;\">\n",
       "      <th></th>\n",
       "      <th>16670</th>\n",
       "      <th>16671</th>\n",
       "      <th>16672</th>\n",
       "      <th>16673</th>\n",
       "      <th>16674</th>\n",
       "      <th>16675</th>\n",
       "      <th>16676</th>\n",
       "      <th>16677</th>\n",
       "      <th>16678</th>\n",
       "    </tr>\n",
       "  </thead>\n",
       "  <tbody>\n",
       "    <tr>\n",
       "      <th>Codi_expedient</th>\n",
       "      <td>2017S009108</td>\n",
       "      <td>2017S009108</td>\n",
       "      <td>2017S009108</td>\n",
       "      <td>2017S009108</td>\n",
       "      <td>2017S009108</td>\n",
       "      <td>2017S009108</td>\n",
       "      <td>2017S009108</td>\n",
       "      <td>2017S009108</td>\n",
       "      <td>2017S009108</td>\n",
       "    </tr>\n",
       "    <tr>\n",
       "      <th>Descripcio_tipus_vehicle</th>\n",
       "      <td>Ciclomotor</td>\n",
       "      <td>Ciclomotor</td>\n",
       "      <td>Motocicleta</td>\n",
       "      <td>Motocicleta</td>\n",
       "      <td>Motocicleta</td>\n",
       "      <td>Motocicleta</td>\n",
       "      <td>Taxi</td>\n",
       "      <td>Turisme</td>\n",
       "      <td>Turisme</td>\n",
       "    </tr>\n",
       "    <tr>\n",
       "      <th>Descripcio_model</th>\n",
       "      <td>LIBERTY 50</td>\n",
       "      <td>SYMPHONY</td>\n",
       "      <td>BURGMAN</td>\n",
       "      <td>LIBERTY</td>\n",
       "      <td>SH 125</td>\n",
       "      <td>STREET TRI</td>\n",
       "      <td>PRIUS</td>\n",
       "      <td>CIVIC</td>\n",
       "      <td>MAZDA 5</td>\n",
       "    </tr>\n",
       "    <tr>\n",
       "      <th>Descripcio_marca</th>\n",
       "      <td>PIAGGIO</td>\n",
       "      <td>SYM</td>\n",
       "      <td>SUZUKI</td>\n",
       "      <td>PIAGGIO</td>\n",
       "      <td>HONDA</td>\n",
       "      <td>TRIUMPH</td>\n",
       "      <td>TOYOTA</td>\n",
       "      <td>HONDA</td>\n",
       "      <td>MAZDA</td>\n",
       "    </tr>\n",
       "    <tr>\n",
       "      <th>Descripcio_color</th>\n",
       "      <td>Blanc</td>\n",
       "      <td>Gris</td>\n",
       "      <td>Blanc</td>\n",
       "      <td>Blanc</td>\n",
       "      <td>Gris</td>\n",
       "      <td>Blanc</td>\n",
       "      <td>Negre/Groc</td>\n",
       "      <td>Blanc</td>\n",
       "      <td>Gris</td>\n",
       "    </tr>\n",
       "  </tbody>\n",
       "</table>\n",
       "</div>"
      ],
      "text/plain": [
       "                                16670        16671        16672        16673  \\\n",
       "Codi_expedient            2017S009108  2017S009108  2017S009108  2017S009108   \n",
       "Descripcio_tipus_vehicle   Ciclomotor   Ciclomotor  Motocicleta  Motocicleta   \n",
       "Descripcio_model           LIBERTY 50     SYMPHONY      BURGMAN      LIBERTY   \n",
       "Descripcio_marca              PIAGGIO          SYM       SUZUKI      PIAGGIO   \n",
       "Descripcio_color                Blanc         Gris        Blanc        Blanc   \n",
       "\n",
       "                                16674        16675        16676        16677  \\\n",
       "Codi_expedient            2017S009108  2017S009108  2017S009108  2017S009108   \n",
       "Descripcio_tipus_vehicle  Motocicleta  Motocicleta         Taxi      Turisme   \n",
       "Descripcio_model               SH 125   STREET TRI        PRIUS        CIVIC   \n",
       "Descripcio_marca                HONDA      TRIUMPH       TOYOTA        HONDA   \n",
       "Descripcio_color                 Gris        Blanc   Negre/Groc        Blanc   \n",
       "\n",
       "                                16678  \n",
       "Codi_expedient            2017S009108  \n",
       "Descripcio_tipus_vehicle      Turisme  \n",
       "Descripcio_model              MAZDA 5  \n",
       "Descripcio_marca                MAZDA  \n",
       "Descripcio_color                 Gris  "
      ]
     },
     "execution_count": 204,
     "metadata": {},
     "output_type": "execute_result"
    }
   ],
   "source": [
    "df_vehicle_17m[df_vehicle_17m['Codi_expedient']=='2017S009108'].T"
   ]
  },
  {
   "cell_type": "code",
   "execution_count": 205,
   "metadata": {},
   "outputs": [
    {
     "data": {
      "text/plain": [
       "(11013, 26)"
      ]
     },
     "execution_count": 205,
     "metadata": {},
     "output_type": "execute_result"
    }
   ],
   "source": [
    "df_17 = df_acc_17m.merge(df_tipo_17m, how = 'inner', on = ['Codi_expedient'])\n",
    "df_17.sort_values(by = 'Codi_expedient', axis = 0, inplace = True, ignore_index = True)\n",
    "df_17.shape"
   ]
  },
  {
   "cell_type": "code",
   "execution_count": 206,
   "metadata": {},
   "outputs": [
    {
     "data": {
      "text/plain": [
       "(11023, 27)"
      ]
     },
     "execution_count": 206,
     "metadata": {},
     "output_type": "execute_result"
    }
   ],
   "source": [
    "df_17 = df_17.merge(df_causa_17m, how = 'inner', on = 'Codi_expedient')\n",
    "df_17.sort_values(by = 'Codi_expedient', axis = 0, inplace = True, ignore_index = True)\n",
    "df_17.shape"
   ]
  },
  {
   "cell_type": "code",
   "execution_count": 207,
   "metadata": {},
   "outputs": [
    {
     "data": {
      "text/plain": [
       "(21400, 31)"
      ]
     },
     "execution_count": 207,
     "metadata": {},
     "output_type": "execute_result"
    }
   ],
   "source": [
    "df_17 = df_17.merge(df_vehicle_17m, how = 'inner', on = 'Codi_expedient')\n",
    "df_17.sort_values(by = 'Codi_expedient', axis = 0, inplace = True, ignore_index = True)\n",
    "df_17.shape"
   ]
  },
  {
   "cell_type": "code",
   "execution_count": 208,
   "metadata": {},
   "outputs": [
    {
     "data": {
      "text/plain": [
       "2017S000147    39\n",
       "2017S009108    27\n",
       "2017S003258    18\n",
       "2017S001433    16\n",
       "2017S000949    16\n",
       "               ..\n",
       "2017S004662     1\n",
       "2017S005078     1\n",
       "2017S008161     1\n",
       "2017S001579     1\n",
       "2017S005594     1\n",
       "Name: Codi_expedient, Length: 10305, dtype: int64"
      ]
     },
     "execution_count": 208,
     "metadata": {},
     "output_type": "execute_result"
    }
   ],
   "source": [
    "df_17.Codi_expedient.value_counts()"
   ]
  },
  {
   "cell_type": "code",
   "execution_count": 209,
   "metadata": {},
   "outputs": [
    {
     "data": {
      "text/plain": [
       "(array([1.7176e+04, 2.8160e+03, 7.9200e+02, 3.8600e+02, 5.5000e+01,\n",
       "        2.3000e+01, 8.9000e+01, 1.1000e+01, 0.0000e+00, 5.2000e+01]),\n",
       " array([ 1. ,  2.3,  3.6,  4.9,  6.2,  7.5,  8.8, 10.1, 11.4, 12.7, 14. ]),\n",
       " <BarContainer object of 10 artists>)"
      ]
     },
     "execution_count": 209,
     "metadata": {},
     "output_type": "execute_result"
    },
    {
     "data": {
      "image/png": "[encoded data removed]",
      "text/plain": [
       "<Figure size 432x288 with 1 Axes>"
      ]
     },
     "metadata": {
      "needs_background": "light"
     },
     "output_type": "display_data"
    }
   ],
   "source": [
    "import matplotlib.pyplot as plt\n",
    "\n",
    "plt.hist(df_17['Numero_vehicles_implicats'])"
   ]
  },
  {
   "cell_type": "code",
   "execution_count": 210,
   "metadata": {},
   "outputs": [
    {
     "data": {
      "text/plain": [
       "(20784, 31)"
      ]
     },
     "execution_count": 210,
     "metadata": {},
     "output_type": "execute_result"
    }
   ],
   "source": [
    "df_17 = df_17[df_17['Numero_vehicles_implicats'] <= 4]\n",
    "df_17.shape"
   ]
  },
  {
   "cell_type": "code",
   "execution_count": 211,
   "metadata": {},
   "outputs": [],
   "source": [
    "df_17['Nom_carrer'] = df_17['Nom_carrer'].str.strip()"
   ]
  },
  {
   "cell_type": "code",
   "execution_count": 212,
   "metadata": {},
   "outputs": [
    {
     "data": {
      "text/plain": [
       "2017S000949    16\n",
       "2017S006814    12\n",
       "2017S003570    12\n",
       "2017S006454    12\n",
       "2017S003709    12\n",
       "               ..\n",
       "2017S003019     1\n",
       "2017S007185     1\n",
       "2017S007235     1\n",
       "2017S003403     1\n",
       "2017S005594     1\n",
       "Name: Codi_expedient, Length: 10225, dtype: int64"
      ]
     },
     "execution_count": 212,
     "metadata": {},
     "output_type": "execute_result"
    }
   ],
   "source": [
    "df_17.Codi_expedient.value_counts()"
   ]
  },
  {
   "cell_type": "code",
   "execution_count": 213,
   "metadata": {},
   "outputs": [],
   "source": [
    "df_17.drop_duplicates(subset= ['Codi_expedient','Descripcio_tipus_vehicle', 'Descripcio_model', 'Descripcio_marca', 'Descripcio_color'], keep = 'first', inplace = True, ignore_index = True)"
   ]
  },
  {
   "cell_type": "code",
   "execution_count": 214,
   "metadata": {},
   "outputs": [
    {
     "data": {
      "text/plain": [
       "(19289, 31)"
      ]
     },
     "execution_count": 214,
     "metadata": {},
     "output_type": "execute_result"
    }
   ],
   "source": [
    "df_17.shape"
   ]
  },
  {
   "cell_type": "code",
   "execution_count": 215,
   "metadata": {},
   "outputs": [
    {
     "data": {
      "text/plain": [
       "2017S007451    4\n",
       "2017S010000    4\n",
       "2017S001096    4\n",
       "2017S000567    4\n",
       "2017S001290    4\n",
       "              ..\n",
       "2017S009122    1\n",
       "2017S008374    1\n",
       "2017S005439    1\n",
       "2017S009724    1\n",
       "2017S005594    1\n",
       "Name: Codi_expedient, Length: 10225, dtype: int64"
      ]
     },
     "execution_count": 215,
     "metadata": {},
     "output_type": "execute_result"
    }
   ],
   "source": [
    "df_17.Codi_expedient.value_counts()"
   ]
  },
  {
   "cell_type": "code",
   "execution_count": 216,
   "metadata": {
    "scrolled": false
   },
   "outputs": [
    {
     "data": {
      "text/html": [
       "<div>\n",
       "<style scoped>\n",
       "    .dataframe tbody tr th:only-of-type {\n",
       "        vertical-align: middle;\n",
       "    }\n",
       "\n",
       "    .dataframe tbody tr th {\n",
       "        vertical-align: top;\n",
       "    }\n",
       "\n",
       "    .dataframe thead th {\n",
       "        text-align: right;\n",
       "    }\n",
       "</style>\n",
       "<table border=\"1\" class=\"dataframe\">\n",
       "  <thead>\n",
       "    <tr style=\"text-align: right;\">\n",
       "      <th></th>\n",
       "      <th>14048</th>\n",
       "      <th>14049</th>\n",
       "      <th>14050</th>\n",
       "      <th>14051</th>\n",
       "    </tr>\n",
       "  </thead>\n",
       "  <tbody>\n",
       "    <tr>\n",
       "      <th>Codi_expedient</th>\n",
       "      <td>2017S007904</td>\n",
       "      <td>2017S007904</td>\n",
       "      <td>2017S007904</td>\n",
       "      <td>2017S007904</td>\n",
       "    </tr>\n",
       "    <tr>\n",
       "      <th>Codi_districte</th>\n",
       "      <td>10</td>\n",
       "      <td>10</td>\n",
       "      <td>10</td>\n",
       "      <td>10</td>\n",
       "    </tr>\n",
       "    <tr>\n",
       "      <th>Nom_districte</th>\n",
       "      <td>Sant Martí</td>\n",
       "      <td>Sant Martí</td>\n",
       "      <td>Sant Martí</td>\n",
       "      <td>Sant Martí</td>\n",
       "    </tr>\n",
       "    <tr>\n",
       "      <th>Codi_barri</th>\n",
       "      <td>71</td>\n",
       "      <td>71</td>\n",
       "      <td>71</td>\n",
       "      <td>71</td>\n",
       "    </tr>\n",
       "    <tr>\n",
       "      <th>Nom_barri</th>\n",
       "      <td>Provençals del Poblenou</td>\n",
       "      <td>Provençals del Poblenou</td>\n",
       "      <td>Provençals del Poblenou</td>\n",
       "      <td>Provençals del Poblenou</td>\n",
       "    </tr>\n",
       "    <tr>\n",
       "      <th>Codi_carrer</th>\n",
       "      <td>169409</td>\n",
       "      <td>169409</td>\n",
       "      <td>169409</td>\n",
       "      <td>169409</td>\n",
       "    </tr>\n",
       "    <tr>\n",
       "      <th>Nom_carrer</th>\n",
       "      <td>Corts Catalanes / Bac de Roda</td>\n",
       "      <td>Corts Catalanes / Bac de Roda</td>\n",
       "      <td>Corts Catalanes / Bac de Roda</td>\n",
       "      <td>Corts Catalanes / Bac de Roda</td>\n",
       "    </tr>\n",
       "    <tr>\n",
       "      <th>Num_postal</th>\n",
       "      <td>1004 1004</td>\n",
       "      <td>1004 1004</td>\n",
       "      <td>1004 1004</td>\n",
       "      <td>1004 1004</td>\n",
       "    </tr>\n",
       "    <tr>\n",
       "      <th>Dia_setmana</th>\n",
       "      <td>Diumenge</td>\n",
       "      <td>Diumenge</td>\n",
       "      <td>Diumenge</td>\n",
       "      <td>Diumenge</td>\n",
       "    </tr>\n",
       "    <tr>\n",
       "      <th>ID_Dia_setmana</th>\n",
       "      <td>Dg</td>\n",
       "      <td>Dg</td>\n",
       "      <td>Dg</td>\n",
       "      <td>Dg</td>\n",
       "    </tr>\n",
       "    <tr>\n",
       "      <th>Tipus_dia</th>\n",
       "      <td>Laboral</td>\n",
       "      <td>Laboral</td>\n",
       "      <td>Laboral</td>\n",
       "      <td>Laboral</td>\n",
       "    </tr>\n",
       "    <tr>\n",
       "      <th>Any</th>\n",
       "      <td>2017</td>\n",
       "      <td>2017</td>\n",
       "      <td>2017</td>\n",
       "      <td>2017</td>\n",
       "    </tr>\n",
       "    <tr>\n",
       "      <th>Mes</th>\n",
       "      <td>9</td>\n",
       "      <td>9</td>\n",
       "      <td>9</td>\n",
       "      <td>9</td>\n",
       "    </tr>\n",
       "    <tr>\n",
       "      <th>Nom_mes</th>\n",
       "      <td>Setembre</td>\n",
       "      <td>Setembre</td>\n",
       "      <td>Setembre</td>\n",
       "      <td>Setembre</td>\n",
       "    </tr>\n",
       "    <tr>\n",
       "      <th>Dia_de_mes</th>\n",
       "      <td>24</td>\n",
       "      <td>24</td>\n",
       "      <td>24</td>\n",
       "      <td>24</td>\n",
       "    </tr>\n",
       "    <tr>\n",
       "      <th>Hora_de_dia</th>\n",
       "      <td>9</td>\n",
       "      <td>9</td>\n",
       "      <td>9</td>\n",
       "      <td>9</td>\n",
       "    </tr>\n",
       "    <tr>\n",
       "      <th>Torn</th>\n",
       "      <td>Matí</td>\n",
       "      <td>Matí</td>\n",
       "      <td>Matí</td>\n",
       "      <td>Matí</td>\n",
       "    </tr>\n",
       "    <tr>\n",
       "      <th>Descripcio_causa_vianant</th>\n",
       "      <td>No és causa del  vianant</td>\n",
       "      <td>No és causa del  vianant</td>\n",
       "      <td>No és causa del  vianant</td>\n",
       "      <td>No és causa del  vianant</td>\n",
       "    </tr>\n",
       "    <tr>\n",
       "      <th>Numero_morts</th>\n",
       "      <td>0</td>\n",
       "      <td>0</td>\n",
       "      <td>0</td>\n",
       "      <td>0</td>\n",
       "    </tr>\n",
       "    <tr>\n",
       "      <th>Numero_lesionats_lleus</th>\n",
       "      <td>1</td>\n",
       "      <td>1</td>\n",
       "      <td>1</td>\n",
       "      <td>1</td>\n",
       "    </tr>\n",
       "    <tr>\n",
       "      <th>Numero_lesionats_greus</th>\n",
       "      <td>0</td>\n",
       "      <td>0</td>\n",
       "      <td>0</td>\n",
       "      <td>0</td>\n",
       "    </tr>\n",
       "    <tr>\n",
       "      <th>Numero_victimes</th>\n",
       "      <td>1</td>\n",
       "      <td>1</td>\n",
       "      <td>1</td>\n",
       "      <td>1</td>\n",
       "    </tr>\n",
       "    <tr>\n",
       "      <th>Numero_vehicles_implicats</th>\n",
       "      <td>4</td>\n",
       "      <td>4</td>\n",
       "      <td>4</td>\n",
       "      <td>4</td>\n",
       "    </tr>\n",
       "    <tr>\n",
       "      <th>Longitud</th>\n",
       "      <td>2.19819</td>\n",
       "      <td>2.19819</td>\n",
       "      <td>2.19819</td>\n",
       "      <td>2.19819</td>\n",
       "    </tr>\n",
       "    <tr>\n",
       "      <th>Latitud</th>\n",
       "      <td>41.4119</td>\n",
       "      <td>41.4119</td>\n",
       "      <td>41.4119</td>\n",
       "      <td>41.4119</td>\n",
       "    </tr>\n",
       "    <tr>\n",
       "      <th>Tipus_accident</th>\n",
       "      <td>Caiguda (dues rodes)</td>\n",
       "      <td>Caiguda (dues rodes)</td>\n",
       "      <td>Caiguda (dues rodes)</td>\n",
       "      <td>Caiguda (dues rodes)</td>\n",
       "    </tr>\n",
       "    <tr>\n",
       "      <th>Causa_mediata</th>\n",
       "      <td>No hi ha causa mediata</td>\n",
       "      <td>No hi ha causa mediata</td>\n",
       "      <td>No hi ha causa mediata</td>\n",
       "      <td>No hi ha causa mediata</td>\n",
       "    </tr>\n",
       "    <tr>\n",
       "      <th>Descripcio_tipus_vehicle</th>\n",
       "      <td>Turisme</td>\n",
       "      <td>Turisme</td>\n",
       "      <td>Bicicleta</td>\n",
       "      <td>Motocicleta</td>\n",
       "    </tr>\n",
       "    <tr>\n",
       "      <th>Descripcio_model</th>\n",
       "      <td>NOTE</td>\n",
       "      <td>C4</td>\n",
       "      <td></td>\n",
       "      <td>R1200</td>\n",
       "    </tr>\n",
       "    <tr>\n",
       "      <th>Descripcio_marca</th>\n",
       "      <td>NISSAN</td>\n",
       "      <td>CITROEN</td>\n",
       "      <td>DECATHLON</td>\n",
       "      <td>BMW</td>\n",
       "    </tr>\n",
       "    <tr>\n",
       "      <th>Descripcio_color</th>\n",
       "      <td>Blau</td>\n",
       "      <td>Blanc</td>\n",
       "      <td>Blau</td>\n",
       "      <td>Gris</td>\n",
       "    </tr>\n",
       "  </tbody>\n",
       "</table>\n",
       "</div>"
      ],
      "text/plain": [
       "                                                   14048  \\\n",
       "Codi_expedient                               2017S007904   \n",
       "Codi_districte                                        10   \n",
       "Nom_districte                                 Sant Martí   \n",
       "Codi_barri                                            71   \n",
       "Nom_barri                        Provençals del Poblenou   \n",
       "Codi_carrer                                       169409   \n",
       "Nom_carrer                 Corts Catalanes / Bac de Roda   \n",
       "Num_postal                                     1004 1004   \n",
       "Dia_setmana                                     Diumenge   \n",
       "ID_Dia_setmana                                        Dg   \n",
       "Tipus_dia                                        Laboral   \n",
       "Any                                                 2017   \n",
       "Mes                                                    9   \n",
       "Nom_mes                                         Setembre   \n",
       "Dia_de_mes                                            24   \n",
       "Hora_de_dia                                            9   \n",
       "Torn                                                Matí   \n",
       "Descripcio_causa_vianant        No és causa del  vianant   \n",
       "Numero_morts                                           0   \n",
       "Numero_lesionats_lleus                                 1   \n",
       "Numero_lesionats_greus                                 0   \n",
       "Numero_victimes                                        1   \n",
       "Numero_vehicles_implicats                              4   \n",
       "Longitud                                         2.19819   \n",
       "Latitud                                          41.4119   \n",
       "Tipus_accident                      Caiguda (dues rodes)   \n",
       "Causa_mediata                     No hi ha causa mediata   \n",
       "Descripcio_tipus_vehicle                         Turisme   \n",
       "Descripcio_model                                    NOTE   \n",
       "Descripcio_marca                                  NISSAN   \n",
       "Descripcio_color                                    Blau   \n",
       "\n",
       "                                                   14049  \\\n",
       "Codi_expedient                               2017S007904   \n",
       "Codi_districte                                        10   \n",
       "Nom_districte                                 Sant Martí   \n",
       "Codi_barri                                            71   \n",
       "Nom_barri                        Provençals del Poblenou   \n",
       "Codi_carrer                                       169409   \n",
       "Nom_carrer                 Corts Catalanes / Bac de Roda   \n",
       "Num_postal                                     1004 1004   \n",
       "Dia_setmana                                     Diumenge   \n",
       "ID_Dia_setmana                                        Dg   \n",
       "Tipus_dia                                        Laboral   \n",
       "Any                                                 2017   \n",
       "Mes                                                    9   \n",
       "Nom_mes                                         Setembre   \n",
       "Dia_de_mes                                            24   \n",
       "Hora_de_dia                                            9   \n",
       "Torn                                                Matí   \n",
       "Descripcio_causa_vianant        No és causa del  vianant   \n",
       "Numero_morts                                           0   \n",
       "Numero_lesionats_lleus                                 1   \n",
       "Numero_lesionats_greus                                 0   \n",
       "Numero_victimes                                        1   \n",
       "Numero_vehicles_implicats                              4   \n",
       "Longitud                                         2.19819   \n",
       "Latitud                                          41.4119   \n",
       "Tipus_accident                      Caiguda (dues rodes)   \n",
       "Causa_mediata                     No hi ha causa mediata   \n",
       "Descripcio_tipus_vehicle                         Turisme   \n",
       "Descripcio_model                                      C4   \n",
       "Descripcio_marca                                 CITROEN   \n",
       "Descripcio_color                                   Blanc   \n",
       "\n",
       "                                                   14050  \\\n",
       "Codi_expedient                               2017S007904   \n",
       "Codi_districte                                        10   \n",
       "Nom_districte                                 Sant Martí   \n",
       "Codi_barri                                            71   \n",
       "Nom_barri                        Provençals del Poblenou   \n",
       "Codi_carrer                                       169409   \n",
       "Nom_carrer                 Corts Catalanes / Bac de Roda   \n",
       "Num_postal                                     1004 1004   \n",
       "Dia_setmana                                     Diumenge   \n",
       "ID_Dia_setmana                                        Dg   \n",
       "Tipus_dia                                        Laboral   \n",
       "Any                                                 2017   \n",
       "Mes                                                    9   \n",
       "Nom_mes                                         Setembre   \n",
       "Dia_de_mes                                            24   \n",
       "Hora_de_dia                                            9   \n",
       "Torn                                                Matí   \n",
       "Descripcio_causa_vianant        No és causa del  vianant   \n",
       "Numero_morts                                           0   \n",
       "Numero_lesionats_lleus                                 1   \n",
       "Numero_lesionats_greus                                 0   \n",
       "Numero_victimes                                        1   \n",
       "Numero_vehicles_implicats                              4   \n",
       "Longitud                                         2.19819   \n",
       "Latitud                                          41.4119   \n",
       "Tipus_accident                      Caiguda (dues rodes)   \n",
       "Causa_mediata                     No hi ha causa mediata   \n",
       "Descripcio_tipus_vehicle                       Bicicleta   \n",
       "Descripcio_model                                           \n",
       "Descripcio_marca                               DECATHLON   \n",
       "Descripcio_color                                    Blau   \n",
       "\n",
       "                                                   14051  \n",
       "Codi_expedient                               2017S007904  \n",
       "Codi_districte                                        10  \n",
       "Nom_districte                                 Sant Martí  \n",
       "Codi_barri                                            71  \n",
       "Nom_barri                        Provençals del Poblenou  \n",
       "Codi_carrer                                       169409  \n",
       "Nom_carrer                 Corts Catalanes / Bac de Roda  \n",
       "Num_postal                                     1004 1004  \n",
       "Dia_setmana                                     Diumenge  \n",
       "ID_Dia_setmana                                        Dg  \n",
       "Tipus_dia                                        Laboral  \n",
       "Any                                                 2017  \n",
       "Mes                                                    9  \n",
       "Nom_mes                                         Setembre  \n",
       "Dia_de_mes                                            24  \n",
       "Hora_de_dia                                            9  \n",
       "Torn                                                Matí  \n",
       "Descripcio_causa_vianant        No és causa del  vianant  \n",
       "Numero_morts                                           0  \n",
       "Numero_lesionats_lleus                                 1  \n",
       "Numero_lesionats_greus                                 0  \n",
       "Numero_victimes                                        1  \n",
       "Numero_vehicles_implicats                              4  \n",
       "Longitud                                         2.19819  \n",
       "Latitud                                          41.4119  \n",
       "Tipus_accident                      Caiguda (dues rodes)  \n",
       "Causa_mediata                     No hi ha causa mediata  \n",
       "Descripcio_tipus_vehicle                     Motocicleta  \n",
       "Descripcio_model                                   R1200  \n",
       "Descripcio_marca                                     BMW  \n",
       "Descripcio_color                                    Gris  "
      ]
     },
     "execution_count": 216,
     "metadata": {},
     "output_type": "execute_result"
    }
   ],
   "source": [
    "df_17[df_17['Codi_expedient']=='2017S007904'].T"
   ]
  },
  {
   "cell_type": "code",
   "execution_count": null,
   "metadata": {},
   "outputs": [],
   "source": []
  },
  {
   "cell_type": "code",
   "execution_count": null,
   "metadata": {},
   "outputs": [],
   "source": []
  },
  {
   "cell_type": "code",
   "execution_count": null,
   "metadata": {},
   "outputs": [],
   "source": []
  },
  {
   "cell_type": "code",
   "execution_count": 217,
   "metadata": {},
   "outputs": [],
   "source": [
    "#df_acc, df_tipo, df_causa, df_vehicle, df_user"
   ]
  },
  {
   "cell_type": "code",
   "execution_count": 218,
   "metadata": {},
   "outputs": [
    {
     "data": {
      "text/plain": [
       "Index(['Codi_expedient', 'Codi_districte', 'Nom_districte', 'Codi_barri',\n",
       "       'Nom_barri', 'Codi_carrer', 'Nom_carrer', 'Num_postal', 'Dia_setmana',\n",
       "       'ID_Dia_setmana', 'Tipus_dia', 'Any', 'Mes', 'Nom_mes', 'Dia_de_mes',\n",
       "       'Hora_de_dia', 'Torn', 'Descripcio_causa_vianant', 'Numero_morts',\n",
       "       'Numero_lesionats_lleus', 'Numero_lesionats_greus', 'Numero_victimes',\n",
       "       'Numero_vehicles_implicats', 'Coordenada_UTM_X', 'Coordenada_UTM_Y',\n",
       "       'Longitud', 'Latitud'],\n",
       "      dtype='object')"
      ]
     },
     "execution_count": 218,
     "metadata": {},
     "output_type": "execute_result"
    }
   ],
   "source": [
    "df_acc_16.columns"
   ]
  },
  {
   "cell_type": "code",
   "execution_count": 219,
   "metadata": {},
   "outputs": [],
   "source": [
    "df_acc_16m = df_acc_16[['Codi_expedient', 'Codi_districte', 'Nom_districte', 'Codi_barri',\n",
    "       'Nom_barri', 'Codi_carrer', 'Nom_carrer', 'Num_postal', 'Dia_setmana',\n",
    "       'ID_Dia_setmana', 'Tipus_dia', 'Any', 'Mes', 'Nom_mes', 'Dia_de_mes',\n",
    "       'Hora_de_dia', 'Torn', 'Descripcio_causa_vianant', 'Numero_morts',\n",
    "       'Numero_lesionats_lleus', 'Numero_lesionats_greus', 'Numero_victimes',\n",
    "       'Numero_vehicles_implicats', 'Longitud', 'Latitud']]\n",
    "df_tipo_16m = df_16_tipo[['Codi_expedient','Tipus_accident']]\n",
    "df_causa_16m = df_causa_16[['Codi_expedient','Causa_mediata']]\n",
    "df_vehicle_16m = df_vehicle_16[['Codi_expedient','Descripcio_tipus_vehicle', 'Descripcio_model', 'Descripcio_marca',\n",
    "       'Descripcio_color']]"
   ]
  },
  {
   "cell_type": "code",
   "execution_count": 220,
   "metadata": {},
   "outputs": [
    {
     "name": "stderr",
     "output_type": "stream",
     "text": [
      "<ipython-input-220-bee7b23465ec>:1: SettingWithCopyWarning: \n",
      "A value is trying to be set on a copy of a slice from a DataFrame.\n",
      "Try using .loc[row_indexer,col_indexer] = value instead\n",
      "\n",
      "See the caveats in the documentation: https://pandas.pydata.org/pandas-docs/stable/user_guide/indexing.html#returning-a-view-versus-a-copy\n",
      "  df_acc_16m['Codi_expedient'] = df_acc_16['Codi_expedient'].str.strip()\n",
      "<ipython-input-220-bee7b23465ec>:2: SettingWithCopyWarning: \n",
      "A value is trying to be set on a copy of a slice from a DataFrame.\n",
      "Try using .loc[row_indexer,col_indexer] = value instead\n",
      "\n",
      "See the caveats in the documentation: https://pandas.pydata.org/pandas-docs/stable/user_guide/indexing.html#returning-a-view-versus-a-copy\n",
      "  df_tipo_16m['Codi_expedient'] = df_tipo_16m['Codi_expedient'].str.strip()\n",
      "<ipython-input-220-bee7b23465ec>:3: SettingWithCopyWarning: \n",
      "A value is trying to be set on a copy of a slice from a DataFrame.\n",
      "Try using .loc[row_indexer,col_indexer] = value instead\n",
      "\n",
      "See the caveats in the documentation: https://pandas.pydata.org/pandas-docs/stable/user_guide/indexing.html#returning-a-view-versus-a-copy\n",
      "  df_causa_16m['Codi_expedient'] = df_causa_16m['Codi_expedient'].str.strip()\n",
      "<ipython-input-220-bee7b23465ec>:4: SettingWithCopyWarning: \n",
      "A value is trying to be set on a copy of a slice from a DataFrame.\n",
      "Try using .loc[row_indexer,col_indexer] = value instead\n",
      "\n",
      "See the caveats in the documentation: https://pandas.pydata.org/pandas-docs/stable/user_guide/indexing.html#returning-a-view-versus-a-copy\n",
      "  df_vehicle_16m['Codi_expedient'] = df_vehicle_16m['Codi_expedient'].str.strip()\n"
     ]
    }
   ],
   "source": [
    "df_acc_16m['Codi_expedient'] = df_acc_16['Codi_expedient'].str.strip()\n",
    "df_tipo_16m['Codi_expedient'] = df_tipo_16m['Codi_expedient'].str.strip()\n",
    "df_causa_16m['Codi_expedient'] = df_causa_16m['Codi_expedient'].str.strip()\n",
    "df_vehicle_16m['Codi_expedient'] = df_vehicle_16m['Codi_expedient'].str.strip()"
   ]
  },
  {
   "cell_type": "code",
   "execution_count": 221,
   "metadata": {},
   "outputs": [
    {
     "name": "stdout",
     "output_type": "stream",
     "text": [
      "(10140, 25)\n",
      "(10701, 2)\n",
      "(10157, 2)\n",
      "(19410, 5)\n"
     ]
    }
   ],
   "source": [
    "print(df_acc_16m.shape)\n",
    "print(df_tipo_16m.shape)\n",
    "print(df_causa_16m.shape)\n",
    "print(df_vehicle_16m.shape)"
   ]
  },
  {
   "cell_type": "code",
   "execution_count": 222,
   "metadata": {},
   "outputs": [
    {
     "data": {
      "text/plain": [
       "2016S008067        11\n",
       "2016S006995        11\n",
       "2016S002539        10\n",
       "2016S004915        10\n",
       "2016S006461         9\n",
       "                   ..\n",
       "2016S006150         1\n",
       "2016S003751         1\n",
       "2016S002904         1\n",
       "2016S002236         1\n",
       "2016S004937         1\n",
       "Name: Codi_expedient, Length: 10138, dtype: int64"
      ]
     },
     "execution_count": 222,
     "metadata": {},
     "output_type": "execute_result"
    }
   ],
   "source": [
    "df_vehicle_16.Codi_expedient.value_counts()"
   ]
  },
  {
   "cell_type": "code",
   "execution_count": 223,
   "metadata": {},
   "outputs": [
    {
     "data": {
      "text/html": [
       "<div>\n",
       "<style scoped>\n",
       "    .dataframe tbody tr th:only-of-type {\n",
       "        vertical-align: middle;\n",
       "    }\n",
       "\n",
       "    .dataframe tbody tr th {\n",
       "        vertical-align: top;\n",
       "    }\n",
       "\n",
       "    .dataframe thead th {\n",
       "        text-align: right;\n",
       "    }\n",
       "</style>\n",
       "<table border=\"1\" class=\"dataframe\">\n",
       "  <thead>\n",
       "    <tr style=\"text-align: right;\">\n",
       "      <th></th>\n",
       "      <th>4443</th>\n",
       "    </tr>\n",
       "  </thead>\n",
       "  <tbody>\n",
       "    <tr>\n",
       "      <th>Codi_expedient</th>\n",
       "      <td>2016S006461</td>\n",
       "    </tr>\n",
       "    <tr>\n",
       "      <th>Codi_districte</th>\n",
       "      <td>3</td>\n",
       "    </tr>\n",
       "    <tr>\n",
       "      <th>Nom_districte</th>\n",
       "      <td>Sants-Montjuïc</td>\n",
       "    </tr>\n",
       "    <tr>\n",
       "      <th>Codi_barri</th>\n",
       "      <td>11</td>\n",
       "    </tr>\n",
       "    <tr>\n",
       "      <th>Nom_barri</th>\n",
       "      <td>el Poble Sec</td>\n",
       "    </tr>\n",
       "    <tr>\n",
       "      <th>Codi_carrer</th>\n",
       "      <td>189202</td>\n",
       "    </tr>\n",
       "    <tr>\n",
       "      <th>Nom_carrer</th>\n",
       "      <td>Magalhães</td>\n",
       "    </tr>\n",
       "    <tr>\n",
       "      <th>Num_postal</th>\n",
       "      <td>0043 0045</td>\n",
       "    </tr>\n",
       "    <tr>\n",
       "      <th>Dia_setmana</th>\n",
       "      <td>Dimarts</td>\n",
       "    </tr>\n",
       "    <tr>\n",
       "      <th>ID_Dia_setmana</th>\n",
       "      <td>Dm</td>\n",
       "    </tr>\n",
       "    <tr>\n",
       "      <th>Tipus_dia</th>\n",
       "      <td>Laboral</td>\n",
       "    </tr>\n",
       "    <tr>\n",
       "      <th>Any</th>\n",
       "      <td>2016</td>\n",
       "    </tr>\n",
       "    <tr>\n",
       "      <th>Mes</th>\n",
       "      <td>8</td>\n",
       "    </tr>\n",
       "    <tr>\n",
       "      <th>Nom_mes</th>\n",
       "      <td>Agost</td>\n",
       "    </tr>\n",
       "    <tr>\n",
       "      <th>Dia_de_mes</th>\n",
       "      <td>23</td>\n",
       "    </tr>\n",
       "    <tr>\n",
       "      <th>Hora_de_dia</th>\n",
       "      <td>18</td>\n",
       "    </tr>\n",
       "    <tr>\n",
       "      <th>Torn</th>\n",
       "      <td>Tarda</td>\n",
       "    </tr>\n",
       "    <tr>\n",
       "      <th>Descripcio_causa_vianant</th>\n",
       "      <td>No és causa del  vianant</td>\n",
       "    </tr>\n",
       "    <tr>\n",
       "      <th>Numero_morts</th>\n",
       "      <td>0</td>\n",
       "    </tr>\n",
       "    <tr>\n",
       "      <th>Numero_lesionats_lleus</th>\n",
       "      <td>0</td>\n",
       "    </tr>\n",
       "    <tr>\n",
       "      <th>Numero_lesionats_greus</th>\n",
       "      <td>0</td>\n",
       "    </tr>\n",
       "    <tr>\n",
       "      <th>Numero_victimes</th>\n",
       "      <td>0</td>\n",
       "    </tr>\n",
       "    <tr>\n",
       "      <th>Numero_vehicles_implicats</th>\n",
       "      <td>9</td>\n",
       "    </tr>\n",
       "    <tr>\n",
       "      <th>Longitud</th>\n",
       "      <td>2.16192</td>\n",
       "    </tr>\n",
       "    <tr>\n",
       "      <th>Latitud</th>\n",
       "      <td>41.3724</td>\n",
       "    </tr>\n",
       "  </tbody>\n",
       "</table>\n",
       "</div>"
      ],
      "text/plain": [
       "                                               4443\n",
       "Codi_expedient                          2016S006461\n",
       "Codi_districte                                    3\n",
       "Nom_districte                        Sants-Montjuïc\n",
       "Codi_barri                                       11\n",
       "Nom_barri                              el Poble Sec\n",
       "Codi_carrer                                  189202\n",
       "Nom_carrer                                Magalhães\n",
       "Num_postal                                0043 0045\n",
       "Dia_setmana                                 Dimarts\n",
       "ID_Dia_setmana                                   Dm\n",
       "Tipus_dia                                   Laboral\n",
       "Any                                            2016\n",
       "Mes                                               8\n",
       "Nom_mes                                       Agost\n",
       "Dia_de_mes                                       23\n",
       "Hora_de_dia                                      18\n",
       "Torn                                          Tarda\n",
       "Descripcio_causa_vianant   No és causa del  vianant\n",
       "Numero_morts                                      0\n",
       "Numero_lesionats_lleus                            0\n",
       "Numero_lesionats_greus                            0\n",
       "Numero_victimes                                   0\n",
       "Numero_vehicles_implicats                         9\n",
       "Longitud                                    2.16192\n",
       "Latitud                                     41.3724"
      ]
     },
     "execution_count": 223,
     "metadata": {},
     "output_type": "execute_result"
    }
   ],
   "source": [
    "df_acc_16m[df_acc_16m['Codi_expedient']=='2016S006461'].T"
   ]
  },
  {
   "cell_type": "code",
   "execution_count": 224,
   "metadata": {},
   "outputs": [
    {
     "data": {
      "text/html": [
       "<div>\n",
       "<style scoped>\n",
       "    .dataframe tbody tr th:only-of-type {\n",
       "        vertical-align: middle;\n",
       "    }\n",
       "\n",
       "    .dataframe tbody tr th {\n",
       "        vertical-align: top;\n",
       "    }\n",
       "\n",
       "    .dataframe thead th {\n",
       "        text-align: right;\n",
       "    }\n",
       "</style>\n",
       "<table border=\"1\" class=\"dataframe\">\n",
       "  <thead>\n",
       "    <tr style=\"text-align: right;\">\n",
       "      <th></th>\n",
       "      <th>6175</th>\n",
       "      <th>6176</th>\n",
       "      <th>6177</th>\n",
       "      <th>6178</th>\n",
       "      <th>6179</th>\n",
       "      <th>6180</th>\n",
       "      <th>6181</th>\n",
       "      <th>6182</th>\n",
       "      <th>6183</th>\n",
       "    </tr>\n",
       "  </thead>\n",
       "  <tbody>\n",
       "    <tr>\n",
       "      <th>Codi_expedient</th>\n",
       "      <td>2016S006461</td>\n",
       "      <td>2016S006461</td>\n",
       "      <td>2016S006461</td>\n",
       "      <td>2016S006461</td>\n",
       "      <td>2016S006461</td>\n",
       "      <td>2016S006461</td>\n",
       "      <td>2016S006461</td>\n",
       "      <td>2016S006461</td>\n",
       "      <td>2016S006461</td>\n",
       "    </tr>\n",
       "    <tr>\n",
       "      <th>Descripcio_tipus_vehicle</th>\n",
       "      <td>Motocicleta</td>\n",
       "      <td>Motocicleta</td>\n",
       "      <td>Motocicleta</td>\n",
       "      <td>Motocicleta</td>\n",
       "      <td>Motocicleta</td>\n",
       "      <td>Motocicleta</td>\n",
       "      <td>Motocicleta</td>\n",
       "      <td>Motocicleta</td>\n",
       "      <td>Turismo</td>\n",
       "    </tr>\n",
       "    <tr>\n",
       "      <th>Descripcio_model</th>\n",
       "      <td>AGILITY 125</td>\n",
       "      <td>NaN</td>\n",
       "      <td>ER</td>\n",
       "      <td>IRIS 200</td>\n",
       "      <td>SCARABEO 125</td>\n",
       "      <td>SH 125</td>\n",
       "      <td>Vision</td>\n",
       "      <td>YP 250</td>\n",
       "      <td>FORTWO</td>\n",
       "    </tr>\n",
       "    <tr>\n",
       "      <th>Descripcio_marca</th>\n",
       "      <td>KYMCO</td>\n",
       "      <td>XINGYUE</td>\n",
       "      <td>KAWASAKI</td>\n",
       "      <td>VESPA</td>\n",
       "      <td>APRILIA</td>\n",
       "      <td>HONDA</td>\n",
       "      <td>HONDA</td>\n",
       "      <td>YAMAHA</td>\n",
       "      <td>SMART</td>\n",
       "    </tr>\n",
       "    <tr>\n",
       "      <th>Descripcio_color</th>\n",
       "      <td>Blau</td>\n",
       "      <td>Gris</td>\n",
       "      <td>Negre</td>\n",
       "      <td>Blau</td>\n",
       "      <td>Negre</td>\n",
       "      <td>Gris</td>\n",
       "      <td>Negre</td>\n",
       "      <td>Blanc</td>\n",
       "      <td>Negre</td>\n",
       "    </tr>\n",
       "  </tbody>\n",
       "</table>\n",
       "</div>"
      ],
      "text/plain": [
       "                                 6175         6176         6177         6178  \\\n",
       "Codi_expedient            2016S006461  2016S006461  2016S006461  2016S006461   \n",
       "Descripcio_tipus_vehicle  Motocicleta  Motocicleta  Motocicleta  Motocicleta   \n",
       "Descripcio_model          AGILITY 125          NaN           ER     IRIS 200   \n",
       "Descripcio_marca                KYMCO      XINGYUE     KAWASAKI        VESPA   \n",
       "Descripcio_color                 Blau         Gris        Negre         Blau   \n",
       "\n",
       "                                  6179         6180         6181         6182  \\\n",
       "Codi_expedient             2016S006461  2016S006461  2016S006461  2016S006461   \n",
       "Descripcio_tipus_vehicle   Motocicleta  Motocicleta  Motocicleta  Motocicleta   \n",
       "Descripcio_model          SCARABEO 125       SH 125       Vision       YP 250   \n",
       "Descripcio_marca               APRILIA        HONDA        HONDA       YAMAHA   \n",
       "Descripcio_color                 Negre         Gris        Negre        Blanc   \n",
       "\n",
       "                                 6183  \n",
       "Codi_expedient            2016S006461  \n",
       "Descripcio_tipus_vehicle      Turismo  \n",
       "Descripcio_model               FORTWO  \n",
       "Descripcio_marca                SMART  \n",
       "Descripcio_color                Negre  "
      ]
     },
     "execution_count": 224,
     "metadata": {},
     "output_type": "execute_result"
    }
   ],
   "source": [
    "df_vehicle_16m[df_vehicle_16m['Codi_expedient']=='2016S006461'].T"
   ]
  },
  {
   "cell_type": "code",
   "execution_count": 225,
   "metadata": {},
   "outputs": [
    {
     "data": {
      "text/plain": [
       "(10701, 26)"
      ]
     },
     "execution_count": 225,
     "metadata": {},
     "output_type": "execute_result"
    }
   ],
   "source": [
    "df_16 = df_acc_16m.merge(df_tipo_16m, how = 'inner', on = ['Codi_expedient'])\n",
    "df_16.sort_values(by = 'Codi_expedient', axis = 0, inplace = True, ignore_index = True)\n",
    "df_16.shape"
   ]
  },
  {
   "cell_type": "code",
   "execution_count": 226,
   "metadata": {},
   "outputs": [
    {
     "data": {
      "text/plain": [
       "(10719, 27)"
      ]
     },
     "execution_count": 226,
     "metadata": {},
     "output_type": "execute_result"
    }
   ],
   "source": [
    "df_16 = df_16.merge(df_causa_16m, how = 'inner', on = 'Codi_expedient')\n",
    "df_16.sort_values(by = 'Codi_expedient', axis = 0, inplace = True, ignore_index = True)\n",
    "df_16.shape"
   ]
  },
  {
   "cell_type": "code",
   "execution_count": 227,
   "metadata": {},
   "outputs": [
    {
     "data": {
      "text/plain": [
       "(20772, 31)"
      ]
     },
     "execution_count": 227,
     "metadata": {},
     "output_type": "execute_result"
    }
   ],
   "source": [
    "df_16 = df_16.merge(df_vehicle_16m, how = 'inner', on = 'Codi_expedient')\n",
    "df_16.sort_values(by = 'Codi_expedient', axis = 0, inplace = True, ignore_index = True)\n",
    "df_16.shape"
   ]
  },
  {
   "cell_type": "code",
   "execution_count": 228,
   "metadata": {},
   "outputs": [
    {
     "data": {
      "text/plain": [
       "2016S008302    16\n",
       "2016S005790    16\n",
       "2016S005457    16\n",
       "2016S004405    15\n",
       "2016S005927    12\n",
       "               ..\n",
       "2016S005067     1\n",
       "2016S002410     1\n",
       "2016S007292     1\n",
       "2016S005762     1\n",
       "2016S004851     1\n",
       "Name: Codi_expedient, Length: 10138, dtype: int64"
      ]
     },
     "execution_count": 228,
     "metadata": {},
     "output_type": "execute_result"
    }
   ],
   "source": [
    "df_16.Codi_expedient.value_counts()"
   ]
  },
  {
   "cell_type": "code",
   "execution_count": 229,
   "metadata": {},
   "outputs": [
    {
     "data": {
      "text/plain": [
       "(array([ 2304., 14472.,  2573.,   833.,   289.,   144.,    49.,    48.,\n",
       "           18.,    42.]),\n",
       " array([ 1.,  2.,  3.,  4.,  5.,  6.,  7.,  8.,  9., 10., 11.]),\n",
       " <BarContainer object of 10 artists>)"
      ]
     },
     "execution_count": 229,
     "metadata": {},
     "output_type": "execute_result"
    },
    {
     "data": {
      "image/png": "[encoded data removed]",
      "text/plain": [
       "<Figure size 432x288 with 1 Axes>"
      ]
     },
     "metadata": {
      "needs_background": "light"
     },
     "output_type": "display_data"
    }
   ],
   "source": [
    "import matplotlib.pyplot as plt\n",
    "\n",
    "plt.hist(df_16['Numero_vehicles_implicats'])"
   ]
  },
  {
   "cell_type": "code",
   "execution_count": 230,
   "metadata": {},
   "outputs": [
    {
     "data": {
      "text/plain": [
       "(20182, 31)"
      ]
     },
     "execution_count": 230,
     "metadata": {},
     "output_type": "execute_result"
    }
   ],
   "source": [
    "df_16 = df_16[df_16['Numero_vehicles_implicats'] <= 4]\n",
    "df_16.shape"
   ]
  },
  {
   "cell_type": "code",
   "execution_count": 231,
   "metadata": {},
   "outputs": [],
   "source": [
    "df_16['Nom_carrer'] = df_16['Nom_carrer'].str.strip()"
   ]
  },
  {
   "cell_type": "code",
   "execution_count": 232,
   "metadata": {},
   "outputs": [
    {
     "data": {
      "text/plain": [
       "2016S008302    16\n",
       "2016S005927    12\n",
       "2016S009948    12\n",
       "2016S005402    12\n",
       "2016S002428    12\n",
       "               ..\n",
       "2016S004035     1\n",
       "2016S002395     1\n",
       "2016S005816     1\n",
       "2016S009200     1\n",
       "2016S008909     1\n",
       "Name: Codi_expedient, Length: 10052, dtype: int64"
      ]
     },
     "execution_count": 232,
     "metadata": {},
     "output_type": "execute_result"
    }
   ],
   "source": [
    "df_16.Codi_expedient.value_counts()"
   ]
  },
  {
   "cell_type": "code",
   "execution_count": 233,
   "metadata": {},
   "outputs": [],
   "source": [
    "df_16.drop_duplicates(subset= ['Codi_expedient','Descripcio_tipus_vehicle', 'Descripcio_model', 'Descripcio_marca', 'Descripcio_color'], keep = 'first', inplace = True, ignore_index = True)"
   ]
  },
  {
   "cell_type": "code",
   "execution_count": 234,
   "metadata": {},
   "outputs": [
    {
     "data": {
      "text/plain": [
       "(18886, 31)"
      ]
     },
     "execution_count": 234,
     "metadata": {},
     "output_type": "execute_result"
    }
   ],
   "source": [
    "df_16.shape"
   ]
  },
  {
   "cell_type": "code",
   "execution_count": 235,
   "metadata": {},
   "outputs": [
    {
     "data": {
      "text/plain": [
       "2016S004453    4\n",
       "2016S006238    4\n",
       "2016S007310    4\n",
       "2016S009032    4\n",
       "2016S002668    4\n",
       "              ..\n",
       "2016S007866    1\n",
       "2016S005615    1\n",
       "2016S007252    1\n",
       "2016S000832    1\n",
       "2016S008909    1\n",
       "Name: Codi_expedient, Length: 10052, dtype: int64"
      ]
     },
     "execution_count": 235,
     "metadata": {},
     "output_type": "execute_result"
    }
   ],
   "source": [
    "df_16.Codi_expedient.value_counts()"
   ]
  },
  {
   "cell_type": "code",
   "execution_count": 236,
   "metadata": {
    "scrolled": false
   },
   "outputs": [
    {
     "data": {
      "text/html": [
       "<div>\n",
       "<style scoped>\n",
       "    .dataframe tbody tr th:only-of-type {\n",
       "        vertical-align: middle;\n",
       "    }\n",
       "\n",
       "    .dataframe tbody tr th {\n",
       "        vertical-align: top;\n",
       "    }\n",
       "\n",
       "    .dataframe thead th {\n",
       "        text-align: right;\n",
       "    }\n",
       "</style>\n",
       "<table border=\"1\" class=\"dataframe\">\n",
       "  <thead>\n",
       "    <tr style=\"text-align: right;\">\n",
       "      <th></th>\n",
       "      <th>15444</th>\n",
       "      <th>15445</th>\n",
       "      <th>15446</th>\n",
       "      <th>15447</th>\n",
       "    </tr>\n",
       "  </thead>\n",
       "  <tbody>\n",
       "    <tr>\n",
       "      <th>Codi_expedient</th>\n",
       "      <td>2016S008302</td>\n",
       "      <td>2016S008302</td>\n",
       "      <td>2016S008302</td>\n",
       "      <td>2016S008302</td>\n",
       "    </tr>\n",
       "    <tr>\n",
       "      <th>Codi_districte</th>\n",
       "      <td>2</td>\n",
       "      <td>2</td>\n",
       "      <td>2</td>\n",
       "      <td>2</td>\n",
       "    </tr>\n",
       "    <tr>\n",
       "      <th>Nom_districte</th>\n",
       "      <td>Eixample</td>\n",
       "      <td>Eixample</td>\n",
       "      <td>Eixample</td>\n",
       "      <td>Eixample</td>\n",
       "    </tr>\n",
       "    <tr>\n",
       "      <th>Codi_barri</th>\n",
       "      <td>7</td>\n",
       "      <td>7</td>\n",
       "      <td>7</td>\n",
       "      <td>7</td>\n",
       "    </tr>\n",
       "    <tr>\n",
       "      <th>Nom_barri</th>\n",
       "      <td>la Dreta de l'Eixample</td>\n",
       "      <td>la Dreta de l'Eixample</td>\n",
       "      <td>la Dreta de l'Eixample</td>\n",
       "      <td>la Dreta de l'Eixample</td>\n",
       "    </tr>\n",
       "    <tr>\n",
       "      <th>Codi_carrer</th>\n",
       "      <td>247659</td>\n",
       "      <td>247659</td>\n",
       "      <td>247659</td>\n",
       "      <td>247659</td>\n",
       "    </tr>\n",
       "    <tr>\n",
       "      <th>Nom_carrer</th>\n",
       "      <td>Pau Claris</td>\n",
       "      <td>Pau Claris</td>\n",
       "      <td>Pau Claris</td>\n",
       "      <td>Pau Claris</td>\n",
       "    </tr>\n",
       "    <tr>\n",
       "      <th>Num_postal</th>\n",
       "      <td>0080 0080</td>\n",
       "      <td>0080 0080</td>\n",
       "      <td>0080 0080</td>\n",
       "      <td>0080 0080</td>\n",
       "    </tr>\n",
       "    <tr>\n",
       "      <th>Dia_setmana</th>\n",
       "      <td>Dilluns</td>\n",
       "      <td>Dilluns</td>\n",
       "      <td>Dilluns</td>\n",
       "      <td>Dilluns</td>\n",
       "    </tr>\n",
       "    <tr>\n",
       "      <th>ID_Dia_setmana</th>\n",
       "      <td>Dl</td>\n",
       "      <td>Dl</td>\n",
       "      <td>Dl</td>\n",
       "      <td>Dl</td>\n",
       "    </tr>\n",
       "    <tr>\n",
       "      <th>Tipus_dia</th>\n",
       "      <td>Laboral</td>\n",
       "      <td>Laboral</td>\n",
       "      <td>Laboral</td>\n",
       "      <td>Laboral</td>\n",
       "    </tr>\n",
       "    <tr>\n",
       "      <th>Any</th>\n",
       "      <td>2016</td>\n",
       "      <td>2016</td>\n",
       "      <td>2016</td>\n",
       "      <td>2016</td>\n",
       "    </tr>\n",
       "    <tr>\n",
       "      <th>Mes</th>\n",
       "      <td>10</td>\n",
       "      <td>10</td>\n",
       "      <td>10</td>\n",
       "      <td>10</td>\n",
       "    </tr>\n",
       "    <tr>\n",
       "      <th>Nom_mes</th>\n",
       "      <td>Octubre</td>\n",
       "      <td>Octubre</td>\n",
       "      <td>Octubre</td>\n",
       "      <td>Octubre</td>\n",
       "    </tr>\n",
       "    <tr>\n",
       "      <th>Dia_de_mes</th>\n",
       "      <td>31</td>\n",
       "      <td>31</td>\n",
       "      <td>31</td>\n",
       "      <td>31</td>\n",
       "    </tr>\n",
       "    <tr>\n",
       "      <th>Hora_de_dia</th>\n",
       "      <td>10</td>\n",
       "      <td>10</td>\n",
       "      <td>10</td>\n",
       "      <td>10</td>\n",
       "    </tr>\n",
       "    <tr>\n",
       "      <th>Torn</th>\n",
       "      <td>Matí</td>\n",
       "      <td>Matí</td>\n",
       "      <td>Matí</td>\n",
       "      <td>Matí</td>\n",
       "    </tr>\n",
       "    <tr>\n",
       "      <th>Descripcio_causa_vianant</th>\n",
       "      <td>No és causa del  vianant</td>\n",
       "      <td>No és causa del  vianant</td>\n",
       "      <td>No és causa del  vianant</td>\n",
       "      <td>No és causa del  vianant</td>\n",
       "    </tr>\n",
       "    <tr>\n",
       "      <th>Numero_morts</th>\n",
       "      <td>0</td>\n",
       "      <td>0</td>\n",
       "      <td>0</td>\n",
       "      <td>0</td>\n",
       "    </tr>\n",
       "    <tr>\n",
       "      <th>Numero_lesionats_lleus</th>\n",
       "      <td>1</td>\n",
       "      <td>1</td>\n",
       "      <td>1</td>\n",
       "      <td>1</td>\n",
       "    </tr>\n",
       "    <tr>\n",
       "      <th>Numero_lesionats_greus</th>\n",
       "      <td>0</td>\n",
       "      <td>0</td>\n",
       "      <td>0</td>\n",
       "      <td>0</td>\n",
       "    </tr>\n",
       "    <tr>\n",
       "      <th>Numero_victimes</th>\n",
       "      <td>1</td>\n",
       "      <td>1</td>\n",
       "      <td>1</td>\n",
       "      <td>1</td>\n",
       "    </tr>\n",
       "    <tr>\n",
       "      <th>Numero_vehicles_implicats</th>\n",
       "      <td>4</td>\n",
       "      <td>4</td>\n",
       "      <td>4</td>\n",
       "      <td>4</td>\n",
       "    </tr>\n",
       "    <tr>\n",
       "      <th>Longitud</th>\n",
       "      <td>2.17152</td>\n",
       "      <td>2.17152</td>\n",
       "      <td>2.17152</td>\n",
       "      <td>2.17152</td>\n",
       "    </tr>\n",
       "    <tr>\n",
       "      <th>Latitud</th>\n",
       "      <td>41.3895</td>\n",
       "      <td>41.3895</td>\n",
       "      <td>41.3895</td>\n",
       "      <td>41.3895</td>\n",
       "    </tr>\n",
       "    <tr>\n",
       "      <th>Tipus_accident</th>\n",
       "      <td>Abast</td>\n",
       "      <td>Abast</td>\n",
       "      <td>Abast</td>\n",
       "      <td>Xoc contra element estàtic</td>\n",
       "    </tr>\n",
       "    <tr>\n",
       "      <th>Causa_mediata</th>\n",
       "      <td>No hi ha causa mediata</td>\n",
       "      <td>No hi ha causa mediata</td>\n",
       "      <td>No hi ha causa mediata</td>\n",
       "      <td>No hi ha causa mediata</td>\n",
       "    </tr>\n",
       "    <tr>\n",
       "      <th>Descripcio_tipus_vehicle</th>\n",
       "      <td>Motocicleta</td>\n",
       "      <td>Turismo</td>\n",
       "      <td>Motocicleta</td>\n",
       "      <td>Motocicleta</td>\n",
       "    </tr>\n",
       "    <tr>\n",
       "      <th>Descripcio_model</th>\n",
       "      <td>XCITY</td>\n",
       "      <td>A 170</td>\n",
       "      <td>DL 650</td>\n",
       "      <td>BURGMAN</td>\n",
       "    </tr>\n",
       "    <tr>\n",
       "      <th>Descripcio_marca</th>\n",
       "      <td>YAMAHA</td>\n",
       "      <td>MERCEDES</td>\n",
       "      <td>SUZUKI</td>\n",
       "      <td>SUZUKI</td>\n",
       "    </tr>\n",
       "    <tr>\n",
       "      <th>Descripcio_color</th>\n",
       "      <td>Blanc</td>\n",
       "      <td>Gris</td>\n",
       "      <td>Negre</td>\n",
       "      <td>Blanc</td>\n",
       "    </tr>\n",
       "  </tbody>\n",
       "</table>\n",
       "</div>"
      ],
      "text/plain": [
       "                                              15444                     15445  \\\n",
       "Codi_expedient                          2016S008302               2016S008302   \n",
       "Codi_districte                                    2                         2   \n",
       "Nom_districte                              Eixample                  Eixample   \n",
       "Codi_barri                                        7                         7   \n",
       "Nom_barri                    la Dreta de l'Eixample    la Dreta de l'Eixample   \n",
       "Codi_carrer                                  247659                    247659   \n",
       "Nom_carrer                               Pau Claris                Pau Claris   \n",
       "Num_postal                                0080 0080                 0080 0080   \n",
       "Dia_setmana                                 Dilluns                   Dilluns   \n",
       "ID_Dia_setmana                                   Dl                        Dl   \n",
       "Tipus_dia                                   Laboral                   Laboral   \n",
       "Any                                            2016                      2016   \n",
       "Mes                                              10                        10   \n",
       "Nom_mes                                     Octubre                   Octubre   \n",
       "Dia_de_mes                                       31                        31   \n",
       "Hora_de_dia                                      10                        10   \n",
       "Torn                                           Matí                      Matí   \n",
       "Descripcio_causa_vianant   No és causa del  vianant  No és causa del  vianant   \n",
       "Numero_morts                                      0                         0   \n",
       "Numero_lesionats_lleus                            1                         1   \n",
       "Numero_lesionats_greus                            0                         0   \n",
       "Numero_victimes                                   1                         1   \n",
       "Numero_vehicles_implicats                         4                         4   \n",
       "Longitud                                    2.17152                   2.17152   \n",
       "Latitud                                     41.3895                   41.3895   \n",
       "Tipus_accident                                Abast                     Abast   \n",
       "Causa_mediata                No hi ha causa mediata    No hi ha causa mediata   \n",
       "Descripcio_tipus_vehicle                Motocicleta                   Turismo   \n",
       "Descripcio_model                              XCITY                     A 170   \n",
       "Descripcio_marca                             YAMAHA                  MERCEDES   \n",
       "Descripcio_color                              Blanc                      Gris   \n",
       "\n",
       "                                              15446  \\\n",
       "Codi_expedient                          2016S008302   \n",
       "Codi_districte                                    2   \n",
       "Nom_districte                              Eixample   \n",
       "Codi_barri                                        7   \n",
       "Nom_barri                    la Dreta de l'Eixample   \n",
       "Codi_carrer                                  247659   \n",
       "Nom_carrer                               Pau Claris   \n",
       "Num_postal                                0080 0080   \n",
       "Dia_setmana                                 Dilluns   \n",
       "ID_Dia_setmana                                   Dl   \n",
       "Tipus_dia                                   Laboral   \n",
       "Any                                            2016   \n",
       "Mes                                              10   \n",
       "Nom_mes                                     Octubre   \n",
       "Dia_de_mes                                       31   \n",
       "Hora_de_dia                                      10   \n",
       "Torn                                           Matí   \n",
       "Descripcio_causa_vianant   No és causa del  vianant   \n",
       "Numero_morts                                      0   \n",
       "Numero_lesionats_lleus                            1   \n",
       "Numero_lesionats_greus                            0   \n",
       "Numero_victimes                                   1   \n",
       "Numero_vehicles_implicats                         4   \n",
       "Longitud                                    2.17152   \n",
       "Latitud                                     41.3895   \n",
       "Tipus_accident                                Abast   \n",
       "Causa_mediata                No hi ha causa mediata   \n",
       "Descripcio_tipus_vehicle                Motocicleta   \n",
       "Descripcio_model                             DL 650   \n",
       "Descripcio_marca                             SUZUKI   \n",
       "Descripcio_color                              Negre   \n",
       "\n",
       "                                                15447  \n",
       "Codi_expedient                            2016S008302  \n",
       "Codi_districte                                      2  \n",
       "Nom_districte                                Eixample  \n",
       "Codi_barri                                          7  \n",
       "Nom_barri                      la Dreta de l'Eixample  \n",
       "Codi_carrer                                    247659  \n",
       "Nom_carrer                                 Pau Claris  \n",
       "Num_postal                                  0080 0080  \n",
       "Dia_setmana                                   Dilluns  \n",
       "ID_Dia_setmana                                     Dl  \n",
       "Tipus_dia                                     Laboral  \n",
       "Any                                              2016  \n",
       "Mes                                                10  \n",
       "Nom_mes                                       Octubre  \n",
       "Dia_de_mes                                         31  \n",
       "Hora_de_dia                                        10  \n",
       "Torn                                             Matí  \n",
       "Descripcio_causa_vianant     No és causa del  vianant  \n",
       "Numero_morts                                        0  \n",
       "Numero_lesionats_lleus                              1  \n",
       "Numero_lesionats_greus                              0  \n",
       "Numero_victimes                                     1  \n",
       "Numero_vehicles_implicats                           4  \n",
       "Longitud                                      2.17152  \n",
       "Latitud                                       41.3895  \n",
       "Tipus_accident             Xoc contra element estàtic  \n",
       "Causa_mediata                  No hi ha causa mediata  \n",
       "Descripcio_tipus_vehicle                  Motocicleta  \n",
       "Descripcio_model                              BURGMAN  \n",
       "Descripcio_marca                               SUZUKI  \n",
       "Descripcio_color                                Blanc  "
      ]
     },
     "execution_count": 236,
     "metadata": {},
     "output_type": "execute_result"
    }
   ],
   "source": [
    "df_16[df_16['Codi_expedient']=='2016S008302'].T"
   ]
  },
  {
   "cell_type": "code",
   "execution_count": null,
   "metadata": {},
   "outputs": [],
   "source": []
  },
  {
   "cell_type": "code",
   "execution_count": null,
   "metadata": {},
   "outputs": [],
   "source": []
  },
  {
   "cell_type": "code",
   "execution_count": null,
   "metadata": {},
   "outputs": [],
   "source": []
  },
  {
   "cell_type": "code",
   "execution_count": 237,
   "metadata": {},
   "outputs": [],
   "source": [
    "#df_acc, df_tipo, df_causa, df_vehicle, df_user"
   ]
  },
  {
   "cell_type": "code",
   "execution_count": 238,
   "metadata": {},
   "outputs": [
    {
     "data": {
      "text/plain": [
       "Index(['Codi_expedient', 'Codi_districte', 'Nom_districte', 'Codi_barri',\n",
       "       'Nom_barri', 'Codi_carrer', 'Nom_carrer', 'Num_postal', 'Dia_setmana',\n",
       "       'ID_Dia_setmana', 'Tipus_dia', 'Any', 'Mes', 'Nom_mes', 'Dia_de_mes',\n",
       "       'Hora_de_dia', 'Torn', 'Descripcio_causa_vianant', 'Numero_morts',\n",
       "       'Numero_lesionats_lleus', 'Numero_lesionats_greus', 'Numero_victimes',\n",
       "       'Numero_vehicles_implicats', 'Coordenada_UTM_Y', 'Coordenada_UTM_X',\n",
       "       'Latitud', 'Longitud'],\n",
       "      dtype='object')"
      ]
     },
     "execution_count": 238,
     "metadata": {},
     "output_type": "execute_result"
    }
   ],
   "source": [
    "df_acc_15.columns"
   ]
  },
  {
   "cell_type": "code",
   "execution_count": 239,
   "metadata": {},
   "outputs": [],
   "source": [
    "df_acc_15m = df_acc_15[['Codi_expedient', 'Codi_districte', 'Nom_districte', 'Codi_barri',\n",
    "       'Nom_barri', 'Codi_carrer', 'Nom_carrer', 'Num_postal', 'Dia_setmana',\n",
    "       'ID_Dia_setmana', 'Tipus_dia', 'Any', 'Mes', 'Nom_mes', 'Dia_de_mes',\n",
    "       'Hora_de_dia', 'Torn', 'Descripcio_causa_vianant', 'Numero_morts',\n",
    "       'Numero_lesionats_lleus', 'Numero_lesionats_greus', 'Numero_victimes',\n",
    "       'Numero_vehicles_implicats', 'Longitud', 'Latitud']]\n",
    "df_tipo_15m = df_15_tipo[['Codi_expedient','Tipus_accident']]\n",
    "df_causa_15m = df_causa_15[['Codi_expedient','Causa_mediata']]\n",
    "df_vehicle_15m = df_vehicle_15[['Codi_expedient','Descripcio_tipus_vehicle', 'Descripcio_model', 'Descripcio_marca',\n",
    "       'Descripcio_color']]"
   ]
  },
  {
   "cell_type": "code",
   "execution_count": 240,
   "metadata": {},
   "outputs": [
    {
     "name": "stderr",
     "output_type": "stream",
     "text": [
      "<ipython-input-240-316cca7bf272>:1: SettingWithCopyWarning: \n",
      "A value is trying to be set on a copy of a slice from a DataFrame.\n",
      "Try using .loc[row_indexer,col_indexer] = value instead\n",
      "\n",
      "See the caveats in the documentation: https://pandas.pydata.org/pandas-docs/stable/user_guide/indexing.html#returning-a-view-versus-a-copy\n",
      "  df_acc_15m['Codi_expedient'] = df_acc_15['Codi_expedient'].str.strip()\n",
      "<ipython-input-240-316cca7bf272>:2: SettingWithCopyWarning: \n",
      "A value is trying to be set on a copy of a slice from a DataFrame.\n",
      "Try using .loc[row_indexer,col_indexer] = value instead\n",
      "\n",
      "See the caveats in the documentation: https://pandas.pydata.org/pandas-docs/stable/user_guide/indexing.html#returning-a-view-versus-a-copy\n",
      "  df_tipo_15m['Codi_expedient'] = df_tipo_15m['Codi_expedient'].str.strip()\n",
      "<ipython-input-240-316cca7bf272>:3: SettingWithCopyWarning: \n",
      "A value is trying to be set on a copy of a slice from a DataFrame.\n",
      "Try using .loc[row_indexer,col_indexer] = value instead\n",
      "\n",
      "See the caveats in the documentation: https://pandas.pydata.org/pandas-docs/stable/user_guide/indexing.html#returning-a-view-versus-a-copy\n",
      "  df_causa_15m['Codi_expedient'] = df_causa_15m['Codi_expedient'].str.strip()\n",
      "<ipython-input-240-316cca7bf272>:4: SettingWithCopyWarning: \n",
      "A value is trying to be set on a copy of a slice from a DataFrame.\n",
      "Try using .loc[row_indexer,col_indexer] = value instead\n",
      "\n",
      "See the caveats in the documentation: https://pandas.pydata.org/pandas-docs/stable/user_guide/indexing.html#returning-a-view-versus-a-copy\n",
      "  df_vehicle_15m['Codi_expedient'] = df_vehicle_15m['Codi_expedient'].str.strip()\n"
     ]
    }
   ],
   "source": [
    "df_acc_15m['Codi_expedient'] = df_acc_15['Codi_expedient'].str.strip()\n",
    "df_tipo_15m['Codi_expedient'] = df_tipo_15m['Codi_expedient'].str.strip()\n",
    "df_causa_15m['Codi_expedient'] = df_causa_15m['Codi_expedient'].str.strip()\n",
    "df_vehicle_15m['Codi_expedient'] = df_vehicle_15m['Codi_expedient'].str.strip()"
   ]
  },
  {
   "cell_type": "code",
   "execution_count": 241,
   "metadata": {},
   "outputs": [
    {
     "name": "stdout",
     "output_type": "stream",
     "text": [
      "(10009, 25)\n",
      "(10381, 2)\n",
      "(10020, 2)\n",
      "(19237, 5)\n"
     ]
    }
   ],
   "source": [
    "print(df_acc_15m.shape)\n",
    "print(df_tipo_15m.shape)\n",
    "print(df_causa_15m.shape)\n",
    "print(df_vehicle_15m.shape)"
   ]
  },
  {
   "cell_type": "code",
   "execution_count": 242,
   "metadata": {},
   "outputs": [
    {
     "data": {
      "text/plain": [
       "2015S002717    12\n",
       "2015S003473    11\n",
       "2015S010008    10\n",
       "2015S006097     9\n",
       "2015S007127     9\n",
       "               ..\n",
       "2015S003291     1\n",
       "2015S003148     1\n",
       "2015S000270     1\n",
       "2015S004105     1\n",
       "2015S007626     1\n",
       "Name: Codi_expedient, Length: 9998, dtype: int64"
      ]
     },
     "execution_count": 242,
     "metadata": {},
     "output_type": "execute_result"
    }
   ],
   "source": [
    "df_vehicle_15.Codi_expedient.value_counts()"
   ]
  },
  {
   "cell_type": "code",
   "execution_count": 243,
   "metadata": {},
   "outputs": [
    {
     "data": {
      "text/html": [
       "<div>\n",
       "<style scoped>\n",
       "    .dataframe tbody tr th:only-of-type {\n",
       "        vertical-align: middle;\n",
       "    }\n",
       "\n",
       "    .dataframe tbody tr th {\n",
       "        vertical-align: top;\n",
       "    }\n",
       "\n",
       "    .dataframe thead th {\n",
       "        text-align: right;\n",
       "    }\n",
       "</style>\n",
       "<table border=\"1\" class=\"dataframe\">\n",
       "  <thead>\n",
       "    <tr style=\"text-align: right;\">\n",
       "      <th></th>\n",
       "      <th>1948</th>\n",
       "    </tr>\n",
       "  </thead>\n",
       "  <tbody>\n",
       "    <tr>\n",
       "      <th>Codi_expedient</th>\n",
       "      <td>2015S002717</td>\n",
       "    </tr>\n",
       "    <tr>\n",
       "      <th>Codi_districte</th>\n",
       "      <td>3</td>\n",
       "    </tr>\n",
       "    <tr>\n",
       "      <th>Nom_districte</th>\n",
       "      <td>Sants-Montjuïc</td>\n",
       "    </tr>\n",
       "    <tr>\n",
       "      <th>Codi_barri</th>\n",
       "      <td>15</td>\n",
       "    </tr>\n",
       "    <tr>\n",
       "      <th>Nom_barri</th>\n",
       "      <td>Hostafrancs</td>\n",
       "    </tr>\n",
       "    <tr>\n",
       "      <th>Codi_carrer</th>\n",
       "      <td>158209</td>\n",
       "    </tr>\n",
       "    <tr>\n",
       "      <th>Nom_carrer</th>\n",
       "      <td>Hostafrancs de Sió</td>\n",
       "    </tr>\n",
       "    <tr>\n",
       "      <th>Num_postal</th>\n",
       "      <td>0002 0006</td>\n",
       "    </tr>\n",
       "    <tr>\n",
       "      <th>Dia_setmana</th>\n",
       "      <td>Dilluns</td>\n",
       "    </tr>\n",
       "    <tr>\n",
       "      <th>ID_Dia_setmana</th>\n",
       "      <td>Dl</td>\n",
       "    </tr>\n",
       "    <tr>\n",
       "      <th>Tipus_dia</th>\n",
       "      <td>Laboral</td>\n",
       "    </tr>\n",
       "    <tr>\n",
       "      <th>Any</th>\n",
       "      <td>2015</td>\n",
       "    </tr>\n",
       "    <tr>\n",
       "      <th>Mes</th>\n",
       "      <td>4</td>\n",
       "    </tr>\n",
       "    <tr>\n",
       "      <th>Nom_mes</th>\n",
       "      <td>Abril</td>\n",
       "    </tr>\n",
       "    <tr>\n",
       "      <th>Dia_de_mes</th>\n",
       "      <td>13</td>\n",
       "    </tr>\n",
       "    <tr>\n",
       "      <th>Hora_de_dia</th>\n",
       "      <td>6</td>\n",
       "    </tr>\n",
       "    <tr>\n",
       "      <th>Torn</th>\n",
       "      <td>Matí</td>\n",
       "    </tr>\n",
       "    <tr>\n",
       "      <th>Descripcio_causa_vianant</th>\n",
       "      <td>No és causa del  vianant</td>\n",
       "    </tr>\n",
       "    <tr>\n",
       "      <th>Numero_morts</th>\n",
       "      <td>0</td>\n",
       "    </tr>\n",
       "    <tr>\n",
       "      <th>Numero_lesionats_lleus</th>\n",
       "      <td>0</td>\n",
       "    </tr>\n",
       "    <tr>\n",
       "      <th>Numero_lesionats_greus</th>\n",
       "      <td>0</td>\n",
       "    </tr>\n",
       "    <tr>\n",
       "      <th>Numero_victimes</th>\n",
       "      <td>0</td>\n",
       "    </tr>\n",
       "    <tr>\n",
       "      <th>Numero_vehicles_implicats</th>\n",
       "      <td>12</td>\n",
       "    </tr>\n",
       "    <tr>\n",
       "      <th>Longitud</th>\n",
       "      <td>2.14532</td>\n",
       "    </tr>\n",
       "    <tr>\n",
       "      <th>Latitud</th>\n",
       "      <td>41.3753</td>\n",
       "    </tr>\n",
       "  </tbody>\n",
       "</table>\n",
       "</div>"
      ],
      "text/plain": [
       "                                               1948\n",
       "Codi_expedient                          2015S002717\n",
       "Codi_districte                                    3\n",
       "Nom_districte                        Sants-Montjuïc\n",
       "Codi_barri                                       15\n",
       "Nom_barri                               Hostafrancs\n",
       "Codi_carrer                                  158209\n",
       "Nom_carrer                       Hostafrancs de Sió\n",
       "Num_postal                                0002 0006\n",
       "Dia_setmana                                 Dilluns\n",
       "ID_Dia_setmana                                   Dl\n",
       "Tipus_dia                                   Laboral\n",
       "Any                                            2015\n",
       "Mes                                               4\n",
       "Nom_mes                                       Abril\n",
       "Dia_de_mes                                       13\n",
       "Hora_de_dia                                       6\n",
       "Torn                                           Matí\n",
       "Descripcio_causa_vianant   No és causa del  vianant\n",
       "Numero_morts                                      0\n",
       "Numero_lesionats_lleus                            0\n",
       "Numero_lesionats_greus                            0\n",
       "Numero_victimes                                   0\n",
       "Numero_vehicles_implicats                        12\n",
       "Longitud                                    2.14532\n",
       "Latitud                                     41.3753"
      ]
     },
     "execution_count": 243,
     "metadata": {},
     "output_type": "execute_result"
    }
   ],
   "source": [
    "df_acc_15m[df_acc_15m['Codi_expedient']=='2015S002717'].T"
   ]
  },
  {
   "cell_type": "code",
   "execution_count": 244,
   "metadata": {},
   "outputs": [
    {
     "data": {
      "text/html": [
       "<div>\n",
       "<style scoped>\n",
       "    .dataframe tbody tr th:only-of-type {\n",
       "        vertical-align: middle;\n",
       "    }\n",
       "\n",
       "    .dataframe tbody tr th {\n",
       "        vertical-align: top;\n",
       "    }\n",
       "\n",
       "    .dataframe thead th {\n",
       "        text-align: right;\n",
       "    }\n",
       "</style>\n",
       "<table border=\"1\" class=\"dataframe\">\n",
       "  <thead>\n",
       "    <tr style=\"text-align: right;\">\n",
       "      <th></th>\n",
       "      <th>1300</th>\n",
       "      <th>1301</th>\n",
       "      <th>3703</th>\n",
       "      <th>3704</th>\n",
       "      <th>6082</th>\n",
       "      <th>10880</th>\n",
       "      <th>10881</th>\n",
       "      <th>10882</th>\n",
       "      <th>13352</th>\n",
       "      <th>15680</th>\n",
       "      <th>15681</th>\n",
       "      <th>18150</th>\n",
       "    </tr>\n",
       "  </thead>\n",
       "  <tbody>\n",
       "    <tr>\n",
       "      <th>Codi_expedient</th>\n",
       "      <td>2015S002717</td>\n",
       "      <td>2015S002717</td>\n",
       "      <td>2015S002717</td>\n",
       "      <td>2015S002717</td>\n",
       "      <td>2015S002717</td>\n",
       "      <td>2015S002717</td>\n",
       "      <td>2015S002717</td>\n",
       "      <td>2015S002717</td>\n",
       "      <td>2015S002717</td>\n",
       "      <td>2015S002717</td>\n",
       "      <td>2015S002717</td>\n",
       "      <td>2015S002717</td>\n",
       "    </tr>\n",
       "    <tr>\n",
       "      <th>Descripcio_tipus_vehicle</th>\n",
       "      <td>Turismo</td>\n",
       "      <td>Turismo</td>\n",
       "      <td>Turismo</td>\n",
       "      <td>Turismo</td>\n",
       "      <td>Motocicleta</td>\n",
       "      <td>Ciclomotor</td>\n",
       "      <td>Motocicleta</td>\n",
       "      <td>Turismo</td>\n",
       "      <td>Turismo</td>\n",
       "      <td>Ciclomotor</td>\n",
       "      <td>Autobús</td>\n",
       "      <td>Turismo</td>\n",
       "    </tr>\n",
       "    <tr>\n",
       "      <th>Descripcio_model</th>\n",
       "      <td>KALOS</td>\n",
       "      <td>407</td>\n",
       "      <td>Santa Fe</td>\n",
       "      <td>LAGUNA</td>\n",
       "      <td>ZING 125</td>\n",
       "      <td>CS 50 Z</td>\n",
       "      <td>WW125EX2</td>\n",
       "      <td>SCENIC</td>\n",
       "      <td>PUNTO</td>\n",
       "      <td>SH 50</td>\n",
       "      <td>O 530</td>\n",
       "      <td>MATIZ</td>\n",
       "    </tr>\n",
       "    <tr>\n",
       "      <th>Descripcio_marca</th>\n",
       "      <td>DAEWOO</td>\n",
       "      <td>PEUGEOT</td>\n",
       "      <td>HYUNDAI</td>\n",
       "      <td>RENAULT</td>\n",
       "      <td>KYMCO</td>\n",
       "      <td>YAMAHA</td>\n",
       "      <td>HONDA</td>\n",
       "      <td>RENAULT</td>\n",
       "      <td>FIAT</td>\n",
       "      <td>HONDA</td>\n",
       "      <td>MERCEDES-BENZ</td>\n",
       "      <td>DAEWOO</td>\n",
       "    </tr>\n",
       "    <tr>\n",
       "      <th>Descripcio_color</th>\n",
       "      <td>Altres</td>\n",
       "      <td>Negre</td>\n",
       "      <td>Blau</td>\n",
       "      <td>granate</td>\n",
       "      <td>Negre</td>\n",
       "      <td>Negre</td>\n",
       "      <td>Negre</td>\n",
       "      <td>Gris</td>\n",
       "      <td>Vermell</td>\n",
       "      <td>Altres</td>\n",
       "      <td>Vermell</td>\n",
       "      <td>Gris</td>\n",
       "    </tr>\n",
       "  </tbody>\n",
       "</table>\n",
       "</div>"
      ],
      "text/plain": [
       "                                1300         1301         3703         3704   \\\n",
       "Codi_expedient            2015S002717  2015S002717  2015S002717  2015S002717   \n",
       "Descripcio_tipus_vehicle      Turismo      Turismo      Turismo      Turismo   \n",
       "Descripcio_model                KALOS          407     Santa Fe       LAGUNA   \n",
       "Descripcio_marca               DAEWOO      PEUGEOT      HYUNDAI      RENAULT   \n",
       "Descripcio_color               Altres        Negre         Blau      granate   \n",
       "\n",
       "                                6082         10880        10881        10882  \\\n",
       "Codi_expedient            2015S002717  2015S002717  2015S002717  2015S002717   \n",
       "Descripcio_tipus_vehicle  Motocicleta   Ciclomotor  Motocicleta      Turismo   \n",
       "Descripcio_model             ZING 125      CS 50 Z     WW125EX2       SCENIC   \n",
       "Descripcio_marca                KYMCO       YAMAHA        HONDA      RENAULT   \n",
       "Descripcio_color                Negre        Negre        Negre         Gris   \n",
       "\n",
       "                                13352        15680          15681        18150  \n",
       "Codi_expedient            2015S002717  2015S002717    2015S002717  2015S002717  \n",
       "Descripcio_tipus_vehicle      Turismo   Ciclomotor        Autobús      Turismo  \n",
       "Descripcio_model                PUNTO        SH 50          O 530        MATIZ  \n",
       "Descripcio_marca                 FIAT        HONDA  MERCEDES-BENZ       DAEWOO  \n",
       "Descripcio_color              Vermell       Altres        Vermell         Gris  "
      ]
     },
     "execution_count": 244,
     "metadata": {},
     "output_type": "execute_result"
    }
   ],
   "source": [
    "df_vehicle_15m[df_vehicle_15m['Codi_expedient']=='2015S002717'].T"
   ]
  },
  {
   "cell_type": "code",
   "execution_count": 245,
   "metadata": {},
   "outputs": [
    {
     "data": {
      "text/plain": [
       "(10381, 26)"
      ]
     },
     "execution_count": 245,
     "metadata": {},
     "output_type": "execute_result"
    }
   ],
   "source": [
    "df_15 = df_acc_15m.merge(df_tipo_15m, how = 'inner', on = ['Codi_expedient'])\n",
    "df_15.sort_values(by = 'Codi_expedient', axis = 0, inplace = True, ignore_index = True)\n",
    "df_15.shape"
   ]
  },
  {
   "cell_type": "code",
   "execution_count": 246,
   "metadata": {},
   "outputs": [
    {
     "data": {
      "text/plain": [
       "(10394, 27)"
      ]
     },
     "execution_count": 246,
     "metadata": {},
     "output_type": "execute_result"
    }
   ],
   "source": [
    "df_15 = df_15.merge(df_causa_15m, how = 'inner', on = 'Codi_expedient')\n",
    "df_15.sort_values(by = 'Codi_expedient', axis = 0, inplace = True, ignore_index = True)\n",
    "df_15.shape"
   ]
  },
  {
   "cell_type": "code",
   "execution_count": 247,
   "metadata": {},
   "outputs": [
    {
     "data": {
      "text/plain": [
       "(20243, 31)"
      ]
     },
     "execution_count": 247,
     "metadata": {},
     "output_type": "execute_result"
    }
   ],
   "source": [
    "df_15 = df_15.merge(df_vehicle_15m, how = 'inner', on = 'Codi_expedient')\n",
    "df_15.sort_values(by = 'Codi_expedient', axis = 0, inplace = True, ignore_index = True)\n",
    "df_15.shape"
   ]
  },
  {
   "cell_type": "code",
   "execution_count": 248,
   "metadata": {},
   "outputs": [
    {
     "data": {
      "text/plain": [
       "2015S001537    27\n",
       "2015S002643    18\n",
       "2015S004781    18\n",
       "2015S006053    18\n",
       "2015S007551    15\n",
       "               ..\n",
       "2015S001367     1\n",
       "2015S002769     1\n",
       "2015S005810     1\n",
       "2015S002882     1\n",
       "2015S007860     1\n",
       "Name: Codi_expedient, Length: 9864, dtype: int64"
      ]
     },
     "execution_count": 248,
     "metadata": {},
     "output_type": "execute_result"
    }
   ],
   "source": [
    "df_15.Codi_expedient.value_counts()"
   ]
  },
  {
   "cell_type": "code",
   "execution_count": 249,
   "metadata": {},
   "outputs": [
    {
     "data": {
      "text/plain": [
       "(array([1.6223e+04, 2.5080e+03, 8.1600e+02, 3.4400e+02, 1.5600e+02,\n",
       "        5.5000e+01, 5.5000e+01, 5.3000e+01, 1.0000e+01, 2.3000e+01]),\n",
       " array([ 1. ,  2.1,  3.2,  4.3,  5.4,  6.5,  7.6,  8.7,  9.8, 10.9, 12. ]),\n",
       " <BarContainer object of 10 artists>)"
      ]
     },
     "execution_count": 249,
     "metadata": {},
     "output_type": "execute_result"
    },
    {
     "data": {
      "image/png": "[encoded data removed]",
      "text/plain": [
       "<Figure size 432x288 with 1 Axes>"
      ]
     },
     "metadata": {
      "needs_background": "light"
     },
     "output_type": "display_data"
    }
   ],
   "source": [
    "import matplotlib.pyplot as plt\n",
    "\n",
    "plt.hist(df_15['Numero_vehicles_implicats'])"
   ]
  },
  {
   "cell_type": "code",
   "execution_count": 250,
   "metadata": {},
   "outputs": [
    {
     "data": {
      "text/plain": [
       "(19547, 31)"
      ]
     },
     "execution_count": 250,
     "metadata": {},
     "output_type": "execute_result"
    }
   ],
   "source": [
    "df_15 = df_15[df_15['Numero_vehicles_implicats'] <= 4]\n",
    "df_15.shape"
   ]
  },
  {
   "cell_type": "code",
   "execution_count": 251,
   "metadata": {},
   "outputs": [],
   "source": [
    "df_15['Nom_carrer'] = df_15['Nom_carrer'].str.strip()"
   ]
  },
  {
   "cell_type": "code",
   "execution_count": 252,
   "metadata": {},
   "outputs": [
    {
     "data": {
      "text/plain": [
       "2015S010006    12\n",
       "2015S008601    12\n",
       "2015S004287    12\n",
       "2015S000378    12\n",
       "2015S008799    12\n",
       "               ..\n",
       "2015S008980     1\n",
       "2015S006481     1\n",
       "2015S005407     1\n",
       "2015S003284     1\n",
       "2015S003594     1\n",
       "Name: Codi_expedient, Length: 9775, dtype: int64"
      ]
     },
     "execution_count": 252,
     "metadata": {},
     "output_type": "execute_result"
    }
   ],
   "source": [
    "df_15.Codi_expedient.value_counts()"
   ]
  },
  {
   "cell_type": "code",
   "execution_count": 253,
   "metadata": {},
   "outputs": [],
   "source": [
    "df_15.drop_duplicates(subset= ['Codi_expedient','Descripcio_tipus_vehicle', 'Descripcio_model', 'Descripcio_marca', 'Descripcio_color'], keep = 'first', inplace = True, ignore_index = True)"
   ]
  },
  {
   "cell_type": "code",
   "execution_count": 254,
   "metadata": {},
   "outputs": [
    {
     "data": {
      "text/plain": [
       "(18429, 31)"
      ]
     },
     "execution_count": 254,
     "metadata": {},
     "output_type": "execute_result"
    }
   ],
   "source": [
    "df_15.shape"
   ]
  },
  {
   "cell_type": "code",
   "execution_count": 255,
   "metadata": {},
   "outputs": [
    {
     "data": {
      "text/plain": [
       "2015S006494    4\n",
       "2015S007609    4\n",
       "2015S001262    4\n",
       "2015S004512    4\n",
       "2015S005787    4\n",
       "              ..\n",
       "2015S006332    1\n",
       "2015S005568    1\n",
       "2015S002688    1\n",
       "2015S006722    1\n",
       "2015S003594    1\n",
       "Name: Codi_expedient, Length: 9775, dtype: int64"
      ]
     },
     "execution_count": 255,
     "metadata": {},
     "output_type": "execute_result"
    }
   ],
   "source": [
    "df_15.Codi_expedient.value_counts()"
   ]
  },
  {
   "cell_type": "code",
   "execution_count": 256,
   "metadata": {
    "scrolled": false
   },
   "outputs": [
    {
     "data": {
      "text/html": [
       "<div>\n",
       "<style scoped>\n",
       "    .dataframe tbody tr th:only-of-type {\n",
       "        vertical-align: middle;\n",
       "    }\n",
       "\n",
       "    .dataframe tbody tr th {\n",
       "        vertical-align: top;\n",
       "    }\n",
       "\n",
       "    .dataframe thead th {\n",
       "        text-align: right;\n",
       "    }\n",
       "</style>\n",
       "<table border=\"1\" class=\"dataframe\">\n",
       "  <thead>\n",
       "    <tr style=\"text-align: right;\">\n",
       "      <th></th>\n",
       "      <th>18405</th>\n",
       "      <th>18406</th>\n",
       "      <th>18407</th>\n",
       "      <th>18408</th>\n",
       "    </tr>\n",
       "  </thead>\n",
       "  <tbody>\n",
       "    <tr>\n",
       "      <th>Codi_expedient</th>\n",
       "      <td>2015S010006</td>\n",
       "      <td>2015S010006</td>\n",
       "      <td>2015S010006</td>\n",
       "      <td>2015S010006</td>\n",
       "    </tr>\n",
       "    <tr>\n",
       "      <th>Codi_districte</th>\n",
       "      <td>10</td>\n",
       "      <td>10</td>\n",
       "      <td>10</td>\n",
       "      <td>10</td>\n",
       "    </tr>\n",
       "    <tr>\n",
       "      <th>Nom_districte</th>\n",
       "      <td>Sant Martí</td>\n",
       "      <td>Sant Martí</td>\n",
       "      <td>Sant Martí</td>\n",
       "      <td>Sant Martí</td>\n",
       "    </tr>\n",
       "    <tr>\n",
       "      <th>Codi_barri</th>\n",
       "      <td>69</td>\n",
       "      <td>69</td>\n",
       "      <td>69</td>\n",
       "      <td>69</td>\n",
       "    </tr>\n",
       "    <tr>\n",
       "      <th>Nom_barri</th>\n",
       "      <td>Diagonal Mar i el Front Marítim del Poblenou</td>\n",
       "      <td>Diagonal Mar i el Front Marítim del Poblenou</td>\n",
       "      <td>Diagonal Mar i el Front Marítim del Poblenou</td>\n",
       "      <td>Diagonal Mar i el Front Marítim del Poblenou</td>\n",
       "    </tr>\n",
       "    <tr>\n",
       "      <th>Codi_carrer</th>\n",
       "      <td>701266</td>\n",
       "      <td>701266</td>\n",
       "      <td>701266</td>\n",
       "      <td>701266</td>\n",
       "    </tr>\n",
       "    <tr>\n",
       "      <th>Nom_carrer</th>\n",
       "      <td>Litoral (Llobregat)</td>\n",
       "      <td>Litoral (Llobregat)</td>\n",
       "      <td>Litoral (Llobregat)</td>\n",
       "      <td>Litoral (Llobregat)</td>\n",
       "    </tr>\n",
       "    <tr>\n",
       "      <th>Num_postal</th>\n",
       "      <td>000650000</td>\n",
       "      <td>000650000</td>\n",
       "      <td>000650000</td>\n",
       "      <td>000650000</td>\n",
       "    </tr>\n",
       "    <tr>\n",
       "      <th>Dia_setmana</th>\n",
       "      <td>Dijous</td>\n",
       "      <td>Dijous</td>\n",
       "      <td>Dijous</td>\n",
       "      <td>Dijous</td>\n",
       "    </tr>\n",
       "    <tr>\n",
       "      <th>ID_Dia_setmana</th>\n",
       "      <td>Dj</td>\n",
       "      <td>Dj</td>\n",
       "      <td>Dj</td>\n",
       "      <td>Dj</td>\n",
       "    </tr>\n",
       "    <tr>\n",
       "      <th>Tipus_dia</th>\n",
       "      <td>Laboral</td>\n",
       "      <td>Laboral</td>\n",
       "      <td>Laboral</td>\n",
       "      <td>Laboral</td>\n",
       "    </tr>\n",
       "    <tr>\n",
       "      <th>Any</th>\n",
       "      <td>2015</td>\n",
       "      <td>2015</td>\n",
       "      <td>2015</td>\n",
       "      <td>2015</td>\n",
       "    </tr>\n",
       "    <tr>\n",
       "      <th>Mes</th>\n",
       "      <td>12</td>\n",
       "      <td>12</td>\n",
       "      <td>12</td>\n",
       "      <td>12</td>\n",
       "    </tr>\n",
       "    <tr>\n",
       "      <th>Nom_mes</th>\n",
       "      <td>Desembre</td>\n",
       "      <td>Desembre</td>\n",
       "      <td>Desembre</td>\n",
       "      <td>Desembre</td>\n",
       "    </tr>\n",
       "    <tr>\n",
       "      <th>Dia_de_mes</th>\n",
       "      <td>31</td>\n",
       "      <td>31</td>\n",
       "      <td>31</td>\n",
       "      <td>31</td>\n",
       "    </tr>\n",
       "    <tr>\n",
       "      <th>Hora_de_dia</th>\n",
       "      <td>18</td>\n",
       "      <td>18</td>\n",
       "      <td>18</td>\n",
       "      <td>18</td>\n",
       "    </tr>\n",
       "    <tr>\n",
       "      <th>Torn</th>\n",
       "      <td>Tarda</td>\n",
       "      <td>Tarda</td>\n",
       "      <td>Tarda</td>\n",
       "      <td>Tarda</td>\n",
       "    </tr>\n",
       "    <tr>\n",
       "      <th>Descripcio_causa_vianant</th>\n",
       "      <td>No és causa del  vianant</td>\n",
       "      <td>No és causa del  vianant</td>\n",
       "      <td>No és causa del  vianant</td>\n",
       "      <td>No és causa del  vianant</td>\n",
       "    </tr>\n",
       "    <tr>\n",
       "      <th>Numero_morts</th>\n",
       "      <td>0</td>\n",
       "      <td>0</td>\n",
       "      <td>0</td>\n",
       "      <td>0</td>\n",
       "    </tr>\n",
       "    <tr>\n",
       "      <th>Numero_lesionats_lleus</th>\n",
       "      <td>1</td>\n",
       "      <td>1</td>\n",
       "      <td>1</td>\n",
       "      <td>1</td>\n",
       "    </tr>\n",
       "    <tr>\n",
       "      <th>Numero_lesionats_greus</th>\n",
       "      <td>0</td>\n",
       "      <td>0</td>\n",
       "      <td>0</td>\n",
       "      <td>0</td>\n",
       "    </tr>\n",
       "    <tr>\n",
       "      <th>Numero_victimes</th>\n",
       "      <td>1</td>\n",
       "      <td>1</td>\n",
       "      <td>1</td>\n",
       "      <td>1</td>\n",
       "    </tr>\n",
       "    <tr>\n",
       "      <th>Numero_vehicles_implicats</th>\n",
       "      <td>4</td>\n",
       "      <td>4</td>\n",
       "      <td>4</td>\n",
       "      <td>4</td>\n",
       "    </tr>\n",
       "    <tr>\n",
       "      <th>Longitud</th>\n",
       "      <td>2.21484</td>\n",
       "      <td>2.21484</td>\n",
       "      <td>2.21484</td>\n",
       "      <td>2.21484</td>\n",
       "    </tr>\n",
       "    <tr>\n",
       "      <th>Latitud</th>\n",
       "      <td>41.4047</td>\n",
       "      <td>41.4047</td>\n",
       "      <td>41.4047</td>\n",
       "      <td>41.4047</td>\n",
       "    </tr>\n",
       "    <tr>\n",
       "      <th>Tipus_accident</th>\n",
       "      <td>Altres</td>\n",
       "      <td>Caiguda (dues rodes)</td>\n",
       "      <td>Caiguda (dues rodes)</td>\n",
       "      <td>Caiguda (dues rodes)</td>\n",
       "    </tr>\n",
       "    <tr>\n",
       "      <th>Causa_mediata</th>\n",
       "      <td>No hi ha causa mediata</td>\n",
       "      <td>No hi ha causa mediata</td>\n",
       "      <td>No hi ha causa mediata</td>\n",
       "      <td>No hi ha causa mediata</td>\n",
       "    </tr>\n",
       "    <tr>\n",
       "      <th>Descripcio_tipus_vehicle</th>\n",
       "      <td>Turismo</td>\n",
       "      <td>Motocicleta</td>\n",
       "      <td>Turismo</td>\n",
       "      <td>Turismo</td>\n",
       "    </tr>\n",
       "    <tr>\n",
       "      <th>Descripcio_model</th>\n",
       "      <td>BALENO</td>\n",
       "      <td>Dylan 125</td>\n",
       "      <td>JAZZ</td>\n",
       "      <td>LEON</td>\n",
       "    </tr>\n",
       "    <tr>\n",
       "      <th>Descripcio_marca</th>\n",
       "      <td>SUZUKI</td>\n",
       "      <td>HONDA</td>\n",
       "      <td>HONDA</td>\n",
       "      <td>SEAT</td>\n",
       "    </tr>\n",
       "    <tr>\n",
       "      <th>Descripcio_color</th>\n",
       "      <td>Blanc</td>\n",
       "      <td>Gris</td>\n",
       "      <td>Gris</td>\n",
       "      <td>Vermell</td>\n",
       "    </tr>\n",
       "  </tbody>\n",
       "</table>\n",
       "</div>"
      ],
      "text/plain": [
       "                                                                  18405  \\\n",
       "Codi_expedient                                              2015S010006   \n",
       "Codi_districte                                                       10   \n",
       "Nom_districte                                                Sant Martí   \n",
       "Codi_barri                                                           69   \n",
       "Nom_barri                  Diagonal Mar i el Front Marítim del Poblenou   \n",
       "Codi_carrer                                                      701266   \n",
       "Nom_carrer                                          Litoral (Llobregat)   \n",
       "Num_postal                                                    000650000   \n",
       "Dia_setmana                                                      Dijous   \n",
       "ID_Dia_setmana                                                       Dj   \n",
       "Tipus_dia                                                       Laboral   \n",
       "Any                                                                2015   \n",
       "Mes                                                                  12   \n",
       "Nom_mes                                                        Desembre   \n",
       "Dia_de_mes                                                           31   \n",
       "Hora_de_dia                                                          18   \n",
       "Torn                                                              Tarda   \n",
       "Descripcio_causa_vianant                       No és causa del  vianant   \n",
       "Numero_morts                                                          0   \n",
       "Numero_lesionats_lleus                                                1   \n",
       "Numero_lesionats_greus                                                0   \n",
       "Numero_victimes                                                       1   \n",
       "Numero_vehicles_implicats                                             4   \n",
       "Longitud                                                        2.21484   \n",
       "Latitud                                                         41.4047   \n",
       "Tipus_accident                                                   Altres   \n",
       "Causa_mediata                                    No hi ha causa mediata   \n",
       "Descripcio_tipus_vehicle                                        Turismo   \n",
       "Descripcio_model                                                 BALENO   \n",
       "Descripcio_marca                                                 SUZUKI   \n",
       "Descripcio_color                                                  Blanc   \n",
       "\n",
       "                                                                  18406  \\\n",
       "Codi_expedient                                              2015S010006   \n",
       "Codi_districte                                                       10   \n",
       "Nom_districte                                                Sant Martí   \n",
       "Codi_barri                                                           69   \n",
       "Nom_barri                  Diagonal Mar i el Front Marítim del Poblenou   \n",
       "Codi_carrer                                                      701266   \n",
       "Nom_carrer                                          Litoral (Llobregat)   \n",
       "Num_postal                                                    000650000   \n",
       "Dia_setmana                                                      Dijous   \n",
       "ID_Dia_setmana                                                       Dj   \n",
       "Tipus_dia                                                       Laboral   \n",
       "Any                                                                2015   \n",
       "Mes                                                                  12   \n",
       "Nom_mes                                                        Desembre   \n",
       "Dia_de_mes                                                           31   \n",
       "Hora_de_dia                                                          18   \n",
       "Torn                                                              Tarda   \n",
       "Descripcio_causa_vianant                       No és causa del  vianant   \n",
       "Numero_morts                                                          0   \n",
       "Numero_lesionats_lleus                                                1   \n",
       "Numero_lesionats_greus                                                0   \n",
       "Numero_victimes                                                       1   \n",
       "Numero_vehicles_implicats                                             4   \n",
       "Longitud                                                        2.21484   \n",
       "Latitud                                                         41.4047   \n",
       "Tipus_accident                                     Caiguda (dues rodes)   \n",
       "Causa_mediata                                    No hi ha causa mediata   \n",
       "Descripcio_tipus_vehicle                                    Motocicleta   \n",
       "Descripcio_model                                              Dylan 125   \n",
       "Descripcio_marca                                                  HONDA   \n",
       "Descripcio_color                                                   Gris   \n",
       "\n",
       "                                                                  18407  \\\n",
       "Codi_expedient                                              2015S010006   \n",
       "Codi_districte                                                       10   \n",
       "Nom_districte                                                Sant Martí   \n",
       "Codi_barri                                                           69   \n",
       "Nom_barri                  Diagonal Mar i el Front Marítim del Poblenou   \n",
       "Codi_carrer                                                      701266   \n",
       "Nom_carrer                                          Litoral (Llobregat)   \n",
       "Num_postal                                                    000650000   \n",
       "Dia_setmana                                                      Dijous   \n",
       "ID_Dia_setmana                                                       Dj   \n",
       "Tipus_dia                                                       Laboral   \n",
       "Any                                                                2015   \n",
       "Mes                                                                  12   \n",
       "Nom_mes                                                        Desembre   \n",
       "Dia_de_mes                                                           31   \n",
       "Hora_de_dia                                                          18   \n",
       "Torn                                                              Tarda   \n",
       "Descripcio_causa_vianant                       No és causa del  vianant   \n",
       "Numero_morts                                                          0   \n",
       "Numero_lesionats_lleus                                                1   \n",
       "Numero_lesionats_greus                                                0   \n",
       "Numero_victimes                                                       1   \n",
       "Numero_vehicles_implicats                                             4   \n",
       "Longitud                                                        2.21484   \n",
       "Latitud                                                         41.4047   \n",
       "Tipus_accident                                     Caiguda (dues rodes)   \n",
       "Causa_mediata                                    No hi ha causa mediata   \n",
       "Descripcio_tipus_vehicle                                        Turismo   \n",
       "Descripcio_model                                                   JAZZ   \n",
       "Descripcio_marca                                                  HONDA   \n",
       "Descripcio_color                                                   Gris   \n",
       "\n",
       "                                                                  18408  \n",
       "Codi_expedient                                              2015S010006  \n",
       "Codi_districte                                                       10  \n",
       "Nom_districte                                                Sant Martí  \n",
       "Codi_barri                                                           69  \n",
       "Nom_barri                  Diagonal Mar i el Front Marítim del Poblenou  \n",
       "Codi_carrer                                                      701266  \n",
       "Nom_carrer                                          Litoral (Llobregat)  \n",
       "Num_postal                                                    000650000  \n",
       "Dia_setmana                                                      Dijous  \n",
       "ID_Dia_setmana                                                       Dj  \n",
       "Tipus_dia                                                       Laboral  \n",
       "Any                                                                2015  \n",
       "Mes                                                                  12  \n",
       "Nom_mes                                                        Desembre  \n",
       "Dia_de_mes                                                           31  \n",
       "Hora_de_dia                                                          18  \n",
       "Torn                                                              Tarda  \n",
       "Descripcio_causa_vianant                       No és causa del  vianant  \n",
       "Numero_morts                                                          0  \n",
       "Numero_lesionats_lleus                                                1  \n",
       "Numero_lesionats_greus                                                0  \n",
       "Numero_victimes                                                       1  \n",
       "Numero_vehicles_implicats                                             4  \n",
       "Longitud                                                        2.21484  \n",
       "Latitud                                                         41.4047  \n",
       "Tipus_accident                                     Caiguda (dues rodes)  \n",
       "Causa_mediata                                    No hi ha causa mediata  \n",
       "Descripcio_tipus_vehicle                                        Turismo  \n",
       "Descripcio_model                                                   LEON  \n",
       "Descripcio_marca                                                   SEAT  \n",
       "Descripcio_color                                                Vermell  "
      ]
     },
     "execution_count": 256,
     "metadata": {},
     "output_type": "execute_result"
    }
   ],
   "source": [
    "df_15[df_15['Codi_expedient']=='2015S010006'].T"
   ]
  },
  {
   "cell_type": "code",
   "execution_count": null,
   "metadata": {},
   "outputs": [],
   "source": []
  },
  {
   "cell_type": "code",
   "execution_count": null,
   "metadata": {},
   "outputs": [],
   "source": []
  },
  {
   "cell_type": "code",
   "execution_count": null,
   "metadata": {},
   "outputs": [],
   "source": []
  },
  {
   "cell_type": "code",
   "execution_count": 257,
   "metadata": {},
   "outputs": [],
   "source": [
    "#df_acc, df_tipo, df_causa, df_vehicle, df_user"
   ]
  },
  {
   "cell_type": "code",
   "execution_count": 258,
   "metadata": {},
   "outputs": [
    {
     "data": {
      "text/plain": [
       "Index(['Codi_expedient', 'Codi_districte', 'Nom_districte', 'Codi_barri',\n",
       "       'Nom_barri', 'Codi_carrer', 'Nom_carrer', 'Num_postal', 'Dia_setmana',\n",
       "       'ID_Dia_setmana', 'Tipus_dia', 'Any', 'Mes', 'Nom_mes', 'Dia_de_mes',\n",
       "       'Hora_de_dia', 'Torn', 'Descripcio_causa_vianant', 'Numero_morts',\n",
       "       'Numero_lesionats_lleus', 'Numero_lesionats_greus', 'Numero_victimes',\n",
       "       'Numero_vehicles_implicats', 'Coordenada_UTM_Y', 'Coordenada_UTM_X',\n",
       "       'Latitud', 'Longitud'],\n",
       "      dtype='object')"
      ]
     },
     "execution_count": 258,
     "metadata": {},
     "output_type": "execute_result"
    }
   ],
   "source": [
    "df_acc_14.columns"
   ]
  },
  {
   "cell_type": "code",
   "execution_count": 259,
   "metadata": {},
   "outputs": [],
   "source": [
    "df_acc_14m = df_acc_14[['Codi_expedient', 'Codi_districte', 'Nom_districte', 'Codi_barri',\n",
    "       'Nom_barri', 'Codi_carrer', 'Nom_carrer', 'Num_postal', 'Dia_setmana',\n",
    "       'ID_Dia_setmana', 'Tipus_dia', 'Any', 'Mes', 'Nom_mes', 'Dia_de_mes',\n",
    "       'Hora_de_dia', 'Torn', 'Descripcio_causa_vianant', 'Numero_morts',\n",
    "       'Numero_lesionats_lleus', 'Numero_lesionats_greus', 'Numero_victimes',\n",
    "       'Numero_vehicles_implicats', 'Longitud', 'Latitud']]\n",
    "df_tipo_14m = df_14_tipo[['Codi_expedient','Tipus_accident']]\n",
    "df_causa_14m = df_causa_14[['Codi_expedient','Causa_mediata']]\n",
    "df_vehicle_14m = df_vehicle_14[['Codi_expedient','Descripcio_tipus_vehicle', 'Descripcio_model', 'Descripcio_marca',\n",
    "       'Descripcio_color']]"
   ]
  },
  {
   "cell_type": "code",
   "execution_count": 260,
   "metadata": {},
   "outputs": [
    {
     "name": "stderr",
     "output_type": "stream",
     "text": [
      "<ipython-input-260-681502c395a4>:1: SettingWithCopyWarning: \n",
      "A value is trying to be set on a copy of a slice from a DataFrame.\n",
      "Try using .loc[row_indexer,col_indexer] = value instead\n",
      "\n",
      "See the caveats in the documentation: https://pandas.pydata.org/pandas-docs/stable/user_guide/indexing.html#returning-a-view-versus-a-copy\n",
      "  df_acc_14m['Codi_expedient'] = df_acc_14['Codi_expedient'].str.strip()\n",
      "<ipython-input-260-681502c395a4>:2: SettingWithCopyWarning: \n",
      "A value is trying to be set on a copy of a slice from a DataFrame.\n",
      "Try using .loc[row_indexer,col_indexer] = value instead\n",
      "\n",
      "See the caveats in the documentation: https://pandas.pydata.org/pandas-docs/stable/user_guide/indexing.html#returning-a-view-versus-a-copy\n",
      "  df_tipo_14m['Codi_expedient'] = df_tipo_14m['Codi_expedient'].str.strip()\n",
      "<ipython-input-260-681502c395a4>:3: SettingWithCopyWarning: \n",
      "A value is trying to be set on a copy of a slice from a DataFrame.\n",
      "Try using .loc[row_indexer,col_indexer] = value instead\n",
      "\n",
      "See the caveats in the documentation: https://pandas.pydata.org/pandas-docs/stable/user_guide/indexing.html#returning-a-view-versus-a-copy\n",
      "  df_causa_14m['Codi_expedient'] = df_causa_14m['Codi_expedient'].str.strip()\n",
      "<ipython-input-260-681502c395a4>:4: SettingWithCopyWarning: \n",
      "A value is trying to be set on a copy of a slice from a DataFrame.\n",
      "Try using .loc[row_indexer,col_indexer] = value instead\n",
      "\n",
      "See the caveats in the documentation: https://pandas.pydata.org/pandas-docs/stable/user_guide/indexing.html#returning-a-view-versus-a-copy\n",
      "  df_vehicle_14m['Codi_expedient'] = df_vehicle_14m['Codi_expedient'].str.strip()\n"
     ]
    }
   ],
   "source": [
    "df_acc_14m['Codi_expedient'] = df_acc_14['Codi_expedient'].str.strip()\n",
    "df_tipo_14m['Codi_expedient'] = df_tipo_14m['Codi_expedient'].str.strip()\n",
    "df_causa_14m['Codi_expedient'] = df_causa_14m['Codi_expedient'].str.strip()\n",
    "df_vehicle_14m['Codi_expedient'] = df_vehicle_14m['Codi_expedient'].str.strip()"
   ]
  },
  {
   "cell_type": "code",
   "execution_count": 261,
   "metadata": {},
   "outputs": [
    {
     "name": "stdout",
     "output_type": "stream",
     "text": [
      "(9680, 25)\n",
      "(10139, 2)\n",
      "(9677, 2)\n",
      "(18604, 5)\n"
     ]
    }
   ],
   "source": [
    "print(df_acc_14m.shape)\n",
    "print(df_tipo_14m.shape)\n",
    "print(df_causa_14m.shape)\n",
    "print(df_vehicle_14m.shape)"
   ]
  },
  {
   "cell_type": "code",
   "execution_count": 262,
   "metadata": {},
   "outputs": [
    {
     "data": {
      "text/plain": [
       "2014S000608    10\n",
       "2014S000180    10\n",
       "2014S007150    10\n",
       "2014S005195     9\n",
       "2014S003028     9\n",
       "               ..\n",
       "2014S008529     1\n",
       "2014S007296     1\n",
       "2014S001775     1\n",
       "2014S008439     1\n",
       "2014S004144     1\n",
       "Name: Codi_expedient, Length: 9672, dtype: int64"
      ]
     },
     "execution_count": 262,
     "metadata": {},
     "output_type": "execute_result"
    }
   ],
   "source": [
    "df_vehicle_14.Codi_expedient.value_counts()"
   ]
  },
  {
   "cell_type": "code",
   "execution_count": 263,
   "metadata": {},
   "outputs": [
    {
     "data": {
      "text/html": [
       "<div>\n",
       "<style scoped>\n",
       "    .dataframe tbody tr th:only-of-type {\n",
       "        vertical-align: middle;\n",
       "    }\n",
       "\n",
       "    .dataframe tbody tr th {\n",
       "        vertical-align: top;\n",
       "    }\n",
       "\n",
       "    .dataframe thead th {\n",
       "        text-align: right;\n",
       "    }\n",
       "</style>\n",
       "<table border=\"1\" class=\"dataframe\">\n",
       "  <thead>\n",
       "    <tr style=\"text-align: right;\">\n",
       "      <th></th>\n",
       "      <th>7086</th>\n",
       "    </tr>\n",
       "  </thead>\n",
       "  <tbody>\n",
       "    <tr>\n",
       "      <th>Codi_expedient</th>\n",
       "      <td>2014S000180</td>\n",
       "    </tr>\n",
       "    <tr>\n",
       "      <th>Codi_districte</th>\n",
       "      <td>7</td>\n",
       "    </tr>\n",
       "    <tr>\n",
       "      <th>Nom_districte</th>\n",
       "      <td>Horta-Guinardó</td>\n",
       "    </tr>\n",
       "    <tr>\n",
       "      <th>Codi_barri</th>\n",
       "      <td>73-7-37</td>\n",
       "    </tr>\n",
       "    <tr>\n",
       "      <th>Nom_barri</th>\n",
       "      <td>el Carmel</td>\n",
       "    </tr>\n",
       "    <tr>\n",
       "      <th>Codi_carrer</th>\n",
       "      <td>148602</td>\n",
       "    </tr>\n",
       "    <tr>\n",
       "      <th>Nom_carrer</th>\n",
       "      <td>Gran Vista</td>\n",
       "    </tr>\n",
       "    <tr>\n",
       "      <th>Num_postal</th>\n",
       "      <td>0092B0092B</td>\n",
       "    </tr>\n",
       "    <tr>\n",
       "      <th>Dia_setmana</th>\n",
       "      <td>Divendres</td>\n",
       "    </tr>\n",
       "    <tr>\n",
       "      <th>ID_Dia_setmana</th>\n",
       "      <td>5</td>\n",
       "    </tr>\n",
       "    <tr>\n",
       "      <th>Tipus_dia</th>\n",
       "      <td>Laboral</td>\n",
       "    </tr>\n",
       "    <tr>\n",
       "      <th>Any</th>\n",
       "      <td>2014</td>\n",
       "    </tr>\n",
       "    <tr>\n",
       "      <th>Mes</th>\n",
       "      <td>1</td>\n",
       "    </tr>\n",
       "    <tr>\n",
       "      <th>Nom_mes</th>\n",
       "      <td>Gener</td>\n",
       "    </tr>\n",
       "    <tr>\n",
       "      <th>Dia_de_mes</th>\n",
       "      <td>10</td>\n",
       "    </tr>\n",
       "    <tr>\n",
       "      <th>Hora_de_dia</th>\n",
       "      <td>4</td>\n",
       "    </tr>\n",
       "    <tr>\n",
       "      <th>Torn</th>\n",
       "      <td>Nit</td>\n",
       "    </tr>\n",
       "    <tr>\n",
       "      <th>Descripcio_causa_vianant</th>\n",
       "      <td>NaN</td>\n",
       "    </tr>\n",
       "    <tr>\n",
       "      <th>Numero_morts</th>\n",
       "      <td>0</td>\n",
       "    </tr>\n",
       "    <tr>\n",
       "      <th>Numero_lesionats_lleus</th>\n",
       "      <td>0</td>\n",
       "    </tr>\n",
       "    <tr>\n",
       "      <th>Numero_lesionats_greus</th>\n",
       "      <td>0</td>\n",
       "    </tr>\n",
       "    <tr>\n",
       "      <th>Numero_victimes</th>\n",
       "      <td>0</td>\n",
       "    </tr>\n",
       "    <tr>\n",
       "      <th>Numero_vehicles_implicats</th>\n",
       "      <td>10</td>\n",
       "    </tr>\n",
       "    <tr>\n",
       "      <th>Longitud</th>\n",
       "      <td>2.16298</td>\n",
       "    </tr>\n",
       "    <tr>\n",
       "      <th>Latitud</th>\n",
       "      <td>41.4227</td>\n",
       "    </tr>\n",
       "  </tbody>\n",
       "</table>\n",
       "</div>"
      ],
      "text/plain": [
       "                                     7086\n",
       "Codi_expedient                2014S000180\n",
       "Codi_districte                          7\n",
       "Nom_districte              Horta-Guinardó\n",
       "Codi_barri                        73-7-37\n",
       "Nom_barri                       el Carmel\n",
       "Codi_carrer                        148602\n",
       "Nom_carrer                     Gran Vista\n",
       "Num_postal                     0092B0092B\n",
       "Dia_setmana                     Divendres\n",
       "ID_Dia_setmana                          5\n",
       "Tipus_dia                         Laboral\n",
       "Any                                  2014\n",
       "Mes                                     1\n",
       "Nom_mes                             Gener\n",
       "Dia_de_mes                             10\n",
       "Hora_de_dia                             4\n",
       "Torn                                  Nit\n",
       "Descripcio_causa_vianant              NaN\n",
       "Numero_morts                            0\n",
       "Numero_lesionats_lleus                  0\n",
       "Numero_lesionats_greus                  0\n",
       "Numero_victimes                         0\n",
       "Numero_vehicles_implicats              10\n",
       "Longitud                          2.16298\n",
       "Latitud                           41.4227"
      ]
     },
     "execution_count": 263,
     "metadata": {},
     "output_type": "execute_result"
    }
   ],
   "source": [
    "df_acc_14m[df_acc_14m['Codi_expedient']=='2014S000180'].T"
   ]
  },
  {
   "cell_type": "code",
   "execution_count": 264,
   "metadata": {},
   "outputs": [
    {
     "data": {
      "text/html": [
       "<div>\n",
       "<style scoped>\n",
       "    .dataframe tbody tr th:only-of-type {\n",
       "        vertical-align: middle;\n",
       "    }\n",
       "\n",
       "    .dataframe tbody tr th {\n",
       "        vertical-align: top;\n",
       "    }\n",
       "\n",
       "    .dataframe thead th {\n",
       "        text-align: right;\n",
       "    }\n",
       "</style>\n",
       "<table border=\"1\" class=\"dataframe\">\n",
       "  <thead>\n",
       "    <tr style=\"text-align: right;\">\n",
       "      <th></th>\n",
       "      <th>2294</th>\n",
       "      <th>2295</th>\n",
       "      <th>2296</th>\n",
       "      <th>2297</th>\n",
       "      <th>2298</th>\n",
       "      <th>6931</th>\n",
       "      <th>9274</th>\n",
       "      <th>9275</th>\n",
       "      <th>13951</th>\n",
       "      <th>16214</th>\n",
       "    </tr>\n",
       "  </thead>\n",
       "  <tbody>\n",
       "    <tr>\n",
       "      <th>Codi_expedient</th>\n",
       "      <td>2014S000180</td>\n",
       "      <td>2014S000180</td>\n",
       "      <td>2014S000180</td>\n",
       "      <td>2014S000180</td>\n",
       "      <td>2014S000180</td>\n",
       "      <td>2014S000180</td>\n",
       "      <td>2014S000180</td>\n",
       "      <td>2014S000180</td>\n",
       "      <td>2014S000180</td>\n",
       "      <td>2014S000180</td>\n",
       "    </tr>\n",
       "    <tr>\n",
       "      <th>Descripcio_tipus_vehicle</th>\n",
       "      <td>Turismo</td>\n",
       "      <td>Motocicleta</td>\n",
       "      <td>Motocicleta</td>\n",
       "      <td>Ciclomotor</td>\n",
       "      <td>Ciclomotor</td>\n",
       "      <td>Motocicleta</td>\n",
       "      <td>Turismo</td>\n",
       "      <td>Ciclomotor</td>\n",
       "      <td>Motocicleta</td>\n",
       "      <td>Motocicleta</td>\n",
       "    </tr>\n",
       "    <tr>\n",
       "      <th>Descripcio_model</th>\n",
       "      <td>GOLF</td>\n",
       "      <td>GS 500 E</td>\n",
       "      <td>SES 125</td>\n",
       "      <td>VESPA</td>\n",
       "      <td>VIVA 2</td>\n",
       "      <td>SH 100</td>\n",
       "      <td>330</td>\n",
       "      <td>PEOPLE 50</td>\n",
       "      <td>NSR 125 R</td>\n",
       "      <td>PES</td>\n",
       "    </tr>\n",
       "    <tr>\n",
       "      <th>Descripcio_marca</th>\n",
       "      <td>VOLKSWAGEN</td>\n",
       "      <td>SUZUKI</td>\n",
       "      <td>HONDA</td>\n",
       "      <td>PIAGGIO</td>\n",
       "      <td>PEUGEOT</td>\n",
       "      <td>HONDA</td>\n",
       "      <td>BMW</td>\n",
       "      <td>KYMCO</td>\n",
       "      <td>HONDA</td>\n",
       "      <td>HONDA</td>\n",
       "    </tr>\n",
       "    <tr>\n",
       "      <th>Descripcio_color</th>\n",
       "      <td>Blau</td>\n",
       "      <td>Blau</td>\n",
       "      <td>NaN</td>\n",
       "      <td>NaN</td>\n",
       "      <td>NaN</td>\n",
       "      <td>NaN</td>\n",
       "      <td>Gris</td>\n",
       "      <td>NaN</td>\n",
       "      <td>NaN</td>\n",
       "      <td>NaN</td>\n",
       "    </tr>\n",
       "  </tbody>\n",
       "</table>\n",
       "</div>"
      ],
      "text/plain": [
       "                                2294         2295         2296         2297   \\\n",
       "Codi_expedient            2014S000180  2014S000180  2014S000180  2014S000180   \n",
       "Descripcio_tipus_vehicle      Turismo  Motocicleta  Motocicleta   Ciclomotor   \n",
       "Descripcio_model                 GOLF     GS 500 E      SES 125        VESPA   \n",
       "Descripcio_marca           VOLKSWAGEN       SUZUKI        HONDA      PIAGGIO   \n",
       "Descripcio_color                 Blau         Blau          NaN          NaN   \n",
       "\n",
       "                                2298         6931         9274         9275   \\\n",
       "Codi_expedient            2014S000180  2014S000180  2014S000180  2014S000180   \n",
       "Descripcio_tipus_vehicle   Ciclomotor  Motocicleta      Turismo   Ciclomotor   \n",
       "Descripcio_model               VIVA 2       SH 100          330    PEOPLE 50   \n",
       "Descripcio_marca              PEUGEOT        HONDA          BMW        KYMCO   \n",
       "Descripcio_color                  NaN          NaN         Gris          NaN   \n",
       "\n",
       "                                13951        16214  \n",
       "Codi_expedient            2014S000180  2014S000180  \n",
       "Descripcio_tipus_vehicle  Motocicleta  Motocicleta  \n",
       "Descripcio_model            NSR 125 R          PES  \n",
       "Descripcio_marca                HONDA        HONDA  \n",
       "Descripcio_color                  NaN          NaN  "
      ]
     },
     "execution_count": 264,
     "metadata": {},
     "output_type": "execute_result"
    }
   ],
   "source": [
    "df_vehicle_14m[df_vehicle_14m['Codi_expedient']=='2014S000180'].T"
   ]
  },
  {
   "cell_type": "code",
   "execution_count": 265,
   "metadata": {},
   "outputs": [
    {
     "data": {
      "text/plain": [
       "(10139, 26)"
      ]
     },
     "execution_count": 265,
     "metadata": {},
     "output_type": "execute_result"
    }
   ],
   "source": [
    "df_14 = df_acc_14m.merge(df_tipo_14m, how = 'inner', on = ['Codi_expedient'])\n",
    "df_14.sort_values(by = 'Codi_expedient', axis = 0, inplace = True, ignore_index = True)\n",
    "df_14.shape"
   ]
  },
  {
   "cell_type": "code",
   "execution_count": 266,
   "metadata": {},
   "outputs": [
    {
     "data": {
      "text/plain": [
       "(10151, 27)"
      ]
     },
     "execution_count": 266,
     "metadata": {},
     "output_type": "execute_result"
    }
   ],
   "source": [
    "df_14 = df_14.merge(df_causa_14m, how = 'inner', on = 'Codi_expedient')\n",
    "df_14.sort_values(by = 'Codi_expedient', axis = 0, inplace = True, ignore_index = True)\n",
    "df_14.shape"
   ]
  },
  {
   "cell_type": "code",
   "execution_count": 267,
   "metadata": {},
   "outputs": [
    {
     "data": {
      "text/plain": [
       "(19726, 31)"
      ]
     },
     "execution_count": 267,
     "metadata": {},
     "output_type": "execute_result"
    }
   ],
   "source": [
    "df_14 = df_14.merge(df_vehicle_14m, how = 'inner', on = 'Codi_expedient')\n",
    "df_14.sort_values(by = 'Codi_expedient', axis = 0, inplace = True, ignore_index = True)\n",
    "df_14.shape"
   ]
  },
  {
   "cell_type": "code",
   "execution_count": 268,
   "metadata": {},
   "outputs": [
    {
     "data": {
      "text/plain": [
       "2014S000067    20\n",
       "2014S008612    18\n",
       "2014S009641    14\n",
       "2014S007355    14\n",
       "2014S005989    12\n",
       "               ..\n",
       "2014S005988     1\n",
       "2014S005814     1\n",
       "2014S006516     1\n",
       "2014S003049     1\n",
       "2014S007592     1\n",
       "Name: Codi_expedient, Length: 9651, dtype: int64"
      ]
     },
     "execution_count": 268,
     "metadata": {},
     "output_type": "execute_result"
    }
   ],
   "source": [
    "df_14.Codi_expedient.value_counts()"
   ]
  },
  {
   "cell_type": "code",
   "execution_count": 269,
   "metadata": {},
   "outputs": [
    {
     "data": {
      "text/plain": [
       "(array([ 2183., 13676.,  2487.,   766.,   310.,   143.,    97.,    16.,\n",
       "           18.,    30.]),\n",
       " array([ 1. ,  1.9,  2.8,  3.7,  4.6,  5.5,  6.4,  7.3,  8.2,  9.1, 10. ]),\n",
       " <BarContainer object of 10 artists>)"
      ]
     },
     "execution_count": 269,
     "metadata": {},
     "output_type": "execute_result"
    },
    {
     "data": {
      "image/png": "[encoded data removed]",
      "text/plain": [
       "<Figure size 432x288 with 1 Axes>"
      ]
     },
     "metadata": {
      "needs_background": "light"
     },
     "output_type": "display_data"
    }
   ],
   "source": [
    "import matplotlib.pyplot as plt\n",
    "\n",
    "plt.hist(df_14['Numero_vehicles_implicats'])"
   ]
  },
  {
   "cell_type": "code",
   "execution_count": 270,
   "metadata": {},
   "outputs": [
    {
     "data": {
      "text/plain": [
       "(19112, 31)"
      ]
     },
     "execution_count": 270,
     "metadata": {},
     "output_type": "execute_result"
    }
   ],
   "source": [
    "df_14 = df_14[df_14['Numero_vehicles_implicats'] <= 4]\n",
    "df_14.shape"
   ]
  },
  {
   "cell_type": "code",
   "execution_count": 271,
   "metadata": {},
   "outputs": [],
   "source": [
    "df_14['Nom_carrer'] = df_14['Nom_carrer'].str.strip()"
   ]
  },
  {
   "cell_type": "code",
   "execution_count": 272,
   "metadata": {},
   "outputs": [
    {
     "data": {
      "text/plain": [
       "2014S004531    12\n",
       "2014S006702    12\n",
       "2014S003016    12\n",
       "2014S000762    12\n",
       "2014S005751    12\n",
       "               ..\n",
       "2014S005378     1\n",
       "2014S001831     1\n",
       "2014S001516     1\n",
       "2014S005974     1\n",
       "2014S006238     1\n",
       "Name: Codi_expedient, Length: 9560, dtype: int64"
      ]
     },
     "execution_count": 272,
     "metadata": {},
     "output_type": "execute_result"
    }
   ],
   "source": [
    "df_14.Codi_expedient.value_counts()"
   ]
  },
  {
   "cell_type": "code",
   "execution_count": 273,
   "metadata": {},
   "outputs": [],
   "source": [
    "df_14.drop_duplicates(subset= ['Codi_expedient','Descripcio_tipus_vehicle', 'Descripcio_model', 'Descripcio_marca', 'Descripcio_color'], keep = 'first', inplace = True, ignore_index = True)"
   ]
  },
  {
   "cell_type": "code",
   "execution_count": 274,
   "metadata": {},
   "outputs": [
    {
     "data": {
      "text/plain": [
       "(18014, 31)"
      ]
     },
     "execution_count": 274,
     "metadata": {},
     "output_type": "execute_result"
    }
   ],
   "source": [
    "df_14.shape"
   ]
  },
  {
   "cell_type": "code",
   "execution_count": 275,
   "metadata": {},
   "outputs": [
    {
     "data": {
      "text/plain": [
       "2014S007240    4\n",
       "2014S006456    4\n",
       "2014S004044    4\n",
       "2014S008152    4\n",
       "2014S000467    4\n",
       "              ..\n",
       "2014S003162    1\n",
       "2014S001568    1\n",
       "2014S008324    1\n",
       "2014S004281    1\n",
       "2014S001940    1\n",
       "Name: Codi_expedient, Length: 9560, dtype: int64"
      ]
     },
     "execution_count": 275,
     "metadata": {},
     "output_type": "execute_result"
    }
   ],
   "source": [
    "df_14.Codi_expedient.value_counts()"
   ]
  },
  {
   "cell_type": "code",
   "execution_count": 276,
   "metadata": {
    "scrolled": false
   },
   "outputs": [
    {
     "data": {
      "text/html": [
       "<div>\n",
       "<style scoped>\n",
       "    .dataframe tbody tr th:only-of-type {\n",
       "        vertical-align: middle;\n",
       "    }\n",
       "\n",
       "    .dataframe tbody tr th {\n",
       "        vertical-align: top;\n",
       "    }\n",
       "\n",
       "    .dataframe thead th {\n",
       "        text-align: right;\n",
       "    }\n",
       "</style>\n",
       "<table border=\"1\" class=\"dataframe\">\n",
       "  <thead>\n",
       "    <tr style=\"text-align: right;\">\n",
       "      <th></th>\n",
       "      <th>10310</th>\n",
       "      <th>10311</th>\n",
       "      <th>10312</th>\n",
       "      <th>10313</th>\n",
       "    </tr>\n",
       "  </thead>\n",
       "  <tbody>\n",
       "    <tr>\n",
       "      <th>Codi_expedient</th>\n",
       "      <td>2014S005559</td>\n",
       "      <td>2014S005559</td>\n",
       "      <td>2014S005559</td>\n",
       "      <td>2014S005559</td>\n",
       "    </tr>\n",
       "    <tr>\n",
       "      <th>Codi_districte</th>\n",
       "      <td>2</td>\n",
       "      <td>2</td>\n",
       "      <td>2</td>\n",
       "      <td>2</td>\n",
       "    </tr>\n",
       "    <tr>\n",
       "      <th>Nom_districte</th>\n",
       "      <td>Eixample</td>\n",
       "      <td>Eixample</td>\n",
       "      <td>Eixample</td>\n",
       "      <td>Eixample</td>\n",
       "    </tr>\n",
       "    <tr>\n",
       "      <th>Codi_barri</th>\n",
       "      <td>24-2-7</td>\n",
       "      <td>24-2-7</td>\n",
       "      <td>24-2-7</td>\n",
       "      <td>24-2-7</td>\n",
       "    </tr>\n",
       "    <tr>\n",
       "      <th>Nom_barri</th>\n",
       "      <td>la Dreta de l'Eixample</td>\n",
       "      <td>la Dreta de l'Eixample</td>\n",
       "      <td>la Dreta de l'Eixample</td>\n",
       "      <td>la Dreta de l'Eixample</td>\n",
       "    </tr>\n",
       "    <tr>\n",
       "      <th>Codi_carrer</th>\n",
       "      <td>18505</td>\n",
       "      <td>18505</td>\n",
       "      <td>18505</td>\n",
       "      <td>18505</td>\n",
       "    </tr>\n",
       "    <tr>\n",
       "      <th>Nom_carrer</th>\n",
       "      <td>Aragó</td>\n",
       "      <td>Aragó</td>\n",
       "      <td>Aragó</td>\n",
       "      <td>Aragó</td>\n",
       "    </tr>\n",
       "    <tr>\n",
       "      <th>Num_postal</th>\n",
       "      <td>0225 0225</td>\n",
       "      <td>0225 0225</td>\n",
       "      <td>0225 0225</td>\n",
       "      <td>0225 0225</td>\n",
       "    </tr>\n",
       "    <tr>\n",
       "      <th>Dia_setmana</th>\n",
       "      <td>Diumenge</td>\n",
       "      <td>Diumenge</td>\n",
       "      <td>Diumenge</td>\n",
       "      <td>Diumenge</td>\n",
       "    </tr>\n",
       "    <tr>\n",
       "      <th>ID_Dia_setmana</th>\n",
       "      <td>7</td>\n",
       "      <td>7</td>\n",
       "      <td>7</td>\n",
       "      <td>7</td>\n",
       "    </tr>\n",
       "    <tr>\n",
       "      <th>Tipus_dia</th>\n",
       "      <td>Laboral</td>\n",
       "      <td>Laboral</td>\n",
       "      <td>Laboral</td>\n",
       "      <td>Laboral</td>\n",
       "    </tr>\n",
       "    <tr>\n",
       "      <th>Any</th>\n",
       "      <td>2014</td>\n",
       "      <td>2014</td>\n",
       "      <td>2014</td>\n",
       "      <td>2014</td>\n",
       "    </tr>\n",
       "    <tr>\n",
       "      <th>Mes</th>\n",
       "      <td>7</td>\n",
       "      <td>7</td>\n",
       "      <td>7</td>\n",
       "      <td>7</td>\n",
       "    </tr>\n",
       "    <tr>\n",
       "      <th>Nom_mes</th>\n",
       "      <td>Juliol</td>\n",
       "      <td>Juliol</td>\n",
       "      <td>Juliol</td>\n",
       "      <td>Juliol</td>\n",
       "    </tr>\n",
       "    <tr>\n",
       "      <th>Dia_de_mes</th>\n",
       "      <td>27</td>\n",
       "      <td>27</td>\n",
       "      <td>27</td>\n",
       "      <td>27</td>\n",
       "    </tr>\n",
       "    <tr>\n",
       "      <th>Hora_de_dia</th>\n",
       "      <td>1</td>\n",
       "      <td>1</td>\n",
       "      <td>1</td>\n",
       "      <td>1</td>\n",
       "    </tr>\n",
       "    <tr>\n",
       "      <th>Torn</th>\n",
       "      <td>Nit</td>\n",
       "      <td>Nit</td>\n",
       "      <td>Nit</td>\n",
       "      <td>Nit</td>\n",
       "    </tr>\n",
       "    <tr>\n",
       "      <th>Descripcio_causa_vianant</th>\n",
       "      <td>NaN</td>\n",
       "      <td>NaN</td>\n",
       "      <td>NaN</td>\n",
       "      <td>NaN</td>\n",
       "    </tr>\n",
       "    <tr>\n",
       "      <th>Numero_morts</th>\n",
       "      <td>0</td>\n",
       "      <td>0</td>\n",
       "      <td>0</td>\n",
       "      <td>0</td>\n",
       "    </tr>\n",
       "    <tr>\n",
       "      <th>Numero_lesionats_lleus</th>\n",
       "      <td>1</td>\n",
       "      <td>1</td>\n",
       "      <td>1</td>\n",
       "      <td>1</td>\n",
       "    </tr>\n",
       "    <tr>\n",
       "      <th>Numero_lesionats_greus</th>\n",
       "      <td>0</td>\n",
       "      <td>0</td>\n",
       "      <td>0</td>\n",
       "      <td>0</td>\n",
       "    </tr>\n",
       "    <tr>\n",
       "      <th>Numero_victimes</th>\n",
       "      <td>1</td>\n",
       "      <td>1</td>\n",
       "      <td>1</td>\n",
       "      <td>1</td>\n",
       "    </tr>\n",
       "    <tr>\n",
       "      <th>Numero_vehicles_implicats</th>\n",
       "      <td>4</td>\n",
       "      <td>4</td>\n",
       "      <td>4</td>\n",
       "      <td>4</td>\n",
       "    </tr>\n",
       "    <tr>\n",
       "      <th>Longitud</th>\n",
       "      <td>2.16299</td>\n",
       "      <td>2.16299</td>\n",
       "      <td>2.16299</td>\n",
       "      <td>2.16299</td>\n",
       "    </tr>\n",
       "    <tr>\n",
       "      <th>Latitud</th>\n",
       "      <td>41.392</td>\n",
       "      <td>41.392</td>\n",
       "      <td>41.392</td>\n",
       "      <td>41.392</td>\n",
       "    </tr>\n",
       "    <tr>\n",
       "      <th>Tipus_accident</th>\n",
       "      <td>Col.lisió lateral</td>\n",
       "      <td>Col.lisió lateral</td>\n",
       "      <td>Col.lisió lateral</td>\n",
       "      <td>Col.lisió lateral</td>\n",
       "    </tr>\n",
       "    <tr>\n",
       "      <th>Causa_mediata</th>\n",
       "      <td>No hi ha causa mediata</td>\n",
       "      <td>No hi ha causa mediata</td>\n",
       "      <td>No hi ha causa mediata</td>\n",
       "      <td>No hi ha causa mediata</td>\n",
       "    </tr>\n",
       "    <tr>\n",
       "      <th>Descripcio_tipus_vehicle</th>\n",
       "      <td>Motocicleta</td>\n",
       "      <td>Turismo</td>\n",
       "      <td>Turismo</td>\n",
       "      <td>Turismo</td>\n",
       "    </tr>\n",
       "    <tr>\n",
       "      <th>Descripcio_model</th>\n",
       "      <td>Beverly</td>\n",
       "      <td>A4</td>\n",
       "      <td>323</td>\n",
       "      <td>IBIZA</td>\n",
       "    </tr>\n",
       "    <tr>\n",
       "      <th>Descripcio_marca</th>\n",
       "      <td>PIAGGIO</td>\n",
       "      <td>AUDI</td>\n",
       "      <td>BMW</td>\n",
       "      <td>SEAT</td>\n",
       "    </tr>\n",
       "    <tr>\n",
       "      <th>Descripcio_color</th>\n",
       "      <td>Negre</td>\n",
       "      <td>Negre</td>\n",
       "      <td>Blau</td>\n",
       "      <td>Blanc</td>\n",
       "    </tr>\n",
       "  </tbody>\n",
       "</table>\n",
       "</div>"
      ],
      "text/plain": [
       "                                            10310                   10311  \\\n",
       "Codi_expedient                        2014S005559             2014S005559   \n",
       "Codi_districte                                  2                       2   \n",
       "Nom_districte                            Eixample                Eixample   \n",
       "Codi_barri                                 24-2-7                  24-2-7   \n",
       "Nom_barri                  la Dreta de l'Eixample  la Dreta de l'Eixample   \n",
       "Codi_carrer                                 18505                   18505   \n",
       "Nom_carrer                                  Aragó                   Aragó   \n",
       "Num_postal                              0225 0225               0225 0225   \n",
       "Dia_setmana                              Diumenge                Diumenge   \n",
       "ID_Dia_setmana                                  7                       7   \n",
       "Tipus_dia                                 Laboral                 Laboral   \n",
       "Any                                          2014                    2014   \n",
       "Mes                                             7                       7   \n",
       "Nom_mes                                    Juliol                  Juliol   \n",
       "Dia_de_mes                                     27                      27   \n",
       "Hora_de_dia                                     1                       1   \n",
       "Torn                                          Nit                     Nit   \n",
       "Descripcio_causa_vianant                      NaN                     NaN   \n",
       "Numero_morts                                    0                       0   \n",
       "Numero_lesionats_lleus                          1                       1   \n",
       "Numero_lesionats_greus                          0                       0   \n",
       "Numero_victimes                                 1                       1   \n",
       "Numero_vehicles_implicats                       4                       4   \n",
       "Longitud                                  2.16299                 2.16299   \n",
       "Latitud                                    41.392                  41.392   \n",
       "Tipus_accident                  Col.lisió lateral       Col.lisió lateral   \n",
       "Causa_mediata              No hi ha causa mediata  No hi ha causa mediata   \n",
       "Descripcio_tipus_vehicle              Motocicleta                 Turismo   \n",
       "Descripcio_model                          Beverly                      A4   \n",
       "Descripcio_marca                          PIAGGIO                    AUDI   \n",
       "Descripcio_color                            Negre                   Negre   \n",
       "\n",
       "                                            10312                   10313  \n",
       "Codi_expedient                        2014S005559             2014S005559  \n",
       "Codi_districte                                  2                       2  \n",
       "Nom_districte                            Eixample                Eixample  \n",
       "Codi_barri                                 24-2-7                  24-2-7  \n",
       "Nom_barri                  la Dreta de l'Eixample  la Dreta de l'Eixample  \n",
       "Codi_carrer                                 18505                   18505  \n",
       "Nom_carrer                                  Aragó                   Aragó  \n",
       "Num_postal                              0225 0225               0225 0225  \n",
       "Dia_setmana                              Diumenge                Diumenge  \n",
       "ID_Dia_setmana                                  7                       7  \n",
       "Tipus_dia                                 Laboral                 Laboral  \n",
       "Any                                          2014                    2014  \n",
       "Mes                                             7                       7  \n",
       "Nom_mes                                    Juliol                  Juliol  \n",
       "Dia_de_mes                                     27                      27  \n",
       "Hora_de_dia                                     1                       1  \n",
       "Torn                                          Nit                     Nit  \n",
       "Descripcio_causa_vianant                      NaN                     NaN  \n",
       "Numero_morts                                    0                       0  \n",
       "Numero_lesionats_lleus                          1                       1  \n",
       "Numero_lesionats_greus                          0                       0  \n",
       "Numero_victimes                                 1                       1  \n",
       "Numero_vehicles_implicats                       4                       4  \n",
       "Longitud                                  2.16299                 2.16299  \n",
       "Latitud                                    41.392                  41.392  \n",
       "Tipus_accident                  Col.lisió lateral       Col.lisió lateral  \n",
       "Causa_mediata              No hi ha causa mediata  No hi ha causa mediata  \n",
       "Descripcio_tipus_vehicle                  Turismo                 Turismo  \n",
       "Descripcio_model                              323                   IBIZA  \n",
       "Descripcio_marca                              BMW                    SEAT  \n",
       "Descripcio_color                             Blau                   Blanc  "
      ]
     },
     "execution_count": 276,
     "metadata": {},
     "output_type": "execute_result"
    }
   ],
   "source": [
    "df_14[df_14['Codi_expedient']=='2014S005559'].T"
   ]
  },
  {
   "cell_type": "code",
   "execution_count": 277,
   "metadata": {},
   "outputs": [
    {
     "data": {
      "text/html": [
       "<div>\n",
       "<style scoped>\n",
       "    .dataframe tbody tr th:only-of-type {\n",
       "        vertical-align: middle;\n",
       "    }\n",
       "\n",
       "    .dataframe tbody tr th {\n",
       "        vertical-align: top;\n",
       "    }\n",
       "\n",
       "    .dataframe thead th {\n",
       "        text-align: right;\n",
       "    }\n",
       "</style>\n",
       "<table border=\"1\" class=\"dataframe\">\n",
       "  <thead>\n",
       "    <tr style=\"text-align: right;\">\n",
       "      <th></th>\n",
       "      <th>Codi_expedient</th>\n",
       "      <th>Codi_districte</th>\n",
       "      <th>Nom_districte</th>\n",
       "      <th>Codi_barri</th>\n",
       "      <th>Nom_barri</th>\n",
       "      <th>Codi_carrer</th>\n",
       "      <th>Nom_carrer</th>\n",
       "      <th>Num_postal</th>\n",
       "      <th>Dia_setmana</th>\n",
       "      <th>ID_Dia_setmana</th>\n",
       "      <th>...</th>\n",
       "      <th>Numero_vehicles_implicats</th>\n",
       "      <th>Longitud</th>\n",
       "      <th>Latitud</th>\n",
       "      <th>Tipus_accident</th>\n",
       "      <th>Causa_mediata</th>\n",
       "      <th>Descripcio_causa_vianant</th>\n",
       "      <th>Descripcio_tipus_vehicle</th>\n",
       "      <th>Descripcio_model</th>\n",
       "      <th>Descripcio_marca</th>\n",
       "      <th>Descripcio_color</th>\n",
       "    </tr>\n",
       "  </thead>\n",
       "  <tbody>\n",
       "    <tr>\n",
       "      <th>0</th>\n",
       "      <td>2019S000001</td>\n",
       "      <td>5</td>\n",
       "      <td>Sarrià-Sant Gervasi</td>\n",
       "      <td>26</td>\n",
       "      <td>Sant Gervasi - Galvany</td>\n",
       "      <td>144601</td>\n",
       "      <td>Diagonal / Augusta</td>\n",
       "      <td>0482 0482</td>\n",
       "      <td>Dimarts</td>\n",
       "      <td>Dm</td>\n",
       "      <td>...</td>\n",
       "      <td>1</td>\n",
       "      <td>2.155236</td>\n",
       "      <td>41.395744</td>\n",
       "      <td>Atropellament</td>\n",
       "      <td>No hi ha causa mediata</td>\n",
       "      <td>No és causa del  vianant</td>\n",
       "      <td>Turisme</td>\n",
       "      <td>A3</td>\n",
       "      <td>AUDI</td>\n",
       "      <td>Gris</td>\n",
       "    </tr>\n",
       "    <tr>\n",
       "      <th>1</th>\n",
       "      <td>2019S000002</td>\n",
       "      <td>9</td>\n",
       "      <td>Sant Andreu</td>\n",
       "      <td>62</td>\n",
       "      <td>el Congrés i els Indians</td>\n",
       "      <td>102907</td>\n",
       "      <td>Felip II / Congrés Eucarístic</td>\n",
       "      <td>9999 9999</td>\n",
       "      <td>Dimarts</td>\n",
       "      <td>Dm</td>\n",
       "      <td>...</td>\n",
       "      <td>2</td>\n",
       "      <td>2.179990</td>\n",
       "      <td>41.425361</td>\n",
       "      <td>Col.lisió frontal</td>\n",
       "      <td>No hi ha causa mediata</td>\n",
       "      <td>No és causa del  vianant</td>\n",
       "      <td>Ciclomotor</td>\n",
       "      <td>SENDA</td>\n",
       "      <td>DERBI</td>\n",
       "      <td>Negre</td>\n",
       "    </tr>\n",
       "    <tr>\n",
       "      <th>2</th>\n",
       "      <td>2019S000002</td>\n",
       "      <td>9</td>\n",
       "      <td>Sant Andreu</td>\n",
       "      <td>62</td>\n",
       "      <td>el Congrés i els Indians</td>\n",
       "      <td>102907</td>\n",
       "      <td>Felip II / Congrés Eucarístic</td>\n",
       "      <td>9999 9999</td>\n",
       "      <td>Dimarts</td>\n",
       "      <td>Dm</td>\n",
       "      <td>...</td>\n",
       "      <td>2</td>\n",
       "      <td>2.179990</td>\n",
       "      <td>41.425361</td>\n",
       "      <td>Col.lisió frontal</td>\n",
       "      <td>No hi ha causa mediata</td>\n",
       "      <td>No és causa del  vianant</td>\n",
       "      <td>Turisme</td>\n",
       "      <td>IBIZA</td>\n",
       "      <td>SEAT</td>\n",
       "      <td>Blau</td>\n",
       "    </tr>\n",
       "    <tr>\n",
       "      <th>3</th>\n",
       "      <td>2019S000003</td>\n",
       "      <td>10</td>\n",
       "      <td>Sant Martí</td>\n",
       "      <td>66</td>\n",
       "      <td>el Parc i la Llacuna del Poblenou</td>\n",
       "      <td>242906</td>\n",
       "      <td>Pallars</td>\n",
       "      <td>0111 0113</td>\n",
       "      <td>Dimarts</td>\n",
       "      <td>Dm</td>\n",
       "      <td>...</td>\n",
       "      <td>1</td>\n",
       "      <td>2.191712</td>\n",
       "      <td>41.396887</td>\n",
       "      <td>Atropellament</td>\n",
       "      <td>No hi ha causa mediata</td>\n",
       "      <td>Creuar per fora pas de vianants</td>\n",
       "      <td>Taxi</td>\n",
       "      <td>TOYOTA PRI</td>\n",
       "      <td>TOYOTA</td>\n",
       "      <td>Negre/Groc</td>\n",
       "    </tr>\n",
       "    <tr>\n",
       "      <th>4</th>\n",
       "      <td>2019S000004</td>\n",
       "      <td>6</td>\n",
       "      <td>Gràcia</td>\n",
       "      <td>32</td>\n",
       "      <td>el Camp d'en Grassot i Gràcia Nova</td>\n",
       "      <td>228803</td>\n",
       "      <td>Taxdirt / Nogués</td>\n",
       "      <td>0054 0054</td>\n",
       "      <td>Dimarts</td>\n",
       "      <td>Dm</td>\n",
       "      <td>...</td>\n",
       "      <td>2</td>\n",
       "      <td>2.165429</td>\n",
       "      <td>41.408772</td>\n",
       "      <td>Col.lisió fronto-lateral</td>\n",
       "      <td>No hi ha causa mediata</td>\n",
       "      <td>No és causa del  vianant</td>\n",
       "      <td>Taxi</td>\n",
       "      <td>OCTAVIA</td>\n",
       "      <td>SKODA</td>\n",
       "      <td>Negre/Groc</td>\n",
       "    </tr>\n",
       "  </tbody>\n",
       "</table>\n",
       "<p>5 rows × 31 columns</p>\n",
       "</div>"
      ],
      "text/plain": [
       "  Codi_expedient  Codi_districte        Nom_districte  Codi_barri  \\\n",
       "0    2019S000001               5  Sarrià-Sant Gervasi          26   \n",
       "1    2019S000002               9          Sant Andreu          62   \n",
       "2    2019S000002               9          Sant Andreu          62   \n",
       "3    2019S000003              10           Sant Martí          66   \n",
       "4    2019S000004               6               Gràcia          32   \n",
       "\n",
       "                            Nom_barri  Codi_carrer  \\\n",
       "0              Sant Gervasi - Galvany       144601   \n",
       "1            el Congrés i els Indians       102907   \n",
       "2            el Congrés i els Indians       102907   \n",
       "3   el Parc i la Llacuna del Poblenou       242906   \n",
       "4  el Camp d'en Grassot i Gràcia Nova       228803   \n",
       "\n",
       "                      Nom_carrer Num_postal Dia_setmana ID_Dia_setmana  ...  \\\n",
       "0             Diagonal / Augusta  0482 0482     Dimarts             Dm  ...   \n",
       "1  Felip II / Congrés Eucarístic  9999 9999     Dimarts             Dm  ...   \n",
       "2  Felip II / Congrés Eucarístic  9999 9999     Dimarts             Dm  ...   \n",
       "3                        Pallars  0111 0113     Dimarts             Dm  ...   \n",
       "4               Taxdirt / Nogués  0054 0054     Dimarts             Dm  ...   \n",
       "\n",
       "  Numero_vehicles_implicats  Longitud    Latitud            Tipus_accident  \\\n",
       "0                         1  2.155236  41.395744             Atropellament   \n",
       "1                         2  2.179990  41.425361         Col.lisió frontal   \n",
       "2                         2  2.179990  41.425361         Col.lisió frontal   \n",
       "3                         1  2.191712  41.396887             Atropellament   \n",
       "4                         2  2.165429  41.408772  Col.lisió fronto-lateral   \n",
       "\n",
       "            Causa_mediata         Descripcio_causa_vianant  \\\n",
       "0  No hi ha causa mediata         No és causa del  vianant   \n",
       "1  No hi ha causa mediata         No és causa del  vianant   \n",
       "2  No hi ha causa mediata         No és causa del  vianant   \n",
       "3  No hi ha causa mediata  Creuar per fora pas de vianants   \n",
       "4  No hi ha causa mediata         No és causa del  vianant   \n",
       "\n",
       "  Descripcio_tipus_vehicle  Descripcio_model  Descripcio_marca  \\\n",
       "0                  Turisme                A3              AUDI   \n",
       "1               Ciclomotor             SENDA             DERBI   \n",
       "2                  Turisme             IBIZA              SEAT   \n",
       "3                     Taxi        TOYOTA PRI            TOYOTA   \n",
       "4                     Taxi           OCTAVIA             SKODA   \n",
       "\n",
       "   Descripcio_color  \n",
       "0              Gris  \n",
       "1             Negre  \n",
       "2              Blau  \n",
       "3        Negre/Groc  \n",
       "4        Negre/Groc  \n",
       "\n",
       "[5 rows x 31 columns]"
      ]
     },
     "execution_count": 277,
     "metadata": {},
     "output_type": "execute_result"
    }
   ],
   "source": [
    "df_19.head()"
   ]
  },
  {
   "cell_type": "code",
   "execution_count": 278,
   "metadata": {},
   "outputs": [
    {
     "name": "stdout",
     "output_type": "stream",
     "text": [
      "(18501, 31)\n",
      "(18562, 31)\n",
      "(19289, 31)\n",
      "(18886, 31)\n",
      "(18429, 31)\n",
      "(18014, 31)\n"
     ]
    }
   ],
   "source": [
    "print(df_19.shape)\n",
    "print(df_18.shape)\n",
    "print(df_17.shape)\n",
    "print(df_16.shape)\n",
    "print(df_15.shape)\n",
    "print(df_14.shape)"
   ]
  },
  {
   "cell_type": "code",
   "execution_count": 279,
   "metadata": {},
   "outputs": [
    {
     "data": {
      "text/plain": [
       "111681"
      ]
     },
     "execution_count": 279,
     "metadata": {},
     "output_type": "execute_result"
    }
   ],
   "source": [
    "df_19.shape[0]+df_18.shape[0]+df_17.shape[0]+df_16.shape[0]+df_15.shape[0]+df_14.shape[0]"
   ]
  },
  {
   "cell_type": "code",
   "execution_count": 280,
   "metadata": {},
   "outputs": [
    {
     "data": {
      "text/plain": [
       "(111681, 31)"
      ]
     },
     "execution_count": 280,
     "metadata": {},
     "output_type": "execute_result"
    }
   ],
   "source": [
    "df = pd.concat([df_19,df_18,df_17,df_16,df_15,df_14], axis = 0, ignore_index = True)\n",
    "df.shape"
   ]
  },
  {
   "cell_type": "code",
   "execution_count": 281,
   "metadata": {},
   "outputs": [
    {
     "data": {
      "text/plain": [
       "2014S002560    4\n",
       "2017S001290    4\n",
       "2015S006511    4\n",
       "2016S003080    4\n",
       "2015S009990    4\n",
       "              ..\n",
       "2019S003090    1\n",
       "2018S002413    1\n",
       "2017S009354    1\n",
       "2018S001576    1\n",
       "2016S006999    1\n",
       "Name: Codi_expedient, Length: 59384, dtype: int64"
      ]
     },
     "execution_count": 281,
     "metadata": {},
     "output_type": "execute_result"
    }
   ],
   "source": [
    "df.Codi_expedient.value_counts()"
   ]
  },
  {
   "cell_type": "code",
   "execution_count": 282,
   "metadata": {},
   "outputs": [
    {
     "name": "stderr",
     "output_type": "stream",
     "text": [
      "<ipython-input-282-612275283014>:1: SettingWithCopyWarning: \n",
      "A value is trying to be set on a copy of a slice from a DataFrame\n",
      "\n",
      "See the caveats in the documentation: https://pandas.pydata.org/pandas-docs/stable/user_guide/indexing.html#returning-a-view-versus-a-copy\n",
      "  df['Tipus_dia'][(df['Mes'] == 1)&(df['Dia_de_mes']== 1)] = 'festivo_nacional'\n",
      "<ipython-input-282-612275283014>:2: SettingWithCopyWarning: \n",
      "A value is trying to be set on a copy of a slice from a DataFrame\n",
      "\n",
      "See the caveats in the documentation: https://pandas.pydata.org/pandas-docs/stable/user_guide/indexing.html#returning-a-view-versus-a-copy\n",
      "  df['Tipus_dia'][(df['Mes'] == 1)&(df['Dia_de_mes']==6)] = 'festivo_nacional'\n",
      "<ipython-input-282-612275283014>:3: SettingWithCopyWarning: \n",
      "A value is trying to be set on a copy of a slice from a DataFrame\n",
      "\n",
      "See the caveats in the documentation: https://pandas.pydata.org/pandas-docs/stable/user_guide/indexing.html#returning-a-view-versus-a-copy\n",
      "  df['Tipus_dia'][(df['Mes'] == 4)&(df['Dia_de_mes']==19)] = 'festivo_nacional'\n",
      "<ipython-input-282-612275283014>:4: SettingWithCopyWarning: \n",
      "A value is trying to be set on a copy of a slice from a DataFrame\n",
      "\n",
      "See the caveats in the documentation: https://pandas.pydata.org/pandas-docs/stable/user_guide/indexing.html#returning-a-view-versus-a-copy\n",
      "  df['Tipus_dia'][(df['Mes'] == 5)&(df['Dia_de_mes']==1)] = 'festivo_nacional'\n",
      "<ipython-input-282-612275283014>:5: SettingWithCopyWarning: \n",
      "A value is trying to be set on a copy of a slice from a DataFrame\n",
      "\n",
      "See the caveats in the documentation: https://pandas.pydata.org/pandas-docs/stable/user_guide/indexing.html#returning-a-view-versus-a-copy\n",
      "  df['Tipus_dia'][(df['Mes'] == 8)&(df['Dia_de_mes']==15)] = 'festivo_nacional'\n",
      "<ipython-input-282-612275283014>:6: SettingWithCopyWarning: \n",
      "A value is trying to be set on a copy of a slice from a DataFrame\n",
      "\n",
      "See the caveats in the documentation: https://pandas.pydata.org/pandas-docs/stable/user_guide/indexing.html#returning-a-view-versus-a-copy\n",
      "  df['Tipus_dia'][(df['Mes'] == 10)&(df['Dia_de_mes']==12)] = 'festivo_nacional'\n",
      "<ipython-input-282-612275283014>:7: SettingWithCopyWarning: \n",
      "A value is trying to be set on a copy of a slice from a DataFrame\n",
      "\n",
      "See the caveats in the documentation: https://pandas.pydata.org/pandas-docs/stable/user_guide/indexing.html#returning-a-view-versus-a-copy\n",
      "  df['Tipus_dia'][(df['Mes'] == 11)&(df['Dia_de_mes']==1)] = 'festivo_nacional'\n",
      "<ipython-input-282-612275283014>:8: SettingWithCopyWarning: \n",
      "A value is trying to be set on a copy of a slice from a DataFrame\n",
      "\n",
      "See the caveats in the documentation: https://pandas.pydata.org/pandas-docs/stable/user_guide/indexing.html#returning-a-view-versus-a-copy\n",
      "  df['Tipus_dia'][(df['Mes'] == 12)&(df['Dia_de_mes']==6)] = 'festivo_nacional'\n",
      "<ipython-input-282-612275283014>:9: SettingWithCopyWarning: \n",
      "A value is trying to be set on a copy of a slice from a DataFrame\n",
      "\n",
      "See the caveats in the documentation: https://pandas.pydata.org/pandas-docs/stable/user_guide/indexing.html#returning-a-view-versus-a-copy\n",
      "  df['Tipus_dia'][(df['Mes'] == 12)&(df['Dia_de_mes']==8)] = 'festivo_nacional'\n",
      "<ipython-input-282-612275283014>:10: SettingWithCopyWarning: \n",
      "A value is trying to be set on a copy of a slice from a DataFrame\n",
      "\n",
      "See the caveats in the documentation: https://pandas.pydata.org/pandas-docs/stable/user_guide/indexing.html#returning-a-view-versus-a-copy\n",
      "  df['Tipus_dia'][(df['Mes'] == 12)&(df['Dia_de_mes']==25)] = 'festivo_nacional'\n"
     ]
    }
   ],
   "source": [
    "df['Tipus_dia'][(df['Mes'] == 1)&(df['Dia_de_mes']== 1)] = 'festivo_nacional'\n",
    "df['Tipus_dia'][(df['Mes'] == 1)&(df['Dia_de_mes']==6)] = 'festivo_nacional'\n",
    "df['Tipus_dia'][(df['Mes'] == 4)&(df['Dia_de_mes']==19)] = 'festivo_nacional'\n",
    "df['Tipus_dia'][(df['Mes'] == 5)&(df['Dia_de_mes']==1)] = 'festivo_nacional'\n",
    "df['Tipus_dia'][(df['Mes'] == 8)&(df['Dia_de_mes']==15)] = 'festivo_nacional'\n",
    "df['Tipus_dia'][(df['Mes'] == 10)&(df['Dia_de_mes']==12)] = 'festivo_nacional'\n",
    "df['Tipus_dia'][(df['Mes'] == 11)&(df['Dia_de_mes']==1)] = 'festivo_nacional'\n",
    "df['Tipus_dia'][(df['Mes'] == 12)&(df['Dia_de_mes']==6)] = 'festivo_nacional'\n",
    "df['Tipus_dia'][(df['Mes'] == 12)&(df['Dia_de_mes']==8)] = 'festivo_nacional'\n",
    "df['Tipus_dia'][(df['Mes'] == 12)&(df['Dia_de_mes']==25)] = 'festivo_nacional'"
   ]
  },
  {
   "cell_type": "code",
   "execution_count": 283,
   "metadata": {},
   "outputs": [
    {
     "name": "stderr",
     "output_type": "stream",
     "text": [
      "<ipython-input-283-ccce583b6cb8>:1: SettingWithCopyWarning: \n",
      "A value is trying to be set on a copy of a slice from a DataFrame\n",
      "\n",
      "See the caveats in the documentation: https://pandas.pydata.org/pandas-docs/stable/user_guide/indexing.html#returning-a-view-versus-a-copy\n",
      "  df['Tipus_dia'][(df['Mes'] == 4)&(df['Dia_de_mes']==22)&(df['Any']==2019)] = 'festivo_regional'\n",
      "<ipython-input-283-ccce583b6cb8>:2: SettingWithCopyWarning: \n",
      "A value is trying to be set on a copy of a slice from a DataFrame\n",
      "\n",
      "See the caveats in the documentation: https://pandas.pydata.org/pandas-docs/stable/user_guide/indexing.html#returning-a-view-versus-a-copy\n",
      "  df['Tipus_dia'][(df['Mes'] == 6)&(df['Dia_de_mes']==24)&(df['Any']==2019)] = 'festivo_regional'\n",
      "<ipython-input-283-ccce583b6cb8>:3: SettingWithCopyWarning: \n",
      "A value is trying to be set on a copy of a slice from a DataFrame\n",
      "\n",
      "See the caveats in the documentation: https://pandas.pydata.org/pandas-docs/stable/user_guide/indexing.html#returning-a-view-versus-a-copy\n",
      "  df['Tipus_dia'][(df['Mes'] == 9)&(df['Dia_de_mes']==11)&(df['Any']==2019)] = 'festivo_regional'\n",
      "<ipython-input-283-ccce583b6cb8>:4: SettingWithCopyWarning: \n",
      "A value is trying to be set on a copy of a slice from a DataFrame\n",
      "\n",
      "See the caveats in the documentation: https://pandas.pydata.org/pandas-docs/stable/user_guide/indexing.html#returning-a-view-versus-a-copy\n",
      "  df['Tipus_dia'][(df['Mes'] == 12)&(df['Dia_de_mes']==26)&(df['Any']==2019)] = 'festivo_regional'\n"
     ]
    }
   ],
   "source": [
    "df['Tipus_dia'][(df['Mes'] == 4)&(df['Dia_de_mes']==22)&(df['Any']==2019)] = 'festivo_regional'\n",
    "df['Tipus_dia'][(df['Mes'] == 6)&(df['Dia_de_mes']==24)&(df['Any']==2019)] = 'festivo_regional'\n",
    "df['Tipus_dia'][(df['Mes'] == 9)&(df['Dia_de_mes']==11)&(df['Any']==2019)] = 'festivo_regional'\n",
    "df['Tipus_dia'][(df['Mes'] == 12)&(df['Dia_de_mes']==26)&(df['Any']==2019)] = 'festivo_regional'"
   ]
  },
  {
   "cell_type": "code",
   "execution_count": 284,
   "metadata": {},
   "outputs": [
    {
     "name": "stderr",
     "output_type": "stream",
     "text": [
      "<ipython-input-284-bea0e31b0730>:1: SettingWithCopyWarning: \n",
      "A value is trying to be set on a copy of a slice from a DataFrame\n",
      "\n",
      "See the caveats in the documentation: https://pandas.pydata.org/pandas-docs/stable/user_guide/indexing.html#returning-a-view-versus-a-copy\n",
      "  df['Tipus_dia'][(df['Mes'] == 6)&(df['Dia_de_mes']==10)&(df['Any']==2019)] = 'festivo_local'\n",
      "<ipython-input-284-bea0e31b0730>:2: SettingWithCopyWarning: \n",
      "A value is trying to be set on a copy of a slice from a DataFrame\n",
      "\n",
      "See the caveats in the documentation: https://pandas.pydata.org/pandas-docs/stable/user_guide/indexing.html#returning-a-view-versus-a-copy\n",
      "  df['Tipus_dia'][(df['Mes'] == 9)&(df['Dia_de_mes']==24)&(df['Any']==2019)] = 'festivo_local'\n"
     ]
    }
   ],
   "source": [
    "df['Tipus_dia'][(df['Mes'] == 6)&(df['Dia_de_mes']==10)&(df['Any']==2019)] = 'festivo_local'\n",
    "df['Tipus_dia'][(df['Mes'] == 9)&(df['Dia_de_mes']==24)&(df['Any']==2019)] = 'festivo_local'"
   ]
  },
  {
   "cell_type": "code",
   "execution_count": null,
   "metadata": {},
   "outputs": [],
   "source": []
  },
  {
   "cell_type": "code",
   "execution_count": 285,
   "metadata": {},
   "outputs": [
    {
     "name": "stderr",
     "output_type": "stream",
     "text": [
      "<ipython-input-285-5dba808ff83c>:1: SettingWithCopyWarning: \n",
      "A value is trying to be set on a copy of a slice from a DataFrame\n",
      "\n",
      "See the caveats in the documentation: https://pandas.pydata.org/pandas-docs/stable/user_guide/indexing.html#returning-a-view-versus-a-copy\n",
      "  df['Tipus_dia'][(df['Mes'] == 4)&(df['Dia_de_mes']==2)&(df['Any']==2018)] = 'festivo_regional'\n",
      "<ipython-input-285-5dba808ff83c>:2: SettingWithCopyWarning: \n",
      "A value is trying to be set on a copy of a slice from a DataFrame\n",
      "\n",
      "See the caveats in the documentation: https://pandas.pydata.org/pandas-docs/stable/user_guide/indexing.html#returning-a-view-versus-a-copy\n",
      "  df['Tipus_dia'][(df['Mes'] == 9)&(df['Dia_de_mes']==11)&(df['Any']==2018)] = 'festivo_regional'\n",
      "<ipython-input-285-5dba808ff83c>:3: SettingWithCopyWarning: \n",
      "A value is trying to be set on a copy of a slice from a DataFrame\n",
      "\n",
      "See the caveats in the documentation: https://pandas.pydata.org/pandas-docs/stable/user_guide/indexing.html#returning-a-view-versus-a-copy\n",
      "  df['Tipus_dia'][(df['Mes'] == 12)&(df['Dia_de_mes']==26)&(df['Any']==2018)] = 'festivo_regional'\n"
     ]
    }
   ],
   "source": [
    "df['Tipus_dia'][(df['Mes'] == 4)&(df['Dia_de_mes']==2)&(df['Any']==2018)] = 'festivo_regional'\n",
    "df['Tipus_dia'][(df['Mes'] == 9)&(df['Dia_de_mes']==11)&(df['Any']==2018)] = 'festivo_regional'\n",
    "df['Tipus_dia'][(df['Mes'] == 12)&(df['Dia_de_mes']==26)&(df['Any']==2018)] = 'festivo_regional'"
   ]
  },
  {
   "cell_type": "code",
   "execution_count": 286,
   "metadata": {},
   "outputs": [
    {
     "name": "stderr",
     "output_type": "stream",
     "text": [
      "<ipython-input-286-edee98952500>:1: SettingWithCopyWarning: \n",
      "A value is trying to be set on a copy of a slice from a DataFrame\n",
      "\n",
      "See the caveats in the documentation: https://pandas.pydata.org/pandas-docs/stable/user_guide/indexing.html#returning-a-view-versus-a-copy\n",
      "  df['Tipus_dia'][(df['Mes'] == 5)&(df['Dia_de_mes']==21)&(df['Any']==2018)] = 'festivo_local'\n",
      "<ipython-input-286-edee98952500>:2: SettingWithCopyWarning: \n",
      "A value is trying to be set on a copy of a slice from a DataFrame\n",
      "\n",
      "See the caveats in the documentation: https://pandas.pydata.org/pandas-docs/stable/user_guide/indexing.html#returning-a-view-versus-a-copy\n",
      "  df['Tipus_dia'][(df['Mes'] == 9)&(df['Dia_de_mes']==24)&(df['Any']==2018)] = 'festivo_local'\n"
     ]
    }
   ],
   "source": [
    "df['Tipus_dia'][(df['Mes'] == 5)&(df['Dia_de_mes']==21)&(df['Any']==2018)] = 'festivo_local'\n",
    "df['Tipus_dia'][(df['Mes'] == 9)&(df['Dia_de_mes']==24)&(df['Any']==2018)] = 'festivo_local'"
   ]
  },
  {
   "cell_type": "code",
   "execution_count": null,
   "metadata": {},
   "outputs": [],
   "source": []
  },
  {
   "cell_type": "code",
   "execution_count": 287,
   "metadata": {},
   "outputs": [
    {
     "name": "stderr",
     "output_type": "stream",
     "text": [
      "<ipython-input-287-0d63a5fa552c>:1: SettingWithCopyWarning: \n",
      "A value is trying to be set on a copy of a slice from a DataFrame\n",
      "\n",
      "See the caveats in the documentation: https://pandas.pydata.org/pandas-docs/stable/user_guide/indexing.html#returning-a-view-versus-a-copy\n",
      "  df['Tipus_dia'][(df['Mes'] == 4)&(df['Dia_de_mes']==17)&(df['Any']==2017)] = 'festivo_regional'\n",
      "<ipython-input-287-0d63a5fa552c>:2: SettingWithCopyWarning: \n",
      "A value is trying to be set on a copy of a slice from a DataFrame\n",
      "\n",
      "See the caveats in the documentation: https://pandas.pydata.org/pandas-docs/stable/user_guide/indexing.html#returning-a-view-versus-a-copy\n",
      "  df['Tipus_dia'][(df['Mes'] == 9)&(df['Dia_de_mes']==11)&(df['Any']==2017)] = 'festivo_regional'\n",
      "<ipython-input-287-0d63a5fa552c>:3: SettingWithCopyWarning: \n",
      "A value is trying to be set on a copy of a slice from a DataFrame\n",
      "\n",
      "See the caveats in the documentation: https://pandas.pydata.org/pandas-docs/stable/user_guide/indexing.html#returning-a-view-versus-a-copy\n",
      "  df['Tipus_dia'][(df['Mes'] == 12)&(df['Dia_de_mes']==26)&(df['Any']==2017)] = 'festivo_regional'\n"
     ]
    }
   ],
   "source": [
    "df['Tipus_dia'][(df['Mes'] == 4)&(df['Dia_de_mes']==17)&(df['Any']==2017)] = 'festivo_regional'\n",
    "df['Tipus_dia'][(df['Mes'] == 9)&(df['Dia_de_mes']==11)&(df['Any']==2017)] = 'festivo_regional'\n",
    "df['Tipus_dia'][(df['Mes'] == 12)&(df['Dia_de_mes']==26)&(df['Any']==2017)] = 'festivo_regional'"
   ]
  },
  {
   "cell_type": "code",
   "execution_count": 288,
   "metadata": {},
   "outputs": [
    {
     "name": "stderr",
     "output_type": "stream",
     "text": [
      "<ipython-input-288-5a601bf61804>:1: SettingWithCopyWarning: \n",
      "A value is trying to be set on a copy of a slice from a DataFrame\n",
      "\n",
      "See the caveats in the documentation: https://pandas.pydata.org/pandas-docs/stable/user_guide/indexing.html#returning-a-view-versus-a-copy\n",
      "  df['Tipus_dia'][(df['Mes'] == 6)&(df['Dia_de_mes']==5)&(df['Any']==2017)] = 'festivo_local'\n",
      "<ipython-input-288-5a601bf61804>:2: SettingWithCopyWarning: \n",
      "A value is trying to be set on a copy of a slice from a DataFrame\n",
      "\n",
      "See the caveats in the documentation: https://pandas.pydata.org/pandas-docs/stable/user_guide/indexing.html#returning-a-view-versus-a-copy\n",
      "  df['Tipus_dia'][(df['Mes'] == 9)&(df['Dia_de_mes']==25)&(df['Any']==2017)] = 'festivo_local'\n"
     ]
    }
   ],
   "source": [
    "df['Tipus_dia'][(df['Mes'] == 6)&(df['Dia_de_mes']==5)&(df['Any']==2017)] = 'festivo_local'\n",
    "df['Tipus_dia'][(df['Mes'] == 9)&(df['Dia_de_mes']==25)&(df['Any']==2017)] = 'festivo_local'"
   ]
  },
  {
   "cell_type": "code",
   "execution_count": null,
   "metadata": {},
   "outputs": [],
   "source": []
  },
  {
   "cell_type": "code",
   "execution_count": 289,
   "metadata": {},
   "outputs": [
    {
     "name": "stderr",
     "output_type": "stream",
     "text": [
      "<ipython-input-289-be05a495a9a0>:1: SettingWithCopyWarning: \n",
      "A value is trying to be set on a copy of a slice from a DataFrame\n",
      "\n",
      "See the caveats in the documentation: https://pandas.pydata.org/pandas-docs/stable/user_guide/indexing.html#returning-a-view-versus-a-copy\n",
      "  df['Tipus_dia'][(df['Mes'] == 3)&(df['Dia_de_mes']==28)&(df['Any']==2016)] = 'festivo_regional'\n",
      "<ipython-input-289-be05a495a9a0>:2: SettingWithCopyWarning: \n",
      "A value is trying to be set on a copy of a slice from a DataFrame\n",
      "\n",
      "See the caveats in the documentation: https://pandas.pydata.org/pandas-docs/stable/user_guide/indexing.html#returning-a-view-versus-a-copy\n",
      "  df['Tipus_dia'][(df['Mes'] == 5)&(df['Dia_de_mes']==16)&(df['Any']==2016)] = 'festivo_regional'\n",
      "<ipython-input-289-be05a495a9a0>:3: SettingWithCopyWarning: \n",
      "A value is trying to be set on a copy of a slice from a DataFrame\n",
      "\n",
      "See the caveats in the documentation: https://pandas.pydata.org/pandas-docs/stable/user_guide/indexing.html#returning-a-view-versus-a-copy\n",
      "  df['Tipus_dia'][(df['Mes'] == 6)&(df['Dia_de_mes']==24)&(df['Any']==2016)] = 'festivo_regional'\n",
      "<ipython-input-289-be05a495a9a0>:4: SettingWithCopyWarning: \n",
      "A value is trying to be set on a copy of a slice from a DataFrame\n",
      "\n",
      "See the caveats in the documentation: https://pandas.pydata.org/pandas-docs/stable/user_guide/indexing.html#returning-a-view-versus-a-copy\n",
      "  df['Tipus_dia'][(df['Mes'] == 9)&(df['Dia_de_mes']==11)&(df['Any']==2016)] = 'festivo_regional'\n",
      "<ipython-input-289-be05a495a9a0>:5: SettingWithCopyWarning: \n",
      "A value is trying to be set on a copy of a slice from a DataFrame\n",
      "\n",
      "See the caveats in the documentation: https://pandas.pydata.org/pandas-docs/stable/user_guide/indexing.html#returning-a-view-versus-a-copy\n",
      "  df['Tipus_dia'][(df['Mes'] == 12)&(df['Dia_de_mes']==26)&(df['Any']==2016)] = 'festivo_regional'\n"
     ]
    }
   ],
   "source": [
    "df['Tipus_dia'][(df['Mes'] == 3)&(df['Dia_de_mes']==28)&(df['Any']==2016)] = 'festivo_regional'\n",
    "df['Tipus_dia'][(df['Mes'] == 5)&(df['Dia_de_mes']==16)&(df['Any']==2016)] = 'festivo_regional'\n",
    "df['Tipus_dia'][(df['Mes'] == 6)&(df['Dia_de_mes']==24)&(df['Any']==2016)] = 'festivo_regional'\n",
    "df['Tipus_dia'][(df['Mes'] == 9)&(df['Dia_de_mes']==11)&(df['Any']==2016)] = 'festivo_regional'\n",
    "df['Tipus_dia'][(df['Mes'] == 12)&(df['Dia_de_mes']==26)&(df['Any']==2016)] = 'festivo_regional'"
   ]
  },
  {
   "cell_type": "code",
   "execution_count": 290,
   "metadata": {},
   "outputs": [
    {
     "name": "stderr",
     "output_type": "stream",
     "text": [
      "<ipython-input-290-aa6ad9758c0e>:1: SettingWithCopyWarning: \n",
      "A value is trying to be set on a copy of a slice from a DataFrame\n",
      "\n",
      "See the caveats in the documentation: https://pandas.pydata.org/pandas-docs/stable/user_guide/indexing.html#returning-a-view-versus-a-copy\n",
      "  df['Tipus_dia'][(df['Mes'] == 2)&(df['Dia_de_mes']==12)&(df['Any']==2016)] = 'festivo_local'\n",
      "<ipython-input-290-aa6ad9758c0e>:2: SettingWithCopyWarning: \n",
      "A value is trying to be set on a copy of a slice from a DataFrame\n",
      "\n",
      "See the caveats in the documentation: https://pandas.pydata.org/pandas-docs/stable/user_guide/indexing.html#returning-a-view-versus-a-copy\n",
      "  df['Tipus_dia'][(df['Mes'] == 9)&(df['Dia_de_mes']==24)&(df['Any']==2016)] = 'festivo_local'\n"
     ]
    }
   ],
   "source": [
    "df['Tipus_dia'][(df['Mes'] == 2)&(df['Dia_de_mes']==12)&(df['Any']==2016)] = 'festivo_local'\n",
    "df['Tipus_dia'][(df['Mes'] == 9)&(df['Dia_de_mes']==24)&(df['Any']==2016)] = 'festivo_local'"
   ]
  },
  {
   "cell_type": "code",
   "execution_count": null,
   "metadata": {},
   "outputs": [],
   "source": []
  },
  {
   "cell_type": "code",
   "execution_count": 291,
   "metadata": {},
   "outputs": [
    {
     "name": "stderr",
     "output_type": "stream",
     "text": [
      "<ipython-input-291-06c542d92aa7>:1: SettingWithCopyWarning: \n",
      "A value is trying to be set on a copy of a slice from a DataFrame\n",
      "\n",
      "See the caveats in the documentation: https://pandas.pydata.org/pandas-docs/stable/user_guide/indexing.html#returning-a-view-versus-a-copy\n",
      "  df['Tipus_dia'][(df['Mes'] == 4)&(df['Dia_de_mes']==6)&(df['Any']==2015)] = 'festivo_regional'\n",
      "<ipython-input-291-06c542d92aa7>:2: SettingWithCopyWarning: \n",
      "A value is trying to be set on a copy of a slice from a DataFrame\n",
      "\n",
      "See the caveats in the documentation: https://pandas.pydata.org/pandas-docs/stable/user_guide/indexing.html#returning-a-view-versus-a-copy\n",
      "  df['Tipus_dia'][(df['Mes'] == 6)&(df['Dia_de_mes']==24)&(df['Any']==2015)] = 'festivo_regional'\n",
      "<ipython-input-291-06c542d92aa7>:3: SettingWithCopyWarning: \n",
      "A value is trying to be set on a copy of a slice from a DataFrame\n",
      "\n",
      "See the caveats in the documentation: https://pandas.pydata.org/pandas-docs/stable/user_guide/indexing.html#returning-a-view-versus-a-copy\n",
      "  df['Tipus_dia'][(df['Mes'] == 9)&(df['Dia_de_mes']==11)&(df['Any']==2015)] = 'festivo_regional'\n",
      "<ipython-input-291-06c542d92aa7>:4: SettingWithCopyWarning: \n",
      "A value is trying to be set on a copy of a slice from a DataFrame\n",
      "\n",
      "See the caveats in the documentation: https://pandas.pydata.org/pandas-docs/stable/user_guide/indexing.html#returning-a-view-versus-a-copy\n",
      "  df['Tipus_dia'][(df['Mes'] == 12)&(df['Dia_de_mes']==26)&(df['Any']==2015)] = 'festivo_regional'\n"
     ]
    }
   ],
   "source": [
    "df['Tipus_dia'][(df['Mes'] == 4)&(df['Dia_de_mes']==6)&(df['Any']==2015)] = 'festivo_regional'\n",
    "df['Tipus_dia'][(df['Mes'] == 6)&(df['Dia_de_mes']==24)&(df['Any']==2015)] = 'festivo_regional'\n",
    "df['Tipus_dia'][(df['Mes'] == 9)&(df['Dia_de_mes']==11)&(df['Any']==2015)] = 'festivo_regional'\n",
    "df['Tipus_dia'][(df['Mes'] == 12)&(df['Dia_de_mes']==26)&(df['Any']==2015)] = 'festivo_regional'"
   ]
  },
  {
   "cell_type": "code",
   "execution_count": 292,
   "metadata": {},
   "outputs": [
    {
     "name": "stderr",
     "output_type": "stream",
     "text": [
      "<ipython-input-292-86bb32656095>:1: SettingWithCopyWarning: \n",
      "A value is trying to be set on a copy of a slice from a DataFrame\n",
      "\n",
      "See the caveats in the documentation: https://pandas.pydata.org/pandas-docs/stable/user_guide/indexing.html#returning-a-view-versus-a-copy\n",
      "  df['Tipus_dia'][(df['Mes'] == 6)&(df['Dia_de_mes']==9)&(df['Any']==2015)] = 'festivo_local'\n",
      "<ipython-input-292-86bb32656095>:2: SettingWithCopyWarning: \n",
      "A value is trying to be set on a copy of a slice from a DataFrame\n",
      "\n",
      "See the caveats in the documentation: https://pandas.pydata.org/pandas-docs/stable/user_guide/indexing.html#returning-a-view-versus-a-copy\n",
      "  df['Tipus_dia'][(df['Mes'] == 9)&(df['Dia_de_mes']==24)&(df['Any']==2015)] = 'festivo_local'\n"
     ]
    }
   ],
   "source": [
    "df['Tipus_dia'][(df['Mes'] == 6)&(df['Dia_de_mes']==9)&(df['Any']==2015)] = 'festivo_local'\n",
    "df['Tipus_dia'][(df['Mes'] == 9)&(df['Dia_de_mes']==24)&(df['Any']==2015)] = 'festivo_local'"
   ]
  },
  {
   "cell_type": "code",
   "execution_count": null,
   "metadata": {},
   "outputs": [],
   "source": []
  },
  {
   "cell_type": "code",
   "execution_count": 293,
   "metadata": {},
   "outputs": [
    {
     "name": "stderr",
     "output_type": "stream",
     "text": [
      "<ipython-input-293-46f1ecf503ea>:1: SettingWithCopyWarning: \n",
      "A value is trying to be set on a copy of a slice from a DataFrame\n",
      "\n",
      "See the caveats in the documentation: https://pandas.pydata.org/pandas-docs/stable/user_guide/indexing.html#returning-a-view-versus-a-copy\n",
      "  df['Tipus_dia'][(df['Mes'] == 4)&(df['Dia_de_mes']==21)&(df['Any']==2014)] = 'festivo_regional'\n",
      "<ipython-input-293-46f1ecf503ea>:2: SettingWithCopyWarning: \n",
      "A value is trying to be set on a copy of a slice from a DataFrame\n",
      "\n",
      "See the caveats in the documentation: https://pandas.pydata.org/pandas-docs/stable/user_guide/indexing.html#returning-a-view-versus-a-copy\n",
      "  df['Tipus_dia'][(df['Mes'] == 6)&(df['Dia_de_mes']==24)&(df['Any']==2014)] = 'festivo_regional'\n",
      "<ipython-input-293-46f1ecf503ea>:3: SettingWithCopyWarning: \n",
      "A value is trying to be set on a copy of a slice from a DataFrame\n",
      "\n",
      "See the caveats in the documentation: https://pandas.pydata.org/pandas-docs/stable/user_guide/indexing.html#returning-a-view-versus-a-copy\n",
      "  df['Tipus_dia'][(df['Mes'] == 9)&(df['Dia_de_mes']==11)&(df['Any']==2014)] = 'festivo_regional'\n",
      "<ipython-input-293-46f1ecf503ea>:4: SettingWithCopyWarning: \n",
      "A value is trying to be set on a copy of a slice from a DataFrame\n",
      "\n",
      "See the caveats in the documentation: https://pandas.pydata.org/pandas-docs/stable/user_guide/indexing.html#returning-a-view-versus-a-copy\n",
      "  df['Tipus_dia'][(df['Mes'] == 12)&(df['Dia_de_mes']==26)&(df['Any']==2014)] = 'festivo_regional'\n"
     ]
    }
   ],
   "source": [
    "df['Tipus_dia'][(df['Mes'] == 4)&(df['Dia_de_mes']==21)&(df['Any']==2014)] = 'festivo_regional'\n",
    "df['Tipus_dia'][(df['Mes'] == 6)&(df['Dia_de_mes']==24)&(df['Any']==2014)] = 'festivo_regional'\n",
    "df['Tipus_dia'][(df['Mes'] == 9)&(df['Dia_de_mes']==11)&(df['Any']==2014)] = 'festivo_regional'\n",
    "df['Tipus_dia'][(df['Mes'] == 12)&(df['Dia_de_mes']==26)&(df['Any']==2014)] = 'festivo_regional'"
   ]
  },
  {
   "cell_type": "code",
   "execution_count": 294,
   "metadata": {},
   "outputs": [
    {
     "name": "stderr",
     "output_type": "stream",
     "text": [
      "<ipython-input-294-a240ccecc454>:1: SettingWithCopyWarning: \n",
      "A value is trying to be set on a copy of a slice from a DataFrame\n",
      "\n",
      "See the caveats in the documentation: https://pandas.pydata.org/pandas-docs/stable/user_guide/indexing.html#returning-a-view-versus-a-copy\n",
      "  df['Tipus_dia'][(df['Mes'] == 6)&(df['Dia_de_mes']==1)&(df['Any']==2014)] = 'festivo_local'\n",
      "<ipython-input-294-a240ccecc454>:2: SettingWithCopyWarning: \n",
      "A value is trying to be set on a copy of a slice from a DataFrame\n",
      "\n",
      "See the caveats in the documentation: https://pandas.pydata.org/pandas-docs/stable/user_guide/indexing.html#returning-a-view-versus-a-copy\n",
      "  df['Tipus_dia'][(df['Mes'] == 9)&(df['Dia_de_mes']==24)&(df['Any']==2014)] = 'festivo_local'\n"
     ]
    }
   ],
   "source": [
    "df['Tipus_dia'][(df['Mes'] == 6)&(df['Dia_de_mes']==1)&(df['Any']==2014)] = 'festivo_local'\n",
    "df['Tipus_dia'][(df['Mes'] == 9)&(df['Dia_de_mes']==24)&(df['Any']==2014)] = 'festivo_local'"
   ]
  },
  {
   "cell_type": "code",
   "execution_count": null,
   "metadata": {},
   "outputs": [],
   "source": []
  },
  {
   "cell_type": "code",
   "execution_count": null,
   "metadata": {},
   "outputs": [],
   "source": []
  },
  {
   "cell_type": "code",
   "execution_count": 295,
   "metadata": {},
   "outputs": [
    {
     "data": {
      "text/plain": [
       "Index(['Codi_expedient', 'Codi_districte', 'Nom_districte', 'Codi_barri',\n",
       "       'Nom_barri', 'Codi_carrer', 'Nom_carrer', 'Num_postal', 'Dia_setmana',\n",
       "       'ID_Dia_setmana', 'Tipus_dia', 'Any', 'Mes', 'Nom_mes', 'Dia_de_mes',\n",
       "       'Hora_de_dia', 'Torn', 'Numero_morts', 'Numero_lesionats_lleus',\n",
       "       'Numero_lesionats_greus', 'Numero_victimes',\n",
       "       'Numero_vehicles_implicats', 'Longitud', 'Latitud', 'Tipus_accident',\n",
       "       'Causa_mediata', 'Descripcio_causa_vianant', 'Descripcio_tipus_vehicle',\n",
       "       'Descripcio_model', 'Descripcio_marca', 'Descripcio_color'],\n",
       "      dtype='object')"
      ]
     },
     "execution_count": 295,
     "metadata": {},
     "output_type": "execute_result"
    }
   ],
   "source": [
    "df.columns"
   ]
  },
  {
   "cell_type": "code",
   "execution_count": 296,
   "metadata": {},
   "outputs": [
    {
     "data": {
      "text/plain": [
       "array(['Dimarts', 'Dimecres', 'Dijous', 'Divendres', 'Dissabte',\n",
       "       'Diumenge', 'Dilluns'], dtype=object)"
      ]
     },
     "execution_count": 296,
     "metadata": {},
     "output_type": "execute_result"
    }
   ],
   "source": [
    "df.Dia_setmana.unique()"
   ]
  },
  {
   "cell_type": "code",
   "execution_count": 297,
   "metadata": {},
   "outputs": [],
   "source": [
    "df['Dia_setmana'] = df['Dia_setmana'].map({'Divendres': 'fri', 'Diumenge': 'sun', 'Dissabte': 'sat', 'Dimecres': 'wed', 'Dimarts': 'tue', 'Dilluns': 'mon', 'Dijous': 'thu'})"
   ]
  },
  {
   "cell_type": "code",
   "execution_count": 298,
   "metadata": {},
   "outputs": [
    {
     "data": {
      "text/plain": [
       "array(['Dm', 'Dc', 'Dj', 'Dv', 'Ds', 'Dg', 'Dl', 3, 5, 4, 6, 7, 1, 2],\n",
       "      dtype=object)"
      ]
     },
     "execution_count": 298,
     "metadata": {},
     "output_type": "execute_result"
    }
   ],
   "source": [
    "df.ID_Dia_setmana.unique()"
   ]
  },
  {
   "cell_type": "code",
   "execution_count": 299,
   "metadata": {},
   "outputs": [],
   "source": [
    "df['ID_Dia_setmana'] = df['ID_Dia_setmana'].map({'Dm':2, 'Dc':3, 'Dj':4, 'Dv':5, 'Ds':6, 'Dg':7, 'Dl':1, 4:4, 3:3, 1:1, 2:2, 6:6, 5:5, 7:7})"
   ]
  },
  {
   "cell_type": "code",
   "execution_count": 300,
   "metadata": {},
   "outputs": [
    {
     "data": {
      "text/plain": [
       "array(['Gener', 'Febrer', 'Març', 'Abril', 'Maig', 'Juny', 'Juliol',\n",
       "       'Agost', 'Setembre', 'Octubre', 'Novembre', 'Desembre'],\n",
       "      dtype=object)"
      ]
     },
     "execution_count": 300,
     "metadata": {},
     "output_type": "execute_result"
    }
   ],
   "source": [
    "df.Nom_mes.unique()"
   ]
  },
  {
   "cell_type": "code",
   "execution_count": 301,
   "metadata": {},
   "outputs": [],
   "source": [
    "df['Nom_mes'] = df['Nom_mes'].map({'Gener': 'jan', 'Febrer': 'feb', 'Març': 'mar', 'Abril': 'apr', 'Maig': 'may', 'Juny': 'jun', 'Juliol': 'jul', 'Agost': 'aug', 'Setembre': 'sep', 'Octubre': 'oct', 'Desembre': 'dec', 'Novembre': 'nov'})"
   ]
  },
  {
   "cell_type": "code",
   "execution_count": 302,
   "metadata": {},
   "outputs": [
    {
     "data": {
      "text/plain": [
       "array(['Nit', 'Matí', 'Tarda'], dtype=object)"
      ]
     },
     "execution_count": 302,
     "metadata": {},
     "output_type": "execute_result"
    }
   ],
   "source": [
    "df.Torn.unique()"
   ]
  },
  {
   "cell_type": "code",
   "execution_count": 303,
   "metadata": {},
   "outputs": [],
   "source": [
    "df['ID_Torn'] = df['Torn'].map({'Nit':3, 'Matí':1, 'Tarda':2})"
   ]
  },
  {
   "cell_type": "code",
   "execution_count": 304,
   "metadata": {},
   "outputs": [
    {
     "data": {
      "text/plain": [
       "array([ 1.,  4.,  5.,  8., 12.,  7., 13., 10., 18., 19., 21.,  0.,  3.,\n",
       "        9., 14., 15., 16., 17., 20., 22., 11., 23.,  2.,  6.])"
      ]
     },
     "execution_count": 304,
     "metadata": {},
     "output_type": "execute_result"
    }
   ],
   "source": [
    "df.Hora_de_dia.unique()"
   ]
  },
  {
   "cell_type": "code",
   "execution_count": 305,
   "metadata": {},
   "outputs": [],
   "source": [
    "# <2 l/m2 => lluvias débiles\n",
    "# 2-15 l/m2 => lluvia\n",
    "# 15-30 l/m2 => lluvias fuertes\n",
    "# 30-60 l/m2 => lluvias muy fuertes\n",
    "# >60 l/m2 => lluvias torrenciales"
   ]
  },
  {
   "cell_type": "code",
   "execution_count": 306,
   "metadata": {},
   "outputs": [
    {
     "data": {
      "text/html": [
       "<div>\n",
       "<style scoped>\n",
       "    .dataframe tbody tr th:only-of-type {\n",
       "        vertical-align: middle;\n",
       "    }\n",
       "\n",
       "    .dataframe tbody tr th {\n",
       "        vertical-align: top;\n",
       "    }\n",
       "\n",
       "    .dataframe thead th {\n",
       "        text-align: right;\n",
       "    }\n",
       "</style>\n",
       "<table border=\"1\" class=\"dataframe\">\n",
       "  <thead>\n",
       "    <tr style=\"text-align: right;\">\n",
       "      <th></th>\n",
       "      <th>Codi_expedient</th>\n",
       "      <th>Codi_districte</th>\n",
       "      <th>Nom_districte</th>\n",
       "      <th>Codi_barri</th>\n",
       "      <th>Nom_barri</th>\n",
       "      <th>Codi_carrer</th>\n",
       "      <th>Nom_carrer</th>\n",
       "      <th>Num_postal</th>\n",
       "      <th>Dia_setmana</th>\n",
       "      <th>ID_Dia_setmana</th>\n",
       "      <th>...</th>\n",
       "      <th>Longitud</th>\n",
       "      <th>Latitud</th>\n",
       "      <th>Tipus_accident</th>\n",
       "      <th>Causa_mediata</th>\n",
       "      <th>Descripcio_causa_vianant</th>\n",
       "      <th>Descripcio_tipus_vehicle</th>\n",
       "      <th>Descripcio_model</th>\n",
       "      <th>Descripcio_marca</th>\n",
       "      <th>Descripcio_color</th>\n",
       "      <th>ID_Torn</th>\n",
       "    </tr>\n",
       "  </thead>\n",
       "  <tbody>\n",
       "    <tr>\n",
       "      <th>0</th>\n",
       "      <td>2019S000001</td>\n",
       "      <td>5.0</td>\n",
       "      <td>Sarrià-Sant Gervasi</td>\n",
       "      <td>26</td>\n",
       "      <td>Sant Gervasi - Galvany</td>\n",
       "      <td>144601.0</td>\n",
       "      <td>Diagonal / Augusta</td>\n",
       "      <td>0482 0482</td>\n",
       "      <td>tue</td>\n",
       "      <td>2</td>\n",
       "      <td>...</td>\n",
       "      <td>2.155236</td>\n",
       "      <td>41.395744</td>\n",
       "      <td>Atropellament</td>\n",
       "      <td>No hi ha causa mediata</td>\n",
       "      <td>No és causa del  vianant</td>\n",
       "      <td>Turisme</td>\n",
       "      <td>A3</td>\n",
       "      <td>AUDI</td>\n",
       "      <td>Gris</td>\n",
       "      <td>3</td>\n",
       "    </tr>\n",
       "    <tr>\n",
       "      <th>1</th>\n",
       "      <td>2019S000002</td>\n",
       "      <td>9.0</td>\n",
       "      <td>Sant Andreu</td>\n",
       "      <td>62</td>\n",
       "      <td>el Congrés i els Indians</td>\n",
       "      <td>102907.0</td>\n",
       "      <td>Felip II / Congrés Eucarístic</td>\n",
       "      <td>9999 9999</td>\n",
       "      <td>tue</td>\n",
       "      <td>2</td>\n",
       "      <td>...</td>\n",
       "      <td>2.179990</td>\n",
       "      <td>41.425361</td>\n",
       "      <td>Col.lisió frontal</td>\n",
       "      <td>No hi ha causa mediata</td>\n",
       "      <td>No és causa del  vianant</td>\n",
       "      <td>Ciclomotor</td>\n",
       "      <td>SENDA</td>\n",
       "      <td>DERBI</td>\n",
       "      <td>Negre</td>\n",
       "      <td>3</td>\n",
       "    </tr>\n",
       "    <tr>\n",
       "      <th>2</th>\n",
       "      <td>2019S000002</td>\n",
       "      <td>9.0</td>\n",
       "      <td>Sant Andreu</td>\n",
       "      <td>62</td>\n",
       "      <td>el Congrés i els Indians</td>\n",
       "      <td>102907.0</td>\n",
       "      <td>Felip II / Congrés Eucarístic</td>\n",
       "      <td>9999 9999</td>\n",
       "      <td>tue</td>\n",
       "      <td>2</td>\n",
       "      <td>...</td>\n",
       "      <td>2.179990</td>\n",
       "      <td>41.425361</td>\n",
       "      <td>Col.lisió frontal</td>\n",
       "      <td>No hi ha causa mediata</td>\n",
       "      <td>No és causa del  vianant</td>\n",
       "      <td>Turisme</td>\n",
       "      <td>IBIZA</td>\n",
       "      <td>SEAT</td>\n",
       "      <td>Blau</td>\n",
       "      <td>3</td>\n",
       "    </tr>\n",
       "    <tr>\n",
       "      <th>3</th>\n",
       "      <td>2019S000003</td>\n",
       "      <td>10.0</td>\n",
       "      <td>Sant Martí</td>\n",
       "      <td>66</td>\n",
       "      <td>el Parc i la Llacuna del Poblenou</td>\n",
       "      <td>242906.0</td>\n",
       "      <td>Pallars</td>\n",
       "      <td>0111 0113</td>\n",
       "      <td>tue</td>\n",
       "      <td>2</td>\n",
       "      <td>...</td>\n",
       "      <td>2.191712</td>\n",
       "      <td>41.396887</td>\n",
       "      <td>Atropellament</td>\n",
       "      <td>No hi ha causa mediata</td>\n",
       "      <td>Creuar per fora pas de vianants</td>\n",
       "      <td>Taxi</td>\n",
       "      <td>TOYOTA PRI</td>\n",
       "      <td>TOYOTA</td>\n",
       "      <td>Negre/Groc</td>\n",
       "      <td>3</td>\n",
       "    </tr>\n",
       "    <tr>\n",
       "      <th>4</th>\n",
       "      <td>2019S000004</td>\n",
       "      <td>6.0</td>\n",
       "      <td>Gràcia</td>\n",
       "      <td>32</td>\n",
       "      <td>el Camp d'en Grassot i Gràcia Nova</td>\n",
       "      <td>228803.0</td>\n",
       "      <td>Taxdirt / Nogués</td>\n",
       "      <td>0054 0054</td>\n",
       "      <td>tue</td>\n",
       "      <td>2</td>\n",
       "      <td>...</td>\n",
       "      <td>2.165429</td>\n",
       "      <td>41.408772</td>\n",
       "      <td>Col.lisió fronto-lateral</td>\n",
       "      <td>No hi ha causa mediata</td>\n",
       "      <td>No és causa del  vianant</td>\n",
       "      <td>Taxi</td>\n",
       "      <td>OCTAVIA</td>\n",
       "      <td>SKODA</td>\n",
       "      <td>Negre/Groc</td>\n",
       "      <td>1</td>\n",
       "    </tr>\n",
       "  </tbody>\n",
       "</table>\n",
       "<p>5 rows × 32 columns</p>\n",
       "</div>"
      ],
      "text/plain": [
       "  Codi_expedient  Codi_districte        Nom_districte Codi_barri  \\\n",
       "0    2019S000001             5.0  Sarrià-Sant Gervasi         26   \n",
       "1    2019S000002             9.0          Sant Andreu         62   \n",
       "2    2019S000002             9.0          Sant Andreu         62   \n",
       "3    2019S000003            10.0           Sant Martí         66   \n",
       "4    2019S000004             6.0               Gràcia         32   \n",
       "\n",
       "                            Nom_barri  Codi_carrer  \\\n",
       "0              Sant Gervasi - Galvany     144601.0   \n",
       "1            el Congrés i els Indians     102907.0   \n",
       "2            el Congrés i els Indians     102907.0   \n",
       "3   el Parc i la Llacuna del Poblenou     242906.0   \n",
       "4  el Camp d'en Grassot i Gràcia Nova     228803.0   \n",
       "\n",
       "                      Nom_carrer Num_postal Dia_setmana  ID_Dia_setmana  ...  \\\n",
       "0             Diagonal / Augusta  0482 0482         tue               2  ...   \n",
       "1  Felip II / Congrés Eucarístic  9999 9999         tue               2  ...   \n",
       "2  Felip II / Congrés Eucarístic  9999 9999         tue               2  ...   \n",
       "3                        Pallars  0111 0113         tue               2  ...   \n",
       "4               Taxdirt / Nogués  0054 0054         tue               2  ...   \n",
       "\n",
       "   Longitud    Latitud            Tipus_accident           Causa_mediata  \\\n",
       "0  2.155236  41.395744             Atropellament  No hi ha causa mediata   \n",
       "1  2.179990  41.425361         Col.lisió frontal  No hi ha causa mediata   \n",
       "2  2.179990  41.425361         Col.lisió frontal  No hi ha causa mediata   \n",
       "3  2.191712  41.396887             Atropellament  No hi ha causa mediata   \n",
       "4  2.165429  41.408772  Col.lisió fronto-lateral  No hi ha causa mediata   \n",
       "\n",
       "          Descripcio_causa_vianant  Descripcio_tipus_vehicle Descripcio_model  \\\n",
       "0         No és causa del  vianant                   Turisme               A3   \n",
       "1         No és causa del  vianant                Ciclomotor            SENDA   \n",
       "2         No és causa del  vianant                   Turisme            IBIZA   \n",
       "3  Creuar per fora pas de vianants                      Taxi       TOYOTA PRI   \n",
       "4         No és causa del  vianant                      Taxi          OCTAVIA   \n",
       "\n",
       "   Descripcio_marca  Descripcio_color  ID_Torn  \n",
       "0              AUDI              Gris        3  \n",
       "1             DERBI             Negre        3  \n",
       "2              SEAT              Blau        3  \n",
       "3            TOYOTA        Negre/Groc        3  \n",
       "4             SKODA        Negre/Groc        1  \n",
       "\n",
       "[5 rows x 32 columns]"
      ]
     },
     "execution_count": 306,
     "metadata": {},
     "output_type": "execute_result"
    }
   ],
   "source": [
    "df.head()"
   ]
  },
  {
   "cell_type": "code",
   "execution_count": 307,
   "metadata": {},
   "outputs": [
    {
     "data": {
      "text/plain": [
       "array(['0482 0482', '9999 9999', '0111 0113', ..., '1144 1144',\n",
       "       '0518 0524', '0009I0009I'], dtype=object)"
      ]
     },
     "execution_count": 307,
     "metadata": {},
     "output_type": "execute_result"
    }
   ],
   "source": [
    "df.Num_postal.unique()"
   ]
  },
  {
   "cell_type": "code",
   "execution_count": 308,
   "metadata": {},
   "outputs": [
    {
     "name": "stdout",
     "output_type": "stream",
     "text": [
      "<class 'pandas.core.frame.DataFrame'>\n",
      "RangeIndex: 111681 entries, 0 to 111680\n",
      "Data columns (total 32 columns):\n",
      " #   Column                     Non-Null Count   Dtype  \n",
      "---  ------                     --------------   -----  \n",
      " 0   Codi_expedient             111681 non-null  object \n",
      " 1   Codi_districte             111681 non-null  float64\n",
      " 2   Nom_districte              111571 non-null  object \n",
      " 3   Codi_barri                 111681 non-null  object \n",
      " 4   Nom_barri                  111571 non-null  object \n",
      " 5   Codi_carrer                111681 non-null  float64\n",
      " 6   Nom_carrer                 111677 non-null  object \n",
      " 7   Num_postal                 102573 non-null  object \n",
      " 8   Dia_setmana                111681 non-null  object \n",
      " 9   ID_Dia_setmana             111681 non-null  int64  \n",
      " 10  Tipus_dia                  111681 non-null  object \n",
      " 11  Any                        111681 non-null  float64\n",
      " 12  Mes                        111681 non-null  float64\n",
      " 13  Nom_mes                    111681 non-null  object \n",
      " 14  Dia_de_mes                 111681 non-null  float64\n",
      " 15  Hora_de_dia                111681 non-null  float64\n",
      " 16  Torn                       111681 non-null  object \n",
      " 17  Numero_morts               111681 non-null  float64\n",
      " 18  Numero_lesionats_lleus     111681 non-null  float64\n",
      " 19  Numero_lesionats_greus     111681 non-null  float64\n",
      " 20  Numero_victimes            111681 non-null  float64\n",
      " 21  Numero_vehicles_implicats  111681 non-null  float64\n",
      " 22  Longitud                   111681 non-null  float64\n",
      " 23  Latitud                    111681 non-null  float64\n",
      " 24  Tipus_accident             111640 non-null  object \n",
      " 25  Causa_mediata              111681 non-null  object \n",
      " 26  Descripcio_causa_vianant   94257 non-null   object \n",
      " 27  Descripcio_tipus_vehicle   111596 non-null  object \n",
      " 28  Descripcio_model           102924 non-null  object \n",
      " 29  Descripcio_marca           107094 non-null  object \n",
      " 30  Descripcio_color           102592 non-null  object \n",
      " 31  ID_Torn                    111681 non-null  int64  \n",
      "dtypes: float64(13), int64(2), object(17)\n",
      "memory usage: 27.3+ MB\n"
     ]
    }
   ],
   "source": [
    "df.info()"
   ]
  },
  {
   "cell_type": "code",
   "execution_count": 309,
   "metadata": {},
   "outputs": [],
   "source": [
    "df['Any'] = df['Any'].astype('int32')\n",
    "df['Mes'] = df['Mes'].astype('int32')\n",
    "df['Dia_de_mes'] = df['Dia_de_mes'].astype('int32')"
   ]
  },
  {
   "cell_type": "code",
   "execution_count": 310,
   "metadata": {},
   "outputs": [
    {
     "data": {
      "text/html": [
       "<div>\n",
       "<style scoped>\n",
       "    .dataframe tbody tr th:only-of-type {\n",
       "        vertical-align: middle;\n",
       "    }\n",
       "\n",
       "    .dataframe tbody tr th {\n",
       "        vertical-align: top;\n",
       "    }\n",
       "\n",
       "    .dataframe thead th {\n",
       "        text-align: right;\n",
       "    }\n",
       "</style>\n",
       "<table border=\"1\" class=\"dataframe\">\n",
       "  <thead>\n",
       "    <tr style=\"text-align: right;\">\n",
       "      <th></th>\n",
       "      <th>Codi_expedient</th>\n",
       "      <th>Codi_districte</th>\n",
       "      <th>Nom_districte</th>\n",
       "      <th>Codi_barri</th>\n",
       "      <th>Nom_barri</th>\n",
       "      <th>Codi_carrer</th>\n",
       "      <th>Nom_carrer</th>\n",
       "      <th>Num_postal</th>\n",
       "      <th>Dia_setmana</th>\n",
       "      <th>ID_Dia_setmana</th>\n",
       "      <th>...</th>\n",
       "      <th>Longitud</th>\n",
       "      <th>Latitud</th>\n",
       "      <th>Tipus_accident</th>\n",
       "      <th>Causa_mediata</th>\n",
       "      <th>Descripcio_causa_vianant</th>\n",
       "      <th>Descripcio_tipus_vehicle</th>\n",
       "      <th>Descripcio_model</th>\n",
       "      <th>Descripcio_marca</th>\n",
       "      <th>Descripcio_color</th>\n",
       "      <th>ID_Torn</th>\n",
       "    </tr>\n",
       "  </thead>\n",
       "  <tbody>\n",
       "    <tr>\n",
       "      <th>0</th>\n",
       "      <td>2019S000001</td>\n",
       "      <td>5.0</td>\n",
       "      <td>Sarrià-Sant Gervasi</td>\n",
       "      <td>26</td>\n",
       "      <td>Sant Gervasi - Galvany</td>\n",
       "      <td>144601.0</td>\n",
       "      <td>Diagonal / Augusta</td>\n",
       "      <td>0482 0482</td>\n",
       "      <td>tue</td>\n",
       "      <td>2</td>\n",
       "      <td>...</td>\n",
       "      <td>2.155236</td>\n",
       "      <td>41.395744</td>\n",
       "      <td>Atropellament</td>\n",
       "      <td>No hi ha causa mediata</td>\n",
       "      <td>No és causa del  vianant</td>\n",
       "      <td>Turisme</td>\n",
       "      <td>A3</td>\n",
       "      <td>AUDI</td>\n",
       "      <td>Gris</td>\n",
       "      <td>3</td>\n",
       "    </tr>\n",
       "    <tr>\n",
       "      <th>1</th>\n",
       "      <td>2019S000002</td>\n",
       "      <td>9.0</td>\n",
       "      <td>Sant Andreu</td>\n",
       "      <td>62</td>\n",
       "      <td>el Congrés i els Indians</td>\n",
       "      <td>102907.0</td>\n",
       "      <td>Felip II / Congrés Eucarístic</td>\n",
       "      <td>9999 9999</td>\n",
       "      <td>tue</td>\n",
       "      <td>2</td>\n",
       "      <td>...</td>\n",
       "      <td>2.179990</td>\n",
       "      <td>41.425361</td>\n",
       "      <td>Col.lisió frontal</td>\n",
       "      <td>No hi ha causa mediata</td>\n",
       "      <td>No és causa del  vianant</td>\n",
       "      <td>Ciclomotor</td>\n",
       "      <td>SENDA</td>\n",
       "      <td>DERBI</td>\n",
       "      <td>Negre</td>\n",
       "      <td>3</td>\n",
       "    </tr>\n",
       "    <tr>\n",
       "      <th>2</th>\n",
       "      <td>2019S000002</td>\n",
       "      <td>9.0</td>\n",
       "      <td>Sant Andreu</td>\n",
       "      <td>62</td>\n",
       "      <td>el Congrés i els Indians</td>\n",
       "      <td>102907.0</td>\n",
       "      <td>Felip II / Congrés Eucarístic</td>\n",
       "      <td>9999 9999</td>\n",
       "      <td>tue</td>\n",
       "      <td>2</td>\n",
       "      <td>...</td>\n",
       "      <td>2.179990</td>\n",
       "      <td>41.425361</td>\n",
       "      <td>Col.lisió frontal</td>\n",
       "      <td>No hi ha causa mediata</td>\n",
       "      <td>No és causa del  vianant</td>\n",
       "      <td>Turisme</td>\n",
       "      <td>IBIZA</td>\n",
       "      <td>SEAT</td>\n",
       "      <td>Blau</td>\n",
       "      <td>3</td>\n",
       "    </tr>\n",
       "    <tr>\n",
       "      <th>3</th>\n",
       "      <td>2019S000003</td>\n",
       "      <td>10.0</td>\n",
       "      <td>Sant Martí</td>\n",
       "      <td>66</td>\n",
       "      <td>el Parc i la Llacuna del Poblenou</td>\n",
       "      <td>242906.0</td>\n",
       "      <td>Pallars</td>\n",
       "      <td>0111 0113</td>\n",
       "      <td>tue</td>\n",
       "      <td>2</td>\n",
       "      <td>...</td>\n",
       "      <td>2.191712</td>\n",
       "      <td>41.396887</td>\n",
       "      <td>Atropellament</td>\n",
       "      <td>No hi ha causa mediata</td>\n",
       "      <td>Creuar per fora pas de vianants</td>\n",
       "      <td>Taxi</td>\n",
       "      <td>TOYOTA PRI</td>\n",
       "      <td>TOYOTA</td>\n",
       "      <td>Negre/Groc</td>\n",
       "      <td>3</td>\n",
       "    </tr>\n",
       "    <tr>\n",
       "      <th>4</th>\n",
       "      <td>2019S000004</td>\n",
       "      <td>6.0</td>\n",
       "      <td>Gràcia</td>\n",
       "      <td>32</td>\n",
       "      <td>el Camp d'en Grassot i Gràcia Nova</td>\n",
       "      <td>228803.0</td>\n",
       "      <td>Taxdirt / Nogués</td>\n",
       "      <td>0054 0054</td>\n",
       "      <td>tue</td>\n",
       "      <td>2</td>\n",
       "      <td>...</td>\n",
       "      <td>2.165429</td>\n",
       "      <td>41.408772</td>\n",
       "      <td>Col.lisió fronto-lateral</td>\n",
       "      <td>No hi ha causa mediata</td>\n",
       "      <td>No és causa del  vianant</td>\n",
       "      <td>Taxi</td>\n",
       "      <td>OCTAVIA</td>\n",
       "      <td>SKODA</td>\n",
       "      <td>Negre/Groc</td>\n",
       "      <td>1</td>\n",
       "    </tr>\n",
       "  </tbody>\n",
       "</table>\n",
       "<p>5 rows × 32 columns</p>\n",
       "</div>"
      ],
      "text/plain": [
       "  Codi_expedient  Codi_districte        Nom_districte Codi_barri  \\\n",
       "0    2019S000001             5.0  Sarrià-Sant Gervasi         26   \n",
       "1    2019S000002             9.0          Sant Andreu         62   \n",
       "2    2019S000002             9.0          Sant Andreu         62   \n",
       "3    2019S000003            10.0           Sant Martí         66   \n",
       "4    2019S000004             6.0               Gràcia         32   \n",
       "\n",
       "                            Nom_barri  Codi_carrer  \\\n",
       "0              Sant Gervasi - Galvany     144601.0   \n",
       "1            el Congrés i els Indians     102907.0   \n",
       "2            el Congrés i els Indians     102907.0   \n",
       "3   el Parc i la Llacuna del Poblenou     242906.0   \n",
       "4  el Camp d'en Grassot i Gràcia Nova     228803.0   \n",
       "\n",
       "                      Nom_carrer Num_postal Dia_setmana  ID_Dia_setmana  ...  \\\n",
       "0             Diagonal / Augusta  0482 0482         tue               2  ...   \n",
       "1  Felip II / Congrés Eucarístic  9999 9999         tue               2  ...   \n",
       "2  Felip II / Congrés Eucarístic  9999 9999         tue               2  ...   \n",
       "3                        Pallars  0111 0113         tue               2  ...   \n",
       "4               Taxdirt / Nogués  0054 0054         tue               2  ...   \n",
       "\n",
       "   Longitud    Latitud            Tipus_accident           Causa_mediata  \\\n",
       "0  2.155236  41.395744             Atropellament  No hi ha causa mediata   \n",
       "1  2.179990  41.425361         Col.lisió frontal  No hi ha causa mediata   \n",
       "2  2.179990  41.425361         Col.lisió frontal  No hi ha causa mediata   \n",
       "3  2.191712  41.396887             Atropellament  No hi ha causa mediata   \n",
       "4  2.165429  41.408772  Col.lisió fronto-lateral  No hi ha causa mediata   \n",
       "\n",
       "          Descripcio_causa_vianant  Descripcio_tipus_vehicle Descripcio_model  \\\n",
       "0         No és causa del  vianant                   Turisme               A3   \n",
       "1         No és causa del  vianant                Ciclomotor            SENDA   \n",
       "2         No és causa del  vianant                   Turisme            IBIZA   \n",
       "3  Creuar per fora pas de vianants                      Taxi       TOYOTA PRI   \n",
       "4         No és causa del  vianant                      Taxi          OCTAVIA   \n",
       "\n",
       "   Descripcio_marca  Descripcio_color  ID_Torn  \n",
       "0              AUDI              Gris        3  \n",
       "1             DERBI             Negre        3  \n",
       "2              SEAT              Blau        3  \n",
       "3            TOYOTA        Negre/Groc        3  \n",
       "4             SKODA        Negre/Groc        1  \n",
       "\n",
       "[5 rows x 32 columns]"
      ]
     },
     "execution_count": 310,
     "metadata": {},
     "output_type": "execute_result"
    }
   ],
   "source": [
    "df.head()"
   ]
  },
  {
   "cell_type": "code",
   "execution_count": 311,
   "metadata": {},
   "outputs": [
    {
     "data": {
      "text/plain": [
       "0        2019-01-01\n",
       "1        2019-01-01\n",
       "2        2019-01-01\n",
       "3        2019-01-01\n",
       "4        2019-01-01\n",
       "            ...    \n",
       "111676   2014-12-31\n",
       "111677   2014-12-20\n",
       "111678   2014-12-20\n",
       "111679   2014-10-31\n",
       "111680   2014-10-31\n",
       "Name: fecha, Length: 111681, dtype: datetime64[ns]"
      ]
     },
     "execution_count": 311,
     "metadata": {},
     "output_type": "execute_result"
    }
   ],
   "source": [
    "df['fecha'] = pd.to_datetime(df.Any*10000+df.Mes*100+df.Dia_de_mes,format='%Y%m%d')\n",
    "df.fecha"
   ]
  },
  {
   "cell_type": "code",
   "execution_count": 312,
   "metadata": {},
   "outputs": [
    {
     "data": {
      "text/html": [
       "<div>\n",
       "<style scoped>\n",
       "    .dataframe tbody tr th:only-of-type {\n",
       "        vertical-align: middle;\n",
       "    }\n",
       "\n",
       "    .dataframe tbody tr th {\n",
       "        vertical-align: top;\n",
       "    }\n",
       "\n",
       "    .dataframe thead th {\n",
       "        text-align: right;\n",
       "    }\n",
       "</style>\n",
       "<table border=\"1\" class=\"dataframe\">\n",
       "  <thead>\n",
       "    <tr style=\"text-align: right;\">\n",
       "      <th></th>\n",
       "      <th>fecha</th>\n",
       "      <th>indicativo</th>\n",
       "      <th>nombre</th>\n",
       "      <th>provincia</th>\n",
       "      <th>altitud</th>\n",
       "      <th>tmed</th>\n",
       "      <th>prec</th>\n",
       "      <th>tmin</th>\n",
       "      <th>horatmin</th>\n",
       "      <th>tmax</th>\n",
       "      <th>horatmax</th>\n",
       "      <th>dir</th>\n",
       "      <th>velmedia</th>\n",
       "      <th>racha</th>\n",
       "      <th>horaracha</th>\n",
       "    </tr>\n",
       "  </thead>\n",
       "  <tbody>\n",
       "    <tr>\n",
       "      <th>0</th>\n",
       "      <td>2014-01-01</td>\n",
       "      <td>0201D</td>\n",
       "      <td>BARCELONA</td>\n",
       "      <td>BARCELONA</td>\n",
       "      <td>6</td>\n",
       "      <td>11,1</td>\n",
       "      <td>0,0</td>\n",
       "      <td>6,8</td>\n",
       "      <td>07:20</td>\n",
       "      <td>15,4</td>\n",
       "      <td>14:00</td>\n",
       "      <td>25.0</td>\n",
       "      <td>2,8</td>\n",
       "      <td>8,3</td>\n",
       "      <td>15:40</td>\n",
       "    </tr>\n",
       "    <tr>\n",
       "      <th>1</th>\n",
       "      <td>2014-01-02</td>\n",
       "      <td>0201D</td>\n",
       "      <td>BARCELONA</td>\n",
       "      <td>BARCELONA</td>\n",
       "      <td>6</td>\n",
       "      <td>15,1</td>\n",
       "      <td>0,0</td>\n",
       "      <td>12,3</td>\n",
       "      <td>05:00</td>\n",
       "      <td>17,9</td>\n",
       "      <td>12:50</td>\n",
       "      <td>26.0</td>\n",
       "      <td>3,1</td>\n",
       "      <td>6,1</td>\n",
       "      <td>Varias</td>\n",
       "    </tr>\n",
       "    <tr>\n",
       "      <th>2</th>\n",
       "      <td>2014-01-03</td>\n",
       "      <td>0201D</td>\n",
       "      <td>BARCELONA</td>\n",
       "      <td>BARCELONA</td>\n",
       "      <td>6</td>\n",
       "      <td>16,7</td>\n",
       "      <td>0,0</td>\n",
       "      <td>12,8</td>\n",
       "      <td>NaN</td>\n",
       "      <td>20,6</td>\n",
       "      <td>14:30</td>\n",
       "      <td>5.0</td>\n",
       "      <td>3,9</td>\n",
       "      <td>8,9</td>\n",
       "      <td>17:00</td>\n",
       "    </tr>\n",
       "    <tr>\n",
       "      <th>3</th>\n",
       "      <td>2014-01-04</td>\n",
       "      <td>0201D</td>\n",
       "      <td>BARCELONA</td>\n",
       "      <td>BARCELONA</td>\n",
       "      <td>6</td>\n",
       "      <td>12,6</td>\n",
       "      <td>1,3</td>\n",
       "      <td>9,8</td>\n",
       "      <td>23:50</td>\n",
       "      <td>15,4</td>\n",
       "      <td>11:30</td>\n",
       "      <td>28.0</td>\n",
       "      <td>2,8</td>\n",
       "      <td>18,1</td>\n",
       "      <td>18:20</td>\n",
       "    </tr>\n",
       "    <tr>\n",
       "      <th>4</th>\n",
       "      <td>2014-01-05</td>\n",
       "      <td>0201D</td>\n",
       "      <td>BARCELONA</td>\n",
       "      <td>BARCELONA</td>\n",
       "      <td>6</td>\n",
       "      <td>12,0</td>\n",
       "      <td>0,0</td>\n",
       "      <td>9,2</td>\n",
       "      <td>02:40</td>\n",
       "      <td>14,7</td>\n",
       "      <td>14:10</td>\n",
       "      <td>99.0</td>\n",
       "      <td>3,3</td>\n",
       "      <td>15,8</td>\n",
       "      <td>09:40</td>\n",
       "    </tr>\n",
       "  </tbody>\n",
       "</table>\n",
       "</div>"
      ],
      "text/plain": [
       "        fecha indicativo     nombre  provincia  altitud  tmed prec  tmin  \\\n",
       "0  2014-01-01      0201D  BARCELONA  BARCELONA        6  11,1  0,0   6,8   \n",
       "1  2014-01-02      0201D  BARCELONA  BARCELONA        6  15,1  0,0  12,3   \n",
       "2  2014-01-03      0201D  BARCELONA  BARCELONA        6  16,7  0,0  12,8   \n",
       "3  2014-01-04      0201D  BARCELONA  BARCELONA        6  12,6  1,3   9,8   \n",
       "4  2014-01-05      0201D  BARCELONA  BARCELONA        6  12,0  0,0   9,2   \n",
       "\n",
       "  horatmin  tmax horatmax   dir velmedia racha horaracha  \n",
       "0    07:20  15,4    14:00  25.0      2,8   8,3     15:40  \n",
       "1    05:00  17,9    12:50  26.0      3,1   6,1    Varias  \n",
       "2      NaN  20,6    14:30   5.0      3,9   8,9     17:00  \n",
       "3    23:50  15,4    11:30  28.0      2,8  18,1     18:20  \n",
       "4    02:40  14,7    14:10  99.0      3,3  15,8     09:40  "
      ]
     },
     "execution_count": 312,
     "metadata": {},
     "output_type": "execute_result"
    }
   ],
   "source": [
    "df_clima = pd.read_json(r'clima_2014-2019.json')\n",
    "df_clima.head()"
   ]
  },
  {
   "cell_type": "code",
   "execution_count": 313,
   "metadata": {},
   "outputs": [],
   "source": [
    "df_clima.drop(['indicativo', 'nombre', 'provincia', 'altitud'], axis = 1, inplace = True)"
   ]
  },
  {
   "cell_type": "code",
   "execution_count": 314,
   "metadata": {},
   "outputs": [],
   "source": [
    "df_clima['velmedia'] = df_clima['velmedia'].str.replace(',', '.')\n",
    "df_clima['racha'] = df_clima['racha'].str.replace(',', '.')\n",
    "df_clima['prec'] = df_clima['prec'].str.replace(',', '.')\n",
    "df_clima['tmin'] = df_clima['tmin'].str.replace(',', '.')\n",
    "df_clima['tmax'] = df_clima['tmax'].str.replace(',', '.')\n",
    "df_clima['tmed'] = df_clima['tmed'].str.replace(',', '.')"
   ]
  },
  {
   "cell_type": "code",
   "execution_count": 315,
   "metadata": {},
   "outputs": [
    {
     "data": {
      "text/plain": [
       "array([ 1.,  4.,  5.,  8., 12.,  7., 13., 10., 18., 19., 21.,  0.,  3.,\n",
       "        9., 14., 15., 16., 17., 20., 22., 11., 23.,  2.,  6.])"
      ]
     },
     "execution_count": 315,
     "metadata": {},
     "output_type": "execute_result"
    }
   ],
   "source": [
    "df.Hora_de_dia.unique()"
   ]
  },
  {
   "cell_type": "code",
   "execution_count": 316,
   "metadata": {},
   "outputs": [
    {
     "name": "stderr",
     "output_type": "stream",
     "text": [
      "<ipython-input-316-4c426cdf2844>:5: SettingWithCopyWarning: \n",
      "A value is trying to be set on a copy of a slice from a DataFrame\n",
      "\n",
      "See the caveats in the documentation: https://pandas.pydata.org/pandas-docs/stable/user_guide/indexing.html#returning-a-view-versus-a-copy\n",
      "  df_clima.horaracha[i] = df_clima.horaracha[i][:2]\n"
     ]
    }
   ],
   "source": [
    "df_clima.horaracha = df_clima.horaracha.replace('Varias', '0')\n",
    "\n",
    "for i in range(0,len(df_clima.horaracha)):\n",
    "    if type(df_clima.horaracha[i]) == str:\n",
    "        df_clima.horaracha[i] = df_clima.horaracha[i][:2]\n",
    "    else:\n",
    "        pass"
   ]
  },
  {
   "cell_type": "code",
   "execution_count": 317,
   "metadata": {},
   "outputs": [
    {
     "data": {
      "text/plain": [
       "array(['14:00', '12:50', '14:30', '11:30', '14:10', '12:00', '11:50',\n",
       "       '11:40', 'Varias', '15:00', '10:00', '14:40', '12:30', '12:20',\n",
       "       '13:10', '17:00', '14:20', '13:30', '13:50', '16:20', '14:50',\n",
       "       '13:40', '10:40', nan, '10:30', '11:00', '13:20', '10:20', '12:40',\n",
       "       '10:50', '13:00', '11:20', '16:50', '15:20', '16:00', '12:10',\n",
       "       '10:10', '15:30', '01:00', '09:50', '09:30', '23:40', '00:10',\n",
       "       '09:20', '08:40', '17:40', '15:10', '11:10', '08:50', '08:20',\n",
       "       '16:30', '00:30', '09:00', '07:20', '17:50', '09:10', '08:30',\n",
       "       '07:30', '18:00', '15:40', '21:20', '07:40', '08:00', '01:10',\n",
       "       '15:50', '16:40', '16:10', '07:50', '09:40', '01:40', '23:59',\n",
       "       '01:30', '00:20', '19:00', '08:10', '17:20', '17:10', '20:20',\n",
       "       '05:00', '18:10', '04:00', '23:10', '05:20', '20:30', '19:30',\n",
       "       '21:00', '17:30', '06:50', '18:20', '00:40', '20:10', '02:00',\n",
       "       '04:50', '22:40', '04:30', '21:30', '02:50', '00:50', '07:00',\n",
       "       '21:10', '03:20', '02:30', '22:30', '06:40', '06:00'], dtype=object)"
      ]
     },
     "execution_count": 317,
     "metadata": {},
     "output_type": "execute_result"
    }
   ],
   "source": [
    "df_clima.horatmax.unique()"
   ]
  },
  {
   "cell_type": "code",
   "execution_count": 318,
   "metadata": {},
   "outputs": [],
   "source": [
    "df_clima.horatmax = df_clima.horatmax.replace(np.nan, '00:00')\n",
    "df_clima.horatmin = df_clima.horatmin.replace(np.nan, '00:00')\n",
    "df_clima.horatmax = df_clima.horatmax.replace('Varias', '00:00')\n",
    "df_clima.horatmin = df_clima.horatmin.replace('Varias', '00:00')"
   ]
  },
  {
   "cell_type": "code",
   "execution_count": 319,
   "metadata": {},
   "outputs": [
    {
     "name": "stderr",
     "output_type": "stream",
     "text": [
      "<ipython-input-319-50e45cdc8cf7>:2: SettingWithCopyWarning: \n",
      "A value is trying to be set on a copy of a slice from a DataFrame\n",
      "\n",
      "See the caveats in the documentation: https://pandas.pydata.org/pandas-docs/stable/user_guide/indexing.html#returning-a-view-versus-a-copy\n",
      "  df_clima.horatmax[i] = df_clima.horatmax[i][:2]\n"
     ]
    },
    {
     "data": {
      "text/plain": [
       "array(['14', '12', '11', '00', '15', '10', '13', '17', '16', '01', '09',\n",
       "       '23', '08', '07', '18', '21', '19', '20', '05', '04', '06', '02',\n",
       "       '22', '03'], dtype=object)"
      ]
     },
     "execution_count": 319,
     "metadata": {},
     "output_type": "execute_result"
    }
   ],
   "source": [
    "for i in range(len(df_clima.horatmax)):\n",
    "    df_clima.horatmax[i] = df_clima.horatmax[i][:2]\n",
    "df_clima.horatmax.unique()"
   ]
  },
  {
   "cell_type": "code",
   "execution_count": 320,
   "metadata": {},
   "outputs": [
    {
     "name": "stderr",
     "output_type": "stream",
     "text": [
      "<ipython-input-320-6a9e3f45372b>:2: SettingWithCopyWarning: \n",
      "A value is trying to be set on a copy of a slice from a DataFrame\n",
      "\n",
      "See the caveats in the documentation: https://pandas.pydata.org/pandas-docs/stable/user_guide/indexing.html#returning-a-view-versus-a-copy\n",
      "  df_clima.horatmin[i] = df_clima.horatmin[i][:2]\n"
     ]
    },
    {
     "data": {
      "text/plain": [
       "array(['07', '05', '00', '23', '02', '04', '18', '06', '03', '09', '01',\n",
       "       '21', '22', '10', '20', '19', '14', '15', '08', '11', '17', '16',\n",
       "       '13', '12'], dtype=object)"
      ]
     },
     "execution_count": 320,
     "metadata": {},
     "output_type": "execute_result"
    }
   ],
   "source": [
    "for i in range(len(df_clima.horatmin)):\n",
    "    df_clima.horatmin[i] = df_clima.horatmin[i][:2]\n",
    "df_clima.horatmin.unique()"
   ]
  },
  {
   "cell_type": "code",
   "execution_count": 321,
   "metadata": {},
   "outputs": [],
   "source": [
    "df_clima.horaracha = df_clima.horaracha.astype('float')\n",
    "df_clima.horatmax = df_clima.horatmax.astype('float')\n",
    "df_clima.horatmin = df_clima.horatmin.astype('float')\n",
    "df_clima.tmed = df_clima.tmed.astype('float')\n",
    "df_clima.tmin = df_clima.tmin.astype('float')\n",
    "df_clima.tmax = df_clima.tmax.astype('float')\n",
    "df_clima.prec = df_clima.prec.astype('float')\n",
    "df_clima.dir = df_clima.dir.astype('float')\n",
    "df_clima.velmedia = df_clima.velmedia.astype('float')\n",
    "df_clima.racha = df_clima.racha.astype('float')"
   ]
  },
  {
   "cell_type": "code",
   "execution_count": 322,
   "metadata": {},
   "outputs": [],
   "source": [
    "df_clima.rename(columns = {'tmed': 'tavg',\n",
    "                           'tmin': 'tmin',\n",
    "                           'horatmin': 'tmin_hour',\n",
    "                           'tmax': 'tmax',\n",
    "                           'horatmax': 'tmax_hour',\n",
    "                           'racha': 'gusts_wind',\n",
    "                           'horaracha': 'gusts_wind_hour',\n",
    "                       \n",
    "                           'fecha':'date' ,\n",
    "                           'prec':'rainfall' ,\n",
    "                           'dir':'wind_direction' ,\n",
    "                           'velmedia':'wind_speed_avg'}, inplace = True)"
   ]
  },
  {
   "cell_type": "code",
   "execution_count": 323,
   "metadata": {},
   "outputs": [
    {
     "data": {
      "text/html": [
       "<div>\n",
       "<style scoped>\n",
       "    .dataframe tbody tr th:only-of-type {\n",
       "        vertical-align: middle;\n",
       "    }\n",
       "\n",
       "    .dataframe tbody tr th {\n",
       "        vertical-align: top;\n",
       "    }\n",
       "\n",
       "    .dataframe thead th {\n",
       "        text-align: right;\n",
       "    }\n",
       "</style>\n",
       "<table border=\"1\" class=\"dataframe\">\n",
       "  <thead>\n",
       "    <tr style=\"text-align: right;\">\n",
       "      <th></th>\n",
       "      <th>date</th>\n",
       "      <th>tavg</th>\n",
       "      <th>rainfall</th>\n",
       "      <th>tmin</th>\n",
       "      <th>tmin_hour</th>\n",
       "      <th>tmax</th>\n",
       "      <th>tmax_hour</th>\n",
       "      <th>wind_direction</th>\n",
       "      <th>wind_speed_avg</th>\n",
       "      <th>gusts_wind</th>\n",
       "      <th>gusts_wind_hour</th>\n",
       "    </tr>\n",
       "  </thead>\n",
       "  <tbody>\n",
       "    <tr>\n",
       "      <th>0</th>\n",
       "      <td>2014-01-01</td>\n",
       "      <td>11.1</td>\n",
       "      <td>0.0</td>\n",
       "      <td>6.8</td>\n",
       "      <td>7.0</td>\n",
       "      <td>15.4</td>\n",
       "      <td>14.0</td>\n",
       "      <td>25.0</td>\n",
       "      <td>2.8</td>\n",
       "      <td>8.3</td>\n",
       "      <td>15.0</td>\n",
       "    </tr>\n",
       "    <tr>\n",
       "      <th>1</th>\n",
       "      <td>2014-01-02</td>\n",
       "      <td>15.1</td>\n",
       "      <td>0.0</td>\n",
       "      <td>12.3</td>\n",
       "      <td>5.0</td>\n",
       "      <td>17.9</td>\n",
       "      <td>12.0</td>\n",
       "      <td>26.0</td>\n",
       "      <td>3.1</td>\n",
       "      <td>6.1</td>\n",
       "      <td>0.0</td>\n",
       "    </tr>\n",
       "    <tr>\n",
       "      <th>2</th>\n",
       "      <td>2014-01-03</td>\n",
       "      <td>16.7</td>\n",
       "      <td>0.0</td>\n",
       "      <td>12.8</td>\n",
       "      <td>0.0</td>\n",
       "      <td>20.6</td>\n",
       "      <td>14.0</td>\n",
       "      <td>5.0</td>\n",
       "      <td>3.9</td>\n",
       "      <td>8.9</td>\n",
       "      <td>17.0</td>\n",
       "    </tr>\n",
       "    <tr>\n",
       "      <th>3</th>\n",
       "      <td>2014-01-04</td>\n",
       "      <td>12.6</td>\n",
       "      <td>1.3</td>\n",
       "      <td>9.8</td>\n",
       "      <td>23.0</td>\n",
       "      <td>15.4</td>\n",
       "      <td>11.0</td>\n",
       "      <td>28.0</td>\n",
       "      <td>2.8</td>\n",
       "      <td>18.1</td>\n",
       "      <td>18.0</td>\n",
       "    </tr>\n",
       "    <tr>\n",
       "      <th>4</th>\n",
       "      <td>2014-01-05</td>\n",
       "      <td>12.0</td>\n",
       "      <td>0.0</td>\n",
       "      <td>9.2</td>\n",
       "      <td>2.0</td>\n",
       "      <td>14.7</td>\n",
       "      <td>14.0</td>\n",
       "      <td>99.0</td>\n",
       "      <td>3.3</td>\n",
       "      <td>15.8</td>\n",
       "      <td>9.0</td>\n",
       "    </tr>\n",
       "  </tbody>\n",
       "</table>\n",
       "</div>"
      ],
      "text/plain": [
       "         date  tavg  rainfall  tmin  tmin_hour  tmax  tmax_hour  \\\n",
       "0  2014-01-01  11.1       0.0   6.8        7.0  15.4       14.0   \n",
       "1  2014-01-02  15.1       0.0  12.3        5.0  17.9       12.0   \n",
       "2  2014-01-03  16.7       0.0  12.8        0.0  20.6       14.0   \n",
       "3  2014-01-04  12.6       1.3   9.8       23.0  15.4       11.0   \n",
       "4  2014-01-05  12.0       0.0   9.2        2.0  14.7       14.0   \n",
       "\n",
       "   wind_direction  wind_speed_avg  gusts_wind  gusts_wind_hour  \n",
       "0            25.0             2.8         8.3             15.0  \n",
       "1            26.0             3.1         6.1              0.0  \n",
       "2             5.0             3.9         8.9             17.0  \n",
       "3            28.0             2.8        18.1             18.0  \n",
       "4            99.0             3.3        15.8              9.0  "
      ]
     },
     "execution_count": 323,
     "metadata": {},
     "output_type": "execute_result"
    }
   ],
   "source": [
    "df_clima.head()"
   ]
  },
  {
   "cell_type": "code",
   "execution_count": 324,
   "metadata": {},
   "outputs": [
    {
     "data": {
      "text/plain": [
       "Index(['date', 'tavg', 'rainfall', 'tmin', 'tmin_hour', 'tmax', 'tmax_hour',\n",
       "       'wind_direction', 'wind_speed_avg', 'gusts_wind', 'gusts_wind_hour'],\n",
       "      dtype='object')"
      ]
     },
     "execution_count": 324,
     "metadata": {},
     "output_type": "execute_result"
    }
   ],
   "source": [
    "df_clima.columns"
   ]
  },
  {
   "cell_type": "code",
   "execution_count": 325,
   "metadata": {},
   "outputs": [
    {
     "data": {
      "text/plain": [
       "Index(['Codi_expedient', 'Codi_districte', 'Nom_districte', 'Codi_barri',\n",
       "       'Nom_barri', 'Codi_carrer', 'Nom_carrer', 'Num_postal', 'Dia_setmana',\n",
       "       'ID_Dia_setmana', 'Tipus_dia', 'Any', 'Mes', 'Nom_mes', 'Dia_de_mes',\n",
       "       'Hora_de_dia', 'Torn', 'Numero_morts', 'Numero_lesionats_lleus',\n",
       "       'Numero_lesionats_greus', 'Numero_victimes',\n",
       "       'Numero_vehicles_implicats', 'Longitud', 'Latitud', 'Tipus_accident',\n",
       "       'Causa_mediata', 'Descripcio_causa_vianant', 'Descripcio_tipus_vehicle',\n",
       "       'Descripcio_model', 'Descripcio_marca', 'Descripcio_color', 'ID_Torn',\n",
       "       'fecha'],\n",
       "      dtype='object')"
      ]
     },
     "execution_count": 325,
     "metadata": {},
     "output_type": "execute_result"
    }
   ],
   "source": [
    "df.columns"
   ]
  },
  {
   "cell_type": "code",
   "execution_count": 326,
   "metadata": {},
   "outputs": [],
   "source": [
    "df['fecha'] = df['fecha'].astype('str')"
   ]
  },
  {
   "cell_type": "code",
   "execution_count": 327,
   "metadata": {},
   "outputs": [
    {
     "data": {
      "text/plain": [
       "'2019-01-01'"
      ]
     },
     "execution_count": 327,
     "metadata": {},
     "output_type": "execute_result"
    }
   ],
   "source": [
    "df.fecha.iloc[0]"
   ]
  },
  {
   "cell_type": "code",
   "execution_count": 328,
   "metadata": {},
   "outputs": [
    {
     "data": {
      "text/plain": [
       "(2181, 11)"
      ]
     },
     "execution_count": 328,
     "metadata": {},
     "output_type": "execute_result"
    }
   ],
   "source": [
    "df_clima.shape"
   ]
  },
  {
   "cell_type": "code",
   "execution_count": 329,
   "metadata": {},
   "outputs": [],
   "source": [
    "df_clima.to_csv('clima_bcn_2014-2019.csv', sep = ',')"
   ]
  },
  {
   "cell_type": "code",
   "execution_count": 330,
   "metadata": {},
   "outputs": [
    {
     "data": {
      "text/plain": [
       "(111681, 44)"
      ]
     },
     "execution_count": 330,
     "metadata": {},
     "output_type": "execute_result"
    }
   ],
   "source": [
    "df = df.merge(df_clima, how = 'left', left_on = 'fecha', right_on = 'date')\n",
    "df.shape"
   ]
  },
  {
   "cell_type": "code",
   "execution_count": 331,
   "metadata": {},
   "outputs": [
    {
     "data": {
      "text/plain": [
       "Codi_expedient                   0\n",
       "Codi_districte                   0\n",
       "Nom_districte                  110\n",
       "Codi_barri                       0\n",
       "Nom_barri                      110\n",
       "Codi_carrer                      0\n",
       "Nom_carrer                       4\n",
       "Num_postal                    9108\n",
       "Dia_setmana                      0\n",
       "ID_Dia_setmana                   0\n",
       "Tipus_dia                        0\n",
       "Any                              0\n",
       "Mes                              0\n",
       "Nom_mes                          0\n",
       "Dia_de_mes                       0\n",
       "Hora_de_dia                      0\n",
       "Torn                             0\n",
       "Numero_morts                     0\n",
       "Numero_lesionats_lleus           0\n",
       "Numero_lesionats_greus           0\n",
       "Numero_victimes                  0\n",
       "Numero_vehicles_implicats        0\n",
       "Longitud                         0\n",
       "Latitud                          0\n",
       "Tipus_accident                  41\n",
       "Causa_mediata                    0\n",
       "Descripcio_causa_vianant     17424\n",
       "Descripcio_tipus_vehicle        85\n",
       "Descripcio_model              8757\n",
       "Descripcio_marca              4587\n",
       "Descripcio_color              9089\n",
       "ID_Torn                          0\n",
       "fecha                            0\n",
       "date                           498\n",
       "tavg                         11708\n",
       "rainfall                      1141\n",
       "tmin                         11708\n",
       "tmin_hour                      498\n",
       "tmax                         11708\n",
       "tmax_hour                      498\n",
       "wind_direction                 923\n",
       "wind_speed_avg                 638\n",
       "gusts_wind                     923\n",
       "gusts_wind_hour                923\n",
       "dtype: int64"
      ]
     },
     "execution_count": 331,
     "metadata": {},
     "output_type": "execute_result"
    }
   ],
   "source": [
    "df.isnull().sum()"
   ]
  },
  {
   "cell_type": "code",
   "execution_count": 332,
   "metadata": {
    "scrolled": true
   },
   "outputs": [
    {
     "data": {
      "text/plain": [
       "(111681, 44)"
      ]
     },
     "execution_count": 332,
     "metadata": {},
     "output_type": "execute_result"
    }
   ],
   "source": [
    "df.shape"
   ]
  },
  {
   "cell_type": "code",
   "execution_count": 334,
   "metadata": {},
   "outputs": [],
   "source": [
    "df['Numero_morts'] = df['Numero_morts'].astype('int32')\n",
    "df['Numero_lesionats_lleus'] = df['Numero_lesionats_lleus'].astype('int32')\n",
    "df['Numero_lesionats_greus'] = df['Numero_lesionats_greus'].astype('int32')\n",
    "df['Numero_victimes'] = df['Numero_victimes'].astype('int32')\n",
    "df['Numero_vehicles_implicats'] = df['Numero_vehicles_implicats'].astype('int32')\n",
    "df['fecha'] = pd.to_datetime(df.fecha ,format='%Y-%m-%d')"
   ]
  },
  {
   "cell_type": "code",
   "execution_count": 335,
   "metadata": {},
   "outputs": [
    {
     "data": {
      "text/plain": [
       "Index(['Codi_expedient', 'Codi_districte', 'Nom_districte', 'Codi_barri',\n",
       "       'Nom_barri', 'Codi_carrer', 'Nom_carrer', 'Num_postal', 'Dia_setmana',\n",
       "       'ID_Dia_setmana', 'Tipus_dia', 'Any', 'Mes', 'Nom_mes', 'Dia_de_mes',\n",
       "       'Hora_de_dia', 'Torn', 'Numero_morts', 'Numero_lesionats_lleus',\n",
       "       'Numero_lesionats_greus', 'Numero_victimes',\n",
       "       'Numero_vehicles_implicats', 'Longitud', 'Latitud', 'Tipus_accident',\n",
       "       'Causa_mediata', 'Descripcio_causa_vianant', 'Descripcio_tipus_vehicle',\n",
       "       'Descripcio_model', 'Descripcio_marca', 'Descripcio_color', 'ID_Torn',\n",
       "       'fecha', 'date', 'tavg', 'rainfall', 'tmin', 'tmin_hour', 'tmax',\n",
       "       'tmax_hour', 'wind_direction', 'wind_speed_avg', 'gusts_wind',\n",
       "       'gusts_wind_hour'],\n",
       "      dtype='object')"
      ]
     },
     "execution_count": 335,
     "metadata": {},
     "output_type": "execute_result"
    }
   ],
   "source": [
    "df.columns"
   ]
  },
  {
   "cell_type": "code",
   "execution_count": 336,
   "metadata": {},
   "outputs": [
    {
     "data": {
      "text/plain": [
       "Codi_expedient                0.000000\n",
       "Codi_districte                0.000000\n",
       "Nom_districte                 0.098495\n",
       "Codi_barri                    0.000000\n",
       "Nom_barri                     0.098495\n",
       "Codi_carrer                   0.000000\n",
       "Nom_carrer                    0.003582\n",
       "Num_postal                    8.155371\n",
       "Dia_setmana                   0.000000\n",
       "ID_Dia_setmana                0.000000\n",
       "Tipus_dia                     0.000000\n",
       "Any                           0.000000\n",
       "Mes                           0.000000\n",
       "Nom_mes                       0.000000\n",
       "Dia_de_mes                    0.000000\n",
       "Hora_de_dia                   0.000000\n",
       "Torn                          0.000000\n",
       "Numero_morts                  0.000000\n",
       "Numero_lesionats_lleus        0.000000\n",
       "Numero_lesionats_greus        0.000000\n",
       "Numero_victimes               0.000000\n",
       "Numero_vehicles_implicats     0.000000\n",
       "Longitud                      0.000000\n",
       "Latitud                       0.000000\n",
       "Tipus_accident                0.036712\n",
       "Causa_mediata                 0.000000\n",
       "Descripcio_causa_vianant     15.601579\n",
       "Descripcio_tipus_vehicle      0.076110\n",
       "Descripcio_model              7.841083\n",
       "Descripcio_marca              4.107234\n",
       "Descripcio_color              8.138358\n",
       "ID_Torn                       0.000000\n",
       "fecha                         0.000000\n",
       "date                          0.445913\n",
       "tavg                         10.483430\n",
       "rainfall                      1.021660\n",
       "tmin                         10.483430\n",
       "tmin_hour                     0.445913\n",
       "tmax                         10.483430\n",
       "tmax_hour                     0.445913\n",
       "wind_direction                0.826461\n",
       "wind_speed_avg                0.571270\n",
       "gusts_wind                    0.826461\n",
       "gusts_wind_hour               0.826461\n",
       "dtype: float64"
      ]
     },
     "execution_count": 336,
     "metadata": {},
     "output_type": "execute_result"
    }
   ],
   "source": [
    "df.isnull().sum()/len(df)*100"
   ]
  },
  {
   "cell_type": "code",
   "execution_count": 337,
   "metadata": {},
   "outputs": [
    {
     "data": {
      "text/html": [
       "<div>\n",
       "<style scoped>\n",
       "    .dataframe tbody tr th:only-of-type {\n",
       "        vertical-align: middle;\n",
       "    }\n",
       "\n",
       "    .dataframe tbody tr th {\n",
       "        vertical-align: top;\n",
       "    }\n",
       "\n",
       "    .dataframe thead th {\n",
       "        text-align: right;\n",
       "    }\n",
       "</style>\n",
       "<table border=\"1\" class=\"dataframe\">\n",
       "  <thead>\n",
       "    <tr style=\"text-align: right;\">\n",
       "      <th></th>\n",
       "      <th>Nom_barri</th>\n",
       "      <th>Codi_barri</th>\n",
       "      <th>Num_postal</th>\n",
       "    </tr>\n",
       "  </thead>\n",
       "  <tbody>\n",
       "    <tr>\n",
       "      <th>0</th>\n",
       "      <td>Sant Gervasi - Galvany</td>\n",
       "      <td>26</td>\n",
       "      <td>0482 0482</td>\n",
       "    </tr>\n",
       "    <tr>\n",
       "      <th>1</th>\n",
       "      <td>el Congrés i els Indians</td>\n",
       "      <td>62</td>\n",
       "      <td>9999 9999</td>\n",
       "    </tr>\n",
       "    <tr>\n",
       "      <th>2</th>\n",
       "      <td>el Congrés i els Indians</td>\n",
       "      <td>62</td>\n",
       "      <td>9999 9999</td>\n",
       "    </tr>\n",
       "    <tr>\n",
       "      <th>3</th>\n",
       "      <td>el Parc i la Llacuna del Poblenou</td>\n",
       "      <td>66</td>\n",
       "      <td>0111 0113</td>\n",
       "    </tr>\n",
       "    <tr>\n",
       "      <th>4</th>\n",
       "      <td>el Camp d'en Grassot i Gràcia Nova</td>\n",
       "      <td>32</td>\n",
       "      <td>0054 0054</td>\n",
       "    </tr>\n",
       "    <tr>\n",
       "      <th>...</th>\n",
       "      <td>...</td>\n",
       "      <td>...</td>\n",
       "      <td>...</td>\n",
       "    </tr>\n",
       "    <tr>\n",
       "      <th>111676</th>\n",
       "      <td>la Vila de Gràcia</td>\n",
       "      <td>62-6-31</td>\n",
       "      <td>0225 0225</td>\n",
       "    </tr>\n",
       "    <tr>\n",
       "      <th>111677</th>\n",
       "      <td>la Dreta de l'Eixample</td>\n",
       "      <td>24-2-7</td>\n",
       "      <td>9999 9999</td>\n",
       "    </tr>\n",
       "    <tr>\n",
       "      <th>111678</th>\n",
       "      <td>la Dreta de l'Eixample</td>\n",
       "      <td>24-2-7</td>\n",
       "      <td>9999 9999</td>\n",
       "    </tr>\n",
       "    <tr>\n",
       "      <th>111679</th>\n",
       "      <td>el Fort Pienc</td>\n",
       "      <td>26-2-5</td>\n",
       "      <td>0484 0484</td>\n",
       "    </tr>\n",
       "    <tr>\n",
       "      <th>111680</th>\n",
       "      <td>el Fort Pienc</td>\n",
       "      <td>26-2-5</td>\n",
       "      <td>0484 0484</td>\n",
       "    </tr>\n",
       "  </tbody>\n",
       "</table>\n",
       "<p>111681 rows × 3 columns</p>\n",
       "</div>"
      ],
      "text/plain": [
       "                                 Nom_barri Codi_barri Num_postal\n",
       "0                   Sant Gervasi - Galvany         26  0482 0482\n",
       "1                 el Congrés i els Indians         62  9999 9999\n",
       "2                 el Congrés i els Indians         62  9999 9999\n",
       "3        el Parc i la Llacuna del Poblenou         66  0111 0113\n",
       "4       el Camp d'en Grassot i Gràcia Nova         32  0054 0054\n",
       "...                                    ...        ...        ...\n",
       "111676                   la Vila de Gràcia    62-6-31  0225 0225\n",
       "111677              la Dreta de l'Eixample     24-2-7  9999 9999\n",
       "111678              la Dreta de l'Eixample     24-2-7  9999 9999\n",
       "111679                       el Fort Pienc     26-2-5  0484 0484\n",
       "111680                       el Fort Pienc     26-2-5  0484 0484\n",
       "\n",
       "[111681 rows x 3 columns]"
      ]
     },
     "execution_count": 337,
     "metadata": {},
     "output_type": "execute_result"
    }
   ],
   "source": [
    "df[['Nom_barri','Codi_barri', 'Num_postal']]"
   ]
  },
  {
   "cell_type": "code",
   "execution_count": 338,
   "metadata": {},
   "outputs": [
    {
     "data": {
      "text/plain": [
       "int"
      ]
     },
     "execution_count": 338,
     "metadata": {},
     "output_type": "execute_result"
    }
   ],
   "source": [
    "type(df.Codi_barri[0])"
   ]
  },
  {
   "cell_type": "code",
   "execution_count": 339,
   "metadata": {},
   "outputs": [
    {
     "data": {
      "text/plain": [
       "'31'"
      ]
     },
     "execution_count": 339,
     "metadata": {},
     "output_type": "execute_result"
    }
   ],
   "source": [
    "df.Codi_barri[111676].split('-')[-1]"
   ]
  },
  {
   "cell_type": "code",
   "execution_count": 340,
   "metadata": {},
   "outputs": [
    {
     "name": "stderr",
     "output_type": "stream",
     "text": [
      "<ipython-input-340-ed580ae00bdc>:3: SettingWithCopyWarning: \n",
      "A value is trying to be set on a copy of a slice from a DataFrame\n",
      "\n",
      "See the caveats in the documentation: https://pandas.pydata.org/pandas-docs/stable/user_guide/indexing.html#returning-a-view-versus-a-copy\n",
      "  df.Codi_barri[i] = df.Codi_barri[i].split('-')[-1]\n"
     ]
    }
   ],
   "source": [
    "for i in range(0,len(df.Codi_barri)):\n",
    "    if type(df.Codi_barri[i]) == str:\n",
    "        df.Codi_barri[i] = df.Codi_barri[i].split('-')[-1]\n",
    "    else:\n",
    "        pass"
   ]
  },
  {
   "cell_type": "code",
   "execution_count": 341,
   "metadata": {},
   "outputs": [],
   "source": [
    "df.Codi_barri = df.Codi_barri.astype('int32')"
   ]
  },
  {
   "cell_type": "code",
   "execution_count": 342,
   "metadata": {
    "scrolled": true
   },
   "outputs": [],
   "source": [
    "df.Codi_barri = df.Codi_barri.replace(-1, np.nan)"
   ]
  },
  {
   "cell_type": "code",
   "execution_count": 343,
   "metadata": {},
   "outputs": [
    {
     "data": {
      "text/plain": [
       "5584.05"
      ]
     },
     "execution_count": 343,
     "metadata": {},
     "output_type": "execute_result"
    }
   ],
   "source": [
    "#df.shape[0] == 100%\n",
    "#x == 5%\n",
    "\n",
    "(df.shape[0]*5) / 100"
   ]
  },
  {
   "cell_type": "code",
   "execution_count": 344,
   "metadata": {},
   "outputs": [
    {
     "data": {
      "text/plain": [
       "(111681, 44)"
      ]
     },
     "execution_count": 344,
     "metadata": {},
     "output_type": "execute_result"
    }
   ],
   "source": [
    "df.dropna(axis=1, thresh=5585, inplace = True) \n",
    "df.shape"
   ]
  },
  {
   "cell_type": "code",
   "execution_count": 345,
   "metadata": {},
   "outputs": [
    {
     "data": {
      "text/plain": [
       "Codi_expedient                0.000000\n",
       "Codi_districte                0.000000\n",
       "Nom_districte                 0.098495\n",
       "Codi_barri                    0.094913\n",
       "Nom_barri                     0.098495\n",
       "Codi_carrer                   0.000000\n",
       "Nom_carrer                    0.003582\n",
       "Num_postal                    8.155371\n",
       "Dia_setmana                   0.000000\n",
       "ID_Dia_setmana                0.000000\n",
       "Tipus_dia                     0.000000\n",
       "Any                           0.000000\n",
       "Mes                           0.000000\n",
       "Nom_mes                       0.000000\n",
       "Dia_de_mes                    0.000000\n",
       "Hora_de_dia                   0.000000\n",
       "Torn                          0.000000\n",
       "Numero_morts                  0.000000\n",
       "Numero_lesionats_lleus        0.000000\n",
       "Numero_lesionats_greus        0.000000\n",
       "Numero_victimes               0.000000\n",
       "Numero_vehicles_implicats     0.000000\n",
       "Longitud                      0.000000\n",
       "Latitud                       0.000000\n",
       "Tipus_accident                0.036712\n",
       "Causa_mediata                 0.000000\n",
       "Descripcio_causa_vianant     15.601579\n",
       "Descripcio_tipus_vehicle      0.076110\n",
       "Descripcio_model              7.841083\n",
       "Descripcio_marca              4.107234\n",
       "Descripcio_color              8.138358\n",
       "ID_Torn                       0.000000\n",
       "fecha                         0.000000\n",
       "date                          0.445913\n",
       "tavg                         10.483430\n",
       "rainfall                      1.021660\n",
       "tmin                         10.483430\n",
       "tmin_hour                     0.445913\n",
       "tmax                         10.483430\n",
       "tmax_hour                     0.445913\n",
       "wind_direction                0.826461\n",
       "wind_speed_avg                0.571270\n",
       "gusts_wind                    0.826461\n",
       "gusts_wind_hour               0.826461\n",
       "dtype: float64"
      ]
     },
     "execution_count": 345,
     "metadata": {},
     "output_type": "execute_result"
    }
   ],
   "source": [
    "df.isnull().sum()/df.shape[0] * 100"
   ]
  },
  {
   "cell_type": "code",
   "execution_count": 346,
   "metadata": {},
   "outputs": [],
   "source": [
    "df.drop(['Descripcio_model', 'Descripcio_marca', 'Descripcio_color'], axis = 1, inplace = True)"
   ]
  },
  {
   "cell_type": "code",
   "execution_count": 347,
   "metadata": {},
   "outputs": [
    {
     "data": {
      "text/plain": [
       "0         26.0\n",
       "1         62.0\n",
       "2         62.0\n",
       "3         66.0\n",
       "4         32.0\n",
       "          ... \n",
       "111676    31.0\n",
       "111677     7.0\n",
       "111678     7.0\n",
       "111679     5.0\n",
       "111680     5.0\n",
       "Name: Codi_barri, Length: 111681, dtype: float64"
      ]
     },
     "execution_count": 347,
     "metadata": {},
     "output_type": "execute_result"
    }
   ],
   "source": [
    "df.Codi_barri"
   ]
  },
  {
   "cell_type": "code",
   "execution_count": 348,
   "metadata": {},
   "outputs": [],
   "source": [
    "#df.Num_postal = df.Num_postal.replace('9999 9999', np.nan)"
   ]
  },
  {
   "cell_type": "code",
   "execution_count": 349,
   "metadata": {},
   "outputs": [
    {
     "data": {
      "text/html": [
       "<div>\n",
       "<style scoped>\n",
       "    .dataframe tbody tr th:only-of-type {\n",
       "        vertical-align: middle;\n",
       "    }\n",
       "\n",
       "    .dataframe tbody tr th {\n",
       "        vertical-align: top;\n",
       "    }\n",
       "\n",
       "    .dataframe thead th {\n",
       "        text-align: right;\n",
       "    }\n",
       "</style>\n",
       "<table border=\"1\" class=\"dataframe\">\n",
       "  <thead>\n",
       "    <tr style=\"text-align: right;\">\n",
       "      <th></th>\n",
       "      <th>Nom_districte</th>\n",
       "      <th>Codi_districte</th>\n",
       "      <th>Nom_barri</th>\n",
       "      <th>Codi_barri</th>\n",
       "      <th>Nom_carrer</th>\n",
       "      <th>Codi_carrer</th>\n",
       "      <th>Longitud</th>\n",
       "      <th>Latitud</th>\n",
       "    </tr>\n",
       "  </thead>\n",
       "  <tbody>\n",
       "    <tr>\n",
       "      <th>98871</th>\n",
       "      <td>NaN</td>\n",
       "      <td>-1.0</td>\n",
       "      <td>NaN</td>\n",
       "      <td>1.0</td>\n",
       "      <td>NaN</td>\n",
       "      <td>-1.0</td>\n",
       "      <td>-1.488753</td>\n",
       "      <td>-0.000009</td>\n",
       "    </tr>\n",
       "    <tr>\n",
       "      <th>98872</th>\n",
       "      <td>NaN</td>\n",
       "      <td>-1.0</td>\n",
       "      <td>NaN</td>\n",
       "      <td>1.0</td>\n",
       "      <td>NaN</td>\n",
       "      <td>-1.0</td>\n",
       "      <td>-1.488753</td>\n",
       "      <td>-0.000009</td>\n",
       "    </tr>\n",
       "    <tr>\n",
       "      <th>109020</th>\n",
       "      <td>NaN</td>\n",
       "      <td>-1.0</td>\n",
       "      <td>NaN</td>\n",
       "      <td>1.0</td>\n",
       "      <td>NaN</td>\n",
       "      <td>-1.0</td>\n",
       "      <td>-1.488753</td>\n",
       "      <td>-0.000009</td>\n",
       "    </tr>\n",
       "    <tr>\n",
       "      <th>109021</th>\n",
       "      <td>NaN</td>\n",
       "      <td>-1.0</td>\n",
       "      <td>NaN</td>\n",
       "      <td>1.0</td>\n",
       "      <td>NaN</td>\n",
       "      <td>-1.0</td>\n",
       "      <td>-1.488753</td>\n",
       "      <td>-0.000009</td>\n",
       "    </tr>\n",
       "  </tbody>\n",
       "</table>\n",
       "</div>"
      ],
      "text/plain": [
       "       Nom_districte  Codi_districte Nom_barri  Codi_barri Nom_carrer  \\\n",
       "98871            NaN            -1.0       NaN         1.0        NaN   \n",
       "98872            NaN            -1.0       NaN         1.0        NaN   \n",
       "109020           NaN            -1.0       NaN         1.0        NaN   \n",
       "109021           NaN            -1.0       NaN         1.0        NaN   \n",
       "\n",
       "        Codi_carrer  Longitud   Latitud  \n",
       "98871          -1.0 -1.488753 -0.000009  \n",
       "98872          -1.0 -1.488753 -0.000009  \n",
       "109020         -1.0 -1.488753 -0.000009  \n",
       "109021         -1.0 -1.488753 -0.000009  "
      ]
     },
     "execution_count": 349,
     "metadata": {},
     "output_type": "execute_result"
    }
   ],
   "source": [
    "df[['Nom_districte','Codi_districte', 'Nom_barri', 'Codi_barri','Nom_carrer', 'Codi_carrer','Longitud', 'Latitud']][df['Nom_carrer'].isnull()]"
   ]
  },
  {
   "cell_type": "code",
   "execution_count": 350,
   "metadata": {},
   "outputs": [],
   "source": [
    "df.drop([98871,98872,109020,109021], inplace = True)"
   ]
  },
  {
   "cell_type": "code",
   "execution_count": 351,
   "metadata": {},
   "outputs": [
    {
     "data": {
      "text/html": [
       "<div>\n",
       "<style scoped>\n",
       "    .dataframe tbody tr th:only-of-type {\n",
       "        vertical-align: middle;\n",
       "    }\n",
       "\n",
       "    .dataframe tbody tr th {\n",
       "        vertical-align: top;\n",
       "    }\n",
       "\n",
       "    .dataframe thead th {\n",
       "        text-align: right;\n",
       "    }\n",
       "</style>\n",
       "<table border=\"1\" class=\"dataframe\">\n",
       "  <thead>\n",
       "    <tr style=\"text-align: right;\">\n",
       "      <th></th>\n",
       "      <th>Codi_expedient</th>\n",
       "      <th>Codi_districte</th>\n",
       "      <th>Nom_districte</th>\n",
       "      <th>Codi_barri</th>\n",
       "      <th>Nom_barri</th>\n",
       "      <th>Codi_carrer</th>\n",
       "      <th>Nom_carrer</th>\n",
       "      <th>Num_postal</th>\n",
       "      <th>Dia_setmana</th>\n",
       "      <th>ID_Dia_setmana</th>\n",
       "      <th>...</th>\n",
       "      <th>tavg</th>\n",
       "      <th>rainfall</th>\n",
       "      <th>tmin</th>\n",
       "      <th>tmin_hour</th>\n",
       "      <th>tmax</th>\n",
       "      <th>tmax_hour</th>\n",
       "      <th>wind_direction</th>\n",
       "      <th>wind_speed_avg</th>\n",
       "      <th>gusts_wind</th>\n",
       "      <th>gusts_wind_hour</th>\n",
       "    </tr>\n",
       "  </thead>\n",
       "  <tbody>\n",
       "    <tr>\n",
       "      <th>0</th>\n",
       "      <td>2019S000001</td>\n",
       "      <td>5.0</td>\n",
       "      <td>Sarrià-Sant Gervasi</td>\n",
       "      <td>26.0</td>\n",
       "      <td>Sant Gervasi - Galvany</td>\n",
       "      <td>144601.0</td>\n",
       "      <td>Diagonal / Augusta</td>\n",
       "      <td>0482 0482</td>\n",
       "      <td>tue</td>\n",
       "      <td>2</td>\n",
       "      <td>...</td>\n",
       "      <td>11.4</td>\n",
       "      <td>0.0</td>\n",
       "      <td>6.6</td>\n",
       "      <td>3.0</td>\n",
       "      <td>16.2</td>\n",
       "      <td>12.0</td>\n",
       "      <td>1.0</td>\n",
       "      <td>3.1</td>\n",
       "      <td>6.4</td>\n",
       "      <td>7.0</td>\n",
       "    </tr>\n",
       "    <tr>\n",
       "      <th>1</th>\n",
       "      <td>2019S000002</td>\n",
       "      <td>9.0</td>\n",
       "      <td>Sant Andreu</td>\n",
       "      <td>62.0</td>\n",
       "      <td>el Congrés i els Indians</td>\n",
       "      <td>102907.0</td>\n",
       "      <td>Felip II / Congrés Eucarístic</td>\n",
       "      <td>9999 9999</td>\n",
       "      <td>tue</td>\n",
       "      <td>2</td>\n",
       "      <td>...</td>\n",
       "      <td>11.4</td>\n",
       "      <td>0.0</td>\n",
       "      <td>6.6</td>\n",
       "      <td>3.0</td>\n",
       "      <td>16.2</td>\n",
       "      <td>12.0</td>\n",
       "      <td>1.0</td>\n",
       "      <td>3.1</td>\n",
       "      <td>6.4</td>\n",
       "      <td>7.0</td>\n",
       "    </tr>\n",
       "    <tr>\n",
       "      <th>2</th>\n",
       "      <td>2019S000002</td>\n",
       "      <td>9.0</td>\n",
       "      <td>Sant Andreu</td>\n",
       "      <td>62.0</td>\n",
       "      <td>el Congrés i els Indians</td>\n",
       "      <td>102907.0</td>\n",
       "      <td>Felip II / Congrés Eucarístic</td>\n",
       "      <td>9999 9999</td>\n",
       "      <td>tue</td>\n",
       "      <td>2</td>\n",
       "      <td>...</td>\n",
       "      <td>11.4</td>\n",
       "      <td>0.0</td>\n",
       "      <td>6.6</td>\n",
       "      <td>3.0</td>\n",
       "      <td>16.2</td>\n",
       "      <td>12.0</td>\n",
       "      <td>1.0</td>\n",
       "      <td>3.1</td>\n",
       "      <td>6.4</td>\n",
       "      <td>7.0</td>\n",
       "    </tr>\n",
       "    <tr>\n",
       "      <th>3</th>\n",
       "      <td>2019S000003</td>\n",
       "      <td>10.0</td>\n",
       "      <td>Sant Martí</td>\n",
       "      <td>66.0</td>\n",
       "      <td>el Parc i la Llacuna del Poblenou</td>\n",
       "      <td>242906.0</td>\n",
       "      <td>Pallars</td>\n",
       "      <td>0111 0113</td>\n",
       "      <td>tue</td>\n",
       "      <td>2</td>\n",
       "      <td>...</td>\n",
       "      <td>11.4</td>\n",
       "      <td>0.0</td>\n",
       "      <td>6.6</td>\n",
       "      <td>3.0</td>\n",
       "      <td>16.2</td>\n",
       "      <td>12.0</td>\n",
       "      <td>1.0</td>\n",
       "      <td>3.1</td>\n",
       "      <td>6.4</td>\n",
       "      <td>7.0</td>\n",
       "    </tr>\n",
       "    <tr>\n",
       "      <th>4</th>\n",
       "      <td>2019S000004</td>\n",
       "      <td>6.0</td>\n",
       "      <td>Gràcia</td>\n",
       "      <td>32.0</td>\n",
       "      <td>el Camp d'en Grassot i Gràcia Nova</td>\n",
       "      <td>228803.0</td>\n",
       "      <td>Taxdirt / Nogués</td>\n",
       "      <td>0054 0054</td>\n",
       "      <td>tue</td>\n",
       "      <td>2</td>\n",
       "      <td>...</td>\n",
       "      <td>11.4</td>\n",
       "      <td>0.0</td>\n",
       "      <td>6.6</td>\n",
       "      <td>3.0</td>\n",
       "      <td>16.2</td>\n",
       "      <td>12.0</td>\n",
       "      <td>1.0</td>\n",
       "      <td>3.1</td>\n",
       "      <td>6.4</td>\n",
       "      <td>7.0</td>\n",
       "    </tr>\n",
       "  </tbody>\n",
       "</table>\n",
       "<p>5 rows × 41 columns</p>\n",
       "</div>"
      ],
      "text/plain": [
       "  Codi_expedient  Codi_districte        Nom_districte  Codi_barri  \\\n",
       "0    2019S000001             5.0  Sarrià-Sant Gervasi        26.0   \n",
       "1    2019S000002             9.0          Sant Andreu        62.0   \n",
       "2    2019S000002             9.0          Sant Andreu        62.0   \n",
       "3    2019S000003            10.0           Sant Martí        66.0   \n",
       "4    2019S000004             6.0               Gràcia        32.0   \n",
       "\n",
       "                            Nom_barri  Codi_carrer  \\\n",
       "0              Sant Gervasi - Galvany     144601.0   \n",
       "1            el Congrés i els Indians     102907.0   \n",
       "2            el Congrés i els Indians     102907.0   \n",
       "3   el Parc i la Llacuna del Poblenou     242906.0   \n",
       "4  el Camp d'en Grassot i Gràcia Nova     228803.0   \n",
       "\n",
       "                      Nom_carrer Num_postal Dia_setmana  ID_Dia_setmana  ...  \\\n",
       "0             Diagonal / Augusta  0482 0482         tue               2  ...   \n",
       "1  Felip II / Congrés Eucarístic  9999 9999         tue               2  ...   \n",
       "2  Felip II / Congrés Eucarístic  9999 9999         tue               2  ...   \n",
       "3                        Pallars  0111 0113         tue               2  ...   \n",
       "4               Taxdirt / Nogués  0054 0054         tue               2  ...   \n",
       "\n",
       "   tavg  rainfall  tmin tmin_hour  tmax  tmax_hour wind_direction  \\\n",
       "0  11.4       0.0   6.6       3.0  16.2       12.0            1.0   \n",
       "1  11.4       0.0   6.6       3.0  16.2       12.0            1.0   \n",
       "2  11.4       0.0   6.6       3.0  16.2       12.0            1.0   \n",
       "3  11.4       0.0   6.6       3.0  16.2       12.0            1.0   \n",
       "4  11.4       0.0   6.6       3.0  16.2       12.0            1.0   \n",
       "\n",
       "   wind_speed_avg  gusts_wind  gusts_wind_hour  \n",
       "0             3.1         6.4              7.0  \n",
       "1             3.1         6.4              7.0  \n",
       "2             3.1         6.4              7.0  \n",
       "3             3.1         6.4              7.0  \n",
       "4             3.1         6.4              7.0  \n",
       "\n",
       "[5 rows x 41 columns]"
      ]
     },
     "execution_count": 351,
     "metadata": {},
     "output_type": "execute_result"
    }
   ],
   "source": [
    "df.head()"
   ]
  },
  {
   "cell_type": "code",
   "execution_count": 352,
   "metadata": {},
   "outputs": [],
   "source": [
    "df['Codi_districte'] = df['Codi_districte'].replace(-1, np.nan)\n",
    "df['Codi_carrer'] = df['Codi_carrer'].replace(-1, np.nan)"
   ]
  },
  {
   "cell_type": "code",
   "execution_count": 353,
   "metadata": {},
   "outputs": [
    {
     "data": {
      "text/html": [
       "<div>\n",
       "<style scoped>\n",
       "    .dataframe tbody tr th:only-of-type {\n",
       "        vertical-align: middle;\n",
       "    }\n",
       "\n",
       "    .dataframe tbody tr th {\n",
       "        vertical-align: top;\n",
       "    }\n",
       "\n",
       "    .dataframe thead th {\n",
       "        text-align: right;\n",
       "    }\n",
       "</style>\n",
       "<table border=\"1\" class=\"dataframe\">\n",
       "  <thead>\n",
       "    <tr style=\"text-align: right;\">\n",
       "      <th></th>\n",
       "      <th>Nom_districte</th>\n",
       "      <th>Codi_districte</th>\n",
       "      <th>Nom_barri</th>\n",
       "      <th>Codi_barri</th>\n",
       "      <th>Nom_carrer</th>\n",
       "      <th>Codi_carrer</th>\n",
       "      <th>Longitud</th>\n",
       "      <th>Latitud</th>\n",
       "    </tr>\n",
       "  </thead>\n",
       "  <tbody>\n",
       "    <tr>\n",
       "      <th>961</th>\n",
       "      <td>NaN</td>\n",
       "      <td>NaN</td>\n",
       "      <td>NaN</td>\n",
       "      <td>NaN</td>\n",
       "      <td>Foc / Jocs del 92</td>\n",
       "      <td>NaN</td>\n",
       "      <td>2.149810</td>\n",
       "      <td>41.359782</td>\n",
       "    </tr>\n",
       "    <tr>\n",
       "      <th>962</th>\n",
       "      <td>NaN</td>\n",
       "      <td>NaN</td>\n",
       "      <td>NaN</td>\n",
       "      <td>NaN</td>\n",
       "      <td>Foc / Jocs del 92</td>\n",
       "      <td>NaN</td>\n",
       "      <td>2.149810</td>\n",
       "      <td>41.359782</td>\n",
       "    </tr>\n",
       "    <tr>\n",
       "      <th>1121</th>\n",
       "      <td>NaN</td>\n",
       "      <td>NaN</td>\n",
       "      <td>NaN</td>\n",
       "      <td>NaN</td>\n",
       "      <td>Viladomat</td>\n",
       "      <td>NaN</td>\n",
       "      <td>2.162335</td>\n",
       "      <td>41.375692</td>\n",
       "    </tr>\n",
       "    <tr>\n",
       "      <th>1148</th>\n",
       "      <td>NaN</td>\n",
       "      <td>NaN</td>\n",
       "      <td>NaN</td>\n",
       "      <td>NaN</td>\n",
       "      <td>Número 50 Zona Franca</td>\n",
       "      <td>NaN</td>\n",
       "      <td>2.114688</td>\n",
       "      <td>41.337280</td>\n",
       "    </tr>\n",
       "    <tr>\n",
       "      <th>1149</th>\n",
       "      <td>NaN</td>\n",
       "      <td>NaN</td>\n",
       "      <td>NaN</td>\n",
       "      <td>NaN</td>\n",
       "      <td>Número 50 Zona Franca</td>\n",
       "      <td>NaN</td>\n",
       "      <td>2.114688</td>\n",
       "      <td>41.337280</td>\n",
       "    </tr>\n",
       "    <tr>\n",
       "      <th>...</th>\n",
       "      <td>...</td>\n",
       "      <td>...</td>\n",
       "      <td>...</td>\n",
       "      <td>...</td>\n",
       "      <td>...</td>\n",
       "      <td>...</td>\n",
       "      <td>...</td>\n",
       "      <td>...</td>\n",
       "    </tr>\n",
       "    <tr>\n",
       "      <th>68352</th>\n",
       "      <td>NaN</td>\n",
       "      <td>NaN</td>\n",
       "      <td>NaN</td>\n",
       "      <td>NaN</td>\n",
       "      <td>PG MARÍT BOGATELL</td>\n",
       "      <td>NaN</td>\n",
       "      <td>2.208755</td>\n",
       "      <td>41.396371</td>\n",
       "    </tr>\n",
       "    <tr>\n",
       "      <th>72691</th>\n",
       "      <td>NaN</td>\n",
       "      <td>NaN</td>\n",
       "      <td>NaN</td>\n",
       "      <td>NaN</td>\n",
       "      <td>NÚMERO 6 / A</td>\n",
       "      <td>NaN</td>\n",
       "      <td>2.132817</td>\n",
       "      <td>41.323437</td>\n",
       "    </tr>\n",
       "    <tr>\n",
       "      <th>72914</th>\n",
       "      <td>NaN</td>\n",
       "      <td>NaN</td>\n",
       "      <td>NaN</td>\n",
       "      <td>NaN</td>\n",
       "      <td>RDA LITORAL(BESÒS)</td>\n",
       "      <td>NaN</td>\n",
       "      <td>2.205163</td>\n",
       "      <td>41.444756</td>\n",
       "    </tr>\n",
       "    <tr>\n",
       "      <th>73380</th>\n",
       "      <td>NaN</td>\n",
       "      <td>NaN</td>\n",
       "      <td>NaN</td>\n",
       "      <td>NaN</td>\n",
       "      <td>PG VALL D'HEBRON</td>\n",
       "      <td>NaN</td>\n",
       "      <td>2.144584</td>\n",
       "      <td>41.430611</td>\n",
       "    </tr>\n",
       "    <tr>\n",
       "      <th>74027</th>\n",
       "      <td>NaN</td>\n",
       "      <td>NaN</td>\n",
       "      <td>NaN</td>\n",
       "      <td>NaN</td>\n",
       "      <td>BALMES</td>\n",
       "      <td>NaN</td>\n",
       "      <td>2.150985</td>\n",
       "      <td>41.398881</td>\n",
       "    </tr>\n",
       "  </tbody>\n",
       "</table>\n",
       "<p>106 rows × 8 columns</p>\n",
       "</div>"
      ],
      "text/plain": [
       "      Nom_districte  Codi_districte Nom_barri  Codi_barri  \\\n",
       "961             NaN             NaN       NaN         NaN   \n",
       "962             NaN             NaN       NaN         NaN   \n",
       "1121            NaN             NaN       NaN         NaN   \n",
       "1148            NaN             NaN       NaN         NaN   \n",
       "1149            NaN             NaN       NaN         NaN   \n",
       "...             ...             ...       ...         ...   \n",
       "68352           NaN             NaN       NaN         NaN   \n",
       "72691           NaN             NaN       NaN         NaN   \n",
       "72914           NaN             NaN       NaN         NaN   \n",
       "73380           NaN             NaN       NaN         NaN   \n",
       "74027           NaN             NaN       NaN         NaN   \n",
       "\n",
       "                  Nom_carrer  Codi_carrer  Longitud    Latitud  \n",
       "961        Foc / Jocs del 92          NaN  2.149810  41.359782  \n",
       "962        Foc / Jocs del 92          NaN  2.149810  41.359782  \n",
       "1121               Viladomat          NaN  2.162335  41.375692  \n",
       "1148   Número 50 Zona Franca          NaN  2.114688  41.337280  \n",
       "1149   Número 50 Zona Franca          NaN  2.114688  41.337280  \n",
       "...                      ...          ...       ...        ...  \n",
       "68352      PG MARÍT BOGATELL          NaN  2.208755  41.396371  \n",
       "72691           NÚMERO 6 / A          NaN  2.132817  41.323437  \n",
       "72914     RDA LITORAL(BESÒS)          NaN  2.205163  41.444756  \n",
       "73380       PG VALL D'HEBRON          NaN  2.144584  41.430611  \n",
       "74027                 BALMES          NaN  2.150985  41.398881  \n",
       "\n",
       "[106 rows x 8 columns]"
      ]
     },
     "execution_count": 353,
     "metadata": {},
     "output_type": "execute_result"
    }
   ],
   "source": [
    "df[['Nom_districte','Codi_districte', 'Nom_barri', 'Codi_barri','Nom_carrer', 'Codi_carrer','Longitud', 'Latitud']][df['Nom_districte'].isnull()]"
   ]
  },
  {
   "cell_type": "code",
   "execution_count": 354,
   "metadata": {},
   "outputs": [],
   "source": [
    "df.rename(columns={'Codi_expedient':'id_record' ,\n",
    "                       'Codi_districte': 'id_district',\n",
    "                       'Nom_districte': 'district_name',\n",
    "                       'Codi_barri': 'id_neighborhood',\n",
    "                       \n",
    "                       'Nom_barri': 'neighborhood_name',\n",
    "                       'Codi_carrer': 'id_street',\n",
    "                       'Nom_carrer': 'street_name',\n",
    "                       'Num_postal': 'post_code',\n",
    "                       \n",
    "                       'Dia_setmana':'weekday' ,\n",
    "                       'ID_Dia_setmana':'id_weekday' ,\n",
    "                       'Tipus_dia':'holiday_calendar' ,\n",
    "                       'Any':'year' ,\n",
    "                       \n",
    "                       'Mes':'id_month' ,\n",
    "                       'Nom_mes':'month' ,\n",
    "                       'Dia_de_mes':'day' ,\n",
    "                       'Hora_de_dia':'time' ,\n",
    "                       'Torn':'shift' ,\n",
    "                       'Numero_morts':'death' ,\n",
    "                       \n",
    "                       'Numero_lesionats_lleus':'minor_injuries' ,\n",
    "                       'Numero_lesionats_greus':'severe_injuries' ,\n",
    "                       'Numero_victimes':'victims' ,\n",
    "                       \n",
    "                       'Numero_vehicles_implicats':'vehicles' ,\n",
    "                       'Tipus_accident':'accident_type' ,\n",
    "                       'Causa_mediata':'cause' ,\n",
    "                       \n",
    "                       'Descripcio_causa_vianant':'pedestrian_cause' ,\n",
    "                       'Descripcio_tipus_vehicle':'vehicle_type' ,\n",
    "                       'ID_Torn':'id_shift' ,\n",
    "                   \n",
    "                       'tavg': 'tavg',\n",
    "                       'tmin': 'tmin',\n",
    "                       'tmin_hour': 'tmin_hour',\n",
    "                       'tmax': 'tmax',\n",
    "                       'tmax_hour': 'tmax_hour',\n",
    "                       'gusts_wind': 'gusts_wind',\n",
    "                       'gusts_wind_hour': 'gusts_wind_hour',\n",
    "                       \n",
    "                       'date':'date' ,\n",
    "                       'rainfall':'rainfall' ,\n",
    "                       'wind_direction':'wind_direction' ,\n",
    "                       'wind_speed_avg':'wind_speed_avg' ,\n",
    "                       'Longitud':'longitude' ,\n",
    "                       'Latitud':'latitude' \n",
    "                       }, inplace = True)"
   ]
  },
  {
   "cell_type": "code",
   "execution_count": 355,
   "metadata": {},
   "outputs": [
    {
     "data": {
      "text/plain": [
       "array(['No és causa del  vianant', 'Creuar per fora pas de vianants',\n",
       "       'Altres', 'Transitar a peu per la calçada',\n",
       "       'Desobeir el senyal del semàfor', 'Desobeir altres senyals', nan],\n",
       "      dtype=object)"
      ]
     },
     "execution_count": 355,
     "metadata": {},
     "output_type": "execute_result"
    }
   ],
   "source": [
    "df.pedestrian_cause.unique()"
   ]
  },
  {
   "cell_type": "code",
   "execution_count": 356,
   "metadata": {},
   "outputs": [],
   "source": [
    "df['pedestrian_cause'] = df['pedestrian_cause'].map({'No és causa del  vianant':\"the accident is not the pedestrian's fault\",\n",
    "                                                       'Creuar per fora pas de vianants':'cross outside the crosswalks',\n",
    "                                                       \n",
    "                                                       'Altres':'other',\n",
    "                                                       'Transitar a peu per la calçada':'cross the highway',\n",
    "                                                       \n",
    "                                                       'Desobeir el senyal del semàfor': 'ignore traffic-light',\n",
    "                                                       'Desobeir altres senyals':'ignore any traffic-sign',\n",
    "                                                        np.nan:np.nan})"
   ]
  },
  {
   "cell_type": "code",
   "execution_count": 357,
   "metadata": {},
   "outputs": [
    {
     "data": {
      "text/plain": [
       "array(['Turisme', 'Ciclomotor', 'Taxi', 'Motocicleta', 'Bicicleta',\n",
       "       'Camió rígid <= 3,5 tones', nan, 'Autobús articulat', 'Furgoneta',\n",
       "       'Veh. mobilitat personal sense motor', 'Autobús',\n",
       "       'Camió rígid > 3,5 tones', 'Veh. mobilitat personal amb motor',\n",
       "       'Altres vehicles amb motor', 'Tractor camió', 'Tot terreny',\n",
       "       \"Maquinària d'obres i serveis\", 'Autocar', 'Quadricicle > 75 cc',\n",
       "       'Pick-up', 'Carro', 'Altres vehicles sense motor',\n",
       "       'Quadricicle < 75 cc', 'Tren o tramvia', 'Autocaravana',\n",
       "       'Microbús <= 17', 'Turismo', 'Camión <= 3,5 Tm', 'Tranvía o tren',\n",
       "       'Camión > 3,5 Tm', 'Otros vehíc. a motor', 'Tractocamión',\n",
       "       'Todo terreno', 'Autobús articulado', 'Maquinaria de obras',\n",
       "       'Microbus <=17 plazas', 'Cuadriciclo <75cc', 'Microbus <= 17',\n",
       "       'Cuadriciclo >=75cc'], dtype=object)"
      ]
     },
     "execution_count": 357,
     "metadata": {},
     "output_type": "execute_result"
    }
   ],
   "source": [
    "df.vehicle_type.unique()"
   ]
  },
  {
   "cell_type": "code",
   "execution_count": 358,
   "metadata": {},
   "outputs": [],
   "source": [
    "df['vehicle_type'] = df['vehicle_type'].map({'Turisme':'passenger_car',\n",
    "                                               'Ciclomotor':'moped',\n",
    "                                               'Taxi':'taxi',\n",
    "                                               'Motocicleta':'motorcyle',\n",
    "                                               'Bicicleta':'bike',\n",
    "                                               \n",
    "                                               'Camió rígid <= 3,5 tones':'rigid_truck',\n",
    "                                               'Autobús articulat':'articulated_buses',\n",
    "                                               'Furgoneta':'van',\n",
    "                                               \n",
    "                                               'Veh. mobilitat personal sense motor':'non-motorized_transport',\n",
    "                                               'Autobús':'buses',\n",
    "                                               \n",
    "                                               'Camió rígid > 3,5 tones':'rigid_truck',\n",
    "                                               'Veh. mobilitat personal amb motor':'electric_scooter',\n",
    "                                               \n",
    "                                               'Altres vehicles amb motor':'other_vehicles',\n",
    "                                               'Tractor camió':'semi_tractor',\n",
    "                                               'Tot terreny':'jeep',\n",
    "                                               \n",
    "                                               \"Maquinària d'obres i serveis\":'construction_vehicles',\n",
    "                                               'Autocar':'school_buses',\n",
    "                                               'Quadricicle > 75 cc':'quad',\n",
    "                                               \n",
    "                                               'Pick-up':'pickup',\n",
    "                                               'Carro':'passenger_car',\n",
    "                                               'Altres vehicles sense motor':'non-motorized_transport',\n",
    "                                               \n",
    "                                               'Quadricicle < 75 cc':'quad',\n",
    "                                               'Tren o tramvia':'tram_or_train',\n",
    "                                               'Autocaravana':'motorhome',\n",
    "                                               \n",
    "                                               'Microbús <= 17':'microbuses',\n",
    "                                               'Turismo':'passenger_car',\n",
    "                                               'Camión <= 3,5 Tm':'truck',\n",
    "                                               'Tranvía o tren':'tram_or_train',\n",
    "                                               \n",
    "                                               'Camión > 3,5 Tm':'truck',\n",
    "                                               'Otros vehíc. a motor':'other_vehicles',\n",
    "                                               'Tractocamión':'semi_tractor',\n",
    "                                               \n",
    "                                               'Todo terreno':'jeep',\n",
    "                                               'Autobús articulado':'articulated_buses',\n",
    "                                               'Maquinaria de obras':'construction_vehicles',\n",
    "                                               \n",
    "                                               'Microbus <=17 plazas':'microbuses',\n",
    "                                               'Cuadriciclo <75cc':'quad',\n",
    "                                               'Microbus <= 17':'microbuses',\n",
    "                                               \n",
    "                                               'Cuadriciclo >=75cc':'quad',\n",
    "                                                np.nan:np.nan})"
   ]
  },
  {
   "cell_type": "code",
   "execution_count": 359,
   "metadata": {
    "scrolled": true
   },
   "outputs": [
    {
     "data": {
      "text/plain": [
       "array(['No hi ha causa mediata', 'Calçada en mal estat', 'Alcoholèmia',\n",
       "       'Drogues o medicaments', 'Objectes o animals a la calçada',\n",
       "       'Excés de velocitat o inadequada', 'Estat de la senyalització',\n",
       "       'Factors meteorològics'], dtype=object)"
      ]
     },
     "execution_count": 359,
     "metadata": {},
     "output_type": "execute_result"
    }
   ],
   "source": [
    "df.cause.unique()"
   ]
  },
  {
   "cell_type": "code",
   "execution_count": 360,
   "metadata": {},
   "outputs": [],
   "source": [
    "df['cause'] = df['cause'].map({'No hi ha causa mediata': 'any',\n",
    "                                 'Calçada en mal estat': 'poor road conditions',\n",
    "                                 'Alcoholèmia': 'alcohol',\n",
    "                                 \n",
    "                                 'Drogues o medicaments': 'drugs or medicines',\n",
    "                                 'Objectes o animals a la calçada': 'objects on the road or animals crossing',\n",
    "                                 \n",
    "                                 'Excés de velocitat o inadequada': 'excessive speed',\n",
    "                                 'Estat de la senyalització': 'traffic signal faults',\n",
    "                                 \n",
    "                                 'Factors meteorològics': 'adverse weather conditions',\n",
    "                                  np.nan:np.nan})"
   ]
  },
  {
   "cell_type": "code",
   "execution_count": 361,
   "metadata": {},
   "outputs": [
    {
     "data": {
      "text/plain": [
       "array(['Atropellament', 'Col.lisió frontal', 'Col.lisió fronto-lateral',\n",
       "       'Caiguda (dues rodes)', 'Abast', 'Xoc contra element estàtic',\n",
       "       'Altres', 'Col.lisió lateral', 'Bolcada (més de dues rodes)',\n",
       "       'Caiguda interior vehicle', 'Abast multiple',\n",
       "       'Xoc amb animal a la calçada', 'Resta sortides de via', nan,\n",
       "       'Encalç', 'Sortida de via amb xoc o col.lisió',\n",
       "       'Sortida de via amb bolcada'], dtype=object)"
      ]
     },
     "execution_count": 361,
     "metadata": {},
     "output_type": "execute_result"
    }
   ],
   "source": [
    "df.accident_type.unique()"
   ]
  },
  {
   "cell_type": "code",
   "execution_count": 362,
   "metadata": {},
   "outputs": [],
   "source": [
    "df['accident_type'] = df['accident_type'].map({'Atropellament': 'pedestrian_shot-down',\n",
    "                                                 'Col.lisió frontal': 'head-on_collision',\n",
    "                                                 'Col.lisió fronto-lateral': 'side-impact_collision',\n",
    "                                                 \n",
    "                                                 'Caiguda (dues rodes)': 'falls-off(two_wheeled_vehicles)',\n",
    "                                                 'Abast': 'rear_impact',\n",
    "                                                 'Xoc contra element estàtic': 'crash_into_static_element',\n",
    "                                                 \n",
    "                                                 'Altres': 'other',\n",
    "                                                 'Col.lisió lateral': 't-bone_car_accident',\n",
    "                                                 'Bolcada (més de dues rodes)': 'vehicle_roll-over',\n",
    "                                                 \n",
    "                                                 'Caiguda interior vehicle': 'vehicle_fall-down',\n",
    "                                                 'Abast multiple': 'multiple_vehicle_collision',\n",
    "                                                 \n",
    "                                                 'Xoc amb animal a la calçada': 'wildlife-vehicle_collisions(roadkill)',\n",
    "                                                 'Resta sortides de via': 'off-tracking',\n",
    "                                                 \n",
    "                                                 'Encalç': 'rear_impact',\n",
    "                                                 'Sortida de via amb xoc o col.lisió': 'off-tracking_and_collision',\n",
    "                                                 \n",
    "                                                 'Sortida de via amb bolcada': 'off-tracking_and_roll-over',\n",
    "                                                  np.nan:np.nan})"
   ]
  },
  {
   "cell_type": "code",
   "execution_count": 363,
   "metadata": {},
   "outputs": [
    {
     "data": {
      "text/plain": [
       "array(['festivo_nacional', 'Laboral', 'festivo_regional', 'festivo_local'],\n",
       "      dtype=object)"
      ]
     },
     "execution_count": 363,
     "metadata": {},
     "output_type": "execute_result"
    }
   ],
   "source": [
    "df.holiday_calendar.unique()"
   ]
  },
  {
   "cell_type": "code",
   "execution_count": 364,
   "metadata": {},
   "outputs": [],
   "source": [
    "df['holiday_calendar'] = df['holiday_calendar'].map({'festivo_nacional': 'holiday',\n",
    "                                                     'Laboral':'working_day',\n",
    "                                                     'festivo_regional': 'holiday',\n",
    "                                                     'festivo_local': 'holiday'})"
   ]
  },
  {
   "cell_type": "code",
   "execution_count": 365,
   "metadata": {},
   "outputs": [
    {
     "data": {
      "text/plain": [
       "array(['0482 0482', '9999 9999', '0111 0113', ..., '1144 1144',\n",
       "       '0518 0524', '0009I0009I'], dtype=object)"
      ]
     },
     "execution_count": 365,
     "metadata": {},
     "output_type": "execute_result"
    }
   ],
   "source": [
    "df.post_code.unique()"
   ]
  },
  {
   "cell_type": "code",
   "execution_count": 366,
   "metadata": {},
   "outputs": [
    {
     "data": {
      "text/plain": [
       "id_record             0.000000\n",
       "id_district           0.094917\n",
       "district_name         0.094917\n",
       "id_neighborhood       0.094917\n",
       "neighborhood_name     0.094917\n",
       "id_street             0.137898\n",
       "street_name           0.000000\n",
       "post_code             8.152081\n",
       "weekday               0.000000\n",
       "id_weekday            0.000000\n",
       "holiday_calendar      0.000000\n",
       "year                  0.000000\n",
       "id_month              0.000000\n",
       "month                 0.000000\n",
       "day                   0.000000\n",
       "time                  0.000000\n",
       "shift                 0.000000\n",
       "death                 0.000000\n",
       "minor_injuries        0.000000\n",
       "severe_injuries       0.000000\n",
       "victims               0.000000\n",
       "vehicles              0.000000\n",
       "longitude             0.000000\n",
       "latitude              0.000000\n",
       "accident_type         0.036713\n",
       "cause                 0.000000\n",
       "pedestrian_cause     15.598557\n",
       "vehicle_type          0.076112\n",
       "id_shift              0.000000\n",
       "fecha                 0.000000\n",
       "date                  0.445929\n",
       "tavg                 10.483806\n",
       "rainfall              1.021696\n",
       "tmin                 10.483806\n",
       "tmin_hour             0.445929\n",
       "tmax                 10.483806\n",
       "tmax_hour             0.445929\n",
       "wind_direction        0.826491\n",
       "wind_speed_avg        0.571290\n",
       "gusts_wind            0.826491\n",
       "gusts_wind_hour       0.826491\n",
       "dtype: float64"
      ]
     },
     "execution_count": 366,
     "metadata": {},
     "output_type": "execute_result"
    }
   ],
   "source": [
    "df.isnull().sum()/df.shape[0]*100"
   ]
  },
  {
   "cell_type": "code",
   "execution_count": 367,
   "metadata": {},
   "outputs": [
    {
     "data": {
      "text/plain": [
       "Index(['id_record', 'id_district', 'district_name', 'id_neighborhood',\n",
       "       'neighborhood_name', 'id_street', 'street_name', 'post_code', 'weekday',\n",
       "       'id_weekday', 'holiday_calendar', 'year', 'id_month', 'month', 'day',\n",
       "       'time', 'shift', 'death', 'minor_injuries', 'severe_injuries',\n",
       "       'victims', 'vehicles', 'longitude', 'latitude', 'accident_type',\n",
       "       'cause', 'pedestrian_cause', 'vehicle_type', 'id_shift', 'fecha',\n",
       "       'date', 'tavg', 'rainfall', 'tmin', 'tmin_hour', 'tmax', 'tmax_hour',\n",
       "       'wind_direction', 'wind_speed_avg', 'gusts_wind', 'gusts_wind_hour'],\n",
       "      dtype='object')"
      ]
     },
     "execution_count": 367,
     "metadata": {},
     "output_type": "execute_result"
    }
   ],
   "source": [
    "df.columns"
   ]
  },
  {
   "cell_type": "code",
   "execution_count": 368,
   "metadata": {},
   "outputs": [],
   "source": [
    "street_list = list(df.street_name.unique())"
   ]
  },
  {
   "cell_type": "code",
   "execution_count": 369,
   "metadata": {},
   "outputs": [],
   "source": [
    "df['accident_type'] = df['accident_type'].replace(np.nan, 'unknown')\n",
    "df['pedestrian_cause'] = df['pedestrian_cause'].replace(np.nan, 'unknown')\n",
    "df['vehicle_type'] = df['vehicle_type'].replace(np.nan, 'unknown')"
   ]
  },
  {
   "cell_type": "code",
   "execution_count": 370,
   "metadata": {},
   "outputs": [
    {
     "data": {
      "text/html": [
       "<div>\n",
       "<style scoped>\n",
       "    .dataframe tbody tr th:only-of-type {\n",
       "        vertical-align: middle;\n",
       "    }\n",
       "\n",
       "    .dataframe tbody tr th {\n",
       "        vertical-align: top;\n",
       "    }\n",
       "\n",
       "    .dataframe thead th {\n",
       "        text-align: right;\n",
       "    }\n",
       "</style>\n",
       "<table border=\"1\" class=\"dataframe\">\n",
       "  <thead>\n",
       "    <tr style=\"text-align: right;\">\n",
       "      <th></th>\n",
       "      <th>id_record</th>\n",
       "      <th>id_district</th>\n",
       "      <th>district_name</th>\n",
       "      <th>id_neighborhood</th>\n",
       "      <th>neighborhood_name</th>\n",
       "      <th>id_street</th>\n",
       "      <th>street_name</th>\n",
       "      <th>post_code</th>\n",
       "      <th>weekday</th>\n",
       "      <th>id_weekday</th>\n",
       "      <th>...</th>\n",
       "      <th>tavg</th>\n",
       "      <th>rainfall</th>\n",
       "      <th>tmin</th>\n",
       "      <th>tmin_hour</th>\n",
       "      <th>tmax</th>\n",
       "      <th>tmax_hour</th>\n",
       "      <th>wind_direction</th>\n",
       "      <th>wind_speed_avg</th>\n",
       "      <th>gusts_wind</th>\n",
       "      <th>gusts_wind_hour</th>\n",
       "    </tr>\n",
       "  </thead>\n",
       "  <tbody>\n",
       "    <tr>\n",
       "      <th>961</th>\n",
       "      <td>2019S000528</td>\n",
       "      <td>NaN</td>\n",
       "      <td>NaN</td>\n",
       "      <td>NaN</td>\n",
       "      <td>NaN</td>\n",
       "      <td>NaN</td>\n",
       "      <td>Foc / Jocs del 92</td>\n",
       "      <td>NaN</td>\n",
       "      <td>sun</td>\n",
       "      <td>7</td>\n",
       "      <td>...</td>\n",
       "      <td>8.2</td>\n",
       "      <td>13.9</td>\n",
       "      <td>6.4</td>\n",
       "      <td>23.0</td>\n",
       "      <td>10.1</td>\n",
       "      <td>14.0</td>\n",
       "      <td>10.0</td>\n",
       "      <td>4.2</td>\n",
       "      <td>13.6</td>\n",
       "      <td>14.0</td>\n",
       "    </tr>\n",
       "    <tr>\n",
       "      <th>962</th>\n",
       "      <td>2019S000528</td>\n",
       "      <td>NaN</td>\n",
       "      <td>NaN</td>\n",
       "      <td>NaN</td>\n",
       "      <td>NaN</td>\n",
       "      <td>NaN</td>\n",
       "      <td>Foc / Jocs del 92</td>\n",
       "      <td>NaN</td>\n",
       "      <td>sun</td>\n",
       "      <td>7</td>\n",
       "      <td>...</td>\n",
       "      <td>8.2</td>\n",
       "      <td>13.9</td>\n",
       "      <td>6.4</td>\n",
       "      <td>23.0</td>\n",
       "      <td>10.1</td>\n",
       "      <td>14.0</td>\n",
       "      <td>10.0</td>\n",
       "      <td>4.2</td>\n",
       "      <td>13.6</td>\n",
       "      <td>14.0</td>\n",
       "    </tr>\n",
       "    <tr>\n",
       "      <th>5147</th>\n",
       "      <td>2019S002760</td>\n",
       "      <td>3.0</td>\n",
       "      <td>Sants-Montjuïc</td>\n",
       "      <td>11.0</td>\n",
       "      <td>el Poble-sec</td>\n",
       "      <td>135203.0</td>\n",
       "      <td>Foc / Jocs del 92</td>\n",
       "      <td>0141 0145</td>\n",
       "      <td>mon</td>\n",
       "      <td>1</td>\n",
       "      <td>...</td>\n",
       "      <td>12.6</td>\n",
       "      <td>0.4</td>\n",
       "      <td>8.4</td>\n",
       "      <td>4.0</td>\n",
       "      <td>16.9</td>\n",
       "      <td>17.0</td>\n",
       "      <td>21.0</td>\n",
       "      <td>4.4</td>\n",
       "      <td>11.4</td>\n",
       "      <td>15.0</td>\n",
       "    </tr>\n",
       "    <tr>\n",
       "      <th>5148</th>\n",
       "      <td>2019S002760</td>\n",
       "      <td>3.0</td>\n",
       "      <td>Sants-Montjuïc</td>\n",
       "      <td>11.0</td>\n",
       "      <td>el Poble-sec</td>\n",
       "      <td>135203.0</td>\n",
       "      <td>Foc / Jocs del 92</td>\n",
       "      <td>0141 0145</td>\n",
       "      <td>mon</td>\n",
       "      <td>1</td>\n",
       "      <td>...</td>\n",
       "      <td>12.6</td>\n",
       "      <td>0.4</td>\n",
       "      <td>8.4</td>\n",
       "      <td>4.0</td>\n",
       "      <td>16.9</td>\n",
       "      <td>17.0</td>\n",
       "      <td>21.0</td>\n",
       "      <td>4.4</td>\n",
       "      <td>11.4</td>\n",
       "      <td>15.0</td>\n",
       "    </tr>\n",
       "    <tr>\n",
       "      <th>6659</th>\n",
       "      <td>2019S003588</td>\n",
       "      <td>NaN</td>\n",
       "      <td>NaN</td>\n",
       "      <td>NaN</td>\n",
       "      <td>NaN</td>\n",
       "      <td>NaN</td>\n",
       "      <td>Foc / Jocs del 92</td>\n",
       "      <td>NaN</td>\n",
       "      <td>fri</td>\n",
       "      <td>5</td>\n",
       "      <td>...</td>\n",
       "      <td>17.6</td>\n",
       "      <td>0.3</td>\n",
       "      <td>15.0</td>\n",
       "      <td>3.0</td>\n",
       "      <td>20.1</td>\n",
       "      <td>13.0</td>\n",
       "      <td>8.0</td>\n",
       "      <td>2.2</td>\n",
       "      <td>5.6</td>\n",
       "      <td>5.0</td>\n",
       "    </tr>\n",
       "    <tr>\n",
       "      <th>6660</th>\n",
       "      <td>2019S003588</td>\n",
       "      <td>NaN</td>\n",
       "      <td>NaN</td>\n",
       "      <td>NaN</td>\n",
       "      <td>NaN</td>\n",
       "      <td>NaN</td>\n",
       "      <td>Foc / Jocs del 92</td>\n",
       "      <td>NaN</td>\n",
       "      <td>fri</td>\n",
       "      <td>5</td>\n",
       "      <td>...</td>\n",
       "      <td>17.6</td>\n",
       "      <td>0.3</td>\n",
       "      <td>15.0</td>\n",
       "      <td>3.0</td>\n",
       "      <td>20.1</td>\n",
       "      <td>13.0</td>\n",
       "      <td>8.0</td>\n",
       "      <td>2.2</td>\n",
       "      <td>5.6</td>\n",
       "      <td>5.0</td>\n",
       "    </tr>\n",
       "    <tr>\n",
       "      <th>6661</th>\n",
       "      <td>2019S003588</td>\n",
       "      <td>NaN</td>\n",
       "      <td>NaN</td>\n",
       "      <td>NaN</td>\n",
       "      <td>NaN</td>\n",
       "      <td>NaN</td>\n",
       "      <td>Foc / Jocs del 92</td>\n",
       "      <td>NaN</td>\n",
       "      <td>fri</td>\n",
       "      <td>5</td>\n",
       "      <td>...</td>\n",
       "      <td>17.6</td>\n",
       "      <td>0.3</td>\n",
       "      <td>15.0</td>\n",
       "      <td>3.0</td>\n",
       "      <td>20.1</td>\n",
       "      <td>13.0</td>\n",
       "      <td>8.0</td>\n",
       "      <td>2.2</td>\n",
       "      <td>5.6</td>\n",
       "      <td>5.0</td>\n",
       "    </tr>\n",
       "    <tr>\n",
       "      <th>13053</th>\n",
       "      <td>2019S007073</td>\n",
       "      <td>3.0</td>\n",
       "      <td>Sants-Montjuïc</td>\n",
       "      <td>13.0</td>\n",
       "      <td>la Marina de Port</td>\n",
       "      <td>135203.0</td>\n",
       "      <td>Foc / Jocs del 92</td>\n",
       "      <td>0101 0139</td>\n",
       "      <td>fri</td>\n",
       "      <td>5</td>\n",
       "      <td>...</td>\n",
       "      <td>22.1</td>\n",
       "      <td>0.1</td>\n",
       "      <td>19.2</td>\n",
       "      <td>6.0</td>\n",
       "      <td>25.0</td>\n",
       "      <td>13.0</td>\n",
       "      <td>18.0</td>\n",
       "      <td>4.7</td>\n",
       "      <td>11.1</td>\n",
       "      <td>9.0</td>\n",
       "    </tr>\n",
       "    <tr>\n",
       "      <th>13054</th>\n",
       "      <td>2019S007073</td>\n",
       "      <td>3.0</td>\n",
       "      <td>Sants-Montjuïc</td>\n",
       "      <td>13.0</td>\n",
       "      <td>la Marina de Port</td>\n",
       "      <td>135203.0</td>\n",
       "      <td>Foc / Jocs del 92</td>\n",
       "      <td>0101 0139</td>\n",
       "      <td>fri</td>\n",
       "      <td>5</td>\n",
       "      <td>...</td>\n",
       "      <td>22.1</td>\n",
       "      <td>0.1</td>\n",
       "      <td>19.2</td>\n",
       "      <td>6.0</td>\n",
       "      <td>25.0</td>\n",
       "      <td>13.0</td>\n",
       "      <td>18.0</td>\n",
       "      <td>4.7</td>\n",
       "      <td>11.1</td>\n",
       "      <td>9.0</td>\n",
       "    </tr>\n",
       "    <tr>\n",
       "      <th>36106</th>\n",
       "      <td>2018S009474</td>\n",
       "      <td>3.0</td>\n",
       "      <td>Sants-Montjuïc</td>\n",
       "      <td>13.0</td>\n",
       "      <td>la Marina de Port</td>\n",
       "      <td>135203.0</td>\n",
       "      <td>Foc / Jocs del 92</td>\n",
       "      <td>NaN</td>\n",
       "      <td>wed</td>\n",
       "      <td>3</td>\n",
       "      <td>...</td>\n",
       "      <td>12.0</td>\n",
       "      <td>0.0</td>\n",
       "      <td>8.9</td>\n",
       "      <td>1.0</td>\n",
       "      <td>15.1</td>\n",
       "      <td>13.0</td>\n",
       "      <td>99.0</td>\n",
       "      <td>1.4</td>\n",
       "      <td>5.3</td>\n",
       "      <td>0.0</td>\n",
       "    </tr>\n",
       "    <tr>\n",
       "      <th>36107</th>\n",
       "      <td>2018S009474</td>\n",
       "      <td>3.0</td>\n",
       "      <td>Sants-Montjuïc</td>\n",
       "      <td>13.0</td>\n",
       "      <td>la Marina de Port</td>\n",
       "      <td>135203.0</td>\n",
       "      <td>Foc / Jocs del 92</td>\n",
       "      <td>NaN</td>\n",
       "      <td>wed</td>\n",
       "      <td>3</td>\n",
       "      <td>...</td>\n",
       "      <td>12.0</td>\n",
       "      <td>0.0</td>\n",
       "      <td>8.9</td>\n",
       "      <td>1.0</td>\n",
       "      <td>15.1</td>\n",
       "      <td>13.0</td>\n",
       "      <td>99.0</td>\n",
       "      <td>1.4</td>\n",
       "      <td>5.3</td>\n",
       "      <td>0.0</td>\n",
       "    </tr>\n",
       "    <tr>\n",
       "      <th>36638</th>\n",
       "      <td>2018S009752</td>\n",
       "      <td>3.0</td>\n",
       "      <td>Sants-Montjuïc</td>\n",
       "      <td>11.0</td>\n",
       "      <td>el Poble-sec</td>\n",
       "      <td>135203.0</td>\n",
       "      <td>Foc / Jocs del 92</td>\n",
       "      <td>NaN</td>\n",
       "      <td>fri</td>\n",
       "      <td>5</td>\n",
       "      <td>...</td>\n",
       "      <td>12.3</td>\n",
       "      <td>0.0</td>\n",
       "      <td>7.5</td>\n",
       "      <td>1.0</td>\n",
       "      <td>17.1</td>\n",
       "      <td>14.0</td>\n",
       "      <td>26.0</td>\n",
       "      <td>2.5</td>\n",
       "      <td>7.8</td>\n",
       "      <td>12.0</td>\n",
       "    </tr>\n",
       "    <tr>\n",
       "      <th>36639</th>\n",
       "      <td>2018S009752</td>\n",
       "      <td>3.0</td>\n",
       "      <td>Sants-Montjuïc</td>\n",
       "      <td>11.0</td>\n",
       "      <td>el Poble-sec</td>\n",
       "      <td>135203.0</td>\n",
       "      <td>Foc / Jocs del 92</td>\n",
       "      <td>NaN</td>\n",
       "      <td>fri</td>\n",
       "      <td>5</td>\n",
       "      <td>...</td>\n",
       "      <td>12.3</td>\n",
       "      <td>0.0</td>\n",
       "      <td>7.5</td>\n",
       "      <td>1.0</td>\n",
       "      <td>17.1</td>\n",
       "      <td>14.0</td>\n",
       "      <td>26.0</td>\n",
       "      <td>2.5</td>\n",
       "      <td>7.8</td>\n",
       "      <td>12.0</td>\n",
       "    </tr>\n",
       "    <tr>\n",
       "      <th>43435</th>\n",
       "      <td>2017S003794</td>\n",
       "      <td>3.0</td>\n",
       "      <td>Sants-Montjuïc</td>\n",
       "      <td>11.0</td>\n",
       "      <td>el Poble-sec</td>\n",
       "      <td>135203.0</td>\n",
       "      <td>Foc / Jocs del 92</td>\n",
       "      <td>0141 0141</td>\n",
       "      <td>fri</td>\n",
       "      <td>5</td>\n",
       "      <td>...</td>\n",
       "      <td>NaN</td>\n",
       "      <td>0.0</td>\n",
       "      <td>NaN</td>\n",
       "      <td>0.0</td>\n",
       "      <td>NaN</td>\n",
       "      <td>0.0</td>\n",
       "      <td>19.0</td>\n",
       "      <td>3.3</td>\n",
       "      <td>7.8</td>\n",
       "      <td>12.0</td>\n",
       "    </tr>\n",
       "    <tr>\n",
       "      <th>43436</th>\n",
       "      <td>2017S003794</td>\n",
       "      <td>3.0</td>\n",
       "      <td>Sants-Montjuïc</td>\n",
       "      <td>11.0</td>\n",
       "      <td>el Poble-sec</td>\n",
       "      <td>135203.0</td>\n",
       "      <td>Foc / Jocs del 92</td>\n",
       "      <td>0141 0141</td>\n",
       "      <td>fri</td>\n",
       "      <td>5</td>\n",
       "      <td>...</td>\n",
       "      <td>NaN</td>\n",
       "      <td>0.0</td>\n",
       "      <td>NaN</td>\n",
       "      <td>0.0</td>\n",
       "      <td>NaN</td>\n",
       "      <td>0.0</td>\n",
       "      <td>19.0</td>\n",
       "      <td>3.3</td>\n",
       "      <td>7.8</td>\n",
       "      <td>12.0</td>\n",
       "    </tr>\n",
       "  </tbody>\n",
       "</table>\n",
       "<p>15 rows × 41 columns</p>\n",
       "</div>"
      ],
      "text/plain": [
       "         id_record  id_district   district_name  id_neighborhood  \\\n",
       "961    2019S000528          NaN             NaN              NaN   \n",
       "962    2019S000528          NaN             NaN              NaN   \n",
       "5147   2019S002760          3.0  Sants-Montjuïc             11.0   \n",
       "5148   2019S002760          3.0  Sants-Montjuïc             11.0   \n",
       "6659   2019S003588          NaN             NaN              NaN   \n",
       "6660   2019S003588          NaN             NaN              NaN   \n",
       "6661   2019S003588          NaN             NaN              NaN   \n",
       "13053  2019S007073          3.0  Sants-Montjuïc             13.0   \n",
       "13054  2019S007073          3.0  Sants-Montjuïc             13.0   \n",
       "36106  2018S009474          3.0  Sants-Montjuïc             13.0   \n",
       "36107  2018S009474          3.0  Sants-Montjuïc             13.0   \n",
       "36638  2018S009752          3.0  Sants-Montjuïc             11.0   \n",
       "36639  2018S009752          3.0  Sants-Montjuïc             11.0   \n",
       "43435  2017S003794          3.0  Sants-Montjuïc             11.0   \n",
       "43436  2017S003794          3.0  Sants-Montjuïc             11.0   \n",
       "\n",
       "       neighborhood_name  id_street        street_name  post_code weekday  \\\n",
       "961                  NaN        NaN  Foc / Jocs del 92        NaN     sun   \n",
       "962                  NaN        NaN  Foc / Jocs del 92        NaN     sun   \n",
       "5147        el Poble-sec   135203.0  Foc / Jocs del 92  0141 0145     mon   \n",
       "5148        el Poble-sec   135203.0  Foc / Jocs del 92  0141 0145     mon   \n",
       "6659                 NaN        NaN  Foc / Jocs del 92        NaN     fri   \n",
       "6660                 NaN        NaN  Foc / Jocs del 92        NaN     fri   \n",
       "6661                 NaN        NaN  Foc / Jocs del 92        NaN     fri   \n",
       "13053  la Marina de Port   135203.0  Foc / Jocs del 92  0101 0139     fri   \n",
       "13054  la Marina de Port   135203.0  Foc / Jocs del 92  0101 0139     fri   \n",
       "36106  la Marina de Port   135203.0  Foc / Jocs del 92        NaN     wed   \n",
       "36107  la Marina de Port   135203.0  Foc / Jocs del 92        NaN     wed   \n",
       "36638       el Poble-sec   135203.0  Foc / Jocs del 92        NaN     fri   \n",
       "36639       el Poble-sec   135203.0  Foc / Jocs del 92        NaN     fri   \n",
       "43435       el Poble-sec   135203.0  Foc / Jocs del 92  0141 0141     fri   \n",
       "43436       el Poble-sec   135203.0  Foc / Jocs del 92  0141 0141     fri   \n",
       "\n",
       "       id_weekday  ...  tavg  rainfall  tmin tmin_hour  tmax  tmax_hour  \\\n",
       "961             7  ...   8.2      13.9   6.4      23.0  10.1       14.0   \n",
       "962             7  ...   8.2      13.9   6.4      23.0  10.1       14.0   \n",
       "5147            1  ...  12.6       0.4   8.4       4.0  16.9       17.0   \n",
       "5148            1  ...  12.6       0.4   8.4       4.0  16.9       17.0   \n",
       "6659            5  ...  17.6       0.3  15.0       3.0  20.1       13.0   \n",
       "6660            5  ...  17.6       0.3  15.0       3.0  20.1       13.0   \n",
       "6661            5  ...  17.6       0.3  15.0       3.0  20.1       13.0   \n",
       "13053           5  ...  22.1       0.1  19.2       6.0  25.0       13.0   \n",
       "13054           5  ...  22.1       0.1  19.2       6.0  25.0       13.0   \n",
       "36106           3  ...  12.0       0.0   8.9       1.0  15.1       13.0   \n",
       "36107           3  ...  12.0       0.0   8.9       1.0  15.1       13.0   \n",
       "36638           5  ...  12.3       0.0   7.5       1.0  17.1       14.0   \n",
       "36639           5  ...  12.3       0.0   7.5       1.0  17.1       14.0   \n",
       "43435           5  ...   NaN       0.0   NaN       0.0   NaN        0.0   \n",
       "43436           5  ...   NaN       0.0   NaN       0.0   NaN        0.0   \n",
       "\n",
       "      wind_direction  wind_speed_avg  gusts_wind  gusts_wind_hour  \n",
       "961             10.0             4.2        13.6             14.0  \n",
       "962             10.0             4.2        13.6             14.0  \n",
       "5147            21.0             4.4        11.4             15.0  \n",
       "5148            21.0             4.4        11.4             15.0  \n",
       "6659             8.0             2.2         5.6              5.0  \n",
       "6660             8.0             2.2         5.6              5.0  \n",
       "6661             8.0             2.2         5.6              5.0  \n",
       "13053           18.0             4.7        11.1              9.0  \n",
       "13054           18.0             4.7        11.1              9.0  \n",
       "36106           99.0             1.4         5.3              0.0  \n",
       "36107           99.0             1.4         5.3              0.0  \n",
       "36638           26.0             2.5         7.8             12.0  \n",
       "36639           26.0             2.5         7.8             12.0  \n",
       "43435           19.0             3.3         7.8             12.0  \n",
       "43436           19.0             3.3         7.8             12.0  \n",
       "\n",
       "[15 rows x 41 columns]"
      ]
     },
     "execution_count": 370,
     "metadata": {},
     "output_type": "execute_result"
    }
   ],
   "source": [
    "df[df['street_name']=='Foc / Jocs del 92']"
   ]
  },
  {
   "cell_type": "code",
   "execution_count": 371,
   "metadata": {},
   "outputs": [
    {
     "data": {
      "text/html": [
       "<div>\n",
       "<style scoped>\n",
       "    .dataframe tbody tr th:only-of-type {\n",
       "        vertical-align: middle;\n",
       "    }\n",
       "\n",
       "    .dataframe tbody tr th {\n",
       "        vertical-align: top;\n",
       "    }\n",
       "\n",
       "    .dataframe thead th {\n",
       "        text-align: right;\n",
       "    }\n",
       "</style>\n",
       "<table border=\"1\" class=\"dataframe\">\n",
       "  <thead>\n",
       "    <tr style=\"text-align: right;\">\n",
       "      <th></th>\n",
       "      <th>id_record</th>\n",
       "      <th>id_district</th>\n",
       "      <th>district_name</th>\n",
       "      <th>id_neighborhood</th>\n",
       "      <th>neighborhood_name</th>\n",
       "      <th>id_street</th>\n",
       "      <th>street_name</th>\n",
       "      <th>post_code</th>\n",
       "      <th>weekday</th>\n",
       "      <th>id_weekday</th>\n",
       "      <th>...</th>\n",
       "      <th>tavg</th>\n",
       "      <th>rainfall</th>\n",
       "      <th>tmin</th>\n",
       "      <th>tmin_hour</th>\n",
       "      <th>tmax</th>\n",
       "      <th>tmax_hour</th>\n",
       "      <th>wind_direction</th>\n",
       "      <th>wind_speed_avg</th>\n",
       "      <th>gusts_wind</th>\n",
       "      <th>gusts_wind_hour</th>\n",
       "    </tr>\n",
       "  </thead>\n",
       "  <tbody>\n",
       "    <tr>\n",
       "      <th>961</th>\n",
       "      <td>2019S000528</td>\n",
       "      <td>3.0</td>\n",
       "      <td>Sants-Montjuïc</td>\n",
       "      <td>11.0</td>\n",
       "      <td>el Poble-sec</td>\n",
       "      <td>135203.0</td>\n",
       "      <td>Foc / Jocs del 92</td>\n",
       "      <td>0101 0139</td>\n",
       "      <td>sun</td>\n",
       "      <td>7</td>\n",
       "      <td>...</td>\n",
       "      <td>8.2</td>\n",
       "      <td>13.9</td>\n",
       "      <td>6.4</td>\n",
       "      <td>23.0</td>\n",
       "      <td>10.1</td>\n",
       "      <td>14.0</td>\n",
       "      <td>10.0</td>\n",
       "      <td>4.2</td>\n",
       "      <td>13.6</td>\n",
       "      <td>14.0</td>\n",
       "    </tr>\n",
       "    <tr>\n",
       "      <th>962</th>\n",
       "      <td>2019S000528</td>\n",
       "      <td>3.0</td>\n",
       "      <td>Sants-Montjuïc</td>\n",
       "      <td>11.0</td>\n",
       "      <td>el Poble-sec</td>\n",
       "      <td>135203.0</td>\n",
       "      <td>Foc / Jocs del 92</td>\n",
       "      <td>0101 0139</td>\n",
       "      <td>sun</td>\n",
       "      <td>7</td>\n",
       "      <td>...</td>\n",
       "      <td>8.2</td>\n",
       "      <td>13.9</td>\n",
       "      <td>6.4</td>\n",
       "      <td>23.0</td>\n",
       "      <td>10.1</td>\n",
       "      <td>14.0</td>\n",
       "      <td>10.0</td>\n",
       "      <td>4.2</td>\n",
       "      <td>13.6</td>\n",
       "      <td>14.0</td>\n",
       "    </tr>\n",
       "    <tr>\n",
       "      <th>5147</th>\n",
       "      <td>2019S002760</td>\n",
       "      <td>3.0</td>\n",
       "      <td>Sants-Montjuïc</td>\n",
       "      <td>11.0</td>\n",
       "      <td>el Poble-sec</td>\n",
       "      <td>135203.0</td>\n",
       "      <td>Foc / Jocs del 92</td>\n",
       "      <td>0141 0145</td>\n",
       "      <td>mon</td>\n",
       "      <td>1</td>\n",
       "      <td>...</td>\n",
       "      <td>12.6</td>\n",
       "      <td>0.4</td>\n",
       "      <td>8.4</td>\n",
       "      <td>4.0</td>\n",
       "      <td>16.9</td>\n",
       "      <td>17.0</td>\n",
       "      <td>21.0</td>\n",
       "      <td>4.4</td>\n",
       "      <td>11.4</td>\n",
       "      <td>15.0</td>\n",
       "    </tr>\n",
       "    <tr>\n",
       "      <th>5148</th>\n",
       "      <td>2019S002760</td>\n",
       "      <td>3.0</td>\n",
       "      <td>Sants-Montjuïc</td>\n",
       "      <td>11.0</td>\n",
       "      <td>el Poble-sec</td>\n",
       "      <td>135203.0</td>\n",
       "      <td>Foc / Jocs del 92</td>\n",
       "      <td>0141 0145</td>\n",
       "      <td>mon</td>\n",
       "      <td>1</td>\n",
       "      <td>...</td>\n",
       "      <td>12.6</td>\n",
       "      <td>0.4</td>\n",
       "      <td>8.4</td>\n",
       "      <td>4.0</td>\n",
       "      <td>16.9</td>\n",
       "      <td>17.0</td>\n",
       "      <td>21.0</td>\n",
       "      <td>4.4</td>\n",
       "      <td>11.4</td>\n",
       "      <td>15.0</td>\n",
       "    </tr>\n",
       "    <tr>\n",
       "      <th>6659</th>\n",
       "      <td>2019S003588</td>\n",
       "      <td>3.0</td>\n",
       "      <td>Sants-Montjuïc</td>\n",
       "      <td>11.0</td>\n",
       "      <td>el Poble-sec</td>\n",
       "      <td>135203.0</td>\n",
       "      <td>Foc / Jocs del 92</td>\n",
       "      <td>0101 0139</td>\n",
       "      <td>fri</td>\n",
       "      <td>5</td>\n",
       "      <td>...</td>\n",
       "      <td>17.6</td>\n",
       "      <td>0.3</td>\n",
       "      <td>15.0</td>\n",
       "      <td>3.0</td>\n",
       "      <td>20.1</td>\n",
       "      <td>13.0</td>\n",
       "      <td>8.0</td>\n",
       "      <td>2.2</td>\n",
       "      <td>5.6</td>\n",
       "      <td>5.0</td>\n",
       "    </tr>\n",
       "    <tr>\n",
       "      <th>6660</th>\n",
       "      <td>2019S003588</td>\n",
       "      <td>3.0</td>\n",
       "      <td>Sants-Montjuïc</td>\n",
       "      <td>11.0</td>\n",
       "      <td>el Poble-sec</td>\n",
       "      <td>135203.0</td>\n",
       "      <td>Foc / Jocs del 92</td>\n",
       "      <td>0101 0139</td>\n",
       "      <td>fri</td>\n",
       "      <td>5</td>\n",
       "      <td>...</td>\n",
       "      <td>17.6</td>\n",
       "      <td>0.3</td>\n",
       "      <td>15.0</td>\n",
       "      <td>3.0</td>\n",
       "      <td>20.1</td>\n",
       "      <td>13.0</td>\n",
       "      <td>8.0</td>\n",
       "      <td>2.2</td>\n",
       "      <td>5.6</td>\n",
       "      <td>5.0</td>\n",
       "    </tr>\n",
       "    <tr>\n",
       "      <th>6661</th>\n",
       "      <td>2019S003588</td>\n",
       "      <td>3.0</td>\n",
       "      <td>Sants-Montjuïc</td>\n",
       "      <td>11.0</td>\n",
       "      <td>el Poble-sec</td>\n",
       "      <td>135203.0</td>\n",
       "      <td>Foc / Jocs del 92</td>\n",
       "      <td>0101 0139</td>\n",
       "      <td>fri</td>\n",
       "      <td>5</td>\n",
       "      <td>...</td>\n",
       "      <td>17.6</td>\n",
       "      <td>0.3</td>\n",
       "      <td>15.0</td>\n",
       "      <td>3.0</td>\n",
       "      <td>20.1</td>\n",
       "      <td>13.0</td>\n",
       "      <td>8.0</td>\n",
       "      <td>2.2</td>\n",
       "      <td>5.6</td>\n",
       "      <td>5.0</td>\n",
       "    </tr>\n",
       "    <tr>\n",
       "      <th>13053</th>\n",
       "      <td>2019S007073</td>\n",
       "      <td>3.0</td>\n",
       "      <td>Sants-Montjuïc</td>\n",
       "      <td>13.0</td>\n",
       "      <td>la Marina de Port</td>\n",
       "      <td>135203.0</td>\n",
       "      <td>Foc / Jocs del 92</td>\n",
       "      <td>0101 0139</td>\n",
       "      <td>fri</td>\n",
       "      <td>5</td>\n",
       "      <td>...</td>\n",
       "      <td>22.1</td>\n",
       "      <td>0.1</td>\n",
       "      <td>19.2</td>\n",
       "      <td>6.0</td>\n",
       "      <td>25.0</td>\n",
       "      <td>13.0</td>\n",
       "      <td>18.0</td>\n",
       "      <td>4.7</td>\n",
       "      <td>11.1</td>\n",
       "      <td>9.0</td>\n",
       "    </tr>\n",
       "    <tr>\n",
       "      <th>13054</th>\n",
       "      <td>2019S007073</td>\n",
       "      <td>3.0</td>\n",
       "      <td>Sants-Montjuïc</td>\n",
       "      <td>13.0</td>\n",
       "      <td>la Marina de Port</td>\n",
       "      <td>135203.0</td>\n",
       "      <td>Foc / Jocs del 92</td>\n",
       "      <td>0101 0139</td>\n",
       "      <td>fri</td>\n",
       "      <td>5</td>\n",
       "      <td>...</td>\n",
       "      <td>22.1</td>\n",
       "      <td>0.1</td>\n",
       "      <td>19.2</td>\n",
       "      <td>6.0</td>\n",
       "      <td>25.0</td>\n",
       "      <td>13.0</td>\n",
       "      <td>18.0</td>\n",
       "      <td>4.7</td>\n",
       "      <td>11.1</td>\n",
       "      <td>9.0</td>\n",
       "    </tr>\n",
       "    <tr>\n",
       "      <th>36106</th>\n",
       "      <td>2018S009474</td>\n",
       "      <td>3.0</td>\n",
       "      <td>Sants-Montjuïc</td>\n",
       "      <td>13.0</td>\n",
       "      <td>la Marina de Port</td>\n",
       "      <td>135203.0</td>\n",
       "      <td>Foc / Jocs del 92</td>\n",
       "      <td>0101 0139</td>\n",
       "      <td>wed</td>\n",
       "      <td>3</td>\n",
       "      <td>...</td>\n",
       "      <td>12.0</td>\n",
       "      <td>0.0</td>\n",
       "      <td>8.9</td>\n",
       "      <td>1.0</td>\n",
       "      <td>15.1</td>\n",
       "      <td>13.0</td>\n",
       "      <td>99.0</td>\n",
       "      <td>1.4</td>\n",
       "      <td>5.3</td>\n",
       "      <td>0.0</td>\n",
       "    </tr>\n",
       "    <tr>\n",
       "      <th>36107</th>\n",
       "      <td>2018S009474</td>\n",
       "      <td>3.0</td>\n",
       "      <td>Sants-Montjuïc</td>\n",
       "      <td>13.0</td>\n",
       "      <td>la Marina de Port</td>\n",
       "      <td>135203.0</td>\n",
       "      <td>Foc / Jocs del 92</td>\n",
       "      <td>0101 0139</td>\n",
       "      <td>wed</td>\n",
       "      <td>3</td>\n",
       "      <td>...</td>\n",
       "      <td>12.0</td>\n",
       "      <td>0.0</td>\n",
       "      <td>8.9</td>\n",
       "      <td>1.0</td>\n",
       "      <td>15.1</td>\n",
       "      <td>13.0</td>\n",
       "      <td>99.0</td>\n",
       "      <td>1.4</td>\n",
       "      <td>5.3</td>\n",
       "      <td>0.0</td>\n",
       "    </tr>\n",
       "    <tr>\n",
       "      <th>36638</th>\n",
       "      <td>2018S009752</td>\n",
       "      <td>3.0</td>\n",
       "      <td>Sants-Montjuïc</td>\n",
       "      <td>11.0</td>\n",
       "      <td>el Poble-sec</td>\n",
       "      <td>135203.0</td>\n",
       "      <td>Foc / Jocs del 92</td>\n",
       "      <td>0101 0139</td>\n",
       "      <td>fri</td>\n",
       "      <td>5</td>\n",
       "      <td>...</td>\n",
       "      <td>12.3</td>\n",
       "      <td>0.0</td>\n",
       "      <td>7.5</td>\n",
       "      <td>1.0</td>\n",
       "      <td>17.1</td>\n",
       "      <td>14.0</td>\n",
       "      <td>26.0</td>\n",
       "      <td>2.5</td>\n",
       "      <td>7.8</td>\n",
       "      <td>12.0</td>\n",
       "    </tr>\n",
       "    <tr>\n",
       "      <th>36639</th>\n",
       "      <td>2018S009752</td>\n",
       "      <td>3.0</td>\n",
       "      <td>Sants-Montjuïc</td>\n",
       "      <td>11.0</td>\n",
       "      <td>el Poble-sec</td>\n",
       "      <td>135203.0</td>\n",
       "      <td>Foc / Jocs del 92</td>\n",
       "      <td>0101 0139</td>\n",
       "      <td>fri</td>\n",
       "      <td>5</td>\n",
       "      <td>...</td>\n",
       "      <td>12.3</td>\n",
       "      <td>0.0</td>\n",
       "      <td>7.5</td>\n",
       "      <td>1.0</td>\n",
       "      <td>17.1</td>\n",
       "      <td>14.0</td>\n",
       "      <td>26.0</td>\n",
       "      <td>2.5</td>\n",
       "      <td>7.8</td>\n",
       "      <td>12.0</td>\n",
       "    </tr>\n",
       "    <tr>\n",
       "      <th>43435</th>\n",
       "      <td>2017S003794</td>\n",
       "      <td>3.0</td>\n",
       "      <td>Sants-Montjuïc</td>\n",
       "      <td>11.0</td>\n",
       "      <td>el Poble-sec</td>\n",
       "      <td>135203.0</td>\n",
       "      <td>Foc / Jocs del 92</td>\n",
       "      <td>0141 0141</td>\n",
       "      <td>fri</td>\n",
       "      <td>5</td>\n",
       "      <td>...</td>\n",
       "      <td>17.6</td>\n",
       "      <td>0.0</td>\n",
       "      <td>15.0</td>\n",
       "      <td>0.0</td>\n",
       "      <td>20.1</td>\n",
       "      <td>0.0</td>\n",
       "      <td>19.0</td>\n",
       "      <td>3.3</td>\n",
       "      <td>7.8</td>\n",
       "      <td>12.0</td>\n",
       "    </tr>\n",
       "    <tr>\n",
       "      <th>43436</th>\n",
       "      <td>2017S003794</td>\n",
       "      <td>3.0</td>\n",
       "      <td>Sants-Montjuïc</td>\n",
       "      <td>11.0</td>\n",
       "      <td>el Poble-sec</td>\n",
       "      <td>135203.0</td>\n",
       "      <td>Foc / Jocs del 92</td>\n",
       "      <td>0141 0141</td>\n",
       "      <td>fri</td>\n",
       "      <td>5</td>\n",
       "      <td>...</td>\n",
       "      <td>17.6</td>\n",
       "      <td>0.0</td>\n",
       "      <td>15.0</td>\n",
       "      <td>0.0</td>\n",
       "      <td>20.1</td>\n",
       "      <td>0.0</td>\n",
       "      <td>19.0</td>\n",
       "      <td>3.3</td>\n",
       "      <td>7.8</td>\n",
       "      <td>12.0</td>\n",
       "    </tr>\n",
       "  </tbody>\n",
       "</table>\n",
       "<p>15 rows × 41 columns</p>\n",
       "</div>"
      ],
      "text/plain": [
       "         id_record  id_district   district_name  id_neighborhood  \\\n",
       "961    2019S000528          3.0  Sants-Montjuïc             11.0   \n",
       "962    2019S000528          3.0  Sants-Montjuïc             11.0   \n",
       "5147   2019S002760          3.0  Sants-Montjuïc             11.0   \n",
       "5148   2019S002760          3.0  Sants-Montjuïc             11.0   \n",
       "6659   2019S003588          3.0  Sants-Montjuïc             11.0   \n",
       "6660   2019S003588          3.0  Sants-Montjuïc             11.0   \n",
       "6661   2019S003588          3.0  Sants-Montjuïc             11.0   \n",
       "13053  2019S007073          3.0  Sants-Montjuïc             13.0   \n",
       "13054  2019S007073          3.0  Sants-Montjuïc             13.0   \n",
       "36106  2018S009474          3.0  Sants-Montjuïc             13.0   \n",
       "36107  2018S009474          3.0  Sants-Montjuïc             13.0   \n",
       "36638  2018S009752          3.0  Sants-Montjuïc             11.0   \n",
       "36639  2018S009752          3.0  Sants-Montjuïc             11.0   \n",
       "43435  2017S003794          3.0  Sants-Montjuïc             11.0   \n",
       "43436  2017S003794          3.0  Sants-Montjuïc             11.0   \n",
       "\n",
       "       neighborhood_name  id_street        street_name  post_code weekday  \\\n",
       "961         el Poble-sec   135203.0  Foc / Jocs del 92  0101 0139     sun   \n",
       "962         el Poble-sec   135203.0  Foc / Jocs del 92  0101 0139     sun   \n",
       "5147        el Poble-sec   135203.0  Foc / Jocs del 92  0141 0145     mon   \n",
       "5148        el Poble-sec   135203.0  Foc / Jocs del 92  0141 0145     mon   \n",
       "6659        el Poble-sec   135203.0  Foc / Jocs del 92  0101 0139     fri   \n",
       "6660        el Poble-sec   135203.0  Foc / Jocs del 92  0101 0139     fri   \n",
       "6661        el Poble-sec   135203.0  Foc / Jocs del 92  0101 0139     fri   \n",
       "13053  la Marina de Port   135203.0  Foc / Jocs del 92  0101 0139     fri   \n",
       "13054  la Marina de Port   135203.0  Foc / Jocs del 92  0101 0139     fri   \n",
       "36106  la Marina de Port   135203.0  Foc / Jocs del 92  0101 0139     wed   \n",
       "36107  la Marina de Port   135203.0  Foc / Jocs del 92  0101 0139     wed   \n",
       "36638       el Poble-sec   135203.0  Foc / Jocs del 92  0101 0139     fri   \n",
       "36639       el Poble-sec   135203.0  Foc / Jocs del 92  0101 0139     fri   \n",
       "43435       el Poble-sec   135203.0  Foc / Jocs del 92  0141 0141     fri   \n",
       "43436       el Poble-sec   135203.0  Foc / Jocs del 92  0141 0141     fri   \n",
       "\n",
       "       id_weekday  ...  tavg  rainfall  tmin tmin_hour  tmax  tmax_hour  \\\n",
       "961             7  ...   8.2      13.9   6.4      23.0  10.1       14.0   \n",
       "962             7  ...   8.2      13.9   6.4      23.0  10.1       14.0   \n",
       "5147            1  ...  12.6       0.4   8.4       4.0  16.9       17.0   \n",
       "5148            1  ...  12.6       0.4   8.4       4.0  16.9       17.0   \n",
       "6659            5  ...  17.6       0.3  15.0       3.0  20.1       13.0   \n",
       "6660            5  ...  17.6       0.3  15.0       3.0  20.1       13.0   \n",
       "6661            5  ...  17.6       0.3  15.0       3.0  20.1       13.0   \n",
       "13053           5  ...  22.1       0.1  19.2       6.0  25.0       13.0   \n",
       "13054           5  ...  22.1       0.1  19.2       6.0  25.0       13.0   \n",
       "36106           3  ...  12.0       0.0   8.9       1.0  15.1       13.0   \n",
       "36107           3  ...  12.0       0.0   8.9       1.0  15.1       13.0   \n",
       "36638           5  ...  12.3       0.0   7.5       1.0  17.1       14.0   \n",
       "36639           5  ...  12.3       0.0   7.5       1.0  17.1       14.0   \n",
       "43435           5  ...  17.6       0.0  15.0       0.0  20.1        0.0   \n",
       "43436           5  ...  17.6       0.0  15.0       0.0  20.1        0.0   \n",
       "\n",
       "      wind_direction  wind_speed_avg  gusts_wind  gusts_wind_hour  \n",
       "961             10.0             4.2        13.6             14.0  \n",
       "962             10.0             4.2        13.6             14.0  \n",
       "5147            21.0             4.4        11.4             15.0  \n",
       "5148            21.0             4.4        11.4             15.0  \n",
       "6659             8.0             2.2         5.6              5.0  \n",
       "6660             8.0             2.2         5.6              5.0  \n",
       "6661             8.0             2.2         5.6              5.0  \n",
       "13053           18.0             4.7        11.1              9.0  \n",
       "13054           18.0             4.7        11.1              9.0  \n",
       "36106           99.0             1.4         5.3              0.0  \n",
       "36107           99.0             1.4         5.3              0.0  \n",
       "36638           26.0             2.5         7.8             12.0  \n",
       "36639           26.0             2.5         7.8             12.0  \n",
       "43435           19.0             3.3         7.8             12.0  \n",
       "43436           19.0             3.3         7.8             12.0  \n",
       "\n",
       "[15 rows x 41 columns]"
      ]
     },
     "execution_count": 371,
     "metadata": {},
     "output_type": "execute_result"
    }
   ],
   "source": [
    "df_street = df[df['street_name']=='Foc / Jocs del 92']\n",
    "df_imput = df_street.fillna(df_street.mode().iloc[0])\n",
    "df_imput"
   ]
  },
  {
   "cell_type": "code",
   "execution_count": 372,
   "metadata": {},
   "outputs": [],
   "source": [
    "df_imp = pd.DataFrame()"
   ]
  },
  {
   "cell_type": "code",
   "execution_count": 373,
   "metadata": {},
   "outputs": [
    {
     "name": "stdout",
     "output_type": "stream",
     "text": [
      "0 %\n",
      "(38, 41)\n",
      "--- 0.040871620178222656 seconds ---\n",
      "10 %\n",
      "(65095, 41)\n",
      "--- 81.57473587989807 seconds ---\n",
      "20 %\n",
      "(77989, 41)\n",
      "--- 188.05012679100037 seconds ---\n",
      "30 %\n",
      "(86327, 41)\n",
      "--- 305.50130224227905 seconds ---\n",
      "40 %\n",
      "(92077, 41)\n",
      "--- 431.3296129703522 seconds ---\n",
      "50 %\n",
      "(96306, 41)\n",
      "--- 559.478325843811 seconds ---\n",
      "60 %\n",
      "(99868, 41)\n",
      "--- 691.3118464946747 seconds ---\n",
      "70 %\n",
      "(102631, 41)\n",
      "--- 836.8134415149689 seconds ---\n",
      "80 %\n",
      "(104743, 41)\n",
      "--- 966.7068593502045 seconds ---\n",
      "90 %\n",
      "(107972, 41)\n",
      "--- 1102.7038130760193 seconds ---\n",
      "100 %\n",
      "(111677, 41)\n",
      "--- 1236.3163697719574 seconds ---\n"
     ]
    }
   ],
   "source": [
    "from datetime import datetime\n",
    "import time\n",
    "\n",
    "start_time = time.time()\n",
    "\n",
    "for street in street_list:\n",
    "    df_street = df[df['street_name']==street]\n",
    "    df_imput = df_street.fillna(df_street.mode().iloc[0])\n",
    "    df_imp = pd.concat([df_imp,df_imput], axis = 0, ignore_index = True)\n",
    "    if street_list.index(street)  % round((len(street_list)*10)/100) == 0:\n",
    "        print(round((street_list.index(street) / len(street_list)) * 100),'%')\n",
    "        print(df_imp.shape)\n",
    "        print(\"--- %s seconds ---\" % (time.time() - start_time))\n",
    "    else:\n",
    "        pass\n",
    "    \n",
    "print('100 %')\n",
    "print(df_imp.shape)\n",
    "print(\"--- %s seconds ---\" % (time.time() - start_time))"
   ]
  },
  {
   "cell_type": "code",
   "execution_count": 374,
   "metadata": {},
   "outputs": [
    {
     "name": "stdout",
     "output_type": "stream",
     "text": [
      "(111677, 41)\n"
     ]
    },
    {
     "data": {
      "text/plain": [
       "id_record            0.000000\n",
       "id_district          0.017013\n",
       "district_name        0.017013\n",
       "id_neighborhood      0.017013\n",
       "neighborhood_name    0.017013\n",
       "id_street            0.036713\n",
       "street_name          0.000000\n",
       "post_code            1.493593\n",
       "weekday              0.000000\n",
       "id_weekday           0.000000\n",
       "holiday_calendar     0.000000\n",
       "year                 0.000000\n",
       "id_month             0.000000\n",
       "month                0.000000\n",
       "day                  0.000000\n",
       "time                 0.000000\n",
       "shift                0.000000\n",
       "death                0.000000\n",
       "minor_injuries       0.000000\n",
       "severe_injuries      0.000000\n",
       "victims              0.000000\n",
       "vehicles             0.000000\n",
       "longitude            0.000000\n",
       "latitude             0.000000\n",
       "accident_type        0.000000\n",
       "cause                0.000000\n",
       "pedestrian_cause     0.000000\n",
       "vehicle_type         0.000000\n",
       "id_shift             0.000000\n",
       "fecha                0.000000\n",
       "date                 0.008059\n",
       "tavg                 4.267665\n",
       "rainfall             0.013432\n",
       "tmin                 4.267665\n",
       "tmin_hour            0.008059\n",
       "tmax                 4.267665\n",
       "tmax_hour            0.008059\n",
       "wind_direction       0.016118\n",
       "wind_speed_avg       0.016118\n",
       "gusts_wind           0.016118\n",
       "gusts_wind_hour      0.016118\n",
       "dtype: float64"
      ]
     },
     "execution_count": 374,
     "metadata": {},
     "output_type": "execute_result"
    }
   ],
   "source": [
    "print(df_imp.shape)\n",
    "df_imp.isnull().sum()/df_imp.shape[0]*100"
   ]
  },
  {
   "cell_type": "code",
   "execution_count": 375,
   "metadata": {},
   "outputs": [],
   "source": [
    "null_list = list(df_imp['street_name'][df_imp['id_street'].isnull()].unique())"
   ]
  },
  {
   "cell_type": "code",
   "execution_count": 376,
   "metadata": {},
   "outputs": [
    {
     "data": {
      "text/html": [
       "<div>\n",
       "<style scoped>\n",
       "    .dataframe tbody tr th:only-of-type {\n",
       "        vertical-align: middle;\n",
       "    }\n",
       "\n",
       "    .dataframe tbody tr th {\n",
       "        vertical-align: top;\n",
       "    }\n",
       "\n",
       "    .dataframe thead th {\n",
       "        text-align: right;\n",
       "    }\n",
       "</style>\n",
       "<table border=\"1\" class=\"dataframe\">\n",
       "  <thead>\n",
       "    <tr style=\"text-align: right;\">\n",
       "      <th></th>\n",
       "      <th>id_record</th>\n",
       "      <th>id_district</th>\n",
       "      <th>district_name</th>\n",
       "      <th>id_neighborhood</th>\n",
       "      <th>neighborhood_name</th>\n",
       "      <th>id_street</th>\n",
       "      <th>street_name</th>\n",
       "      <th>post_code</th>\n",
       "      <th>weekday</th>\n",
       "      <th>id_weekday</th>\n",
       "      <th>...</th>\n",
       "      <th>tavg</th>\n",
       "      <th>rainfall</th>\n",
       "      <th>tmin</th>\n",
       "      <th>tmin_hour</th>\n",
       "      <th>tmax</th>\n",
       "      <th>tmax_hour</th>\n",
       "      <th>wind_direction</th>\n",
       "      <th>wind_speed_avg</th>\n",
       "      <th>gusts_wind</th>\n",
       "      <th>gusts_wind_hour</th>\n",
       "    </tr>\n",
       "  </thead>\n",
       "  <tbody>\n",
       "    <tr>\n",
       "      <th>99563</th>\n",
       "      <td>2017S000075</td>\n",
       "      <td>2.0</td>\n",
       "      <td>Eixample</td>\n",
       "      <td>9.0</td>\n",
       "      <td>la Nova Esquerra de l'Eixample</td>\n",
       "      <td>NaN</td>\n",
       "      <td>CALÀBRIA / València</td>\n",
       "      <td>NaN</td>\n",
       "      <td>wed</td>\n",
       "      <td>3</td>\n",
       "      <td>...</td>\n",
       "      <td>NaN</td>\n",
       "      <td>0.0</td>\n",
       "      <td>NaN</td>\n",
       "      <td>0.0</td>\n",
       "      <td>NaN</td>\n",
       "      <td>0.0</td>\n",
       "      <td>27.0</td>\n",
       "      <td>2.2</td>\n",
       "      <td>6.7</td>\n",
       "      <td>15.0</td>\n",
       "    </tr>\n",
       "    <tr>\n",
       "      <th>99564</th>\n",
       "      <td>2017S000075</td>\n",
       "      <td>2.0</td>\n",
       "      <td>Eixample</td>\n",
       "      <td>9.0</td>\n",
       "      <td>la Nova Esquerra de l'Eixample</td>\n",
       "      <td>NaN</td>\n",
       "      <td>CALÀBRIA / València</td>\n",
       "      <td>NaN</td>\n",
       "      <td>wed</td>\n",
       "      <td>3</td>\n",
       "      <td>...</td>\n",
       "      <td>NaN</td>\n",
       "      <td>0.0</td>\n",
       "      <td>NaN</td>\n",
       "      <td>0.0</td>\n",
       "      <td>NaN</td>\n",
       "      <td>0.0</td>\n",
       "      <td>27.0</td>\n",
       "      <td>2.2</td>\n",
       "      <td>6.7</td>\n",
       "      <td>15.0</td>\n",
       "    </tr>\n",
       "  </tbody>\n",
       "</table>\n",
       "<p>2 rows × 41 columns</p>\n",
       "</div>"
      ],
      "text/plain": [
       "         id_record  id_district district_name  id_neighborhood  \\\n",
       "99563  2017S000075          2.0      Eixample              9.0   \n",
       "99564  2017S000075          2.0      Eixample              9.0   \n",
       "\n",
       "                    neighborhood_name  id_street          street_name  \\\n",
       "99563  la Nova Esquerra de l'Eixample        NaN  CALÀBRIA / València   \n",
       "99564  la Nova Esquerra de l'Eixample        NaN  CALÀBRIA / València   \n",
       "\n",
       "      post_code weekday  id_weekday  ... tavg  rainfall  tmin tmin_hour  tmax  \\\n",
       "99563       NaN     wed           3  ...  NaN       0.0   NaN       0.0   NaN   \n",
       "99564       NaN     wed           3  ...  NaN       0.0   NaN       0.0   NaN   \n",
       "\n",
       "       tmax_hour wind_direction  wind_speed_avg  gusts_wind  gusts_wind_hour  \n",
       "99563        0.0           27.0             2.2         6.7             15.0  \n",
       "99564        0.0           27.0             2.2         6.7             15.0  \n",
       "\n",
       "[2 rows x 41 columns]"
      ]
     },
     "execution_count": 376,
     "metadata": {},
     "output_type": "execute_result"
    }
   ],
   "source": [
    "df_imp[df_imp['street_name']==null_list[1]]"
   ]
  },
  {
   "cell_type": "code",
   "execution_count": 377,
   "metadata": {
    "scrolled": true
   },
   "outputs": [],
   "source": [
    "#df_imp.isnull().sum()/df_imp.shape[0]*100"
   ]
  },
  {
   "cell_type": "code",
   "execution_count": 378,
   "metadata": {},
   "outputs": [],
   "source": [
    "df_imp = df_imp.dropna(axis=0, subset=['id_district', 'district_name','id_neighborhood', 'neighborhood_name'])"
   ]
  },
  {
   "cell_type": "code",
   "execution_count": 379,
   "metadata": {},
   "outputs": [
    {
     "name": "stdout",
     "output_type": "stream",
     "text": [
      "10\n",
      "10\n"
     ]
    }
   ],
   "source": [
    "print(len(df_imp.id_district.unique()))\n",
    "print(len(df_imp.district_name.unique()))"
   ]
  },
  {
   "cell_type": "code",
   "execution_count": 380,
   "metadata": {},
   "outputs": [
    {
     "name": "stdout",
     "output_type": "stream",
     "text": [
      "73\n",
      "74\n"
     ]
    }
   ],
   "source": [
    "print(len(df_imp.id_neighborhood.unique()))\n",
    "print(len(df_imp.neighborhood_name.unique()))"
   ]
  },
  {
   "cell_type": "code",
   "execution_count": 381,
   "metadata": {},
   "outputs": [
    {
     "data": {
      "text/plain": [
       "1"
      ]
     },
     "execution_count": 381,
     "metadata": {},
     "output_type": "execute_result"
    }
   ],
   "source": [
    "len(df_imp['neighborhood_name'][df_imp['id_neighborhood']==1].unique())"
   ]
  },
  {
   "cell_type": "code",
   "execution_count": 382,
   "metadata": {},
   "outputs": [
    {
     "name": "stdout",
     "output_type": "stream",
     "text": [
      "['el Poble-sec' 'el Poble Sec']\n"
     ]
    }
   ],
   "source": [
    "for i in range(df_imp['id_neighborhood'].shape[0]):\n",
    "    if len(df_imp['neighborhood_name'][df_imp['id_neighborhood']==i].unique()) > 1:\n",
    "        print(df_imp['neighborhood_name'][df_imp['id_neighborhood']==i].unique())\n",
    "    else:\n",
    "        pass"
   ]
  },
  {
   "cell_type": "code",
   "execution_count": 383,
   "metadata": {},
   "outputs": [],
   "source": [
    "df_imp['neighborhood_name'] = df_imp['neighborhood_name'].replace('el Poble-sec', 'el Poble Sec')"
   ]
  },
  {
   "cell_type": "code",
   "execution_count": 384,
   "metadata": {},
   "outputs": [
    {
     "data": {
      "text/plain": [
       "array(['holiday', 'working_day'], dtype=object)"
      ]
     },
     "execution_count": 384,
     "metadata": {},
     "output_type": "execute_result"
    }
   ],
   "source": [
    "df.holiday_calendar.unique()"
   ]
  },
  {
   "cell_type": "code",
   "execution_count": 385,
   "metadata": {},
   "outputs": [
    {
     "data": {
      "text/plain": [
       "Index(['id_record', 'id_district', 'district_name', 'id_neighborhood',\n",
       "       'neighborhood_name', 'id_street', 'street_name', 'post_code', 'weekday',\n",
       "       'id_weekday', 'holiday_calendar', 'year', 'id_month', 'month', 'day',\n",
       "       'time', 'shift', 'death', 'minor_injuries', 'severe_injuries',\n",
       "       'victims', 'vehicles', 'longitude', 'latitude', 'accident_type',\n",
       "       'cause', 'pedestrian_cause', 'vehicle_type', 'id_shift', 'fecha',\n",
       "       'date', 'tavg', 'rainfall', 'tmin', 'tmin_hour', 'tmax', 'tmax_hour',\n",
       "       'wind_direction', 'wind_speed_avg', 'gusts_wind', 'gusts_wind_hour'],\n",
       "      dtype='object')"
      ]
     },
     "execution_count": 385,
     "metadata": {},
     "output_type": "execute_result"
    }
   ],
   "source": [
    "df_imp.columns"
   ]
  },
  {
   "cell_type": "code",
   "execution_count": 386,
   "metadata": {},
   "outputs": [
    {
     "data": {
      "text/plain": [
       "(111658, 36)"
      ]
     },
     "execution_count": 386,
     "metadata": {},
     "output_type": "execute_result"
    }
   ],
   "source": [
    "df_plot = df_imp[['id_record', 'id_district', 'district_name', 'id_neighborhood',\n",
    "       'neighborhood_name', 'id_street', 'street_name', 'weekday',\n",
    "       'holiday_calendar', 'year','month','day','time', 'shift', 'death', 'minor_injuries', 'severe_injuries',\n",
    "       'victims', 'vehicles', 'longitude', 'latitude', 'accident_type',\n",
    "       'cause', 'pedestrian_cause', 'vehicle_type','date', 'tavg',\n",
    "       'rainfall', 'tmin', 'tmin_hour', 'tmax', 'tmax_hour', 'wind_direction',\n",
    "       'wind_speed_avg', 'gusts_wind', 'gusts_wind_hour']]\n",
    "df_plot.shape"
   ]
  },
  {
   "cell_type": "code",
   "execution_count": 387,
   "metadata": {},
   "outputs": [
    {
     "name": "stderr",
     "output_type": "stream",
     "text": [
      "<ipython-input-387-c0bde9a8a1c2>:3: SettingWithCopyWarning: \n",
      "A value is trying to be set on a copy of a slice from a DataFrame.\n",
      "Try using .loc[row_indexer,col_indexer] = value instead\n",
      "\n",
      "See the caveats in the documentation: https://pandas.pydata.org/pandas-docs/stable/user_guide/indexing.html#returning-a-view-versus-a-copy\n",
      "  df_plot['district_accidents'] = df_plot['district_name'].map(district_acc)\n"
     ]
    }
   ],
   "source": [
    "district_vc = df_plot['district_name'].value_counts()\n",
    "district_acc = pd.Series(district_vc.values, index = district_vc.index).to_dict()\n",
    "df_plot['district_accidents'] = df_plot['district_name'].map(district_acc)"
   ]
  },
  {
   "cell_type": "code",
   "execution_count": 388,
   "metadata": {},
   "outputs": [
    {
     "name": "stderr",
     "output_type": "stream",
     "text": [
      "<ipython-input-388-0db5eb7e46c5>:3: SettingWithCopyWarning: \n",
      "A value is trying to be set on a copy of a slice from a DataFrame.\n",
      "Try using .loc[row_indexer,col_indexer] = value instead\n",
      "\n",
      "See the caveats in the documentation: https://pandas.pydata.org/pandas-docs/stable/user_guide/indexing.html#returning-a-view-versus-a-copy\n",
      "  df_plot['neighborhood_accidents'] = df_plot['neighborhood_name'].map(district_acc)\n"
     ]
    }
   ],
   "source": [
    "district_vc = df_plot['neighborhood_name'].value_counts()\n",
    "district_acc = pd.Series(district_vc.values, index = district_vc.index).to_dict()\n",
    "df_plot['neighborhood_accidents'] = df_plot['neighborhood_name'].map(district_acc)"
   ]
  },
  {
   "cell_type": "code",
   "execution_count": 389,
   "metadata": {},
   "outputs": [
    {
     "name": "stderr",
     "output_type": "stream",
     "text": [
      "<ipython-input-389-d79dcb5d1a29>:3: SettingWithCopyWarning: \n",
      "A value is trying to be set on a copy of a slice from a DataFrame.\n",
      "Try using .loc[row_indexer,col_indexer] = value instead\n",
      "\n",
      "See the caveats in the documentation: https://pandas.pydata.org/pandas-docs/stable/user_guide/indexing.html#returning-a-view-versus-a-copy\n",
      "  df_plot['street_accidents'] = df_plot['street_name'].map(street_acc)\n"
     ]
    }
   ],
   "source": [
    "street_vc = df_plot['street_name'].value_counts()\n",
    "street_acc = pd.Series(street_vc.values, index = street_vc.index).to_dict()\n",
    "df_plot['street_accidents'] = df_plot['street_name'].map(street_acc)"
   ]
  },
  {
   "cell_type": "code",
   "execution_count": 390,
   "metadata": {},
   "outputs": [
    {
     "data": {
      "text/plain": [
       "array(['tue', 'fri', 'thu', 'wed', 'mon', 'sun', 'sat'], dtype=object)"
      ]
     },
     "execution_count": 390,
     "metadata": {},
     "output_type": "execute_result"
    }
   ],
   "source": [
    "df_plot['weekday'].unique()"
   ]
  },
  {
   "cell_type": "code",
   "execution_count": 391,
   "metadata": {},
   "outputs": [
    {
     "name": "stderr",
     "output_type": "stream",
     "text": [
      "<ipython-input-391-b782a4b1711d>:1: SettingWithCopyWarning: \n",
      "A value is trying to be set on a copy of a slice from a DataFrame.\n",
      "Try using .loc[row_indexer,col_indexer] = value instead\n",
      "\n",
      "See the caveats in the documentation: https://pandas.pydata.org/pandas-docs/stable/user_guide/indexing.html#returning-a-view-versus-a-copy\n",
      "  df_plot['weekend'] = df_plot['weekday'].map({'tue':0, 'fri':1, 'thu':0, 'wed':0, 'mon':0, 'sun':1, 'sat':1})\n"
     ]
    }
   ],
   "source": [
    "df_plot['weekend'] = df_plot['weekday'].map({'tue':0, 'fri':1, 'thu':0, 'wed':0, 'mon':0, 'sun':1, 'sat':1})"
   ]
  },
  {
   "cell_type": "code",
   "execution_count": 392,
   "metadata": {},
   "outputs": [
    {
     "data": {
      "text/plain": [
       "array(['holiday', 'working_day'], dtype=object)"
      ]
     },
     "execution_count": 392,
     "metadata": {},
     "output_type": "execute_result"
    }
   ],
   "source": [
    "df_plot['holiday_calendar'].unique()"
   ]
  },
  {
   "cell_type": "code",
   "execution_count": 393,
   "metadata": {},
   "outputs": [],
   "source": [
    "df_plot['holiday'] = df_plot['holiday_calendar'].map({'holiday':1, 'working_day':0})"
   ]
  },
  {
   "cell_type": "code",
   "execution_count": 394,
   "metadata": {},
   "outputs": [
    {
     "data": {
      "text/plain": [
       "array([ 1., 14., 21., 10., 19., 18., 15.,  2., 20., 12., 13.,  5.,  0.,\n",
       "        4., 11., 17.,  9.,  8.,  6., 16., 22.,  7., 23.,  3.])"
      ]
     },
     "execution_count": 394,
     "metadata": {},
     "output_type": "execute_result"
    }
   ],
   "source": [
    "df_plot['time'].unique()"
   ]
  },
  {
   "cell_type": "code",
   "execution_count": 395,
   "metadata": {},
   "outputs": [],
   "source": [
    "daytime = []\n",
    "\n",
    "for i in range(len(df_plot.time)):\n",
    "    if df_plot.time.iloc[i] > -1 and df_plot.time.iloc[i] < 6:\n",
    "        daytime.append('early_morning')\n",
    "    elif df_plot.time.iloc[i] > 5 and df_plot.time.iloc[i] < 12:\n",
    "        daytime.append('morning')\n",
    "    elif df_plot.time.iloc[i] > 11 and df_plot.time.iloc[i] < 18:\n",
    "        daytime.append('afternoon')\n",
    "    elif df_plot.time.iloc[i] > 17 and df_plot.time.iloc[i] < 24:\n",
    "        daytime.append('evening')\n",
    "\n",
    "\n",
    "df_plot['shift'] = daytime"
   ]
  },
  {
   "cell_type": "code",
   "execution_count": 396,
   "metadata": {},
   "outputs": [
    {
     "data": {
      "text/plain": [
       "111658"
      ]
     },
     "execution_count": 396,
     "metadata": {},
     "output_type": "execute_result"
    }
   ],
   "source": [
    "len(df_plot.time)"
   ]
  },
  {
   "cell_type": "code",
   "execution_count": 397,
   "metadata": {},
   "outputs": [
    {
     "data": {
      "text/plain": [
       "Index(['id_record', 'id_district', 'district_name', 'id_neighborhood',\n",
       "       'neighborhood_name', 'id_street', 'street_name', 'weekday',\n",
       "       'holiday_calendar', 'year', 'month', 'day', 'time', 'shift', 'death',\n",
       "       'minor_injuries', 'severe_injuries', 'victims', 'vehicles', 'longitude',\n",
       "       'latitude', 'accident_type', 'cause', 'pedestrian_cause',\n",
       "       'vehicle_type', 'date', 'tavg', 'rainfall', 'tmin', 'tmin_hour', 'tmax',\n",
       "       'tmax_hour', 'wind_direction', 'wind_speed_avg', 'gusts_wind',\n",
       "       'gusts_wind_hour', 'district_accidents', 'neighborhood_accidents',\n",
       "       'street_accidents', 'weekend', 'holiday'],\n",
       "      dtype='object')"
      ]
     },
     "execution_count": 397,
     "metadata": {},
     "output_type": "execute_result"
    }
   ],
   "source": [
    "df_plot.columns"
   ]
  },
  {
   "cell_type": "code",
   "execution_count": 398,
   "metadata": {},
   "outputs": [],
   "source": [
    "df_plot.drop(['holiday_calendar','time'], axis = 1, inplace = True)"
   ]
  },
  {
   "cell_type": "code",
   "execution_count": 399,
   "metadata": {},
   "outputs": [],
   "source": [
    "df_plot.tavg = df_plot.tavg.replace(np.nan, 0)\n",
    "df_plot.rainfall = df_plot.rainfall.replace(np.nan, 0)\n",
    "df_plot.tmin = df_plot.tmin.replace(np.nan, 0)\n",
    "df_plot.tmin_hour = df_plot.tmin_hour.replace(np.nan, 0)\n",
    "df_plot.tmax = df_plot.tmax.replace(np.nan, 0)\n",
    "df_plot.tmax_hour = df_plot.tmax_hour.replace(np.nan, 0)\n",
    "df_plot.gusts_wind = df_plot.gusts_wind.replace(np.nan, 0)\n",
    "df_plot.wind_speed_avg = df_plot.wind_speed_avg.replace(np.nan, 0)\n",
    "df_plot.wind_direction = df_plot.wind_direction.replace(np.nan, 0)\n",
    "df_plot.gusts_wind_hour = df_plot.gusts_wind_hour.replace(np.nan, 0)"
   ]
  },
  {
   "cell_type": "code",
   "execution_count": 400,
   "metadata": {
    "scrolled": true
   },
   "outputs": [
    {
     "data": {
      "text/plain": [
       "(111658, 39)"
      ]
     },
     "execution_count": 400,
     "metadata": {},
     "output_type": "execute_result"
    }
   ],
   "source": [
    "df_plot.shape"
   ]
  },
  {
   "cell_type": "code",
   "execution_count": 401,
   "metadata": {
    "scrolled": true
   },
   "outputs": [
    {
     "data": {
      "text/html": [
       "<div>\n",
       "<style scoped>\n",
       "    .dataframe tbody tr th:only-of-type {\n",
       "        vertical-align: middle;\n",
       "    }\n",
       "\n",
       "    .dataframe tbody tr th {\n",
       "        vertical-align: top;\n",
       "    }\n",
       "\n",
       "    .dataframe thead th {\n",
       "        text-align: right;\n",
       "    }\n",
       "</style>\n",
       "<table border=\"1\" class=\"dataframe\">\n",
       "  <thead>\n",
       "    <tr style=\"text-align: right;\">\n",
       "      <th></th>\n",
       "      <th>id_record</th>\n",
       "      <th>id_district</th>\n",
       "      <th>district_name</th>\n",
       "      <th>id_neighborhood</th>\n",
       "      <th>neighborhood_name</th>\n",
       "      <th>id_street</th>\n",
       "      <th>street_name</th>\n",
       "      <th>weekday</th>\n",
       "      <th>year</th>\n",
       "      <th>month</th>\n",
       "      <th>...</th>\n",
       "      <th>tmax_hour</th>\n",
       "      <th>wind_direction</th>\n",
       "      <th>wind_speed_avg</th>\n",
       "      <th>gusts_wind</th>\n",
       "      <th>gusts_wind_hour</th>\n",
       "      <th>district_accidents</th>\n",
       "      <th>neighborhood_accidents</th>\n",
       "      <th>street_accidents</th>\n",
       "      <th>weekend</th>\n",
       "      <th>holiday</th>\n",
       "    </tr>\n",
       "  </thead>\n",
       "  <tbody>\n",
       "    <tr>\n",
       "      <th>99563</th>\n",
       "      <td>2017S000075</td>\n",
       "      <td>2.0</td>\n",
       "      <td>Eixample</td>\n",
       "      <td>9.0</td>\n",
       "      <td>la Nova Esquerra de l'Eixample</td>\n",
       "      <td>NaN</td>\n",
       "      <td>CALÀBRIA / València</td>\n",
       "      <td>wed</td>\n",
       "      <td>2017</td>\n",
       "      <td>jan</td>\n",
       "      <td>...</td>\n",
       "      <td>0.0</td>\n",
       "      <td>27.0</td>\n",
       "      <td>2.2</td>\n",
       "      <td>6.7</td>\n",
       "      <td>15.0</td>\n",
       "      <td>34209</td>\n",
       "      <td>4606</td>\n",
       "      <td>2</td>\n",
       "      <td>0</td>\n",
       "      <td>0</td>\n",
       "    </tr>\n",
       "    <tr>\n",
       "      <th>99564</th>\n",
       "      <td>2017S000075</td>\n",
       "      <td>2.0</td>\n",
       "      <td>Eixample</td>\n",
       "      <td>9.0</td>\n",
       "      <td>la Nova Esquerra de l'Eixample</td>\n",
       "      <td>NaN</td>\n",
       "      <td>CALÀBRIA / València</td>\n",
       "      <td>wed</td>\n",
       "      <td>2017</td>\n",
       "      <td>jan</td>\n",
       "      <td>...</td>\n",
       "      <td>0.0</td>\n",
       "      <td>27.0</td>\n",
       "      <td>2.2</td>\n",
       "      <td>6.7</td>\n",
       "      <td>15.0</td>\n",
       "      <td>34209</td>\n",
       "      <td>4606</td>\n",
       "      <td>2</td>\n",
       "      <td>0</td>\n",
       "      <td>0</td>\n",
       "    </tr>\n",
       "  </tbody>\n",
       "</table>\n",
       "<p>2 rows × 39 columns</p>\n",
       "</div>"
      ],
      "text/plain": [
       "         id_record  id_district district_name  id_neighborhood  \\\n",
       "99563  2017S000075          2.0      Eixample              9.0   \n",
       "99564  2017S000075          2.0      Eixample              9.0   \n",
       "\n",
       "                    neighborhood_name  id_street          street_name weekday  \\\n",
       "99563  la Nova Esquerra de l'Eixample        NaN  CALÀBRIA / València     wed   \n",
       "99564  la Nova Esquerra de l'Eixample        NaN  CALÀBRIA / València     wed   \n",
       "\n",
       "       year month  ...  tmax_hour wind_direction  wind_speed_avg  gusts_wind  \\\n",
       "99563  2017   jan  ...        0.0           27.0             2.2         6.7   \n",
       "99564  2017   jan  ...        0.0           27.0             2.2         6.7   \n",
       "\n",
       "       gusts_wind_hour  district_accidents  neighborhood_accidents  \\\n",
       "99563             15.0               34209                    4606   \n",
       "99564             15.0               34209                    4606   \n",
       "\n",
       "       street_accidents  weekend holiday  \n",
       "99563                 2        0       0  \n",
       "99564                 2        0       0  \n",
       "\n",
       "[2 rows x 39 columns]"
      ]
     },
     "execution_count": 401,
     "metadata": {},
     "output_type": "execute_result"
    }
   ],
   "source": [
    "df_plot[df_plot['street_name']=='CALÀBRIA / València']"
   ]
  },
  {
   "cell_type": "code",
   "execution_count": 402,
   "metadata": {},
   "outputs": [
    {
     "name": "stdout",
     "output_type": "stream",
     "text": [
      "(111658, 41)\n"
     ]
    },
    {
     "data": {
      "text/plain": [
       "Index(['id_record', 'id_district', 'district_name', 'id_neighborhood',\n",
       "       'neighborhood_name', 'id_street', 'street_name', 'weekday', 'year',\n",
       "       'month', 'day', 'shift', 'death', 'minor_injuries', 'severe_injuries',\n",
       "       'victims', 'vehicles', 'longitude', 'latitude', 'accident_type',\n",
       "       'cause', 'pedestrian_cause', 'vehicle_type', 'date', 'tavg', 'rainfall',\n",
       "       'tmin', 'tmin_hour', 'tmax', 'tmax_hour', 'wind_direction',\n",
       "       'wind_speed_avg', 'gusts_wind', 'gusts_wind_hour', 'district_accidents',\n",
       "       'neighborhood_accidents', 'street_accidents', 'weekend', 'holiday'],\n",
       "      dtype='object')"
      ]
     },
     "execution_count": 402,
     "metadata": {},
     "output_type": "execute_result"
    }
   ],
   "source": [
    "print(df_imp.shape)\n",
    "df_plot.columns"
   ]
  },
  {
   "cell_type": "code",
   "execution_count": 403,
   "metadata": {},
   "outputs": [
    {
     "data": {
      "text/plain": [
       "id_record                  0\n",
       "id_district                0\n",
       "district_name              0\n",
       "id_neighborhood            0\n",
       "neighborhood_name          0\n",
       "id_street                 22\n",
       "street_name                0\n",
       "weekday                    0\n",
       "year                       0\n",
       "month                      0\n",
       "day                        0\n",
       "shift                      0\n",
       "death                      0\n",
       "minor_injuries             0\n",
       "severe_injuries            0\n",
       "victims                    0\n",
       "vehicles                   0\n",
       "longitude                  0\n",
       "latitude                   0\n",
       "accident_type              0\n",
       "cause                      0\n",
       "pedestrian_cause           0\n",
       "vehicle_type               0\n",
       "date                       9\n",
       "tavg                       0\n",
       "rainfall                   0\n",
       "tmin                       0\n",
       "tmin_hour                  0\n",
       "tmax                       0\n",
       "tmax_hour                  0\n",
       "wind_direction             0\n",
       "wind_speed_avg             0\n",
       "gusts_wind                 0\n",
       "gusts_wind_hour            0\n",
       "district_accidents         0\n",
       "neighborhood_accidents     0\n",
       "street_accidents           0\n",
       "weekend                    0\n",
       "holiday                    0\n",
       "dtype: int64"
      ]
     },
     "execution_count": 403,
     "metadata": {},
     "output_type": "execute_result"
    }
   ],
   "source": [
    "df_plot.isnull().sum()"
   ]
  },
  {
   "cell_type": "code",
   "execution_count": 404,
   "metadata": {},
   "outputs": [
    {
     "name": "stdout",
     "output_type": "stream",
     "text": [
      "22\n"
     ]
    },
    {
     "data": {
      "text/plain": [
       "99563                  CALÀBRIA / València\n",
       "99564                  CALÀBRIA / València\n",
       "100440    CRISTÓBAL DE MOURA / Bac de Roda\n",
       "100441    CRISTÓBAL DE MOURA / Bac de Roda\n",
       "100460                         CASTILLEJOS\n",
       "100461                         CASTILLEJOS\n",
       "100489      PL TETUAN / GV Corts Catalanes\n",
       "100490      PL TETUAN / GV Corts Catalanes\n",
       "100491      PL TETUAN / GV Corts Catalanes\n",
       "100492      PL TETUAN / GV Corts Catalanes\n",
       "101969       ST ANTONI M CLARET / Guinardó\n",
       "101970       ST ANTONI M CLARET / Guinardó\n",
       "102418          ENTENÇA / Av J Tarradellas\n",
       "102419          ENTENÇA / Av J Tarradellas\n",
       "102428       LLOBREGÓS / Lluís Marià Vidal\n",
       "102719                      JOSEP SANGENÍS\n",
       "102990                  CTRA ALTA ROQUETES\n",
       "103073        FELIU I CODINA / Eduard Toda\n",
       "103142                           RBLA PRIM\n",
       "103381                 ROCAFORT / Rosselló\n",
       "103475              ESCORIAL / Providència\n",
       "103476              ESCORIAL / Providència\n",
       "Name: street_name, dtype: object"
      ]
     },
     "execution_count": 404,
     "metadata": {},
     "output_type": "execute_result"
    }
   ],
   "source": [
    "print(len(df_plot['street_name'][df_plot['id_street'].isnull()]))\n",
    "df_plot['street_name'][df_plot['id_street'].isnull()]"
   ]
  },
  {
   "cell_type": "code",
   "execution_count": 405,
   "metadata": {},
   "outputs": [
    {
     "data": {
      "text/plain": [
       "'CRISTÓBAL DE MOURA'"
      ]
     },
     "execution_count": 405,
     "metadata": {},
     "output_type": "execute_result"
    }
   ],
   "source": [
    "street_null = list(df_plot['street_name'][df_plot['id_street'].isnull()])\n",
    "street_null[3].split(' /')[0]"
   ]
  },
  {
   "cell_type": "code",
   "execution_count": 406,
   "metadata": {},
   "outputs": [
    {
     "data": {
      "text/plain": [
       "99563   NaN\n",
       "99564   NaN\n",
       "Name: id_street, dtype: float64"
      ]
     },
     "execution_count": 406,
     "metadata": {},
     "output_type": "execute_result"
    }
   ],
   "source": [
    "df_plot['id_street'][df_plot['street_name']==street_null[0]]"
   ]
  },
  {
   "cell_type": "code",
   "execution_count": 407,
   "metadata": {},
   "outputs": [
    {
     "data": {
      "text/plain": [
       "0"
      ]
     },
     "execution_count": 407,
     "metadata": {},
     "output_type": "execute_result"
    }
   ],
   "source": [
    "len(df_plot['id_street'][df_plot['street_name']==street_null[3].split(' /')[0]])"
   ]
  },
  {
   "cell_type": "code",
   "execution_count": 408,
   "metadata": {},
   "outputs": [
    {
     "data": {
      "text/plain": [
       "701452.0"
      ]
     },
     "execution_count": 408,
     "metadata": {},
     "output_type": "execute_result"
    }
   ],
   "source": [
    "list(df_plot['id_street'][df_plot['street_name']==street_null[0].split(' /')[0]])[0]"
   ]
  },
  {
   "cell_type": "code",
   "execution_count": 409,
   "metadata": {},
   "outputs": [
    {
     "data": {
      "text/html": [
       "<div>\n",
       "<style scoped>\n",
       "    .dataframe tbody tr th:only-of-type {\n",
       "        vertical-align: middle;\n",
       "    }\n",
       "\n",
       "    .dataframe tbody tr th {\n",
       "        vertical-align: top;\n",
       "    }\n",
       "\n",
       "    .dataframe thead th {\n",
       "        text-align: right;\n",
       "    }\n",
       "</style>\n",
       "<table border=\"1\" class=\"dataframe\">\n",
       "  <thead>\n",
       "    <tr style=\"text-align: right;\">\n",
       "      <th></th>\n",
       "      <th>id_record</th>\n",
       "      <th>id_district</th>\n",
       "      <th>district_name</th>\n",
       "      <th>id_neighborhood</th>\n",
       "      <th>neighborhood_name</th>\n",
       "      <th>id_street</th>\n",
       "      <th>street_name</th>\n",
       "      <th>weekday</th>\n",
       "      <th>year</th>\n",
       "      <th>month</th>\n",
       "      <th>...</th>\n",
       "      <th>tmax_hour</th>\n",
       "      <th>wind_direction</th>\n",
       "      <th>wind_speed_avg</th>\n",
       "      <th>gusts_wind</th>\n",
       "      <th>gusts_wind_hour</th>\n",
       "      <th>district_accidents</th>\n",
       "      <th>neighborhood_accidents</th>\n",
       "      <th>street_accidents</th>\n",
       "      <th>weekend</th>\n",
       "      <th>holiday</th>\n",
       "    </tr>\n",
       "  </thead>\n",
       "  <tbody>\n",
       "  </tbody>\n",
       "</table>\n",
       "<p>0 rows × 39 columns</p>\n",
       "</div>"
      ],
      "text/plain": [
       "Empty DataFrame\n",
       "Columns: [id_record, id_district, district_name, id_neighborhood, neighborhood_name, id_street, street_name, weekday, year, month, day, shift, death, minor_injuries, severe_injuries, victims, vehicles, longitude, latitude, accident_type, cause, pedestrian_cause, vehicle_type, date, tavg, rainfall, tmin, tmin_hour, tmax, tmax_hour, wind_direction, wind_speed_avg, gusts_wind, gusts_wind_hour, district_accidents, neighborhood_accidents, street_accidents, weekend, holiday]\n",
       "Index: []\n",
       "\n",
       "[0 rows x 39 columns]"
      ]
     },
     "execution_count": 409,
     "metadata": {},
     "output_type": "execute_result"
    }
   ],
   "source": [
    "df_plot[df_plot['id_street']==0]"
   ]
  },
  {
   "cell_type": "code",
   "execution_count": 410,
   "metadata": {},
   "outputs": [
    {
     "name": "stdout",
     "output_type": "stream",
     "text": [
      "22\n"
     ]
    }
   ],
   "source": [
    "id_null = []\n",
    "for i in range(len(street_null)):\n",
    "    st = df_plot['id_street'][df_plot['street_name']==street_null[i].split(' /')[0]]\n",
    "    if len(st) > 0:\n",
    "        ids = list(df_plot['id_street'][df_plot['street_name']==street_null[i].split(' /')[0]])[0]\n",
    "        id_null.append(ids)\n",
    "    elif len(st) == 0:\n",
    "        id_null.append(0)\n",
    "print(len(id_null))"
   ]
  },
  {
   "cell_type": "code",
   "execution_count": 411,
   "metadata": {},
   "outputs": [
    {
     "name": "stderr",
     "output_type": "stream",
     "text": [
      "<ipython-input-411-a6a476f182f9>:2: SettingWithCopyWarning: \n",
      "A value is trying to be set on a copy of a slice from a DataFrame\n",
      "\n",
      "See the caveats in the documentation: https://pandas.pydata.org/pandas-docs/stable/user_guide/indexing.html#returning-a-view-versus-a-copy\n",
      "  df_plot['id_street'][df_plot['street_name']==street_null[i]] = df_plot['id_street'][df_plot['street_name']==street_null[i]].replace(np.nan, id_null[i])\n"
     ]
    },
    {
     "data": {
      "text/html": [
       "<div>\n",
       "<style scoped>\n",
       "    .dataframe tbody tr th:only-of-type {\n",
       "        vertical-align: middle;\n",
       "    }\n",
       "\n",
       "    .dataframe tbody tr th {\n",
       "        vertical-align: top;\n",
       "    }\n",
       "\n",
       "    .dataframe thead th {\n",
       "        text-align: right;\n",
       "    }\n",
       "</style>\n",
       "<table border=\"1\" class=\"dataframe\">\n",
       "  <thead>\n",
       "    <tr style=\"text-align: right;\">\n",
       "      <th></th>\n",
       "      <th>id_record</th>\n",
       "      <th>id_district</th>\n",
       "      <th>district_name</th>\n",
       "      <th>id_neighborhood</th>\n",
       "      <th>neighborhood_name</th>\n",
       "      <th>id_street</th>\n",
       "      <th>street_name</th>\n",
       "      <th>weekday</th>\n",
       "      <th>year</th>\n",
       "      <th>month</th>\n",
       "      <th>...</th>\n",
       "      <th>tmax_hour</th>\n",
       "      <th>wind_direction</th>\n",
       "      <th>wind_speed_avg</th>\n",
       "      <th>gusts_wind</th>\n",
       "      <th>gusts_wind_hour</th>\n",
       "      <th>district_accidents</th>\n",
       "      <th>neighborhood_accidents</th>\n",
       "      <th>street_accidents</th>\n",
       "      <th>weekend</th>\n",
       "      <th>holiday</th>\n",
       "    </tr>\n",
       "  </thead>\n",
       "  <tbody>\n",
       "    <tr>\n",
       "      <th>100440</th>\n",
       "      <td>2017S000233</td>\n",
       "      <td>10.0</td>\n",
       "      <td>Sant Martí</td>\n",
       "      <td>71.0</td>\n",
       "      <td>Provençals del Poblenou</td>\n",
       "      <td>0.0</td>\n",
       "      <td>CRISTÓBAL DE MOURA / Bac de Roda</td>\n",
       "      <td>tue</td>\n",
       "      <td>2017</td>\n",
       "      <td>jan</td>\n",
       "      <td>...</td>\n",
       "      <td>0.0</td>\n",
       "      <td>7.0</td>\n",
       "      <td>2.8</td>\n",
       "      <td>7.8</td>\n",
       "      <td>16.0</td>\n",
       "      <td>13898</td>\n",
       "      <td>1891</td>\n",
       "      <td>2</td>\n",
       "      <td>0</td>\n",
       "      <td>0</td>\n",
       "    </tr>\n",
       "    <tr>\n",
       "      <th>100441</th>\n",
       "      <td>2017S000233</td>\n",
       "      <td>10.0</td>\n",
       "      <td>Sant Martí</td>\n",
       "      <td>71.0</td>\n",
       "      <td>Provençals del Poblenou</td>\n",
       "      <td>0.0</td>\n",
       "      <td>CRISTÓBAL DE MOURA / Bac de Roda</td>\n",
       "      <td>tue</td>\n",
       "      <td>2017</td>\n",
       "      <td>jan</td>\n",
       "      <td>...</td>\n",
       "      <td>0.0</td>\n",
       "      <td>7.0</td>\n",
       "      <td>2.8</td>\n",
       "      <td>7.8</td>\n",
       "      <td>16.0</td>\n",
       "      <td>13898</td>\n",
       "      <td>1891</td>\n",
       "      <td>2</td>\n",
       "      <td>0</td>\n",
       "      <td>0</td>\n",
       "    </tr>\n",
       "    <tr>\n",
       "      <th>100460</th>\n",
       "      <td>2017S000249</td>\n",
       "      <td>2.0</td>\n",
       "      <td>Eixample</td>\n",
       "      <td>5.0</td>\n",
       "      <td>el Fort Pienc</td>\n",
       "      <td>NaN</td>\n",
       "      <td>CASTILLEJOS</td>\n",
       "      <td>wed</td>\n",
       "      <td>2017</td>\n",
       "      <td>jan</td>\n",
       "      <td>...</td>\n",
       "      <td>0.0</td>\n",
       "      <td>21.0</td>\n",
       "      <td>4.2</td>\n",
       "      <td>9.4</td>\n",
       "      <td>16.0</td>\n",
       "      <td>34209</td>\n",
       "      <td>3255</td>\n",
       "      <td>2</td>\n",
       "      <td>0</td>\n",
       "      <td>0</td>\n",
       "    </tr>\n",
       "    <tr>\n",
       "      <th>100461</th>\n",
       "      <td>2017S000249</td>\n",
       "      <td>2.0</td>\n",
       "      <td>Eixample</td>\n",
       "      <td>5.0</td>\n",
       "      <td>el Fort Pienc</td>\n",
       "      <td>NaN</td>\n",
       "      <td>CASTILLEJOS</td>\n",
       "      <td>wed</td>\n",
       "      <td>2017</td>\n",
       "      <td>jan</td>\n",
       "      <td>...</td>\n",
       "      <td>0.0</td>\n",
       "      <td>21.0</td>\n",
       "      <td>4.2</td>\n",
       "      <td>9.4</td>\n",
       "      <td>16.0</td>\n",
       "      <td>34209</td>\n",
       "      <td>3255</td>\n",
       "      <td>2</td>\n",
       "      <td>0</td>\n",
       "      <td>0</td>\n",
       "    </tr>\n",
       "    <tr>\n",
       "      <th>102719</th>\n",
       "      <td>2017S001469</td>\n",
       "      <td>7.0</td>\n",
       "      <td>Horta-Guinardó</td>\n",
       "      <td>38.0</td>\n",
       "      <td>la Teixonera</td>\n",
       "      <td>NaN</td>\n",
       "      <td>JOSEP SANGENÍS</td>\n",
       "      <td>wed</td>\n",
       "      <td>2017</td>\n",
       "      <td>feb</td>\n",
       "      <td>...</td>\n",
       "      <td>0.0</td>\n",
       "      <td>19.0</td>\n",
       "      <td>3.1</td>\n",
       "      <td>7.8</td>\n",
       "      <td>14.0</td>\n",
       "      <td>7651</td>\n",
       "      <td>264</td>\n",
       "      <td>1</td>\n",
       "      <td>0</td>\n",
       "      <td>0</td>\n",
       "    </tr>\n",
       "    <tr>\n",
       "      <th>102990</th>\n",
       "      <td>2017S001749</td>\n",
       "      <td>8.0</td>\n",
       "      <td>Nou Barris</td>\n",
       "      <td>50.0</td>\n",
       "      <td>les Roquetes</td>\n",
       "      <td>NaN</td>\n",
       "      <td>CTRA ALTA ROQUETES</td>\n",
       "      <td>fri</td>\n",
       "      <td>2017</td>\n",
       "      <td>mar</td>\n",
       "      <td>...</td>\n",
       "      <td>0.0</td>\n",
       "      <td>8.0</td>\n",
       "      <td>4.4</td>\n",
       "      <td>12.2</td>\n",
       "      <td>22.0</td>\n",
       "      <td>5773</td>\n",
       "      <td>503</td>\n",
       "      <td>1</td>\n",
       "      <td>1</td>\n",
       "      <td>0</td>\n",
       "    </tr>\n",
       "    <tr>\n",
       "      <th>103073</th>\n",
       "      <td>2017S001849</td>\n",
       "      <td>7.0</td>\n",
       "      <td>Horta-Guinardó</td>\n",
       "      <td>43.0</td>\n",
       "      <td>Horta</td>\n",
       "      <td>0.0</td>\n",
       "      <td>FELIU I CODINA / Eduard Toda</td>\n",
       "      <td>mon</td>\n",
       "      <td>2017</td>\n",
       "      <td>mar</td>\n",
       "      <td>...</td>\n",
       "      <td>0.0</td>\n",
       "      <td>30.0</td>\n",
       "      <td>5.0</td>\n",
       "      <td>16.7</td>\n",
       "      <td>19.0</td>\n",
       "      <td>7651</td>\n",
       "      <td>1519</td>\n",
       "      <td>1</td>\n",
       "      <td>0</td>\n",
       "      <td>0</td>\n",
       "    </tr>\n",
       "    <tr>\n",
       "      <th>103142</th>\n",
       "      <td>2017S001926</td>\n",
       "      <td>10.0</td>\n",
       "      <td>Sant Martí</td>\n",
       "      <td>73.0</td>\n",
       "      <td>la Verneda i la Pau</td>\n",
       "      <td>NaN</td>\n",
       "      <td>RBLA PRIM</td>\n",
       "      <td>thu</td>\n",
       "      <td>2017</td>\n",
       "      <td>mar</td>\n",
       "      <td>...</td>\n",
       "      <td>0.0</td>\n",
       "      <td>99.0</td>\n",
       "      <td>1.7</td>\n",
       "      <td>4.2</td>\n",
       "      <td>0.0</td>\n",
       "      <td>13898</td>\n",
       "      <td>784</td>\n",
       "      <td>1</td>\n",
       "      <td>0</td>\n",
       "      <td>0</td>\n",
       "    </tr>\n",
       "    <tr>\n",
       "      <th>103381</th>\n",
       "      <td>2017S002208</td>\n",
       "      <td>2.0</td>\n",
       "      <td>Eixample</td>\n",
       "      <td>9.0</td>\n",
       "      <td>la Nova Esquerra de l'Eixample</td>\n",
       "      <td>0.0</td>\n",
       "      <td>ROCAFORT / Rosselló</td>\n",
       "      <td>sun</td>\n",
       "      <td>2017</td>\n",
       "      <td>mar</td>\n",
       "      <td>...</td>\n",
       "      <td>0.0</td>\n",
       "      <td>19.0</td>\n",
       "      <td>2.5</td>\n",
       "      <td>7.5</td>\n",
       "      <td>14.0</td>\n",
       "      <td>34209</td>\n",
       "      <td>4606</td>\n",
       "      <td>1</td>\n",
       "      <td>1</td>\n",
       "      <td>0</td>\n",
       "    </tr>\n",
       "  </tbody>\n",
       "</table>\n",
       "<p>9 rows × 39 columns</p>\n",
       "</div>"
      ],
      "text/plain": [
       "          id_record  id_district   district_name  id_neighborhood  \\\n",
       "100440  2017S000233         10.0      Sant Martí             71.0   \n",
       "100441  2017S000233         10.0      Sant Martí             71.0   \n",
       "100460  2017S000249          2.0        Eixample              5.0   \n",
       "100461  2017S000249          2.0        Eixample              5.0   \n",
       "102719  2017S001469          7.0  Horta-Guinardó             38.0   \n",
       "102990  2017S001749          8.0      Nou Barris             50.0   \n",
       "103073  2017S001849          7.0  Horta-Guinardó             43.0   \n",
       "103142  2017S001926         10.0      Sant Martí             73.0   \n",
       "103381  2017S002208          2.0        Eixample              9.0   \n",
       "\n",
       "                     neighborhood_name  id_street  \\\n",
       "100440         Provençals del Poblenou        0.0   \n",
       "100441         Provençals del Poblenou        0.0   \n",
       "100460                   el Fort Pienc        NaN   \n",
       "100461                   el Fort Pienc        NaN   \n",
       "102719                    la Teixonera        NaN   \n",
       "102990                    les Roquetes        NaN   \n",
       "103073                           Horta        0.0   \n",
       "103142             la Verneda i la Pau        NaN   \n",
       "103381  la Nova Esquerra de l'Eixample        0.0   \n",
       "\n",
       "                             street_name weekday  year month  ...  tmax_hour  \\\n",
       "100440  CRISTÓBAL DE MOURA / Bac de Roda     tue  2017   jan  ...        0.0   \n",
       "100441  CRISTÓBAL DE MOURA / Bac de Roda     tue  2017   jan  ...        0.0   \n",
       "100460                       CASTILLEJOS     wed  2017   jan  ...        0.0   \n",
       "100461                       CASTILLEJOS     wed  2017   jan  ...        0.0   \n",
       "102719                    JOSEP SANGENÍS     wed  2017   feb  ...        0.0   \n",
       "102990                CTRA ALTA ROQUETES     fri  2017   mar  ...        0.0   \n",
       "103073      FELIU I CODINA / Eduard Toda     mon  2017   mar  ...        0.0   \n",
       "103142                         RBLA PRIM     thu  2017   mar  ...        0.0   \n",
       "103381               ROCAFORT / Rosselló     sun  2017   mar  ...        0.0   \n",
       "\n",
       "       wind_direction  wind_speed_avg  gusts_wind  gusts_wind_hour  \\\n",
       "100440            7.0             2.8         7.8             16.0   \n",
       "100441            7.0             2.8         7.8             16.0   \n",
       "100460           21.0             4.2         9.4             16.0   \n",
       "100461           21.0             4.2         9.4             16.0   \n",
       "102719           19.0             3.1         7.8             14.0   \n",
       "102990            8.0             4.4        12.2             22.0   \n",
       "103073           30.0             5.0        16.7             19.0   \n",
       "103142           99.0             1.7         4.2              0.0   \n",
       "103381           19.0             2.5         7.5             14.0   \n",
       "\n",
       "        district_accidents  neighborhood_accidents  street_accidents  weekend  \\\n",
       "100440               13898                    1891                 2        0   \n",
       "100441               13898                    1891                 2        0   \n",
       "100460               34209                    3255                 2        0   \n",
       "100461               34209                    3255                 2        0   \n",
       "102719                7651                     264                 1        0   \n",
       "102990                5773                     503                 1        1   \n",
       "103073                7651                    1519                 1        0   \n",
       "103142               13898                     784                 1        0   \n",
       "103381               34209                    4606                 1        1   \n",
       "\n",
       "       holiday  \n",
       "100440       0  \n",
       "100441       0  \n",
       "100460       0  \n",
       "100461       0  \n",
       "102719       0  \n",
       "102990       0  \n",
       "103073       0  \n",
       "103142       0  \n",
       "103381       0  \n",
       "\n",
       "[9 rows x 39 columns]"
      ]
     },
     "execution_count": 411,
     "metadata": {},
     "output_type": "execute_result"
    }
   ],
   "source": [
    "for i in range(len(street_null)):\n",
    "    df_plot['id_street'][df_plot['street_name']==street_null[i]] = df_plot['id_street'][df_plot['street_name']==street_null[i]].replace(np.nan, id_null[i])\n",
    "df_plot[(df_plot['id_street'].isnull())|(df_plot['id_street']==0)]"
   ]
  },
  {
   "cell_type": "code",
   "execution_count": 412,
   "metadata": {},
   "outputs": [],
   "source": [
    "district_st = list(df_plot['district_name'][(df_plot['id_street'].isnull())|(df_plot['id_street']==0)])"
   ]
  },
  {
   "cell_type": "code",
   "execution_count": 413,
   "metadata": {},
   "outputs": [
    {
     "data": {
      "text/plain": [
       "45        242906.0\n",
       "46        242906.0\n",
       "47        242906.0\n",
       "48        242906.0\n",
       "49        242906.0\n",
       "            ...   \n",
       "111636    103808.0\n",
       "111637    103808.0\n",
       "111638    142901.0\n",
       "111639    142901.0\n",
       "111656     74608.0\n",
       "Name: id_street, Length: 13898, dtype: float64"
      ]
     },
     "execution_count": 413,
     "metadata": {},
     "output_type": "execute_result"
    }
   ],
   "source": [
    "df_plot['id_street'][df_plot['district_name']==district_st[0]]"
   ]
  },
  {
   "cell_type": "code",
   "execution_count": 414,
   "metadata": {},
   "outputs": [
    {
     "data": {
      "text/plain": [
       "701266.0"
      ]
     },
     "execution_count": 414,
     "metadata": {},
     "output_type": "execute_result"
    }
   ],
   "source": [
    "float(df_plot['id_street'][df_plot['district_name']==district_st[0]].mode())"
   ]
  },
  {
   "cell_type": "code",
   "execution_count": 415,
   "metadata": {},
   "outputs": [
    {
     "name": "stderr",
     "output_type": "stream",
     "text": [
      "<ipython-input-415-347c438b3df0>:3: SettingWithCopyWarning: \n",
      "A value is trying to be set on a copy of a slice from a DataFrame\n",
      "\n",
      "See the caveats in the documentation: https://pandas.pydata.org/pandas-docs/stable/user_guide/indexing.html#returning-a-view-versus-a-copy\n",
      "  df_plot['id_street'][df_plot['district_name']==district_st[i]] = df_plot['id_street'][df_plot['district_name']==district_st[i]].replace(np.nan, mode)\n",
      "<ipython-input-415-347c438b3df0>:4: SettingWithCopyWarning: \n",
      "A value is trying to be set on a copy of a slice from a DataFrame\n",
      "\n",
      "See the caveats in the documentation: https://pandas.pydata.org/pandas-docs/stable/user_guide/indexing.html#returning-a-view-versus-a-copy\n",
      "  df_plot['id_street'][df_plot['district_name']==district_st[i]] = df_plot['id_street'][df_plot['district_name']==district_st[i]].replace(0, mode)\n"
     ]
    },
    {
     "data": {
      "text/html": [
       "<div>\n",
       "<style scoped>\n",
       "    .dataframe tbody tr th:only-of-type {\n",
       "        vertical-align: middle;\n",
       "    }\n",
       "\n",
       "    .dataframe tbody tr th {\n",
       "        vertical-align: top;\n",
       "    }\n",
       "\n",
       "    .dataframe thead th {\n",
       "        text-align: right;\n",
       "    }\n",
       "</style>\n",
       "<table border=\"1\" class=\"dataframe\">\n",
       "  <thead>\n",
       "    <tr style=\"text-align: right;\">\n",
       "      <th></th>\n",
       "      <th>id_record</th>\n",
       "      <th>id_district</th>\n",
       "      <th>district_name</th>\n",
       "      <th>id_neighborhood</th>\n",
       "      <th>neighborhood_name</th>\n",
       "      <th>id_street</th>\n",
       "      <th>street_name</th>\n",
       "      <th>weekday</th>\n",
       "      <th>year</th>\n",
       "      <th>month</th>\n",
       "      <th>...</th>\n",
       "      <th>tmax_hour</th>\n",
       "      <th>wind_direction</th>\n",
       "      <th>wind_speed_avg</th>\n",
       "      <th>gusts_wind</th>\n",
       "      <th>gusts_wind_hour</th>\n",
       "      <th>district_accidents</th>\n",
       "      <th>neighborhood_accidents</th>\n",
       "      <th>street_accidents</th>\n",
       "      <th>weekend</th>\n",
       "      <th>holiday</th>\n",
       "    </tr>\n",
       "  </thead>\n",
       "  <tbody>\n",
       "  </tbody>\n",
       "</table>\n",
       "<p>0 rows × 39 columns</p>\n",
       "</div>"
      ],
      "text/plain": [
       "Empty DataFrame\n",
       "Columns: [id_record, id_district, district_name, id_neighborhood, neighborhood_name, id_street, street_name, weekday, year, month, day, shift, death, minor_injuries, severe_injuries, victims, vehicles, longitude, latitude, accident_type, cause, pedestrian_cause, vehicle_type, date, tavg, rainfall, tmin, tmin_hour, tmax, tmax_hour, wind_direction, wind_speed_avg, gusts_wind, gusts_wind_hour, district_accidents, neighborhood_accidents, street_accidents, weekend, holiday]\n",
       "Index: []\n",
       "\n",
       "[0 rows x 39 columns]"
      ]
     },
     "execution_count": 415,
     "metadata": {},
     "output_type": "execute_result"
    }
   ],
   "source": [
    "for i in range(len(district_st)):\n",
    "    mode = float(df_plot['id_street'][df_plot['district_name']==district_st[i]].mode())\n",
    "    df_plot['id_street'][df_plot['district_name']==district_st[i]] = df_plot['id_street'][df_plot['district_name']==district_st[i]].replace(np.nan, mode)\n",
    "    df_plot['id_street'][df_plot['district_name']==district_st[i]] = df_plot['id_street'][df_plot['district_name']==district_st[i]].replace(0, mode)\n",
    "df_plot[(df_plot['id_street'].isnull())|(df_plot['id_street']==0)]"
   ]
  },
  {
   "cell_type": "code",
   "execution_count": 416,
   "metadata": {},
   "outputs": [],
   "source": [
    "df_plot.to_csv('accidents_bcn.csv', sep = ',')"
   ]
  },
  {
   "cell_type": "code",
   "execution_count": null,
   "metadata": {},
   "outputs": [],
   "source": []
  },
  {
   "cell_type": "code",
   "execution_count": null,
   "metadata": {},
   "outputs": [],
   "source": []
  },
  {
   "cell_type": "code",
   "execution_count": null,
   "metadata": {},
   "outputs": [],
   "source": []
  },
  {
   "cell_type": "code",
   "execution_count": null,
   "metadata": {},
   "outputs": [],
   "source": []
  },
  {
   "cell_type": "code",
   "execution_count": null,
   "metadata": {},
   "outputs": [],
   "source": []
  },
  {
   "cell_type": "code",
   "execution_count": null,
   "metadata": {},
   "outputs": [],
   "source": []
  },
  {
   "cell_type": "code",
   "execution_count": null,
   "metadata": {},
   "outputs": [],
   "source": []
  },
  {
   "cell_type": "code",
   "execution_count": null,
   "metadata": {},
   "outputs": [],
   "source": []
  }
 ],
 "metadata": {
  "kernelspec": {
   "display_name": "Python 3",
   "language": "python",
   "name": "python3"
  },
  "language_info": {
   "codemirror_mode": {
    "name": "ipython",
    "version": 3
   },
   "file_extension": ".py",
   "mimetype": "text/x-python",
   "name": "python",
   "nbconvert_exporter": "python",
   "pygments_lexer": "ipython3",
   "version": "3.8.5"
  }
 },
 "nbformat": 4,
 "nbformat_minor": 4
}
